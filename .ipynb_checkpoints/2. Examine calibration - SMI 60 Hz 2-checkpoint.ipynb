{
 "cells": [
  {
   "cell_type": "markdown",
   "metadata": {},
   "source": [
    "In this notebook, we will inspect the raw eye tracking data an its relation to calibration targets presented within the head centered coordinate system."
   ]
  },
  {
   "cell_type": "markdown",
   "metadata": {},
   "source": [
    "### Import modules."
   ]
  },
  {
   "cell_type": "code",
   "execution_count": 1,
   "metadata": {},
   "outputs": [],
   "source": [
    "from __future__ import division, print_function\n",
    "import numpy as np\n",
    "import pandas as pd\n",
    "\n",
    "from plotly.offline import download_plotlyjs, init_notebook_mode, plot, iplot\n",
    "import plotly.graph_objs as go\n",
    "import os\n",
    "np.set_printoptions(precision=2)"
   ]
  },
  {
   "cell_type": "code",
   "execution_count": 2,
   "metadata": {},
   "outputs": [
    {
     "data": {
      "text/html": [
       "<script>requirejs.config({paths: { 'plotly': ['https://cdn.plot.ly/plotly-latest.min']},});if(!window.Plotly) {{require(['plotly'],function(plotly) {window.Plotly=plotly;});}}</script>"
      ],
      "text/vnd.plotly.v1+html": [
       "<script>requirejs.config({paths: { 'plotly': ['https://cdn.plot.ly/plotly-latest.min']},});if(!window.Plotly) {{require(['plotly'],function(plotly) {window.Plotly=plotly;});}}</script>"
      ]
     },
     "metadata": {},
     "output_type": "display_data"
    }
   ],
   "source": [
    "init_notebook_mode(connected=True)"
   ]
  },
  {
   "cell_type": "markdown",
   "metadata": {},
   "source": [
    "### Import the data into a \"Pandas\" dataFrame.\n",
    "Pandas is a Python module for handling large data structres like this.  "
   ]
  },
  {
   "cell_type": "code",
   "execution_count": 3,
   "metadata": {},
   "outputs": [],
   "source": [
    "dataFrame = pd.read_pickle('data/calibration.pickle')"
   ]
  },
  {
   "cell_type": "markdown",
   "metadata": {},
   "source": [
    "A \"dataframe is just a large spreadsheet.  Lets have a look! at the first ten rows of data."
   ]
  },
  {
   "cell_type": "code",
   "execution_count": 4,
   "metadata": {
    "scrolled": false
   },
   "outputs": [
    {
     "data": {
      "text/html": [
       "<div>\n",
       "<style scoped>\n",
       "    .dataframe tbody tr th:only-of-type {\n",
       "        vertical-align: middle;\n",
       "    }\n",
       "\n",
       "    .dataframe tbody tr th {\n",
       "        vertical-align: top;\n",
       "    }\n",
       "\n",
       "    .dataframe thead th {\n",
       "        text-align: right;\n",
       "    }\n",
       "</style>\n",
       "<table border=\"1\" class=\"dataframe\">\n",
       "  <thead>\n",
       "    <tr style=\"text-align: right;\">\n",
       "      <th></th>\n",
       "      <th>viewPos_XYZ</th>\n",
       "      <th>viewMat_4x4</th>\n",
       "      <th>trialNumber</th>\n",
       "      <th>blockNumber</th>\n",
       "      <th>IOD</th>\n",
       "      <th>IPD</th>\n",
       "      <th>ballPos_XYZ</th>\n",
       "      <th>cycEyeInHead_XYZ</th>\n",
       "      <th>leftEyeInHead_XYZ</th>\n",
       "      <th>rightEyeInHead_XYZ</th>\n",
       "      <th>leftEyePos_XYZ</th>\n",
       "      <th>rightEyePos_XYZ</th>\n",
       "      <th>calibrationPos_XYZ</th>\n",
       "      <th>calibrationCounter</th>\n",
       "      <th>eyeTimeStamp</th>\n",
       "      <th>frameTime</th>\n",
       "      <th>eventFlag</th>\n",
       "    </tr>\n",
       "  </thead>\n",
       "  <tbody>\n",
       "    <tr>\n",
       "      <th>0</th>\n",
       "      <td>[-0.9948915243148804, 1.7130799293518066, 0.28...</td>\n",
       "      <td>[0.9632465839385986, -0.0667501837015152, -0.2...</td>\n",
       "      <td>1000</td>\n",
       "      <td>0</td>\n",
       "      <td>66.4016</td>\n",
       "      <td>68.1471</td>\n",
       "      <td>[nan, nan, nan]</td>\n",
       "      <td>[0.129151, -0.309052, 0.942235]</td>\n",
       "      <td>[0.116272, -0.289528, 0.950079]</td>\n",
       "      <td>[0.143029, -0.328416, 0.93364]</td>\n",
       "      <td>[-1.024017095565796, 1.7153234481811523, 0.294...</td>\n",
       "      <td>[-0.9662203788757324, 1.711322546005249, 0.278...</td>\n",
       "      <td>[-0.20000000298023224, -0.5, 1.5]</td>\n",
       "      <td>0</td>\n",
       "      <td>903580551085</td>\n",
       "      <td>892.789319</td>\n",
       "      <td>False</td>\n",
       "    </tr>\n",
       "    <tr>\n",
       "      <th>1</th>\n",
       "      <td>[-0.9951187372207642, 1.7133229970932007, 0.28...</td>\n",
       "      <td>[0.9632786512374878, -0.06668128073215485, -0....</td>\n",
       "      <td>1000</td>\n",
       "      <td>0</td>\n",
       "      <td>66.4054</td>\n",
       "      <td>68.1445</td>\n",
       "      <td>[nan, nan, nan]</td>\n",
       "      <td>[0.128799, -0.306807, 0.943017]</td>\n",
       "      <td>[0.115229, -0.287059, 0.950952]</td>\n",
       "      <td>[0.1431, -0.328493, 0.933603]</td>\n",
       "      <td>[-1.0241596698760986, 1.715348720550537, 0.294...</td>\n",
       "      <td>[-0.9663615226745605, 1.7113494873046875, 0.27...</td>\n",
       "      <td>[-0.20000000298023224, -0.5, 1.5]</td>\n",
       "      <td>0</td>\n",
       "      <td>903597257344</td>\n",
       "      <td>892.802666</td>\n",
       "      <td>False</td>\n",
       "    </tr>\n",
       "    <tr>\n",
       "      <th>2</th>\n",
       "      <td>[-0.9952605962753296, 1.7133491039276123, 0.28...</td>\n",
       "      <td>[0.9633031487464905, -0.06665502488613129, -0....</td>\n",
       "      <td>1000</td>\n",
       "      <td>0</td>\n",
       "      <td>66.4054</td>\n",
       "      <td>68.1445</td>\n",
       "      <td>[nan, nan, nan]</td>\n",
       "      <td>[0.128799, -0.306807, 0.943017]</td>\n",
       "      <td>[0.115229, -0.287059, 0.950952]</td>\n",
       "      <td>[0.1431, -0.328493, 0.933603]</td>\n",
       "      <td>[-1.0241453647613525, 1.7153542041778564, 0.29...</td>\n",
       "      <td>[-0.9663465023040771, 1.7113521099090576, 0.27...</td>\n",
       "      <td>[-0.20000000298023224, -0.5, 1.5]</td>\n",
       "      <td>0</td>\n",
       "      <td>903597257344</td>\n",
       "      <td>892.816159</td>\n",
       "      <td>False</td>\n",
       "    </tr>\n",
       "    <tr>\n",
       "      <th>3</th>\n",
       "      <td>[-0.9952459335327148, 1.713353157043457, 0.286...</td>\n",
       "      <td>[0.9633147120475769, -0.06670278310775757, -0....</td>\n",
       "      <td>1000</td>\n",
       "      <td>0</td>\n",
       "      <td>66.4094</td>\n",
       "      <td>68.1335</td>\n",
       "      <td>[nan, nan, nan]</td>\n",
       "      <td>[0.129543, -0.309401, 0.942067]</td>\n",
       "      <td>[0.114672, -0.288096, 0.950707]</td>\n",
       "      <td>[0.143919, -0.32888, 0.93334]</td>\n",
       "      <td>[-1.0240825414657593, 1.7152705192565918, 0.29...</td>\n",
       "      <td>[-0.9662837386131287, 1.711263656616211, 0.278...</td>\n",
       "      <td>[-0.20000000298023224, -0.5, 1.5]</td>\n",
       "      <td>0</td>\n",
       "      <td>903613828650</td>\n",
       "      <td>892.829581</td>\n",
       "      <td>False</td>\n",
       "    </tr>\n",
       "    <tr>\n",
       "      <th>4</th>\n",
       "      <td>[-0.9951831698417664, 1.7132670879364014, 0.28...</td>\n",
       "      <td>[0.9633142352104187, -0.06677991151809692, -0....</td>\n",
       "      <td>1000</td>\n",
       "      <td>0</td>\n",
       "      <td>66.4137</td>\n",
       "      <td>68.1875</td>\n",
       "      <td>[nan, nan, nan]</td>\n",
       "      <td>[0.130465, -0.308183, 0.942339]</td>\n",
       "      <td>[0.115939, -0.288617, 0.950396]</td>\n",
       "      <td>[0.143727, -0.327881, 0.933721]</td>\n",
       "      <td>[-1.0239953994750977, 1.7152619361877441, 0.29...</td>\n",
       "      <td>[-0.9661965370178223, 1.711249589920044, 0.278...</td>\n",
       "      <td>[-0.20000000298023224, -0.5, 1.5]</td>\n",
       "      <td>0</td>\n",
       "      <td>903630471969</td>\n",
       "      <td>892.842821</td>\n",
       "      <td>False</td>\n",
       "    </tr>\n",
       "  </tbody>\n",
       "</table>\n",
       "</div>"
      ],
      "text/plain": [
       "                                         viewPos_XYZ  \\\n",
       "0  [-0.9948915243148804, 1.7130799293518066, 0.28...   \n",
       "1  [-0.9951187372207642, 1.7133229970932007, 0.28...   \n",
       "2  [-0.9952605962753296, 1.7133491039276123, 0.28...   \n",
       "3  [-0.9952459335327148, 1.713353157043457, 0.286...   \n",
       "4  [-0.9951831698417664, 1.7132670879364014, 0.28...   \n",
       "\n",
       "                                         viewMat_4x4  trialNumber  \\\n",
       "0  [0.9632465839385986, -0.0667501837015152, -0.2...         1000   \n",
       "1  [0.9632786512374878, -0.06668128073215485, -0....         1000   \n",
       "2  [0.9633031487464905, -0.06665502488613129, -0....         1000   \n",
       "3  [0.9633147120475769, -0.06670278310775757, -0....         1000   \n",
       "4  [0.9633142352104187, -0.06677991151809692, -0....         1000   \n",
       "\n",
       "   blockNumber      IOD      IPD      ballPos_XYZ  \\\n",
       "0            0  66.4016  68.1471  [nan, nan, nan]   \n",
       "1            0  66.4054  68.1445  [nan, nan, nan]   \n",
       "2            0  66.4054  68.1445  [nan, nan, nan]   \n",
       "3            0  66.4094  68.1335  [nan, nan, nan]   \n",
       "4            0  66.4137  68.1875  [nan, nan, nan]   \n",
       "\n",
       "                  cycEyeInHead_XYZ                leftEyeInHead_XYZ  \\\n",
       "0  [0.129151, -0.309052, 0.942235]  [0.116272, -0.289528, 0.950079]   \n",
       "1  [0.128799, -0.306807, 0.943017]  [0.115229, -0.287059, 0.950952]   \n",
       "2  [0.128799, -0.306807, 0.943017]  [0.115229, -0.287059, 0.950952]   \n",
       "3  [0.129543, -0.309401, 0.942067]  [0.114672, -0.288096, 0.950707]   \n",
       "4  [0.130465, -0.308183, 0.942339]  [0.115939, -0.288617, 0.950396]   \n",
       "\n",
       "                rightEyeInHead_XYZ  \\\n",
       "0   [0.143029, -0.328416, 0.93364]   \n",
       "1    [0.1431, -0.328493, 0.933603]   \n",
       "2    [0.1431, -0.328493, 0.933603]   \n",
       "3    [0.143919, -0.32888, 0.93334]   \n",
       "4  [0.143727, -0.327881, 0.933721]   \n",
       "\n",
       "                                      leftEyePos_XYZ  \\\n",
       "0  [-1.024017095565796, 1.7153234481811523, 0.294...   \n",
       "1  [-1.0241596698760986, 1.715348720550537, 0.294...   \n",
       "2  [-1.0241453647613525, 1.7153542041778564, 0.29...   \n",
       "3  [-1.0240825414657593, 1.7152705192565918, 0.29...   \n",
       "4  [-1.0239953994750977, 1.7152619361877441, 0.29...   \n",
       "\n",
       "                                     rightEyePos_XYZ  \\\n",
       "0  [-0.9662203788757324, 1.711322546005249, 0.278...   \n",
       "1  [-0.9663615226745605, 1.7113494873046875, 0.27...   \n",
       "2  [-0.9663465023040771, 1.7113521099090576, 0.27...   \n",
       "3  [-0.9662837386131287, 1.711263656616211, 0.278...   \n",
       "4  [-0.9661965370178223, 1.711249589920044, 0.278...   \n",
       "\n",
       "                  calibrationPos_XYZ  calibrationCounter  eyeTimeStamp  \\\n",
       "0  [-0.20000000298023224, -0.5, 1.5]                   0  903580551085   \n",
       "1  [-0.20000000298023224, -0.5, 1.5]                   0  903597257344   \n",
       "2  [-0.20000000298023224, -0.5, 1.5]                   0  903597257344   \n",
       "3  [-0.20000000298023224, -0.5, 1.5]                   0  903613828650   \n",
       "4  [-0.20000000298023224, -0.5, 1.5]                   0  903630471969   \n",
       "\n",
       "    frameTime eventFlag  \n",
       "0  892.789319     False  \n",
       "1  892.802666     False  \n",
       "2  892.816159     False  \n",
       "3  892.829581     False  \n",
       "4  892.842821     False  "
      ]
     },
     "execution_count": 4,
     "metadata": {},
     "output_type": "execute_result"
    }
   ],
   "source": [
    "dataFrame.head()"
   ]
  },
  {
   "cell_type": "code",
   "execution_count": 5,
   "metadata": {
    "scrolled": false
   },
   "outputs": [
    {
     "data": {
      "text/plain": [
       "['viewPos_XYZ',\n",
       " 'viewMat_4x4',\n",
       " 'trialNumber',\n",
       " 'blockNumber',\n",
       " 'IOD',\n",
       " 'IPD',\n",
       " 'ballPos_XYZ',\n",
       " 'cycEyeInHead_XYZ',\n",
       " 'leftEyeInHead_XYZ',\n",
       " 'rightEyeInHead_XYZ',\n",
       " 'leftEyePos_XYZ',\n",
       " 'rightEyePos_XYZ',\n",
       " 'calibrationPos_XYZ',\n",
       " 'calibrationCounter',\n",
       " 'eyeTimeStamp',\n",
       " 'frameTime',\n",
       " 'eventFlag']"
      ]
     },
     "execution_count": 5,
     "metadata": {},
     "output_type": "execute_result"
    }
   ],
   "source": [
    "list(dataFrame.columns)"
   ]
  },
  {
   "cell_type": "markdown",
   "metadata": {},
   "source": [
    "### Remember to convert your coordinate systems!"
   ]
  },
  {
   "cell_type": "markdown",
   "metadata": {},
   "source": [
    "The majority of data about positions/orientations was exported from Vizard, and follows Vizard conventions.  The SMI data is untouched, straight from the tracker.  We plan to plot using the \"Plotly\" module.  So, here are the relevant coordinate systems.\n",
    "<img src=\"graphics/coordSys.png\",width=600>"
   ]
  },
  {
   "cell_type": "markdown",
   "metadata": {},
   "source": [
    "Notice that the the X axis is flipped between Vizard and SMI.  We will have to account for that.\n",
    "\n",
    "Lets have a look at some of our cyclopean eye gaze data.  These numbers represent a unit vector extending from the cyclopean eye into the 3D world.  Here's how you access the variable."
   ]
  },
  {
   "cell_type": "markdown",
   "metadata": {},
   "source": [
    "According to our figures above, we need to flip the X axis of the SMI data to match the Vizard coordinate system.  "
   ]
  },
  {
   "cell_type": "code",
   "execution_count": 6,
   "metadata": {},
   "outputs": [],
   "source": [
    "dataFrame['cycEyeInHead_XYZ'] = dataFrame['cycEyeInHead_XYZ'].apply(lambda row: [-row[0],row[1],row[2]])"
   ]
  },
  {
   "cell_type": "markdown",
   "metadata": {},
   "source": [
    "Great!  Now all of our data is in the Vizard coordinate system.  That makes things much easier to deal with, going forward."
   ]
  },
  {
   "cell_type": "markdown",
   "metadata": {},
   "source": [
    "# Get a single trial worth  of data\n",
    "\n",
    "Lets have a look at our eye tracker's calibration.  I'll walk you through this, and will provide some convenience functions along the way."
   ]
  },
  {
   "cell_type": "markdown",
   "metadata": {},
   "source": [
    "### First, we need to organize the data.\n",
    "\n",
    "During calibraiton, we had subjects fixate a series of calibration points.  The location fo the current cabliration point is stored in each row of the dataframe.  While the subject was fixating a cross, we pressed a button that labelled the next 200 ms with a unique \"trialNumber.\"  The trial number corresponds to which point they were looking at, starting at trialNumber 1000 for the top-left point.  This facilitates grabbing all the frames on which the subject was looking at that point.  Lets grab those frames!\n"
   ]
  },
  {
   "cell_type": "markdown",
   "metadata": {},
   "source": [
    "First, we can tell Pandas that we want to group our rows by the variable 'trialNumber'"
   ]
  },
  {
   "cell_type": "code",
   "execution_count": 7,
   "metadata": {},
   "outputs": [],
   "source": [
    "gbTrial = dataFrame.groupby('trialNumber')"
   ]
  },
  {
   "cell_type": "markdown",
   "metadata": {},
   "source": [
    "The variable \"gbTrial\" is not a dataframe, but a series of pointers to each \"group,\" where a group is a collection of rows  with the same trial number.  If you want to have a look, uncomment the next line of code.  It returns a lot of text, so I'm leaving it commented to begin with."
   ]
  },
  {
   "cell_type": "code",
   "execution_count": 8,
   "metadata": {
    "scrolled": false
   },
   "outputs": [],
   "source": [
    "#gbTrial.groups"
   ]
  },
  {
   "cell_type": "markdown",
   "metadata": {},
   "source": [
    "Ok, now we can iterate through particular groups and perform operations.  For exaple, I want to take each row/frame of data for each group, and plot the gaze direction.  Lets do that.  \n",
    "\n",
    "The function below takes a row of EIH vector and converts it into something that Plotly can draw on a figure.  I'm going to apply it to each of our groups."
   ]
  },
  {
   "cell_type": "code",
   "execution_count": 9,
   "metadata": {},
   "outputs": [],
   "source": [
    "def drawEIHRay(row):\n",
    "\n",
    "    eihDir_xyz = row['cycEyeInHead_XYZ']\n",
    "    \n",
    "    eihDir = go.Scatter3d(x=[0,eihDir_xyz[0]*2],\n",
    "        y=[0,eihDir_xyz[2]*2],\n",
    "        z=[0,eihDir_xyz[1]*2],\n",
    "        mode='lines',\n",
    "        line = dict(\n",
    "          color=('rgb(20, 0, 145)'),\n",
    "          width = 2)\n",
    "        )\n",
    "    \n",
    "    return eihDir"
   ]
  },
  {
   "cell_type": "markdown",
   "metadata": {},
   "source": [
    "### Lets apply this function to one calibration sequence."
   ]
  },
  {
   "cell_type": "code",
   "execution_count": 10,
   "metadata": {},
   "outputs": [],
   "source": [
    "allTraces = []\n",
    "calibPt_pt = []\n",
    "\n",
    "for i in range(1000,1009):\n",
    "    \n",
    "    calibPt = gbTrial.get_group(i)\n",
    "    traces = np.array(calibPt.apply(lambda row: drawEIHRay(row),axis=1))\n",
    "    allTraces.extend(traces)\n",
    "    \n",
    "    calibPt_pt.extend( gbTrial.get_group(i).head(1)['calibrationPos_XYZ'].values )\n"
   ]
  },
  {
   "cell_type": "code",
   "execution_count": 11,
   "metadata": {},
   "outputs": [
    {
     "data": {
      "application/vnd.plotly.v1+json": {
       "data": [
        {
         "line": {
          "color": "rgb(20, 0, 145)",
          "width": 2
         },
         "mode": "lines",
         "type": "scatter3d",
         "x": [
          0,
          -0.258302
         ],
         "y": [
          0,
          1.88447
         ],
         "z": [
          0,
          -0.618104
         ]
        },
        {
         "line": {
          "color": "rgb(20, 0, 145)",
          "width": 2
         },
         "mode": "lines",
         "type": "scatter3d",
         "x": [
          0,
          -0.257598
         ],
         "y": [
          0,
          1.886034
         ],
         "z": [
          0,
          -0.613614
         ]
        },
        {
         "line": {
          "color": "rgb(20, 0, 145)",
          "width": 2
         },
         "mode": "lines",
         "type": "scatter3d",
         "x": [
          0,
          -0.257598
         ],
         "y": [
          0,
          1.886034
         ],
         "z": [
          0,
          -0.613614
         ]
        },
        {
         "line": {
          "color": "rgb(20, 0, 145)",
          "width": 2
         },
         "mode": "lines",
         "type": "scatter3d",
         "x": [
          0,
          -0.259086
         ],
         "y": [
          0,
          1.884134
         ],
         "z": [
          0,
          -0.618802
         ]
        },
        {
         "line": {
          "color": "rgb(20, 0, 145)",
          "width": 2
         },
         "mode": "lines",
         "type": "scatter3d",
         "x": [
          0,
          -0.26093
         ],
         "y": [
          0,
          1.884678
         ],
         "z": [
          0,
          -0.616366
         ]
        },
        {
         "line": {
          "color": "rgb(20, 0, 145)",
          "width": 2
         },
         "mode": "lines",
         "type": "scatter3d",
         "x": [
          0,
          -0.262744
         ],
         "y": [
          0,
          1.884534
         ],
         "z": [
          0,
          -0.616036
         ]
        },
        {
         "line": {
          "color": "rgb(20, 0, 145)",
          "width": 2
         },
         "mode": "lines",
         "type": "scatter3d",
         "x": [
          0,
          -0.258652
         ],
         "y": [
          0,
          1.883452
         ],
         "z": [
          0,
          -0.621056
         ]
        },
        {
         "line": {
          "color": "rgb(20, 0, 145)",
          "width": 2
         },
         "mode": "lines",
         "type": "scatter3d",
         "x": [
          0,
          -0.258652
         ],
         "y": [
          0,
          1.883452
         ],
         "z": [
          0,
          -0.621056
         ]
        },
        {
         "line": {
          "color": "rgb(20, 0, 145)",
          "width": 2
         },
         "mode": "lines",
         "type": "scatter3d",
         "x": [
          0,
          -0.257008
         ],
         "y": [
          0,
          1.883558
         ],
         "z": [
          0,
          -0.621412
         ]
        },
        {
         "line": {
          "color": "rgb(20, 0, 145)",
          "width": 2
         },
         "mode": "lines",
         "type": "scatter3d",
         "x": [
          0,
          -0.258392
         ],
         "y": [
          0,
          1.882908
         ],
         "z": [
          0,
          -0.622808
         ]
        },
        {
         "line": {
          "color": "rgb(20, 0, 145)",
          "width": 2
         },
         "mode": "lines",
         "type": "scatter3d",
         "x": [
          0,
          -0.255662
         ],
         "y": [
          0,
          1.883386
         ],
         "z": [
          0,
          -0.622492
         ]
        },
        {
         "line": {
          "color": "rgb(20, 0, 145)",
          "width": 2
         },
         "mode": "lines",
         "type": "scatter3d",
         "x": [
          0,
          -0.266306
         ],
         "y": [
          0,
          1.881078
         ],
         "z": [
          0,
          -0.625002
         ]
        },
        {
         "line": {
          "color": "rgb(20, 0, 145)",
          "width": 2
         },
         "mode": "lines",
         "type": "scatter3d",
         "x": [
          0,
          -0.266306
         ],
         "y": [
          0,
          1.881078
         ],
         "z": [
          0,
          -0.625002
         ]
        },
        {
         "line": {
          "color": "rgb(20, 0, 145)",
          "width": 2
         },
         "mode": "lines",
         "type": "scatter3d",
         "x": [
          0,
          -0.26327
         ],
         "y": [
          0,
          1.881482
         ],
         "z": [
          0,
          -0.625072
         ]
        },
        {
         "line": {
          "color": "rgb(20, 0, 145)",
          "width": 2
         },
         "mode": "lines",
         "type": "scatter3d",
         "x": [
          0,
          -0.267388
         ],
         "y": [
          0,
          1.88056
         ],
         "z": [
          0,
          -0.626098
         ]
        },
        {
         "line": {
          "color": "rgb(20, 0, 145)",
          "width": 2
         },
         "mode": "lines",
         "type": "scatter3d",
         "x": [
          0,
          -0.264084
         ],
         "y": [
          0,
          1.879454
         ],
         "z": [
          0,
          -0.630802
         ]
        },
        {
         "line": {
          "color": "rgb(20, 0, 145)",
          "width": 2
         },
         "mode": "lines",
         "type": "scatter3d",
         "x": [
          0,
          -0.263846
         ],
         "y": [
          0,
          1.88119
         ],
         "z": [
          0,
          -0.625706
         ]
        },
        {
         "line": {
          "color": "rgb(20, 0, 145)",
          "width": 2
         },
         "mode": "lines",
         "type": "scatter3d",
         "x": [
          0,
          -0.264598
         ],
         "y": [
          0,
          1.879664
         ],
         "z": [
          0,
          -0.629964
         ]
        },
        {
         "line": {
          "color": "rgb(20, 0, 145)",
          "width": 2
         },
         "mode": "lines",
         "type": "scatter3d",
         "x": [
          0,
          -0.264598
         ],
         "y": [
          0,
          1.879664
         ],
         "z": [
          0,
          -0.629964
         ]
        },
        {
         "line": {
          "color": "rgb(20, 0, 145)",
          "width": 2
         },
         "mode": "lines",
         "type": "scatter3d",
         "x": [
          0,
          -0.264436
         ],
         "y": [
          0,
          1.880024
         ],
         "z": [
          0,
          -0.628952
         ]
        },
        {
         "line": {
          "color": "rgb(20, 0, 145)",
          "width": 2
         },
         "mode": "lines",
         "type": "scatter3d",
         "x": [
          0,
          -0.268784
         ],
         "y": [
          0,
          1.88008
         ],
         "z": [
          0,
          -0.626938
         ]
        },
        {
         "line": {
          "color": "rgb(20, 0, 145)",
          "width": 2
         },
         "mode": "lines",
         "type": "scatter3d",
         "x": [
          0,
          -0.26742
         ],
         "y": [
          0,
          1.880908
         ],
         "z": [
          0,
          -0.62504
         ]
        },
        {
         "line": {
          "color": "rgb(20, 0, 145)",
          "width": 2
         },
         "mode": "lines",
         "type": "scatter3d",
         "x": [
          0,
          -0.26528
         ],
         "y": [
          0,
          1.881914
         ],
         "z": [
          0,
          -0.622918
         ]
        },
        {
         "line": {
          "color": "rgb(20, 0, 145)",
          "width": 2
         },
         "mode": "lines",
         "type": "scatter3d",
         "x": [
          0,
          -0.264488
         ],
         "y": [
          0,
          1.881798
         ],
         "z": [
          0,
          -0.623604
         ]
        },
        {
         "line": {
          "color": "rgb(20, 0, 145)",
          "width": 2
         },
         "mode": "lines",
         "type": "scatter3d",
         "x": [
          0,
          -0.264488
         ],
         "y": [
          0,
          1.881798
         ],
         "z": [
          0,
          -0.623604
         ]
        },
        {
         "line": {
          "color": "rgb(20, 0, 145)",
          "width": 2
         },
         "mode": "lines",
         "type": "scatter3d",
         "x": [
          0,
          -0.263192
         ],
         "y": [
          0,
          1.88165
         ],
         "z": [
          0,
          -0.6246
         ]
        },
        {
         "line": {
          "color": "rgb(20, 0, 145)",
          "width": 2
         },
         "mode": "lines",
         "type": "scatter3d",
         "x": [
          0,
          -0.26344
         ],
         "y": [
          0,
          1.879836
         ],
         "z": [
          0,
          -0.629932
         ]
        },
        {
         "line": {
          "color": "rgb(20, 0, 145)",
          "width": 2
         },
         "mode": "lines",
         "type": "scatter3d",
         "x": [
          0,
          -0.262272
         ],
         "y": [
          0,
          1.88191
         ],
         "z": [
          0,
          -0.6242
         ]
        },
        {
         "line": {
          "color": "rgb(20, 0, 145)",
          "width": 2
         },
         "mode": "lines",
         "type": "scatter3d",
         "x": [
          0,
          -0.265636
         ],
         "y": [
          0,
          1.881308
         ],
         "z": [
          0,
          -0.624596
         ]
        },
        {
         "line": {
          "color": "rgb(20, 0, 145)",
          "width": 2
         },
         "mode": "lines",
         "type": "scatter3d",
         "x": [
          0,
          -0.265636
         ],
         "y": [
          0,
          1.881308
         ],
         "z": [
          0,
          -0.624596
         ]
        },
        {
         "line": {
          "color": "rgb(20, 0, 145)",
          "width": 2
         },
         "mode": "lines",
         "type": "scatter3d",
         "x": [
          0,
          -0.265582
         ],
         "y": [
          0,
          1.880652
         ],
         "z": [
          0,
          -0.62659
         ]
        },
        {
         "line": {
          "color": "rgb(20, 0, 145)",
          "width": 2
         },
         "mode": "lines",
         "type": "scatter3d",
         "x": [
          0,
          -0.261866
         ],
         "y": [
          0,
          1.881052
         ],
         "z": [
          0,
          -0.626952
         ]
        },
        {
         "line": {
          "color": "rgb(20, 0, 145)",
          "width": 2
         },
         "mode": "lines",
         "type": "scatter3d",
         "x": [
          0,
          -0.262534
         ],
         "y": [
          0,
          1.882548
         ],
         "z": [
          0,
          -0.622164
         ]
        },
        {
         "line": {
          "color": "rgb(20, 0, 145)",
          "width": 2
         },
         "mode": "lines",
         "type": "scatter3d",
         "x": [
          0,
          -0.262534
         ],
         "y": [
          0,
          1.882548
         ],
         "z": [
          0,
          -0.622164
         ]
        },
        {
         "line": {
          "color": "rgb(20, 0, 145)",
          "width": 2
         },
         "mode": "lines",
         "type": "scatter3d",
         "x": [
          0,
          -0.260234
         ],
         "y": [
          0,
          1.882222
         ],
         "z": [
          0,
          -0.624114
         ]
        },
        {
         "line": {
          "color": "rgb(20, 0, 145)",
          "width": 2
         },
         "mode": "lines",
         "type": "scatter3d",
         "x": [
          0,
          -0.264262
         ],
         "y": [
          0,
          1.881246
         ],
         "z": [
          0,
          -0.625364
         ]
        },
        {
         "line": {
          "color": "rgb(20, 0, 145)",
          "width": 2
         },
         "mode": "lines",
         "type": "scatter3d",
         "x": [
          0,
          -0.258822
         ],
         "y": [
          0,
          1.880954
         ],
         "z": [
          0,
          -0.628508
         ]
        },
        {
         "line": {
          "color": "rgb(20, 0, 145)",
          "width": 2
         },
         "mode": "lines",
         "type": "scatter3d",
         "x": [
          0,
          -0.26153
         ],
         "y": [
          0,
          1.88147
         ],
         "z": [
          0,
          -0.62584
         ]
        },
        {
         "line": {
          "color": "rgb(20, 0, 145)",
          "width": 2
         },
         "mode": "lines",
         "type": "scatter3d",
         "x": [
          0,
          -0.26153
         ],
         "y": [
          0,
          1.88147
         ],
         "z": [
          0,
          -0.62584
         ]
        },
        {
         "line": {
          "color": "rgb(20, 0, 145)",
          "width": 2
         },
         "mode": "lines",
         "type": "scatter3d",
         "x": [
          0,
          -0.26441
         ],
         "y": [
          0,
          1.88005
         ],
         "z": [
          0,
          -0.62889
         ]
        },
        {
         "line": {
          "color": "rgb(20, 0, 145)",
          "width": 2
         },
         "mode": "lines",
         "type": "scatter3d",
         "x": [
          0,
          -0.262914
         ],
         "y": [
          0,
          1.880694
         ],
         "z": [
          0,
          -0.627586
         ]
        },
        {
         "line": {
          "color": "rgb(20, 0, 145)",
          "width": 2
         },
         "mode": "lines",
         "type": "scatter3d",
         "x": [
          0,
          -0.264796
         ],
         "y": [
          0,
          1.88061
         ],
         "z": [
          0,
          -0.627048
         ]
        },
        {
         "line": {
          "color": "rgb(20, 0, 145)",
          "width": 2
         },
         "mode": "lines",
         "type": "scatter3d",
         "x": [
          0,
          -0.260188
         ],
         "y": [
          0,
          1.881156
         ],
         "z": [
          0,
          -0.627342
         ]
        },
        {
         "line": {
          "color": "rgb(20, 0, 145)",
          "width": 2
         },
         "mode": "lines",
         "type": "scatter3d",
         "x": [
          0,
          -0.260188
         ],
         "y": [
          0,
          1.881156
         ],
         "z": [
          0,
          -0.627342
         ]
        },
        {
         "line": {
          "color": "rgb(20, 0, 145)",
          "width": 2
         },
         "mode": "lines",
         "type": "scatter3d",
         "x": [
          0,
          -0.260338
         ],
         "y": [
          0,
          1.881078
         ],
         "z": [
          0,
          -0.627508
         ]
        },
        {
         "line": {
          "color": "rgb(20, 0, 145)",
          "width": 2
         },
         "mode": "lines",
         "type": "scatter3d",
         "x": [
          0,
          -0.260828
         ],
         "y": [
          0,
          1.880534
         ],
         "z": [
          0,
          -0.628936
         ]
        },
        {
         "line": {
          "color": "rgb(20, 0, 145)",
          "width": 2
         },
         "mode": "lines",
         "type": "scatter3d",
         "x": [
          0,
          -0.261514
         ],
         "y": [
          0,
          1.880892
         ],
         "z": [
          0,
          -0.627578
         ]
        },
        {
         "line": {
          "color": "rgb(20, 0, 145)",
          "width": 2
         },
         "mode": "lines",
         "type": "scatter3d",
         "x": [
          0,
          -0.26247
         ],
         "y": [
          0,
          1.8803
         ],
         "z": [
          0,
          -0.628954
         ]
        },
        {
         "line": {
          "color": "rgb(20, 0, 145)",
          "width": 2
         },
         "mode": "lines",
         "type": "scatter3d",
         "x": [
          0,
          -0.26247
         ],
         "y": [
          0,
          1.8803
         ],
         "z": [
          0,
          -0.628954
         ]
        },
        {
         "line": {
          "color": "rgb(20, 0, 145)",
          "width": 2
         },
         "mode": "lines",
         "type": "scatter3d",
         "x": [
          0,
          -0.259286
         ],
         "y": [
          0,
          1.880678
         ],
         "z": [
          0,
          -0.629142
         ]
        },
        {
         "line": {
          "color": "rgb(20, 0, 145)",
          "width": 2
         },
         "mode": "lines",
         "type": "scatter3d",
         "x": [
          0,
          -0.259694
         ],
         "y": [
          0,
          1.881018
         ],
         "z": [
          0,
          -0.627956
         ]
        },
        {
         "line": {
          "color": "rgb(20, 0, 145)",
          "width": 2
         },
         "mode": "lines",
         "type": "scatter3d",
         "x": [
          0,
          -0.25867
         ],
         "y": [
          0,
          1.880976
         ],
         "z": [
          0,
          -0.628508
         ]
        },
        {
         "line": {
          "color": "rgb(20, 0, 145)",
          "width": 2
         },
         "mode": "lines",
         "type": "scatter3d",
         "x": [
          0,
          -0.259922
         ],
         "y": [
          0,
          1.881428
         ],
         "z": [
          0,
          -0.626634
         ]
        },
        {
         "line": {
          "color": "rgb(20, 0, 145)",
          "width": 2
         },
         "mode": "lines",
         "type": "scatter3d",
         "x": [
          0,
          -0.256304
         ],
         "y": [
          0,
          1.88177
         ],
         "z": [
          0,
          -0.627094
         ]
        },
        {
         "line": {
          "color": "rgb(20, 0, 145)",
          "width": 2
         },
         "mode": "lines",
         "type": "scatter3d",
         "x": [
          0,
          -0.256304
         ],
         "y": [
          0,
          1.88177
         ],
         "z": [
          0,
          -0.627094
         ]
        },
        {
         "line": {
          "color": "rgb(20, 0, 145)",
          "width": 2
         },
         "mode": "lines",
         "type": "scatter3d",
         "x": [
          0,
          -0.255894
         ],
         "y": [
          0,
          1.881834
         ],
         "z": [
          0,
          -0.627072
         ]
        },
        {
         "line": {
          "color": "rgb(20, 0, 145)",
          "width": 2
         },
         "mode": "lines",
         "type": "scatter3d",
         "x": [
          0,
          -0.25711
         ],
         "y": [
          0,
          1.881066
         ],
         "z": [
          0,
          -0.628874
         ]
        },
        {
         "line": {
          "color": "rgb(20, 0, 145)",
          "width": 2
         },
         "mode": "lines",
         "type": "scatter3d",
         "x": [
          0,
          -0.25629
         ],
         "y": [
          0,
          1.881194
         ],
         "z": [
          0,
          -0.62883
         ]
        },
        {
         "line": {
          "color": "rgb(20, 0, 145)",
          "width": 2
         },
         "mode": "lines",
         "type": "scatter3d",
         "x": [
          0,
          -0.25854
         ],
         "y": [
          0,
          1.88046
         ],
         "z": [
          0,
          -0.630102
         ]
        },
        {
         "line": {
          "color": "rgb(20, 0, 145)",
          "width": 2
         },
         "mode": "lines",
         "type": "scatter3d",
         "x": [
          0,
          -0.25854
         ],
         "y": [
          0,
          1.88046
         ],
         "z": [
          0,
          -0.630102
         ]
        },
        {
         "line": {
          "color": "rgb(20, 0, 145)",
          "width": 2
         },
         "mode": "lines",
         "type": "scatter3d",
         "x": [
          0,
          -0.255992
         ],
         "y": [
          0,
          1.88169
         ],
         "z": [
          0,
          -0.627466
         ]
        },
        {
         "line": {
          "color": "rgb(20, 0, 145)",
          "width": 2
         },
         "mode": "lines",
         "type": "scatter3d",
         "x": [
          0,
          -0.258886
         ],
         "y": [
          0,
          1.880598
         ],
         "z": [
          0,
          -0.629548
         ]
        },
        {
         "line": {
          "color": "rgb(20, 0, 145)",
          "width": 2
         },
         "mode": "lines",
         "type": "scatter3d",
         "x": [
          0,
          -0.255818
         ],
         "y": [
          0,
          1.882424
         ],
         "z": [
          0,
          -0.62533
         ]
        },
        {
         "line": {
          "color": "rgb(20, 0, 145)",
          "width": 2
         },
         "mode": "lines",
         "type": "scatter3d",
         "x": [
          0,
          -0.254714
         ],
         "y": [
          0,
          1.882514
         ],
         "z": [
          0,
          -0.625508
         ]
        },
        {
         "line": {
          "color": "rgb(20, 0, 145)",
          "width": 2
         },
         "mode": "lines",
         "type": "scatter3d",
         "x": [
          0,
          -0.254714
         ],
         "y": [
          0,
          1.882514
         ],
         "z": [
          0,
          -0.625508
         ]
        },
        {
         "line": {
          "color": "rgb(20, 0, 145)",
          "width": 2
         },
         "mode": "lines",
         "type": "scatter3d",
         "x": [
          0,
          -0.254464
         ],
         "y": [
          0,
          1.882096
         ],
         "z": [
          0,
          -0.626864
         ]
        },
        {
         "line": {
          "color": "rgb(20, 0, 145)",
          "width": 2
         },
         "mode": "lines",
         "type": "scatter3d",
         "x": [
          0,
          -0.249782
         ],
         "y": [
          0,
          1.88397
         ],
         "z": [
          0,
          -0.62311
         ]
        },
        {
         "line": {
          "color": "rgb(20, 0, 145)",
          "width": 2
         },
         "mode": "lines",
         "type": "scatter3d",
         "x": [
          0,
          -0.253246
         ],
         "y": [
          0,
          1.882786
         ],
         "z": [
          0,
          -0.625286
         ]
        },
        {
         "line": {
          "color": "rgb(20, 0, 145)",
          "width": 2
         },
         "mode": "lines",
         "type": "scatter3d",
         "x": [
          0,
          -0.253246
         ],
         "y": [
          0,
          1.882786
         ],
         "z": [
          0,
          -0.625286
         ]
        },
        {
         "line": {
          "color": "rgb(20, 0, 145)",
          "width": 2
         },
         "mode": "lines",
         "type": "scatter3d",
         "x": [
          0,
          -0.258584
         ],
         "y": [
          0,
          1.884434
         ],
         "z": [
          0,
          -0.618096
         ]
        },
        {
         "line": {
          "color": "rgb(20, 0, 145)",
          "width": 2
         },
         "mode": "lines",
         "type": "scatter3d",
         "x": [
          0,
          -0.259678
         ],
         "y": [
          0,
          1.885474
         ],
         "z": [
          0,
          -0.614458
         ]
        },
        {
         "line": {
          "color": "rgb(20, 0, 145)",
          "width": 2
         },
         "mode": "lines",
         "type": "scatter3d",
         "x": [
          0,
          -0.256704
         ],
         "y": [
          0,
          1.885314
         ],
         "z": [
          0,
          -0.616192
         ]
        },
        {
         "line": {
          "color": "rgb(20, 0, 145)",
          "width": 2
         },
         "mode": "lines",
         "type": "scatter3d",
         "x": [
          0,
          -0.255714
         ],
         "y": [
          0,
          1.886168
         ],
         "z": [
          0,
          -0.613986
         ]
        },
        {
         "line": {
          "color": "rgb(20, 0, 145)",
          "width": 2
         },
         "mode": "lines",
         "type": "scatter3d",
         "x": [
          0,
          -0.255642
         ],
         "y": [
          0,
          1.885792
         ],
         "z": [
          0,
          -0.615174
         ]
        },
        {
         "line": {
          "color": "rgb(20, 0, 145)",
          "width": 2
         },
         "mode": "lines",
         "type": "scatter3d",
         "x": [
          0,
          -0.255642
         ],
         "y": [
          0,
          1.885792
         ],
         "z": [
          0,
          -0.615174
         ]
        },
        {
         "line": {
          "color": "rgb(20, 0, 145)",
          "width": 2
         },
         "mode": "lines",
         "type": "scatter3d",
         "x": [
          0,
          -0.258122
         ],
         "y": [
          0,
          1.885292
         ],
         "z": [
          0,
          -0.615668
         ]
        },
        {
         "line": {
          "color": "rgb(20, 0, 145)",
          "width": 2
         },
         "mode": "lines",
         "type": "scatter3d",
         "x": [
          0,
          -0.255508
         ],
         "y": [
          0,
          1.886888
         ],
         "z": [
          0,
          -0.611856
         ]
        },
        {
         "line": {
          "color": "rgb(20, 0, 145)",
          "width": 2
         },
         "mode": "lines",
         "type": "scatter3d",
         "x": [
          0,
          -0.253754
         ],
         "y": [
          0,
          1.884302
         ],
         "z": [
          0,
          -0.620496
         ]
        },
        {
         "line": {
          "color": "rgb(20, 0, 145)",
          "width": 2
         },
         "mode": "lines",
         "type": "scatter3d",
         "x": [
          0,
          -0.253754
         ],
         "y": [
          0,
          1.884302
         ],
         "z": [
          0,
          -0.620496
         ]
        },
        {
         "line": {
          "color": "rgb(20, 0, 145)",
          "width": 2
         },
         "mode": "lines",
         "type": "scatter3d",
         "x": [
          0,
          -0.25578
         ],
         "y": [
          0,
          1.88416
         ],
         "z": [
          0,
          -0.620094
         ]
        },
        {
         "line": {
          "color": "rgb(20, 0, 145)",
          "width": 2
         },
         "mode": "lines",
         "type": "scatter3d",
         "x": [
          0,
          -0.255996
         ],
         "y": [
          0,
          1.884508
         ],
         "z": [
          0,
          -0.618948
         ]
        },
        {
         "line": {
          "color": "rgb(20, 0, 145)",
          "width": 2
         },
         "mode": "lines",
         "type": "scatter3d",
         "x": [
          0,
          -0.253586
         ],
         "y": [
          0,
          1.885034
         ],
         "z": [
          0,
          -0.618338
         ]
        },
        {
         "line": {
          "color": "rgb(20, 0, 145)",
          "width": 2
         },
         "mode": "lines",
         "type": "scatter3d",
         "x": [
          0,
          -0.250784
         ],
         "y": [
          0,
          1.88532
         ],
         "z": [
          0,
          -0.61861
         ]
        },
        {
         "line": {
          "color": "rgb(20, 0, 145)",
          "width": 2
         },
         "mode": "lines",
         "type": "scatter3d",
         "x": [
          0,
          -0.250784
         ],
         "y": [
          0,
          1.88532
         ],
         "z": [
          0,
          -0.61861
         ]
        },
        {
         "line": {
          "color": "rgb(20, 0, 145)",
          "width": 2
         },
         "mode": "lines",
         "type": "scatter3d",
         "x": [
          0,
          -0.254034
         ],
         "y": [
          0,
          1.88564
         ],
         "z": [
          0,
          -0.616304
         ]
        },
        {
         "line": {
          "color": "rgb(20, 0, 145)",
          "width": 2
         },
         "mode": "lines",
         "type": "scatter3d",
         "x": [
          0,
          -0.258406
         ],
         "y": [
          0,
          1.88303
         ],
         "z": [
          0,
          -0.622434
         ]
        },
        {
         "line": {
          "color": "rgb(20, 0, 145)",
          "width": 2
         },
         "mode": "lines",
         "type": "scatter3d",
         "x": [
          0,
          -0.250358
         ],
         "y": [
          0,
          1.88488
         ],
         "z": [
          0,
          -0.620116
         ]
        },
        {
         "line": {
          "color": "rgb(20, 0, 145)",
          "width": 2
         },
         "mode": "lines",
         "type": "scatter3d",
         "x": [
          0,
          -0.24949
         ],
         "y": [
          0,
          1.88449
         ],
         "z": [
          0,
          -0.62165
         ]
        },
        {
         "line": {
          "color": "rgb(20, 0, 145)",
          "width": 2
         },
         "mode": "lines",
         "type": "scatter3d",
         "x": [
          0,
          -0.24949
         ],
         "y": [
          0,
          1.88449
         ],
         "z": [
          0,
          -0.62165
         ]
        },
        {
         "line": {
          "color": "rgb(20, 0, 145)",
          "width": 2
         },
         "mode": "lines",
         "type": "scatter3d",
         "x": [
          0,
          -0.24981
         ],
         "y": [
          0,
          1.884636
         ],
         "z": [
          0,
          -0.621084
         ]
        },
        {
         "line": {
          "color": "rgb(20, 0, 145)",
          "width": 2
         },
         "mode": "lines",
         "type": "scatter3d",
         "x": [
          0,
          -0.249778
         ],
         "y": [
          0,
          1.885448
         ],
         "z": [
          0,
          -0.618624
         ]
        },
        {
         "line": {
          "color": "rgb(20, 0, 145)",
          "width": 2
         },
         "mode": "lines",
         "type": "scatter3d",
         "x": [
          0,
          -0.245978
         ],
         "y": [
          0,
          1.884886
         ],
         "z": [
          0,
          -0.62185
         ]
        },
        {
         "line": {
          "color": "rgb(20, 0, 145)",
          "width": 2
         },
         "mode": "lines",
         "type": "scatter3d",
         "x": [
          0,
          -0.249828
         ],
         "y": [
          0,
          1.883854
         ],
         "z": [
          0,
          -0.623442
         ]
        },
        {
         "line": {
          "color": "rgb(20, 0, 145)",
          "width": 2
         },
         "mode": "lines",
         "type": "scatter3d",
         "x": [
          0,
          -0.249828
         ],
         "y": [
          0,
          1.883854
         ],
         "z": [
          0,
          -0.623442
         ]
        },
        {
         "line": {
          "color": "rgb(20, 0, 145)",
          "width": 2
         },
         "mode": "lines",
         "type": "scatter3d",
         "x": [
          0,
          -0.242876
         ],
         "y": [
          0,
          1.883844
         ],
         "z": [
          0,
          -0.62621
         ]
        },
        {
         "line": {
          "color": "rgb(20, 0, 145)",
          "width": 2
         },
         "mode": "lines",
         "type": "scatter3d",
         "x": [
          0,
          -0.242876
         ],
         "y": [
          0,
          1.883844
         ],
         "z": [
          0,
          -0.62621
         ]
        },
        {
         "line": {
          "color": "rgb(20, 0, 145)",
          "width": 2
         },
         "mode": "lines",
         "type": "scatter3d",
         "x": [
          0,
          -0.233912
         ],
         "y": [
          0,
          1.888026
         ],
         "z": [
          0,
          -0.61696
         ]
        },
        {
         "line": {
          "color": "rgb(20, 0, 145)",
          "width": 2
         },
         "mode": "lines",
         "type": "scatter3d",
         "x": [
          0,
          -0.234684
         ],
         "y": [
          0,
          1.886378
         ],
         "z": [
          0,
          -0.621694
         ]
        },
        {
         "line": {
          "color": "rgb(20, 0, 145)",
          "width": 2
         },
         "mode": "lines",
         "type": "scatter3d",
         "x": [
          0,
          -0.234684
         ],
         "y": [
          0,
          1.886378
         ],
         "z": [
          0,
          -0.621694
         ]
        },
        {
         "line": {
          "color": "rgb(20, 0, 145)",
          "width": 2
         },
         "mode": "lines",
         "type": "scatter3d",
         "x": [
          0,
          -0.237642
         ],
         "y": [
          0,
          1.88705
         ],
         "z": [
          0,
          -0.618522
         ]
        },
        {
         "line": {
          "color": "rgb(20, 0, 145)",
          "width": 2
         },
         "mode": "lines",
         "type": "scatter3d",
         "x": [
          0,
          -0.01359276
         ],
         "y": [
          0,
          1.89159
         ],
         "z": [
          0,
          -0.649386
         ]
        },
        {
         "line": {
          "color": "rgb(20, 0, 145)",
          "width": 2
         },
         "mode": "lines",
         "type": "scatter3d",
         "x": [
          0,
          -0.01144308
         ],
         "y": [
          0,
          1.891418
         ],
         "z": [
          0,
          -0.649928
         ]
        },
        {
         "line": {
          "color": "rgb(20, 0, 145)",
          "width": 2
         },
         "mode": "lines",
         "type": "scatter3d",
         "x": [
          0,
          -0.01144308
         ],
         "y": [
          0,
          1.891418
         ],
         "z": [
          0,
          -0.649928
         ]
        },
        {
         "line": {
          "color": "rgb(20, 0, 145)",
          "width": 2
         },
         "mode": "lines",
         "type": "scatter3d",
         "x": [
          0,
          -0.01008678
         ],
         "y": [
          0,
          1.891688
         ],
         "z": [
          0,
          -0.649164
         ]
        },
        {
         "line": {
          "color": "rgb(20, 0, 145)",
          "width": 2
         },
         "mode": "lines",
         "type": "scatter3d",
         "x": [
          0,
          -0.01158798
         ],
         "y": [
          0,
          1.893084
         ],
         "z": [
          0,
          -0.645058
         ]
        },
        {
         "line": {
          "color": "rgb(20, 0, 145)",
          "width": 2
         },
         "mode": "lines",
         "type": "scatter3d",
         "x": [
          0,
          -0.0084648
         ],
         "y": [
          0,
          1.891022
         ],
         "z": [
          0,
          -0.651124
         ]
        },
        {
         "line": {
          "color": "rgb(20, 0, 145)",
          "width": 2
         },
         "mode": "lines",
         "type": "scatter3d",
         "x": [
          0,
          -0.00836622
         ],
         "y": [
          0,
          1.893934
         ],
         "z": [
          0,
          -0.642604
         ]
        },
        {
         "line": {
          "color": "rgb(20, 0, 145)",
          "width": 2
         },
         "mode": "lines",
         "type": "scatter3d",
         "x": [
          0,
          -0.0138453
         ],
         "y": [
          0,
          1.891124
         ],
         "z": [
          0,
          -0.650738
         ]
        },
        {
         "line": {
          "color": "rgb(20, 0, 145)",
          "width": 2
         },
         "mode": "lines",
         "type": "scatter3d",
         "x": [
          0,
          -0.0138453
         ],
         "y": [
          0,
          1.891124
         ],
         "z": [
          0,
          -0.650738
         ]
        },
        {
         "line": {
          "color": "rgb(20, 0, 145)",
          "width": 2
         },
         "mode": "lines",
         "type": "scatter3d",
         "x": [
          0,
          -0.00890144
         ],
         "y": [
          0,
          1.892824
         ],
         "z": [
          0,
          -0.645864
         ]
        },
        {
         "line": {
          "color": "rgb(20, 0, 145)",
          "width": 2
         },
         "mode": "lines",
         "type": "scatter3d",
         "x": [
          0,
          -0.0089996
         ],
         "y": [
          0,
          1.893944
         ],
         "z": [
          0,
          -0.642568
         ]
        },
        {
         "line": {
          "color": "rgb(20, 0, 145)",
          "width": 2
         },
         "mode": "lines",
         "type": "scatter3d",
         "x": [
          0,
          -0.01204646
         ],
         "y": [
          0,
          1.8907
         ],
         "z": [
          0,
          -0.652002
         ]
        },
        {
         "line": {
          "color": "rgb(20, 0, 145)",
          "width": 2
         },
         "mode": "lines",
         "type": "scatter3d",
         "x": [
          0,
          -0.01204646
         ],
         "y": [
          0,
          1.8907
         ],
         "z": [
          0,
          -0.652002
         ]
        },
        {
         "line": {
          "color": "rgb(20, 0, 145)",
          "width": 2
         },
         "mode": "lines",
         "type": "scatter3d",
         "x": [
          0,
          -0.00955072
         ],
         "y": [
          0,
          1.890366
         ],
         "z": [
          0,
          -0.653014
         ]
        },
        {
         "line": {
          "color": "rgb(20, 0, 145)",
          "width": 2
         },
         "mode": "lines",
         "type": "scatter3d",
         "x": [
          0,
          -0.01735642
         ],
         "y": [
          0,
          1.89007
         ],
         "z": [
          0,
          -0.653708
         ]
        },
        {
         "line": {
          "color": "rgb(20, 0, 145)",
          "width": 2
         },
         "mode": "lines",
         "type": "scatter3d",
         "x": [
          0,
          -0.01230984
         ],
         "y": [
          0,
          1.889296
         ],
         "z": [
          0,
          -0.656056
         ]
        },
        {
         "line": {
          "color": "rgb(20, 0, 145)",
          "width": 2
         },
         "mode": "lines",
         "type": "scatter3d",
         "x": [
          0,
          -0.01434466
         ],
         "y": [
          0,
          1.888296
         ],
         "z": [
          0,
          -0.658884
         ]
        },
        {
         "line": {
          "color": "rgb(20, 0, 145)",
          "width": 2
         },
         "mode": "lines",
         "type": "scatter3d",
         "x": [
          0,
          -0.01315174
         ],
         "y": [
          0,
          1.889812
         ],
         "z": [
          0,
          -0.65455
         ]
        },
        {
         "line": {
          "color": "rgb(20, 0, 145)",
          "width": 2
         },
         "mode": "lines",
         "type": "scatter3d",
         "x": [
          0,
          -0.01315174
         ],
         "y": [
          0,
          1.889812
         ],
         "z": [
          0,
          -0.65455
         ]
        },
        {
         "line": {
          "color": "rgb(20, 0, 145)",
          "width": 2
         },
         "mode": "lines",
         "type": "scatter3d",
         "x": [
          0,
          -0.01117448
         ],
         "y": [
          0,
          1.891112
         ],
         "z": [
          0,
          -0.650824
         ]
        },
        {
         "line": {
          "color": "rgb(20, 0, 145)",
          "width": 2
         },
         "mode": "lines",
         "type": "scatter3d",
         "x": [
          0,
          -0.00998916
         ],
         "y": [
          0,
          1.889844
         ],
         "z": [
          0,
          -0.654512
         ]
        },
        {
         "line": {
          "color": "rgb(20, 0, 145)",
          "width": 2
         },
         "mode": "lines",
         "type": "scatter3d",
         "x": [
          0,
          -0.01255968
         ],
         "y": [
          0,
          1.889282
         ],
         "z": [
          0,
          -0.656088
         ]
        },
        {
         "line": {
          "color": "rgb(20, 0, 145)",
          "width": 2
         },
         "mode": "lines",
         "type": "scatter3d",
         "x": [
          0,
          -0.01255968
         ],
         "y": [
          0,
          1.889282
         ],
         "z": [
          0,
          -0.656088
         ]
        },
        {
         "line": {
          "color": "rgb(20, 0, 145)",
          "width": 2
         },
         "mode": "lines",
         "type": "scatter3d",
         "x": [
          0,
          -0.00562716
         ],
         "y": [
          0,
          1.890116
         ],
         "z": [
          0,
          -0.653782
         ]
        },
        {
         "line": {
          "color": "rgb(20, 0, 145)",
          "width": 2
         },
         "mode": "lines",
         "type": "scatter3d",
         "x": [
          0,
          -0.00961856
         ],
         "y": [
          0,
          1.8899
         ],
         "z": [
          0,
          -0.65436
         ]
        },
        {
         "line": {
          "color": "rgb(20, 0, 145)",
          "width": 2
         },
         "mode": "lines",
         "type": "scatter3d",
         "x": [
          0,
          -0.0104028
         ],
         "y": [
          0,
          1.890166
         ],
         "z": [
          0,
          -0.653578
         ]
        },
        {
         "line": {
          "color": "rgb(20, 0, 145)",
          "width": 2
         },
         "mode": "lines",
         "type": "scatter3d",
         "x": [
          0,
          -0.01097408
         ],
         "y": [
          0,
          1.888712
         ],
         "z": [
          0,
          -0.657758
         ]
        },
        {
         "line": {
          "color": "rgb(20, 0, 145)",
          "width": 2
         },
         "mode": "lines",
         "type": "scatter3d",
         "x": [
          0,
          -0.01097408
         ],
         "y": [
          0,
          1.888712
         ],
         "z": [
          0,
          -0.657758
         ]
        },
        {
         "line": {
          "color": "rgb(20, 0, 145)",
          "width": 2
         },
         "mode": "lines",
         "type": "scatter3d",
         "x": [
          0,
          -0.01255564
         ],
         "y": [
          0,
          1.888142
         ],
         "z": [
          0,
          -0.659362
         ]
        },
        {
         "line": {
          "color": "rgb(20, 0, 145)",
          "width": 2
         },
         "mode": "lines",
         "type": "scatter3d",
         "x": [
          0,
          -0.01064284
         ],
         "y": [
          0,
          1.888134
         ],
         "z": [
          0,
          -0.659422
         ]
        },
        {
         "line": {
          "color": "rgb(20, 0, 145)",
          "width": 2
         },
         "mode": "lines",
         "type": "scatter3d",
         "x": [
          0,
          -0.01299558
         ],
         "y": [
          0,
          1.88749
         ],
         "z": [
          0,
          -0.661218
         ]
        },
        {
         "line": {
          "color": "rgb(20, 0, 145)",
          "width": 2
         },
         "mode": "lines",
         "type": "scatter3d",
         "x": [
          0,
          -0.0124644
         ],
         "y": [
          0,
          1.887272
         ],
         "z": [
          0,
          -0.661854
         ]
        },
        {
         "line": {
          "color": "rgb(20, 0, 145)",
          "width": 2
         },
         "mode": "lines",
         "type": "scatter3d",
         "x": [
          0,
          -0.01303322
         ],
         "y": [
          0,
          1.888454
         ],
         "z": [
          0,
          -0.658462
         ]
        },
        {
         "line": {
          "color": "rgb(20, 0, 145)",
          "width": 2
         },
         "mode": "lines",
         "type": "scatter3d",
         "x": [
          0,
          -0.01303322
         ],
         "y": [
          0,
          1.888454
         ],
         "z": [
          0,
          -0.658462
         ]
        },
        {
         "line": {
          "color": "rgb(20, 0, 145)",
          "width": 2
         },
         "mode": "lines",
         "type": "scatter3d",
         "x": [
          0,
          -0.01445224
         ],
         "y": [
          0,
          1.88653
         ],
         "z": [
          0,
          -0.663926
         ]
        },
        {
         "line": {
          "color": "rgb(20, 0, 145)",
          "width": 2
         },
         "mode": "lines",
         "type": "scatter3d",
         "x": [
          0,
          -0.01766026
         ],
         "y": [
          0,
          1.886334
         ],
         "z": [
          0,
          -0.664402
         ]
        },
        {
         "line": {
          "color": "rgb(20, 0, 145)",
          "width": 2
         },
         "mode": "lines",
         "type": "scatter3d",
         "x": [
          0,
          -0.0242596
         ],
         "y": [
          0,
          1.88675
         ],
         "z": [
          0,
          -0.663014
         ]
        },
        {
         "line": {
          "color": "rgb(20, 0, 145)",
          "width": 2
         },
         "mode": "lines",
         "type": "scatter3d",
         "x": [
          0,
          -0.0251978
         ],
         "y": [
          0,
          1.885556
         ],
         "z": [
          0,
          -0.666366
         ]
        },
        {
         "line": {
          "color": "rgb(20, 0, 145)",
          "width": 2
         },
         "mode": "lines",
         "type": "scatter3d",
         "x": [
          0,
          -0.0238566
         ],
         "y": [
          0,
          1.88675
         ],
         "z": [
          0,
          -0.663026
         ]
        },
        {
         "line": {
          "color": "rgb(20, 0, 145)",
          "width": 2
         },
         "mode": "lines",
         "type": "scatter3d",
         "x": [
          0,
          -0.0227464
         ],
         "y": [
          0,
          1.887454
         ],
         "z": [
          0,
          -0.661062
         ]
        },
        {
         "line": {
          "color": "rgb(20, 0, 145)",
          "width": 2
         },
         "mode": "lines",
         "type": "scatter3d",
         "x": [
          0,
          -0.0262374
         ],
         "y": [
          0,
          1.88656
         ],
         "z": [
          0,
          -0.663476
         ]
        },
        {
         "line": {
          "color": "rgb(20, 0, 145)",
          "width": 2
         },
         "mode": "lines",
         "type": "scatter3d",
         "x": [
          0,
          -0.0135913
         ],
         "y": [
          0,
          1.887226
         ],
         "z": [
          0,
          -0.661962
         ]
        },
        {
         "line": {
          "color": "rgb(20, 0, 145)",
          "width": 2
         },
         "mode": "lines",
         "type": "scatter3d",
         "x": [
          0,
          -0.01502344
         ],
         "y": [
          0,
          1.884438
         ],
         "z": [
          0,
          -0.669826
         ]
        },
        {
         "line": {
          "color": "rgb(20, 0, 145)",
          "width": 2
         },
         "mode": "lines",
         "type": "scatter3d",
         "x": [
          0,
          -0.01763126
         ],
         "y": [
          0,
          1.882684
         ],
         "z": [
          0,
          -0.67468
         ]
        },
        {
         "line": {
          "color": "rgb(20, 0, 145)",
          "width": 2
         },
         "mode": "lines",
         "type": "scatter3d",
         "x": [
          0,
          -0.01899352
         ],
         "y": [
          0,
          1.88333
         ],
         "z": [
          0,
          -0.672838
         ]
        },
        {
         "line": {
          "color": "rgb(20, 0, 145)",
          "width": 2
         },
         "mode": "lines",
         "type": "scatter3d",
         "x": [
          0,
          -0.01483978
         ],
         "y": [
          0,
          1.883576
         ],
         "z": [
          0,
          -0.672248
         ]
        },
        {
         "line": {
          "color": "rgb(20, 0, 145)",
          "width": 2
         },
         "mode": "lines",
         "type": "scatter3d",
         "x": [
          0,
          -0.0253452
         ],
         "y": [
          0,
          1.88026
         ],
         "z": [
          0,
          -0.68116
         ]
        },
        {
         "line": {
          "color": "rgb(20, 0, 145)",
          "width": 2
         },
         "mode": "lines",
         "type": "scatter3d",
         "x": [
          0,
          -0.0253452
         ],
         "y": [
          0,
          1.88026
         ],
         "z": [
          0,
          -0.68116
         ]
        },
        {
         "line": {
          "color": "rgb(20, 0, 145)",
          "width": 2
         },
         "mode": "lines",
         "type": "scatter3d",
         "x": [
          0,
          -0.0228706
         ],
         "y": [
          0,
          1.87956
         ],
         "z": [
          0,
          -0.683178
         ]
        },
        {
         "line": {
          "color": "rgb(20, 0, 145)",
          "width": 2
         },
         "mode": "lines",
         "type": "scatter3d",
         "x": [
          0,
          -0.0203358
         ],
         "y": [
          0,
          1.87862
         ],
         "z": [
          0,
          -0.685838
         ]
        },
        {
         "line": {
          "color": "rgb(20, 0, 145)",
          "width": 2
         },
         "mode": "lines",
         "type": "scatter3d",
         "x": [
          0,
          -0.0256216
         ],
         "y": [
          0,
          1.877976
         ],
         "z": [
          0,
          -0.687424
         ]
        },
        {
         "line": {
          "color": "rgb(20, 0, 145)",
          "width": 2
         },
         "mode": "lines",
         "type": "scatter3d",
         "x": [
          0,
          -0.025691
         ],
         "y": [
          0,
          1.877486
         ],
         "z": [
          0,
          -0.688758
         ]
        },
        {
         "line": {
          "color": "rgb(20, 0, 145)",
          "width": 2
         },
         "mode": "lines",
         "type": "scatter3d",
         "x": [
          0,
          -0.025691
         ],
         "y": [
          0,
          1.877486
         ],
         "z": [
          0,
          -0.688758
         ]
        },
        {
         "line": {
          "color": "rgb(20, 0, 145)",
          "width": 2
         },
         "mode": "lines",
         "type": "scatter3d",
         "x": [
          0,
          -0.0228546
         ],
         "y": [
          0,
          1.878534
         ],
         "z": [
          0,
          -0.685996
         ]
        },
        {
         "line": {
          "color": "rgb(20, 0, 145)",
          "width": 2
         },
         "mode": "lines",
         "type": "scatter3d",
         "x": [
          0,
          -0.0247962
         ],
         "y": [
          0,
          1.877752
         ],
         "z": [
          0,
          -0.688064
         ]
        },
        {
         "line": {
          "color": "rgb(20, 0, 145)",
          "width": 2
         },
         "mode": "lines",
         "type": "scatter3d",
         "x": [
          0,
          -0.0250124
         ],
         "y": [
          0,
          1.877824
         ],
         "z": [
          0,
          -0.687858
         ]
        },
        {
         "line": {
          "color": "rgb(20, 0, 145)",
          "width": 2
         },
         "mode": "lines",
         "type": "scatter3d",
         "x": [
          0,
          -0.025733
         ],
         "y": [
          0,
          1.877578
         ],
         "z": [
          0,
          -0.688504
         ]
        },
        {
         "line": {
          "color": "rgb(20, 0, 145)",
          "width": 2
         },
         "mode": "lines",
         "type": "scatter3d",
         "x": [
          0,
          -0.025733
         ],
         "y": [
          0,
          1.877578
         ],
         "z": [
          0,
          -0.688504
         ]
        },
        {
         "line": {
          "color": "rgb(20, 0, 145)",
          "width": 2
         },
         "mode": "lines",
         "type": "scatter3d",
         "x": [
          0,
          -0.0272442
         ],
         "y": [
          0,
          1.876548
         ],
         "z": [
          0,
          -0.691248
         ]
        },
        {
         "line": {
          "color": "rgb(20, 0, 145)",
          "width": 2
         },
         "mode": "lines",
         "type": "scatter3d",
         "x": [
          0,
          -0.029519
         ],
         "y": [
          0,
          1.875672
         ],
         "z": [
          0,
          -0.69353
         ]
        },
        {
         "line": {
          "color": "rgb(20, 0, 145)",
          "width": 2
         },
         "mode": "lines",
         "type": "scatter3d",
         "x": [
          0,
          -0.0330256
         ],
         "y": [
          0,
          1.874552
         ],
         "z": [
          0,
          -0.69639
         ]
        },
        {
         "line": {
          "color": "rgb(20, 0, 145)",
          "width": 2
         },
         "mode": "lines",
         "type": "scatter3d",
         "x": [
          0,
          -0.0330256
         ],
         "y": [
          0,
          1.874552
         ],
         "z": [
          0,
          -0.69639
         ]
        },
        {
         "line": {
          "color": "rgb(20, 0, 145)",
          "width": 2
         },
         "mode": "lines",
         "type": "scatter3d",
         "x": [
          0,
          -0.0332258
         ],
         "y": [
          0,
          1.876214
         ],
         "z": [
          0,
          -0.691892
         ]
        },
        {
         "line": {
          "color": "rgb(20, 0, 145)",
          "width": 2
         },
         "mode": "lines",
         "type": "scatter3d",
         "x": [
          0,
          -0.0282792
         ],
         "y": [
          0,
          1.875552
         ],
         "z": [
          0,
          -0.693904
         ]
        },
        {
         "line": {
          "color": "rgb(20, 0, 145)",
          "width": 2
         },
         "mode": "lines",
         "type": "scatter3d",
         "x": [
          0,
          -0.027656
         ],
         "y": [
          0,
          1.881402
         ],
         "z": [
          0,
          -0.677912
         ]
        },
        {
         "line": {
          "color": "rgb(20, 0, 145)",
          "width": 2
         },
         "mode": "lines",
         "type": "scatter3d",
         "x": [
          0,
          -0.028457
         ],
         "y": [
          0,
          1.88014
         ],
         "z": [
          0,
          -0.681372
         ]
        },
        {
         "line": {
          "color": "rgb(20, 0, 145)",
          "width": 2
         },
         "mode": "lines",
         "type": "scatter3d",
         "x": [
          0,
          -0.0230146
         ],
         "y": [
          0,
          1.880792
         ],
         "z": [
          0,
          -0.679776
         ]
        },
        {
         "line": {
          "color": "rgb(20, 0, 145)",
          "width": 2
         },
         "mode": "lines",
         "type": "scatter3d",
         "x": [
          0,
          -0.0230146
         ],
         "y": [
          0,
          1.880792
         ],
         "z": [
          0,
          -0.679776
         ]
        },
        {
         "line": {
          "color": "rgb(20, 0, 145)",
          "width": 2
         },
         "mode": "lines",
         "type": "scatter3d",
         "x": [
          0,
          -0.0238006
         ],
         "y": [
          0,
          1.88177
         ],
         "z": [
          0,
          -0.677032
         ]
        },
        {
         "line": {
          "color": "rgb(20, 0, 145)",
          "width": 2
         },
         "mode": "lines",
         "type": "scatter3d",
         "x": [
          0,
          -0.0226066
         ],
         "y": [
          0,
          1.880698
         ],
         "z": [
          0,
          -0.680044
         ]
        },
        {
         "line": {
          "color": "rgb(20, 0, 145)",
          "width": 2
         },
         "mode": "lines",
         "type": "scatter3d",
         "x": [
          0,
          -0.0206544
         ],
         "y": [
          0,
          1.88062
         ],
         "z": [
          0,
          -0.680324
         ]
        },
        {
         "line": {
          "color": "rgb(20, 0, 145)",
          "width": 2
         },
         "mode": "lines",
         "type": "scatter3d",
         "x": [
          0,
          -0.0206544
         ],
         "y": [
          0,
          1.88062
         ],
         "z": [
          0,
          -0.680324
         ]
        },
        {
         "line": {
          "color": "rgb(20, 0, 145)",
          "width": 2
         },
         "mode": "lines",
         "type": "scatter3d",
         "x": [
          0,
          -0.0230328
         ],
         "y": [
          0,
          1.878908
         ],
         "z": [
          0,
          -0.684964
         ]
        },
        {
         "line": {
          "color": "rgb(20, 0, 145)",
          "width": 2
         },
         "mode": "lines",
         "type": "scatter3d",
         "x": [
          0,
          -0.0228144
         ],
         "y": [
          0,
          1.876896
         ],
         "z": [
          0,
          -0.690466
         ]
        },
        {
         "line": {
          "color": "rgb(20, 0, 145)",
          "width": 2
         },
         "mode": "lines",
         "type": "scatter3d",
         "x": [
          0,
          -0.0249658
         ],
         "y": [
          0,
          1.87822
         ],
         "z": [
          0,
          -0.686782
         ]
        },
        {
         "line": {
          "color": "rgb(20, 0, 145)",
          "width": 2
         },
         "mode": "lines",
         "type": "scatter3d",
         "x": [
          0,
          -0.029402
         ],
         "y": [
          0,
          1.87712
         ],
         "z": [
          0,
          -0.689604
         ]
        },
        {
         "line": {
          "color": "rgb(20, 0, 145)",
          "width": 2
         },
         "mode": "lines",
         "type": "scatter3d",
         "x": [
          0,
          -0.0262146
         ],
         "y": [
          0,
          1.880586
         ],
         "z": [
          0,
          -0.680226
         ]
        },
        {
         "line": {
          "color": "rgb(20, 0, 145)",
          "width": 2
         },
         "mode": "lines",
         "type": "scatter3d",
         "x": [
          0,
          -0.0262146
         ],
         "y": [
          0,
          1.880586
         ],
         "z": [
          0,
          -0.680226
         ]
        },
        {
         "line": {
          "color": "rgb(20, 0, 145)",
          "width": 2
         },
         "mode": "lines",
         "type": "scatter3d",
         "x": [
          0,
          -0.0283382
         ],
         "y": [
          0,
          1.87636
         ],
         "z": [
          0,
          -0.691718
         ]
        },
        {
         "line": {
          "color": "rgb(20, 0, 145)",
          "width": 2
         },
         "mode": "lines",
         "type": "scatter3d",
         "x": [
          0,
          -0.0286582
         ],
         "y": [
          0,
          1.877942
         ],
         "z": [
          0,
          -0.687392
         ]
        },
        {
         "line": {
          "color": "rgb(20, 0, 145)",
          "width": 2
         },
         "mode": "lines",
         "type": "scatter3d",
         "x": [
          0,
          -0.0333506
         ],
         "y": [
          0,
          1.876084
         ],
         "z": [
          0,
          -0.692238
         ]
        },
        {
         "line": {
          "color": "rgb(20, 0, 145)",
          "width": 2
         },
         "mode": "lines",
         "type": "scatter3d",
         "x": [
          0,
          -0.0305434
         ],
         "y": [
          0,
          1.877336
         ],
         "z": [
          0,
          -0.68897
         ]
        },
        {
         "line": {
          "color": "rgb(20, 0, 145)",
          "width": 2
         },
         "mode": "lines",
         "type": "scatter3d",
         "x": [
          0,
          -0.0305434
         ],
         "y": [
          0,
          1.877336
         ],
         "z": [
          0,
          -0.68897
         ]
        },
        {
         "line": {
          "color": "rgb(20, 0, 145)",
          "width": 2
         },
         "mode": "lines",
         "type": "scatter3d",
         "x": [
          0,
          -0.0261594
         ],
         "y": [
          0,
          1.88191
         ],
         "z": [
          0,
          -0.676558
         ]
        },
        {
         "line": {
          "color": "rgb(20, 0, 145)",
          "width": 2
         },
         "mode": "lines",
         "type": "scatter3d",
         "x": [
          0,
          -0.0304356
         ],
         "y": [
          0,
          1.87764
         ],
         "z": [
          0,
          -0.688142
         ]
        },
        {
         "line": {
          "color": "rgb(20, 0, 145)",
          "width": 2
         },
         "mode": "lines",
         "type": "scatter3d",
         "x": [
          0,
          -0.0294076
         ],
         "y": [
          0,
          1.87633
         ],
         "z": [
          0,
          -0.69175
         ]
        },
        {
         "line": {
          "color": "rgb(20, 0, 145)",
          "width": 2
         },
         "mode": "lines",
         "type": "scatter3d",
         "x": [
          0,
          -0.0294076
         ],
         "y": [
          0,
          1.87633
         ],
         "z": [
          0,
          -0.69175
         ]
        },
        {
         "line": {
          "color": "rgb(20, 0, 145)",
          "width": 2
         },
         "mode": "lines",
         "type": "scatter3d",
         "x": [
          0,
          -0.0277582
         ],
         "y": [
          0,
          1.87939
         ],
         "z": [
          0,
          -0.683462
         ]
        },
        {
         "line": {
          "color": "rgb(20, 0, 145)",
          "width": 2
         },
         "mode": "lines",
         "type": "scatter3d",
         "x": [
          0,
          -0.0252112
         ],
         "y": [
          0,
          1.882074
         ],
         "z": [
          0,
          -0.676136
         ]
        },
        {
         "line": {
          "color": "rgb(20, 0, 145)",
          "width": 2
         },
         "mode": "lines",
         "type": "scatter3d",
         "x": [
          0,
          -0.0240952
         ],
         "y": [
          0,
          1.882932
         ],
         "z": [
          0,
          -0.673784
         ]
        },
        {
         "line": {
          "color": "rgb(20, 0, 145)",
          "width": 2
         },
         "mode": "lines",
         "type": "scatter3d",
         "x": [
          0,
          -0.0263378
         ],
         "y": [
          0,
          1.882276
         ],
         "z": [
          0,
          -0.675534
         ]
        },
        {
         "line": {
          "color": "rgb(20, 0, 145)",
          "width": 2
         },
         "mode": "lines",
         "type": "scatter3d",
         "x": [
          0,
          -0.0232486
         ],
         "y": [
          0,
          1.885784
         ],
         "z": [
          0,
          -0.665792
         ]
        },
        {
         "line": {
          "color": "rgb(20, 0, 145)",
          "width": 2
         },
         "mode": "lines",
         "type": "scatter3d",
         "x": [
          0,
          -0.0232486
         ],
         "y": [
          0,
          1.885784
         ],
         "z": [
          0,
          -0.665792
         ]
        },
        {
         "line": {
          "color": "rgb(20, 0, 145)",
          "width": 2
         },
         "mode": "lines",
         "type": "scatter3d",
         "x": [
          0,
          -0.0246028
         ],
         "y": [
          0,
          1.884774
         ],
         "z": [
          0,
          -0.668596
         ]
        },
        {
         "line": {
          "color": "rgb(20, 0, 145)",
          "width": 2
         },
         "mode": "lines",
         "type": "scatter3d",
         "x": [
          0,
          -0.0212168
         ],
         "y": [
          0,
          1.88167
         ],
         "z": [
          0,
          -0.677398
         ]
        },
        {
         "line": {
          "color": "rgb(20, 0, 145)",
          "width": 2
         },
         "mode": "lines",
         "type": "scatter3d",
         "x": [
          0,
          -0.0256154
         ],
         "y": [
          0,
          1.878948
         ],
         "z": [
          0,
          -0.68476
         ]
        },
        {
         "line": {
          "color": "rgb(20, 0, 145)",
          "width": 2
         },
         "mode": "lines",
         "type": "scatter3d",
         "x": [
          0,
          -0.0268664
         ],
         "y": [
          0,
          1.879786
         ],
         "z": [
          0,
          -0.682412
         ]
        },
        {
         "line": {
          "color": "rgb(20, 0, 145)",
          "width": 2
         },
         "mode": "lines",
         "type": "scatter3d",
         "x": [
          0,
          -0.0268664
         ],
         "y": [
          0,
          1.879786
         ],
         "z": [
          0,
          -0.682412
         ]
        },
        {
         "line": {
          "color": "rgb(20, 0, 145)",
          "width": 2
         },
         "mode": "lines",
         "type": "scatter3d",
         "x": [
          0,
          -0.0276834
         ],
         "y": [
          0,
          1.880082
         ],
         "z": [
          0,
          -0.68156
         ]
        },
        {
         "line": {
          "color": "rgb(20, 0, 145)",
          "width": 2
         },
         "mode": "lines",
         "type": "scatter3d",
         "x": [
          0,
          -0.0251716
         ],
         "y": [
          0,
          1.879824
         ],
         "z": [
          0,
          -0.682368
         ]
        },
        {
         "line": {
          "color": "rgb(20, 0, 145)",
          "width": 2
         },
         "mode": "lines",
         "type": "scatter3d",
         "x": [
          0,
          0.1963716
         ],
         "y": [
          0,
          1.879678
         ],
         "z": [
          0,
          -0.654406
         ]
        },
        {
         "line": {
          "color": "rgb(20, 0, 145)",
          "width": 2
         },
         "mode": "lines",
         "type": "scatter3d",
         "x": [
          0,
          0.1923424
         ],
         "y": [
          0,
          1.878452
         ],
         "z": [
          0,
          -0.659108
         ]
        },
        {
         "line": {
          "color": "rgb(20, 0, 145)",
          "width": 2
         },
         "mode": "lines",
         "type": "scatter3d",
         "x": [
          0,
          0.1923424
         ],
         "y": [
          0,
          1.878452
         ],
         "z": [
          0,
          -0.659108
         ]
        },
        {
         "line": {
          "color": "rgb(20, 0, 145)",
          "width": 2
         },
         "mode": "lines",
         "type": "scatter3d",
         "x": [
          0,
          0.190139
         ],
         "y": [
          0,
          1.88102
         ],
         "z": [
          0,
          -0.652392
         ]
        },
        {
         "line": {
          "color": "rgb(20, 0, 145)",
          "width": 2
         },
         "mode": "lines",
         "type": "scatter3d",
         "x": [
          0,
          0.1920304
         ],
         "y": [
          0,
          1.881468
         ],
         "z": [
          0,
          -0.650542
         ]
        },
        {
         "line": {
          "color": "rgb(20, 0, 145)",
          "width": 2
         },
         "mode": "lines",
         "type": "scatter3d",
         "x": [
          0,
          0.1857408
         ],
         "y": [
          0,
          1.879244
         ],
         "z": [
          0,
          -0.658742
         ]
        },
        {
         "line": {
          "color": "rgb(20, 0, 145)",
          "width": 2
         },
         "mode": "lines",
         "type": "scatter3d",
         "x": [
          0,
          0.191738
         ],
         "y": [
          0,
          1.881058
         ],
         "z": [
          0,
          -0.651812
         ]
        },
        {
         "line": {
          "color": "rgb(20, 0, 145)",
          "width": 2
         },
         "mode": "lines",
         "type": "scatter3d",
         "x": [
          0,
          0.1797566
         ],
         "y": [
          0,
          1.882612
         ],
         "z": [
          0,
          -0.65074
         ]
        },
        {
         "line": {
          "color": "rgb(20, 0, 145)",
          "width": 2
         },
         "mode": "lines",
         "type": "scatter3d",
         "x": [
          0,
          0.1797566
         ],
         "y": [
          0,
          1.882612
         ],
         "z": [
          0,
          -0.65074
         ]
        },
        {
         "line": {
          "color": "rgb(20, 0, 145)",
          "width": 2
         },
         "mode": "lines",
         "type": "scatter3d",
         "x": [
          0,
          0.1909882
         ],
         "y": [
          0,
          1.885214
         ],
         "z": [
          0,
          -0.639918
         ]
        },
        {
         "line": {
          "color": "rgb(20, 0, 145)",
          "width": 2
         },
         "mode": "lines",
         "type": "scatter3d",
         "x": [
          0,
          0.184482
         ],
         "y": [
          0,
          1.882596
         ],
         "z": [
          0,
          -0.64946
         ]
        },
        {
         "line": {
          "color": "rgb(20, 0, 145)",
          "width": 2
         },
         "mode": "lines",
         "type": "scatter3d",
         "x": [
          0,
          0.184482
         ],
         "y": [
          0,
          1.882596
         ],
         "z": [
          0,
          -0.64946
         ]
        },
        {
         "line": {
          "color": "rgb(20, 0, 145)",
          "width": 2
         },
         "mode": "lines",
         "type": "scatter3d",
         "x": [
          0,
          0.1799268
         ],
         "y": [
          0,
          1.883464
         ],
         "z": [
          0,
          -0.648222
         ]
        },
        {
         "line": {
          "color": "rgb(20, 0, 145)",
          "width": 2
         },
         "mode": "lines",
         "type": "scatter3d",
         "x": [
          0,
          0.188701
         ],
         "y": [
          0,
          1.883178
         ],
         "z": [
          0,
          -0.646556
         ]
        },
        {
         "line": {
          "color": "rgb(20, 0, 145)",
          "width": 2
         },
         "mode": "lines",
         "type": "scatter3d",
         "x": [
          0,
          0.1742866
         ],
         "y": [
          0,
          1.885036
         ],
         "z": [
          0,
          -0.645184
         ]
        },
        {
         "line": {
          "color": "rgb(20, 0, 145)",
          "width": 2
         },
         "mode": "lines",
         "type": "scatter3d",
         "x": [
          0,
          0.1847546
         ],
         "y": [
          0,
          1.884592
         ],
         "z": [
          0,
          -0.64357
         ]
        },
        {
         "line": {
          "color": "rgb(20, 0, 145)",
          "width": 2
         },
         "mode": "lines",
         "type": "scatter3d",
         "x": [
          0,
          0.1806858
         ],
         "y": [
          0,
          1.882164
         ],
         "z": [
          0,
          -0.651778
         ]
        },
        {
         "line": {
          "color": "rgb(20, 0, 145)",
          "width": 2
         },
         "mode": "lines",
         "type": "scatter3d",
         "x": [
          0,
          0.1806858
         ],
         "y": [
          0,
          1.882164
         ],
         "z": [
          0,
          -0.651778
         ]
        },
        {
         "line": {
          "color": "rgb(20, 0, 145)",
          "width": 2
         },
         "mode": "lines",
         "type": "scatter3d",
         "x": [
          0,
          0.1756114
         ],
         "y": [
          0,
          1.883334
         ],
         "z": [
          0,
          -0.649782
         ]
        },
        {
         "line": {
          "color": "rgb(20, 0, 145)",
          "width": 2
         },
         "mode": "lines",
         "type": "scatter3d",
         "x": [
          0,
          0.1831328
         ],
         "y": [
          0,
          1.880812
         ],
         "z": [
          0,
          -0.65499
         ]
        },
        {
         "line": {
          "color": "rgb(20, 0, 145)",
          "width": 2
         },
         "mode": "lines",
         "type": "scatter3d",
         "x": [
          0,
          0.1747332
         ],
         "y": [
          0,
          1.881662
         ],
         "z": [
          0,
          -0.654842
         ]
        },
        {
         "line": {
          "color": "rgb(20, 0, 145)",
          "width": 2
         },
         "mode": "lines",
         "type": "scatter3d",
         "x": [
          0,
          0.1747332
         ],
         "y": [
          0,
          1.881662
         ],
         "z": [
          0,
          -0.654842
         ]
        },
        {
         "line": {
          "color": "rgb(20, 0, 145)",
          "width": 2
         },
         "mode": "lines",
         "type": "scatter3d",
         "x": [
          0,
          0.187586
         ],
         "y": [
          0,
          1.885078
         ],
         "z": [
          0,
          -0.641324
         ]
        },
        {
         "line": {
          "color": "rgb(20, 0, 145)",
          "width": 2
         },
         "mode": "lines",
         "type": "scatter3d",
         "x": [
          0,
          0.1943228
         ],
         "y": [
          0,
          1.88347
         ],
         "z": [
          0,
          -0.644032
         ]
        },
        {
         "line": {
          "color": "rgb(20, 0, 145)",
          "width": 2
         },
         "mode": "lines",
         "type": "scatter3d",
         "x": [
          0,
          0.200712
         ],
         "y": [
          0,
          1.882838
         ],
         "z": [
          0,
          -0.643924
         ]
        },
        {
         "line": {
          "color": "rgb(20, 0, 145)",
          "width": 2
         },
         "mode": "lines",
         "type": "scatter3d",
         "x": [
          0,
          0.195385
         ],
         "y": [
          0,
          1.880614
         ],
         "z": [
          0,
          -0.65201
         ]
        },
        {
         "line": {
          "color": "rgb(20, 0, 145)",
          "width": 2
         },
         "mode": "lines",
         "type": "scatter3d",
         "x": [
          0,
          0.199628
         ],
         "y": [
          0,
          1.879734
         ],
         "z": [
          0,
          -0.653262
         ]
        },
        {
         "line": {
          "color": "rgb(20, 0, 145)",
          "width": 2
         },
         "mode": "lines",
         "type": "scatter3d",
         "x": [
          0,
          0.199628
         ],
         "y": [
          0,
          1.879734
         ],
         "z": [
          0,
          -0.653262
         ]
        },
        {
         "line": {
          "color": "rgb(20, 0, 145)",
          "width": 2
         },
         "mode": "lines",
         "type": "scatter3d",
         "x": [
          0,
          0.201838
         ],
         "y": [
          0,
          1.881146
         ],
         "z": [
          0,
          -0.6485
         ]
        },
        {
         "line": {
          "color": "rgb(20, 0, 145)",
          "width": 2
         },
         "mode": "lines",
         "type": "scatter3d",
         "x": [
          0,
          0.1991992
         ],
         "y": [
          0,
          1.878644
         ],
         "z": [
          0,
          -0.656518
         ]
        },
        {
         "line": {
          "color": "rgb(20, 0, 145)",
          "width": 2
         },
         "mode": "lines",
         "type": "scatter3d",
         "x": [
          0,
          0.1976472
         ],
         "y": [
          0,
          1.879014
         ],
         "z": [
          0,
          -0.65593
         ]
        },
        {
         "line": {
          "color": "rgb(20, 0, 145)",
          "width": 2
         },
         "mode": "lines",
         "type": "scatter3d",
         "x": [
          0,
          0.1955962
         ],
         "y": [
          0,
          1.88132
         ],
         "z": [
          0,
          -0.649906
         ]
        },
        {
         "line": {
          "color": "rgb(20, 0, 145)",
          "width": 2
         },
         "mode": "lines",
         "type": "scatter3d",
         "x": [
          0,
          0.1980534
         ],
         "y": [
          0,
          1.879114
         ],
         "z": [
          0,
          -0.65552
         ]
        },
        {
         "line": {
          "color": "rgb(20, 0, 145)",
          "width": 2
         },
         "mode": "lines",
         "type": "scatter3d",
         "x": [
          0,
          0.1934168
         ],
         "y": [
          0,
          1.879468
         ],
         "z": [
          0,
          -0.655892
         ]
        },
        {
         "line": {
          "color": "rgb(20, 0, 145)",
          "width": 2
         },
         "mode": "lines",
         "type": "scatter3d",
         "x": [
          0,
          0.1957368
         ],
         "y": [
          0,
          1.880958
         ],
         "z": [
          0,
          -0.65091
         ]
        },
        {
         "line": {
          "color": "rgb(20, 0, 145)",
          "width": 2
         },
         "mode": "lines",
         "type": "scatter3d",
         "x": [
          0,
          0.1957368
         ],
         "y": [
          0,
          1.880958
         ],
         "z": [
          0,
          -0.65091
         ]
        },
        {
         "line": {
          "color": "rgb(20, 0, 145)",
          "width": 2
         },
         "mode": "lines",
         "type": "scatter3d",
         "x": [
          0,
          0.1880838
         ],
         "y": [
          0,
          1.880126
         ],
         "z": [
          0,
          -0.655556
         ]
        },
        {
         "line": {
          "color": "rgb(20, 0, 145)",
          "width": 2
         },
         "mode": "lines",
         "type": "scatter3d",
         "x": [
          0,
          0.180787
         ],
         "y": [
          0,
          1.879874
         ],
         "z": [
          0,
          -0.658322
         ]
        },
        {
         "line": {
          "color": "rgb(20, 0, 145)",
          "width": 2
         },
         "mode": "lines",
         "type": "scatter3d",
         "x": [
          0,
          0.1728852
         ],
         "y": [
          0,
          1.878908
         ],
         "z": [
          0,
          -0.663188
         ]
        },
        {
         "line": {
          "color": "rgb(20, 0, 145)",
          "width": 2
         },
         "mode": "lines",
         "type": "scatter3d",
         "x": [
          0,
          0.1819476
         ],
         "y": [
          0,
          1.881686
         ],
         "z": [
          0,
          -0.6528
         ]
        },
        {
         "line": {
          "color": "rgb(20, 0, 145)",
          "width": 2
         },
         "mode": "lines",
         "type": "scatter3d",
         "x": [
          0,
          0.1769688
         ],
         "y": [
          0,
          1.878992
         ],
         "z": [
          0,
          -0.661868
         ]
        },
        {
         "line": {
          "color": "rgb(20, 0, 145)",
          "width": 2
         },
         "mode": "lines",
         "type": "scatter3d",
         "x": [
          0,
          0.1769688
         ],
         "y": [
          0,
          1.878992
         ],
         "z": [
          0,
          -0.661868
         ]
        },
        {
         "line": {
          "color": "rgb(20, 0, 145)",
          "width": 2
         },
         "mode": "lines",
         "type": "scatter3d",
         "x": [
          0,
          0.1809554
         ],
         "y": [
          0,
          1.882734
         ],
         "z": [
          0,
          -0.650052
         ]
        },
        {
         "line": {
          "color": "rgb(20, 0, 145)",
          "width": 2
         },
         "mode": "lines",
         "type": "scatter3d",
         "x": [
          0,
          0.173271
         ],
         "y": [
          0,
          1.882296
         ],
         "z": [
          0,
          -0.653406
         ]
        },
        {
         "line": {
          "color": "rgb(20, 0, 145)",
          "width": 2
         },
         "mode": "lines",
         "type": "scatter3d",
         "x": [
          0,
          0.1800972
         ],
         "y": [
          0,
          1.88272
         ],
         "z": [
          0,
          -0.650328
         ]
        },
        {
         "line": {
          "color": "rgb(20, 0, 145)",
          "width": 2
         },
         "mode": "lines",
         "type": "scatter3d",
         "x": [
          0,
          0.1800972
         ],
         "y": [
          0,
          1.88272
         ],
         "z": [
          0,
          -0.650328
         ]
        },
        {
         "line": {
          "color": "rgb(20, 0, 145)",
          "width": 2
         },
         "mode": "lines",
         "type": "scatter3d",
         "x": [
          0,
          0.1765818
         ],
         "y": [
          0,
          1.88282
         ],
         "z": [
          0,
          -0.651004
         ]
        },
        {
         "line": {
          "color": "rgb(20, 0, 145)",
          "width": 2
         },
         "mode": "lines",
         "type": "scatter3d",
         "x": [
          0,
          0.1735354
         ],
         "y": [
          0,
          1.881208
         ],
         "z": [
          0,
          -0.656462
         ]
        },
        {
         "line": {
          "color": "rgb(20, 0, 145)",
          "width": 2
         },
         "mode": "lines",
         "type": "scatter3d",
         "x": [
          0,
          0.1782484
         ],
         "y": [
          0,
          1.880126
         ],
         "z": [
          0,
          -0.658296
         ]
        },
        {
         "line": {
          "color": "rgb(20, 0, 145)",
          "width": 2
         },
         "mode": "lines",
         "type": "scatter3d",
         "x": [
          0,
          0.1696922
         ],
         "y": [
          0,
          1.879782
         ],
         "z": [
          0,
          -0.661532
         ]
        },
        {
         "line": {
          "color": "rgb(20, 0, 145)",
          "width": 2
         },
         "mode": "lines",
         "type": "scatter3d",
         "x": [
          0,
          0.1858136
         ],
         "y": [
          0,
          1.883406
         ],
         "z": [
          0,
          -0.64673
         ]
        },
        {
         "line": {
          "color": "rgb(20, 0, 145)",
          "width": 2
         },
         "mode": "lines",
         "type": "scatter3d",
         "x": [
          0,
          0.1858136
         ],
         "y": [
          0,
          1.883406
         ],
         "z": [
          0,
          -0.64673
         ]
        },
        {
         "line": {
          "color": "rgb(20, 0, 145)",
          "width": 2
         },
         "mode": "lines",
         "type": "scatter3d",
         "x": [
          0,
          0.1759298
         ],
         "y": [
          0,
          1.883128
         ],
         "z": [
          0,
          -0.650288
         ]
        },
        {
         "line": {
          "color": "rgb(20, 0, 145)",
          "width": 2
         },
         "mode": "lines",
         "type": "scatter3d",
         "x": [
          0,
          0.1775746
         ],
         "y": [
          0,
          1.884164
         ],
         "z": [
          0,
          -0.646834
         ]
        },
        {
         "line": {
          "color": "rgb(20, 0, 145)",
          "width": 2
         },
         "mode": "lines",
         "type": "scatter3d",
         "x": [
          0,
          0.1709468
         ],
         "y": [
          0,
          1.882546
         ],
         "z": [
          0,
          -0.653298
         ]
        },
        {
         "line": {
          "color": "rgb(20, 0, 145)",
          "width": 2
         },
         "mode": "lines",
         "type": "scatter3d",
         "x": [
          0,
          0.1743166
         ],
         "y": [
          0,
          1.880786
         ],
         "z": [
          0,
          -0.657466
         ]
        },
        {
         "line": {
          "color": "rgb(20, 0, 145)",
          "width": 2
         },
         "mode": "lines",
         "type": "scatter3d",
         "x": [
          0,
          0.1743166
         ],
         "y": [
          0,
          1.880786
         ],
         "z": [
          0,
          -0.657466
         ]
        },
        {
         "line": {
          "color": "rgb(20, 0, 145)",
          "width": 2
         },
         "mode": "lines",
         "type": "scatter3d",
         "x": [
          0,
          0.177672
         ],
         "y": [
          0,
          1.880868
         ],
         "z": [
          0,
          -0.656326
         ]
        },
        {
         "line": {
          "color": "rgb(20, 0, 145)",
          "width": 2
         },
         "mode": "lines",
         "type": "scatter3d",
         "x": [
          0,
          0.1683256
         ],
         "y": [
          0,
          1.880794
         ],
         "z": [
          0,
          -0.659002
         ]
        },
        {
         "line": {
          "color": "rgb(20, 0, 145)",
          "width": 2
         },
         "mode": "lines",
         "type": "scatter3d",
         "x": [
          0,
          0.1832526
         ],
         "y": [
          0,
          1.882104
         ],
         "z": [
          0,
          -0.651234
         ]
        },
        {
         "line": {
          "color": "rgb(20, 0, 145)",
          "width": 2
         },
         "mode": "lines",
         "type": "scatter3d",
         "x": [
          0,
          0.1745826
         ],
         "y": [
          0,
          1.881414
         ],
         "z": [
          0,
          -0.65559
         ]
        },
        {
         "line": {
          "color": "rgb(20, 0, 145)",
          "width": 2
         },
         "mode": "lines",
         "type": "scatter3d",
         "x": [
          0,
          0.1745826
         ],
         "y": [
          0,
          1.881414
         ],
         "z": [
          0,
          -0.65559
         ]
        },
        {
         "line": {
          "color": "rgb(20, 0, 145)",
          "width": 2
         },
         "mode": "lines",
         "type": "scatter3d",
         "x": [
          0,
          0.1783842
         ],
         "y": [
          0,
          1.882674
         ],
         "z": [
          0,
          -0.650934
         ]
        },
        {
         "line": {
          "color": "rgb(20, 0, 145)",
          "width": 2
         },
         "mode": "lines",
         "type": "scatter3d",
         "x": [
          0,
          0.1777044
         ],
         "y": [
          0,
          1.881292
         ],
         "z": [
          0,
          -0.655106
         ]
        },
        {
         "line": {
          "color": "rgb(20, 0, 145)",
          "width": 2
         },
         "mode": "lines",
         "type": "scatter3d",
         "x": [
          0,
          0.1725028
         ],
         "y": [
          0,
          1.881968
         ],
         "z": [
          0,
          -0.65455
         ]
        },
        {
         "line": {
          "color": "rgb(20, 0, 145)",
          "width": 2
         },
         "mode": "lines",
         "type": "scatter3d",
         "x": [
          0,
          0.1838968
         ],
         "y": [
          0,
          1.883458
         ],
         "z": [
          0,
          -0.647122
         ]
        },
        {
         "line": {
          "color": "rgb(20, 0, 145)",
          "width": 2
         },
         "mode": "lines",
         "type": "scatter3d",
         "x": [
          0,
          0.1838968
         ],
         "y": [
          0,
          1.883458
         ],
         "z": [
          0,
          -0.647122
         ]
        },
        {
         "line": {
          "color": "rgb(20, 0, 145)",
          "width": 2
         },
         "mode": "lines",
         "type": "scatter3d",
         "x": [
          0,
          0.1738764
         ],
         "y": [
          0,
          1.881126
         ],
         "z": [
          0,
          -0.656608
         ]
        },
        {
         "line": {
          "color": "rgb(20, 0, 145)",
          "width": 2
         },
         "mode": "lines",
         "type": "scatter3d",
         "x": [
          0,
          0.1769566
         ],
         "y": [
          0,
          1.88268
         ],
         "z": [
          0,
          -0.651308
         ]
        },
        {
         "line": {
          "color": "rgb(20, 0, 145)",
          "width": 2
         },
         "mode": "lines",
         "type": "scatter3d",
         "x": [
          0,
          0.1782786
         ],
         "y": [
          0,
          1.880774
         ],
         "z": [
          0,
          -0.656434
         ]
        },
        {
         "line": {
          "color": "rgb(20, 0, 145)",
          "width": 2
         },
         "mode": "lines",
         "type": "scatter3d",
         "x": [
          0,
          0.1816604
         ],
         "y": [
          0,
          1.884054
         ],
         "z": [
          0,
          -0.64602
         ]
        },
        {
         "line": {
          "color": "rgb(20, 0, 145)",
          "width": 2
         },
         "mode": "lines",
         "type": "scatter3d",
         "x": [
          0,
          0.1816604
         ],
         "y": [
          0,
          1.884054
         ],
         "z": [
          0,
          -0.64602
         ]
        },
        {
         "line": {
          "color": "rgb(20, 0, 145)",
          "width": 2
         },
         "mode": "lines",
         "type": "scatter3d",
         "x": [
          0,
          0.1840016
         ],
         "y": [
          0,
          1.880996
         ],
         "z": [
          0,
          -0.654216
         ]
        },
        {
         "line": {
          "color": "rgb(20, 0, 145)",
          "width": 2
         },
         "mode": "lines",
         "type": "scatter3d",
         "x": [
          0,
          0.1705586
         ],
         "y": [
          0,
          1.879134
         ],
         "z": [
          0,
          -0.66315
         ]
        },
        {
         "line": {
          "color": "rgb(20, 0, 145)",
          "width": 2
         },
         "mode": "lines",
         "type": "scatter3d",
         "x": [
          0,
          0.1859962
         ],
         "y": [
          0,
          1.879742
         ],
         "z": [
          0,
          -0.65725
         ]
        },
        {
         "line": {
          "color": "rgb(20, 0, 145)",
          "width": 2
         },
         "mode": "lines",
         "type": "scatter3d",
         "x": [
          0,
          0.1726786
         ],
         "y": [
          0,
          1.880018
         ],
         "z": [
          0,
          -0.660086
         ]
        },
        {
         "line": {
          "color": "rgb(20, 0, 145)",
          "width": 2
         },
         "mode": "lines",
         "type": "scatter3d",
         "x": [
          0,
          0.1726786
         ],
         "y": [
          0,
          1.880018
         ],
         "z": [
          0,
          -0.660086
         ]
        },
        {
         "line": {
          "color": "rgb(20, 0, 145)",
          "width": 2
         },
         "mode": "lines",
         "type": "scatter3d",
         "x": [
          0,
          0.1816886
         ],
         "y": [
          0,
          1.881256
         ],
         "z": [
          0,
          -0.654112
         ]
        },
        {
         "line": {
          "color": "rgb(20, 0, 145)",
          "width": 2
         },
         "mode": "lines",
         "type": "scatter3d",
         "x": [
          0,
          0.1754976
         ],
         "y": [
          0,
          1.881082
         ],
         "z": [
          0,
          -0.6563
         ]
        },
        {
         "line": {
          "color": "rgb(20, 0, 145)",
          "width": 2
         },
         "mode": "lines",
         "type": "scatter3d",
         "x": [
          0,
          0.1794558
         ],
         "y": [
          0,
          1.881922
         ],
         "z": [
          0,
          -0.652814
         ]
        },
        {
         "line": {
          "color": "rgb(20, 0, 145)",
          "width": 2
         },
         "mode": "lines",
         "type": "scatter3d",
         "x": [
          0,
          0.1817726
         ],
         "y": [
          0,
          1.881048
         ],
         "z": [
          0,
          -0.654692
         ]
        },
        {
         "line": {
          "color": "rgb(20, 0, 145)",
          "width": 2
         },
         "mode": "lines",
         "type": "scatter3d",
         "x": [
          0,
          0.1817726
         ],
         "y": [
          0,
          1.881048
         ],
         "z": [
          0,
          -0.654692
         ]
        },
        {
         "line": {
          "color": "rgb(20, 0, 145)",
          "width": 2
         },
         "mode": "lines",
         "type": "scatter3d",
         "x": [
          0,
          0.1774742
         ],
         "y": [
          0,
          1.881656
         ],
         "z": [
          0,
          -0.654124
         ]
        },
        {
         "line": {
          "color": "rgb(20, 0, 145)",
          "width": 2
         },
         "mode": "lines",
         "type": "scatter3d",
         "x": [
          0,
          0.1830008
         ],
         "y": [
          0,
          1.881072
         ],
         "z": [
          0,
          -0.654276
         ]
        },
        {
         "line": {
          "color": "rgb(20, 0, 145)",
          "width": 2
         },
         "mode": "lines",
         "type": "scatter3d",
         "x": [
          0,
          0.1814004
         ],
         "y": [
          0,
          1.88208
         ],
         "z": [
          0,
          -0.651818
         ]
        },
        {
         "line": {
          "color": "rgb(20, 0, 145)",
          "width": 2
         },
         "mode": "lines",
         "type": "scatter3d",
         "x": [
          0,
          0.184693
         ],
         "y": [
          0,
          1.883244
         ],
         "z": [
          0,
          -0.64752
         ]
        },
        {
         "line": {
          "color": "rgb(20, 0, 145)",
          "width": 2
         },
         "mode": "lines",
         "type": "scatter3d",
         "x": [
          0,
          0.184693
         ],
         "y": [
          0,
          1.883244
         ],
         "z": [
          0,
          -0.64752
         ]
        },
        {
         "line": {
          "color": "rgb(20, 0, 145)",
          "width": 2
         },
         "mode": "lines",
         "type": "scatter3d",
         "x": [
          0,
          0.1868988
         ],
         "y": [
          0,
          1.882152
         ],
         "z": [
          0,
          -0.650058
         ]
        },
        {
         "line": {
          "color": "rgb(20, 0, 145)",
          "width": 2
         },
         "mode": "lines",
         "type": "scatter3d",
         "x": [
          0,
          0.1838012
         ],
         "y": [
          0,
          1.882714
         ],
         "z": [
          0,
          -0.649314
         ]
        },
        {
         "line": {
          "color": "rgb(20, 0, 145)",
          "width": 2
         },
         "mode": "lines",
         "type": "scatter3d",
         "x": [
          0,
          0.1931156
         ],
         "y": [
          0,
          1.883246
         ],
         "z": [
          0,
          -0.645054
         ]
        },
        {
         "line": {
          "color": "rgb(20, 0, 145)",
          "width": 2
         },
         "mode": "lines",
         "type": "scatter3d",
         "x": [
          0,
          0.1821232
         ],
         "y": [
          0,
          1.880656
         ],
         "z": [
          0,
          -0.655714
         ]
        },
        {
         "line": {
          "color": "rgb(20, 0, 145)",
          "width": 2
         },
         "mode": "lines",
         "type": "scatter3d",
         "x": [
          0,
          0.1930616
         ],
         "y": [
          0,
          1.884134
         ],
         "z": [
          0,
          -0.64247
         ]
        },
        {
         "line": {
          "color": "rgb(20, 0, 145)",
          "width": 2
         },
         "mode": "lines",
         "type": "scatter3d",
         "x": [
          0,
          0.1930616
         ],
         "y": [
          0,
          1.884134
         ],
         "z": [
          0,
          -0.64247
         ]
        },
        {
         "line": {
          "color": "rgb(20, 0, 145)",
          "width": 2
         },
         "mode": "lines",
         "type": "scatter3d",
         "x": [
          0,
          0.1837508
         ],
         "y": [
          0,
          1.881326
         ],
         "z": [
          0,
          -0.653334
         ]
        },
        {
         "line": {
          "color": "rgb(20, 0, 145)",
          "width": 2
         },
         "mode": "lines",
         "type": "scatter3d",
         "x": [
          0,
          0.1810272
         ],
         "y": [
          0,
          1.880826
         ],
         "z": [
          0,
          -0.65553
         ]
        },
        {
         "line": {
          "color": "rgb(20, 0, 145)",
          "width": 2
         },
         "mode": "lines",
         "type": "scatter3d",
         "x": [
          0,
          0.1810272
         ],
         "y": [
          0,
          1.880826
         ],
         "z": [
          0,
          -0.65553
         ]
        },
        {
         "line": {
          "color": "rgb(20, 0, 145)",
          "width": 2
         },
         "mode": "lines",
         "type": "scatter3d",
         "x": [
          0,
          0.1893624
         ],
         "y": [
          0,
          1.882218
         ],
         "z": [
          0,
          -0.649152
         ]
        },
        {
         "line": {
          "color": "rgb(20, 0, 145)",
          "width": 2
         },
         "mode": "lines",
         "type": "scatter3d",
         "x": [
          0,
          0.1834808
         ],
         "y": [
          0,
          1.881626
         ],
         "z": [
          0,
          -0.65255
         ]
        },
        {
         "line": {
          "color": "rgb(20, 0, 145)",
          "width": 2
         },
         "mode": "lines",
         "type": "scatter3d",
         "x": [
          0,
          0.1876198
         ],
         "y": [
          0,
          1.883232
         ],
         "z": [
          0,
          -0.64671
         ]
        },
        {
         "line": {
          "color": "rgb(20, 0, 145)",
          "width": 2
         },
         "mode": "lines",
         "type": "scatter3d",
         "x": [
          0,
          0.1808108
         ],
         "y": [
          0,
          1.882998
         ],
         "z": [
          0,
          -0.64933
         ]
        },
        {
         "line": {
          "color": "rgb(20, 0, 145)",
          "width": 2
         },
         "mode": "lines",
         "type": "scatter3d",
         "x": [
          0,
          -0.226612
         ],
         "y": [
          0,
          1.987118
         ],
         "z": [
          0,
          -0.00251254
         ]
        },
        {
         "line": {
          "color": "rgb(20, 0, 145)",
          "width": 2
         },
         "mode": "lines",
         "type": "scatter3d",
         "x": [
          0,
          -0.226612
         ],
         "y": [
          0,
          1.987118
         ],
         "z": [
          0,
          -0.00251254
         ]
        },
        {
         "line": {
          "color": "rgb(20, 0, 145)",
          "width": 2
         },
         "mode": "lines",
         "type": "scatter3d",
         "x": [
          0,
          -0.222148
         ],
         "y": [
          0,
          1.98762
         ],
         "z": [
          0,
          -0.00387968
         ]
        },
        {
         "line": {
          "color": "rgb(20, 0, 145)",
          "width": 2
         },
         "mode": "lines",
         "type": "scatter3d",
         "x": [
          0,
          -0.241238
         ],
         "y": [
          0,
          1.985394
         ],
         "z": [
          0,
          -0.00365654
         ]
        },
        {
         "line": {
          "color": "rgb(20, 0, 145)",
          "width": 2
         },
         "mode": "lines",
         "type": "scatter3d",
         "x": [
          0,
          -0.23576
         ],
         "y": [
          0,
          1.986054
         ],
         "z": [
          0,
          -0.003094
         ]
        },
        {
         "line": {
          "color": "rgb(20, 0, 145)",
          "width": 2
         },
         "mode": "lines",
         "type": "scatter3d",
         "x": [
          0,
          -0.239658
         ],
         "y": [
          0,
          1.985578
         ],
         "z": [
          0,
          -0.00675102
         ]
        },
        {
         "line": {
          "color": "rgb(20, 0, 145)",
          "width": 2
         },
         "mode": "lines",
         "type": "scatter3d",
         "x": [
          0,
          -0.239658
         ],
         "y": [
          0,
          1.985578
         ],
         "z": [
          0,
          -0.00675102
         ]
        },
        {
         "line": {
          "color": "rgb(20, 0, 145)",
          "width": 2
         },
         "mode": "lines",
         "type": "scatter3d",
         "x": [
          0,
          -0.236348
         ],
         "y": [
          0,
          1.985978
         ],
         "z": [
          0,
          -0.0057792
         ]
        },
        {
         "line": {
          "color": "rgb(20, 0, 145)",
          "width": 2
         },
         "mode": "lines",
         "type": "scatter3d",
         "x": [
          0,
          -0.239894
         ],
         "y": [
          0,
          1.98554
         ],
         "z": [
          0,
          -0.00922258
         ]
        },
        {
         "line": {
          "color": "rgb(20, 0, 145)",
          "width": 2
         },
         "mode": "lines",
         "type": "scatter3d",
         "x": [
          0,
          -0.2337
         ],
         "y": [
          0,
          1.986294
         ],
         "z": [
          0,
          -0.00410312
         ]
        },
        {
         "line": {
          "color": "rgb(20, 0, 145)",
          "width": 2
         },
         "mode": "lines",
         "type": "scatter3d",
         "x": [
          0,
          -0.237162
         ],
         "y": [
          0,
          1.985872
         ],
         "z": [
          0,
          -0.00842036
         ]
        },
        {
         "line": {
          "color": "rgb(20, 0, 145)",
          "width": 2
         },
         "mode": "lines",
         "type": "scatter3d",
         "x": [
          0,
          -0.236944
         ],
         "y": [
          0,
          1.98591
         ],
         "z": [
          0,
          -0.00469172
         ]
        },
        {
         "line": {
          "color": "rgb(20, 0, 145)",
          "width": 2
         },
         "mode": "lines",
         "type": "scatter3d",
         "x": [
          0,
          -0.236944
         ],
         "y": [
          0,
          1.98591
         ],
         "z": [
          0,
          -0.00469172
         ]
        },
        {
         "line": {
          "color": "rgb(20, 0, 145)",
          "width": 2
         },
         "mode": "lines",
         "type": "scatter3d",
         "x": [
          0,
          -0.236234
         ],
         "y": [
          0,
          1.985946
         ],
         "z": [
          0,
          -0.01459638
         ]
        },
        {
         "line": {
          "color": "rgb(20, 0, 145)",
          "width": 2
         },
         "mode": "lines",
         "type": "scatter3d",
         "x": [
          0,
          -0.232248
         ],
         "y": [
          0,
          1.986454
         ],
         "z": [
          0,
          -0.00796142
         ]
        },
        {
         "line": {
          "color": "rgb(20, 0, 145)",
          "width": 2
         },
         "mode": "lines",
         "type": "scatter3d",
         "x": [
          0,
          -0.231858
         ],
         "y": [
          0,
          1.986484
         ],
         "z": [
          0,
          -0.01100466
         ]
        },
        {
         "line": {
          "color": "rgb(20, 0, 145)",
          "width": 2
         },
         "mode": "lines",
         "type": "scatter3d",
         "x": [
          0,
          -0.231858
         ],
         "y": [
          0,
          1.986484
         ],
         "z": [
          0,
          -0.01100466
         ]
        },
        {
         "line": {
          "color": "rgb(20, 0, 145)",
          "width": 2
         },
         "mode": "lines",
         "type": "scatter3d",
         "x": [
          0,
          -0.23951
         ],
         "y": [
          0,
          1.985588
         ],
         "z": [
          0,
          -0.008758
         ]
        },
        {
         "line": {
          "color": "rgb(20, 0, 145)",
          "width": 2
         },
         "mode": "lines",
         "type": "scatter3d",
         "x": [
          0,
          -0.23147
         ],
         "y": [
          0,
          1.986528
         ],
         "z": [
          0,
          -0.01120332
         ]
        },
        {
         "line": {
          "color": "rgb(20, 0, 145)",
          "width": 2
         },
         "mode": "lines",
         "type": "scatter3d",
         "x": [
          0,
          -0.23147
         ],
         "y": [
          0,
          1.986528
         ],
         "z": [
          0,
          -0.01120332
         ]
        },
        {
         "line": {
          "color": "rgb(20, 0, 145)",
          "width": 2
         },
         "mode": "lines",
         "type": "scatter3d",
         "x": [
          0,
          -0.246336
         ],
         "y": [
          0,
          1.984732
         ],
         "z": [
          0,
          -0.01270618
         ]
        },
        {
         "line": {
          "color": "rgb(20, 0, 145)",
          "width": 2
         },
         "mode": "lines",
         "type": "scatter3d",
         "x": [
          0,
          -0.246336
         ],
         "y": [
          0,
          1.984732
         ],
         "z": [
          0,
          -0.01270618
         ]
        },
        {
         "line": {
          "color": "rgb(20, 0, 145)",
          "width": 2
         },
         "mode": "lines",
         "type": "scatter3d",
         "x": [
          0,
          -0.246574
         ],
         "y": [
          0,
          1.984724
         ],
         "z": [
          0,
          -0.00865494
         ]
        },
        {
         "line": {
          "color": "rgb(20, 0, 145)",
          "width": 2
         },
         "mode": "lines",
         "type": "scatter3d",
         "x": [
          0,
          -0.250356
         ],
         "y": [
          0,
          1.984254
         ],
         "z": [
          0,
          -0.00772602
         ]
        },
        {
         "line": {
          "color": "rgb(20, 0, 145)",
          "width": 2
         },
         "mode": "lines",
         "type": "scatter3d",
         "x": [
          0,
          -0.244588
         ],
         "y": [
          0,
          1.984982
         ],
         "z": [
          0,
          -0.00498988
         ]
        },
        {
         "line": {
          "color": "rgb(20, 0, 145)",
          "width": 2
         },
         "mode": "lines",
         "type": "scatter3d",
         "x": [
          0,
          -0.248894
         ],
         "y": [
          0,
          1.984412
         ],
         "z": [
          0,
          -0.01283776
         ]
        },
        {
         "line": {
          "color": "rgb(20, 0, 145)",
          "width": 2
         },
         "mode": "lines",
         "type": "scatter3d",
         "x": [
          0,
          -0.244958
         ],
         "y": [
          0,
          1.984932
         ],
         "z": [
          0,
          -0.00610254
         ]
        },
        {
         "line": {
          "color": "rgb(20, 0, 145)",
          "width": 2
         },
         "mode": "lines",
         "type": "scatter3d",
         "x": [
          0,
          -0.244958
         ],
         "y": [
          0,
          1.984932
         ],
         "z": [
          0,
          -0.00610254
         ]
        },
        {
         "line": {
          "color": "rgb(20, 0, 145)",
          "width": 2
         },
         "mode": "lines",
         "type": "scatter3d",
         "x": [
          0,
          -0.245622
         ],
         "y": [
          0,
          1.984814
         ],
         "z": [
          0,
          -0.0136319
         ]
        },
        {
         "line": {
          "color": "rgb(20, 0, 145)",
          "width": 2
         },
         "mode": "lines",
         "type": "scatter3d",
         "x": [
          0,
          -0.244788
         ],
         "y": [
          0,
          1.984948
         ],
         "z": [
          0,
          -0.0079885
         ]
        },
        {
         "line": {
          "color": "rgb(20, 0, 145)",
          "width": 2
         },
         "mode": "lines",
         "type": "scatter3d",
         "x": [
          0,
          -0.244788
         ],
         "y": [
          0,
          1.984948
         ],
         "z": [
          0,
          -0.0079885
         ]
        },
        {
         "line": {
          "color": "rgb(20, 0, 145)",
          "width": 2
         },
         "mode": "lines",
         "type": "scatter3d",
         "x": [
          0,
          -0.241844
         ],
         "y": [
          0,
          1.985294
         ],
         "z": [
          0,
          -0.01086104
         ]
        },
        {
         "line": {
          "color": "rgb(20, 0, 145)",
          "width": 2
         },
         "mode": "lines",
         "type": "scatter3d",
         "x": [
          0,
          -0.237158
         ],
         "y": [
          0,
          1.985864
         ],
         "z": [
          0,
          -0.00983
         ]
        },
        {
         "line": {
          "color": "rgb(20, 0, 145)",
          "width": 2
         },
         "mode": "lines",
         "type": "scatter3d",
         "x": [
          0,
          -0.24436
         ],
         "y": [
          0,
          1.984934
         ],
         "z": [
          0,
          -0.01799056
         ]
        },
        {
         "line": {
          "color": "rgb(20, 0, 145)",
          "width": 2
         },
         "mode": "lines",
         "type": "scatter3d",
         "x": [
          0,
          -0.235042
         ],
         "y": [
          0,
          1.986104
         ],
         "z": [
          0,
          -0.01220202
         ]
        },
        {
         "line": {
          "color": "rgb(20, 0, 145)",
          "width": 2
         },
         "mode": "lines",
         "type": "scatter3d",
         "x": [
          0,
          -0.236846
         ],
         "y": [
          0,
          1.98587
         ],
         "z": [
          0,
          -0.01502688
         ]
        },
        {
         "line": {
          "color": "rgb(20, 0, 145)",
          "width": 2
         },
         "mode": "lines",
         "type": "scatter3d",
         "x": [
          0,
          -0.23886
         ],
         "y": [
          0,
          1.985632
         ],
         "z": [
          0,
          -0.01444234
         ]
        },
        {
         "line": {
          "color": "rgb(20, 0, 145)",
          "width": 2
         },
         "mode": "lines",
         "type": "scatter3d",
         "x": [
          0,
          -0.239508
         ],
         "y": [
          0,
          1.98558
         ],
         "z": [
          0,
          -0.01056196
         ]
        },
        {
         "line": {
          "color": "rgb(20, 0, 145)",
          "width": 2
         },
         "mode": "lines",
         "type": "scatter3d",
         "x": [
          0,
          -0.243926
         ],
         "y": [
          0,
          1.985042
         ],
         "z": [
          0,
          -0.01040036
         ]
        },
        {
         "line": {
          "color": "rgb(20, 0, 145)",
          "width": 2
         },
         "mode": "lines",
         "type": "scatter3d",
         "x": [
          0,
          -0.245176
         ],
         "y": [
          0,
          1.984872
         ],
         "z": [
          0,
          -0.01319808
         ]
        },
        {
         "line": {
          "color": "rgb(20, 0, 145)",
          "width": 2
         },
         "mode": "lines",
         "type": "scatter3d",
         "x": [
          0,
          -0.242724
         ],
         "y": [
          0,
          1.98519
         ],
         "z": [
          0,
          -0.01024284
         ]
        },
        {
         "line": {
          "color": "rgb(20, 0, 145)",
          "width": 2
         },
         "mode": "lines",
         "type": "scatter3d",
         "x": [
          0,
          -0.23999
         ],
         "y": [
          0,
          1.985528
         ],
         "z": [
          0,
          -0.0092769
         ]
        },
        {
         "line": {
          "color": "rgb(20, 0, 145)",
          "width": 2
         },
         "mode": "lines",
         "type": "scatter3d",
         "x": [
          0,
          -0.235318
         ],
         "y": [
          0,
          1.986088
         ],
         "z": [
          0,
          -0.00882498
         ]
        },
        {
         "line": {
          "color": "rgb(20, 0, 145)",
          "width": 2
         },
         "mode": "lines",
         "type": "scatter3d",
         "x": [
          0,
          -0.237246
         ],
         "y": [
          0,
          1.985844
         ],
         "z": [
          0,
          -0.01169742
         ]
        },
        {
         "line": {
          "color": "rgb(20, 0, 145)",
          "width": 2
         },
         "mode": "lines",
         "type": "scatter3d",
         "x": [
          0,
          -0.236632
         ],
         "y": [
          0,
          1.98592
         ],
         "z": [
          0,
          -0.0110984
         ]
        },
        {
         "line": {
          "color": "rgb(20, 0, 145)",
          "width": 2
         },
         "mode": "lines",
         "type": "scatter3d",
         "x": [
          0,
          -0.236632
         ],
         "y": [
          0,
          1.98592
         ],
         "z": [
          0,
          -0.0110984
         ]
        },
        {
         "line": {
          "color": "rgb(20, 0, 145)",
          "width": 2
         },
         "mode": "lines",
         "type": "scatter3d",
         "x": [
          0,
          -0.235092
         ],
         "y": [
          0,
          1.986094
         ],
         "z": [
          0,
          -0.01288222
         ]
        },
        {
         "line": {
          "color": "rgb(20, 0, 145)",
          "width": 2
         },
         "mode": "lines",
         "type": "scatter3d",
         "x": [
          0,
          -0.234406
         ],
         "y": [
          0,
          1.986152
         ],
         "z": [
          0,
          -0.01605492
         ]
        },
        {
         "line": {
          "color": "rgb(20, 0, 145)",
          "width": 2
         },
         "mode": "lines",
         "type": "scatter3d",
         "x": [
          0,
          -0.227762
         ],
         "y": [
          0,
          1.986966
         ],
         "z": [
          0,
          -0.00965296
         ]
        },
        {
         "line": {
          "color": "rgb(20, 0, 145)",
          "width": 2
         },
         "mode": "lines",
         "type": "scatter3d",
         "x": [
          0,
          -0.23625
         ],
         "y": [
          0,
          1.98594
         ],
         "z": [
          0,
          -0.0151757
         ]
        },
        {
         "line": {
          "color": "rgb(20, 0, 145)",
          "width": 2
         },
         "mode": "lines",
         "type": "scatter3d",
         "x": [
          0,
          -0.23625
         ],
         "y": [
          0,
          1.98594
         ],
         "z": [
          0,
          -0.0151757
         ]
        },
        {
         "line": {
          "color": "rgb(20, 0, 145)",
          "width": 2
         },
         "mode": "lines",
         "type": "scatter3d",
         "x": [
          0,
          -0.226498
         ],
         "y": [
          0,
          1.98708
         ],
         "z": [
          0,
          -0.01452828
         ]
        },
        {
         "line": {
          "color": "rgb(20, 0, 145)",
          "width": 2
         },
         "mode": "lines",
         "type": "scatter3d",
         "x": [
          0,
          -0.227416
         ],
         "y": [
          0,
          1.986974
         ],
         "z": [
          0,
          -0.01460536
         ]
        },
        {
         "line": {
          "color": "rgb(20, 0, 145)",
          "width": 2
         },
         "mode": "lines",
         "type": "scatter3d",
         "x": [
          0,
          -0.224116
         ],
         "y": [
          0,
          1.987362
         ],
         "z": [
          0,
          -0.01272686
         ]
        },
        {
         "line": {
          "color": "rgb(20, 0, 145)",
          "width": 2
         },
         "mode": "lines",
         "type": "scatter3d",
         "x": [
          0,
          -0.227174
         ],
         "y": [
          0,
          1.986996
         ],
         "z": [
          0,
          -0.01534028
         ]
        },
        {
         "line": {
          "color": "rgb(20, 0, 145)",
          "width": 2
         },
         "mode": "lines",
         "type": "scatter3d",
         "x": [
          0,
          -0.222582
         ],
         "y": [
          0,
          1.987512
         ],
         "z": [
          0,
          -0.01589984
         ]
        },
        {
         "line": {
          "color": "rgb(20, 0, 145)",
          "width": 2
         },
         "mode": "lines",
         "type": "scatter3d",
         "x": [
          0,
          -0.222582
         ],
         "y": [
          0,
          1.987512
         ],
         "z": [
          0,
          -0.01589984
         ]
        },
        {
         "line": {
          "color": "rgb(20, 0, 145)",
          "width": 2
         },
         "mode": "lines",
         "type": "scatter3d",
         "x": [
          0,
          -0.22032
         ],
         "y": [
          0,
          1.987818
         ],
         "z": [
          0,
          -0.0064664
         ]
        },
        {
         "line": {
          "color": "rgb(20, 0, 145)",
          "width": 2
         },
         "mode": "lines",
         "type": "scatter3d",
         "x": [
          0,
          -0.222964
         ],
         "y": [
          0,
          1.98746
         ],
         "z": [
          0,
          -0.01696312
         ]
        },
        {
         "line": {
          "color": "rgb(20, 0, 145)",
          "width": 2
         },
         "mode": "lines",
         "type": "scatter3d",
         "x": [
          0,
          -0.218056
         ],
         "y": [
          0,
          1.988034
         ],
         "z": [
          0,
          -0.01307648
         ]
        },
        {
         "line": {
          "color": "rgb(20, 0, 145)",
          "width": 2
         },
         "mode": "lines",
         "type": "scatter3d",
         "x": [
          0,
          -0.218056
         ],
         "y": [
          0,
          1.988034
         ],
         "z": [
          0,
          -0.01307648
         ]
        },
        {
         "line": {
          "color": "rgb(20, 0, 145)",
          "width": 2
         },
         "mode": "lines",
         "type": "scatter3d",
         "x": [
          0,
          -0.220864
         ],
         "y": [
          0,
          1.987736
         ],
         "z": [
          0,
          -0.01099078
         ]
        },
        {
         "line": {
          "color": "rgb(20, 0, 145)",
          "width": 2
         },
         "mode": "lines",
         "type": "scatter3d",
         "x": [
          0,
          -0.21738
         ],
         "y": [
          0,
          1.988118
         ],
         "z": [
          0,
          -0.01140516
         ]
        },
        {
         "line": {
          "color": "rgb(20, 0, 145)",
          "width": 2
         },
         "mode": "lines",
         "type": "scatter3d",
         "x": [
          0,
          -0.2193
         ],
         "y": [
          0,
          1.987906
         ],
         "z": [
          0,
          -0.01186102
         ]
        },
        {
         "line": {
          "color": "rgb(20, 0, 145)",
          "width": 2
         },
         "mode": "lines",
         "type": "scatter3d",
         "x": [
          0,
          -0.219798
         ],
         "y": [
          0,
          1.987824
         ],
         "z": [
          0,
          -0.01566092
         ]
        },
        {
         "line": {
          "color": "rgb(20, 0, 145)",
          "width": 2
         },
         "mode": "lines",
         "type": "scatter3d",
         "x": [
          0,
          -0.219798
         ],
         "y": [
          0,
          1.987824
         ],
         "z": [
          0,
          -0.01566092
         ]
        },
        {
         "line": {
          "color": "rgb(20, 0, 145)",
          "width": 2
         },
         "mode": "lines",
         "type": "scatter3d",
         "x": [
          0,
          -0.223474
         ],
         "y": [
          0,
          1.987436
         ],
         "z": [
          0,
          -0.01268284
         ]
        },
        {
         "line": {
          "color": "rgb(20, 0, 145)",
          "width": 2
         },
         "mode": "lines",
         "type": "scatter3d",
         "x": [
          0,
          -0.222238
         ],
         "y": [
          0,
          1.987568
         ],
         "z": [
          0,
          -0.01362512
         ]
        },
        {
         "line": {
          "color": "rgb(20, 0, 145)",
          "width": 2
         },
         "mode": "lines",
         "type": "scatter3d",
         "x": [
          0,
          -0.2242
         ],
         "y": [
          0,
          1.987344
         ],
         "z": [
          0,
          -0.01419772
         ]
        },
        {
         "line": {
          "color": "rgb(20, 0, 145)",
          "width": 2
         },
         "mode": "lines",
         "type": "scatter3d",
         "x": [
          0,
          -0.224784
         ],
         "y": [
          0,
          1.987272
         ],
         "z": [
          0,
          -0.01490072
         ]
        },
        {
         "line": {
          "color": "rgb(20, 0, 145)",
          "width": 2
         },
         "mode": "lines",
         "type": "scatter3d",
         "x": [
          0,
          -0.224784
         ],
         "y": [
          0,
          1.987272
         ],
         "z": [
          0,
          -0.01490072
         ]
        },
        {
         "line": {
          "color": "rgb(20, 0, 145)",
          "width": 2
         },
         "mode": "lines",
         "type": "scatter3d",
         "x": [
          0,
          -0.231992
         ],
         "y": [
          0,
          1.986448
         ],
         "z": [
          0,
          -0.01435774
         ]
        },
        {
         "line": {
          "color": "rgb(20, 0, 145)",
          "width": 2
         },
         "mode": "lines",
         "type": "scatter3d",
         "x": [
          0,
          -0.231414
         ],
         "y": [
          0,
          1.986532
         ],
         "z": [
          0,
          -0.0116761
         ]
        },
        {
         "line": {
          "color": "rgb(20, 0, 145)",
          "width": 2
         },
         "mode": "lines",
         "type": "scatter3d",
         "x": [
          0,
          -0.230378
         ],
         "y": [
          0,
          1.98665
         ],
         "z": [
          0,
          -0.01226992
         ]
        },
        {
         "line": {
          "color": "rgb(20, 0, 145)",
          "width": 2
         },
         "mode": "lines",
         "type": "scatter3d",
         "x": [
          0,
          -0.23293
         ],
         "y": [
          0,
          1.98635
         ],
         "z": [
          0,
          -0.01243848
         ]
        },
        {
         "line": {
          "color": "rgb(20, 0, 145)",
          "width": 2
         },
         "mode": "lines",
         "type": "scatter3d",
         "x": [
          0,
          -0.23293
         ],
         "y": [
          0,
          1.98635
         ],
         "z": [
          0,
          -0.01243848
         ]
        },
        {
         "line": {
          "color": "rgb(20, 0, 145)",
          "width": 2
         },
         "mode": "lines",
         "type": "scatter3d",
         "x": [
          0,
          -0.233152
         ],
         "y": [
          0,
          1.986292
         ],
         "z": [
          0,
          -0.0167821
         ]
        },
        {
         "line": {
          "color": "rgb(20, 0, 145)",
          "width": 2
         },
         "mode": "lines",
         "type": "scatter3d",
         "x": [
          0,
          -0.234772
         ],
         "y": [
          0,
          1.986128
         ],
         "z": [
          0,
          -0.01332542
         ]
        },
        {
         "line": {
          "color": "rgb(20, 0, 145)",
          "width": 2
         },
         "mode": "lines",
         "type": "scatter3d",
         "x": [
          0,
          -0.24521
         ],
         "y": [
          0,
          1.984908
         ],
         "z": [
          0,
          -0.003596
         ]
        },
        {
         "line": {
          "color": "rgb(20, 0, 145)",
          "width": 2
         },
         "mode": "lines",
         "type": "scatter3d",
         "x": [
          0,
          -0.242762
         ],
         "y": [
          0,
          1.98521
         ],
         "z": [
          0,
          -0.00210834
         ]
        },
        {
         "line": {
          "color": "rgb(20, 0, 145)",
          "width": 2
         },
         "mode": "lines",
         "type": "scatter3d",
         "x": [
          0,
          -0.242762
         ],
         "y": [
          0,
          1.98521
         ],
         "z": [
          0,
          -0.00210834
         ]
        },
        {
         "line": {
          "color": "rgb(20, 0, 145)",
          "width": 2
         },
         "mode": "lines",
         "type": "scatter3d",
         "x": [
          0,
          -0.244384
         ],
         "y": [
          0,
          1.985012
         ],
         "z": [
          0,
          -0.001327786
         ]
        },
        {
         "line": {
          "color": "rgb(20, 0, 145)",
          "width": 2
         },
         "mode": "lines",
         "type": "scatter3d",
         "x": [
          0,
          -0.238632
         ],
         "y": [
          0,
          1.985712
         ],
         "z": [
          0,
          8.21536e-05
         ]
        },
        {
         "line": {
          "color": "rgb(20, 0, 145)",
          "width": 2
         },
         "mode": "lines",
         "type": "scatter3d",
         "x": [
          0,
          -0.24129
         ],
         "y": [
          0,
          1.98539
         ],
         "z": [
          0,
          -0.00242934
         ]
        },
        {
         "line": {
          "color": "rgb(20, 0, 145)",
          "width": 2
         },
         "mode": "lines",
         "type": "scatter3d",
         "x": [
          0,
          -0.241288
         ],
         "y": [
          0,
          1.985388
         ],
         "z": [
          0,
          -0.00341504
         ]
        },
        {
         "line": {
          "color": "rgb(20, 0, 145)",
          "width": 2
         },
         "mode": "lines",
         "type": "scatter3d",
         "x": [
          0,
          -0.241748
         ],
         "y": [
          0,
          1.98533
         ],
         "z": [
          0,
          -0.00454994
         ]
        },
        {
         "line": {
          "color": "rgb(20, 0, 145)",
          "width": 2
         },
         "mode": "lines",
         "type": "scatter3d",
         "x": [
          0,
          -0.241748
         ],
         "y": [
          0,
          1.98533
         ],
         "z": [
          0,
          -0.00454994
         ]
        },
        {
         "line": {
          "color": "rgb(20, 0, 145)",
          "width": 2
         },
         "mode": "lines",
         "type": "scatter3d",
         "x": [
          0,
          -0.241098
         ],
         "y": [
          0,
          1.985412
         ],
         "z": [
          0,
          -0.00293624
         ]
        },
        {
         "line": {
          "color": "rgb(20, 0, 145)",
          "width": 2
         },
         "mode": "lines",
         "type": "scatter3d",
         "x": [
          0,
          -0.24125
         ],
         "y": [
          0,
          1.985392
         ],
         "z": [
          0,
          -0.00430128
         ]
        },
        {
         "line": {
          "color": "rgb(20, 0, 145)",
          "width": 2
         },
         "mode": "lines",
         "type": "scatter3d",
         "x": [
          0,
          -0.235886
         ],
         "y": [
          0,
          1.986028
         ],
         "z": [
          0,
          -0.00709226
         ]
        },
        {
         "line": {
          "color": "rgb(20, 0, 145)",
          "width": 2
         },
         "mode": "lines",
         "type": "scatter3d",
         "x": [
          0,
          -0.238378
         ],
         "y": [
          0,
          1.985712
         ],
         "z": [
          0,
          -0.01122452
         ]
        },
        {
         "line": {
          "color": "rgb(20, 0, 145)",
          "width": 2
         },
         "mode": "lines",
         "type": "scatter3d",
         "x": [
          0,
          -0.238378
         ],
         "y": [
          0,
          1.985712
         ],
         "z": [
          0,
          -0.01122452
         ]
        },
        {
         "line": {
          "color": "rgb(20, 0, 145)",
          "width": 2
         },
         "mode": "lines",
         "type": "scatter3d",
         "x": [
          0,
          -0.236116
         ],
         "y": [
          0,
          1.985976
         ],
         "z": [
          0,
          -0.01227226
         ]
        },
        {
         "line": {
          "color": "rgb(20, 0, 145)",
          "width": 2
         },
         "mode": "lines",
         "type": "scatter3d",
         "x": [
          0,
          -0.240476
         ],
         "y": [
          0,
          1.985426
         ],
         "z": [
          0,
          -0.01606386
         ]
        },
        {
         "line": {
          "color": "rgb(20, 0, 145)",
          "width": 2
         },
         "mode": "lines",
         "type": "scatter3d",
         "x": [
          0,
          -0.24116
         ],
         "y": [
          0,
          1.985358
         ],
         "z": [
          0,
          -0.01407356
         ]
        },
        {
         "line": {
          "color": "rgb(20, 0, 145)",
          "width": 2
         },
         "mode": "lines",
         "type": "scatter3d",
         "x": [
          0,
          -0.24116
         ],
         "y": [
          0,
          1.985358
         ],
         "z": [
          0,
          -0.01407356
         ]
        },
        {
         "line": {
          "color": "rgb(20, 0, 145)",
          "width": 2
         },
         "mode": "lines",
         "type": "scatter3d",
         "x": [
          0,
          -0.239636
         ],
         "y": [
          0,
          1.98555
         ],
         "z": [
          0,
          -0.0130117
         ]
        },
        {
         "line": {
          "color": "rgb(20, 0, 145)",
          "width": 2
         },
         "mode": "lines",
         "type": "scatter3d",
         "x": [
          0,
          -0.243388
         ],
         "y": [
          0,
          1.985046
         ],
         "z": [
          0,
          -0.01886128
         ]
        },
        {
         "line": {
          "color": "rgb(20, 0, 145)",
          "width": 2
         },
         "mode": "lines",
         "type": "scatter3d",
         "x": [
          0,
          -0.243854
         ],
         "y": [
          0,
          1.985008
         ],
         "z": [
          0,
          -0.01675882
         ]
        },
        {
         "line": {
          "color": "rgb(20, 0, 145)",
          "width": 2
         },
         "mode": "lines",
         "type": "scatter3d",
         "x": [
          0,
          -0.239088
         ],
         "y": [
          0,
          1.98559
         ],
         "z": [
          0,
          -0.01637034
         ]
        },
        {
         "line": {
          "color": "rgb(20, 0, 145)",
          "width": 2
         },
         "mode": "lines",
         "type": "scatter3d",
         "x": [
          0,
          0.0454582
         ],
         "y": [
          0,
          1.999372
         ],
         "z": [
          0,
          -0.0211772
         ]
        },
        {
         "line": {
          "color": "rgb(20, 0, 145)",
          "width": 2
         },
         "mode": "lines",
         "type": "scatter3d",
         "x": [
          0,
          0.0454582
         ],
         "y": [
          0,
          1.999372
         ],
         "z": [
          0,
          -0.0211772
         ]
        },
        {
         "line": {
          "color": "rgb(20, 0, 145)",
          "width": 2
         },
         "mode": "lines",
         "type": "scatter3d",
         "x": [
          0,
          0.049713
         ],
         "y": [
          0,
          1.99925
         ],
         "z": [
          0,
          -0.022927
         ]
        },
        {
         "line": {
          "color": "rgb(20, 0, 145)",
          "width": 2
         },
         "mode": "lines",
         "type": "scatter3d",
         "x": [
          0,
          0.053093
         ],
         "y": [
          0,
          1.999168
         ],
         "z": [
          0,
          -0.0225768
         ]
        },
        {
         "line": {
          "color": "rgb(20, 0, 145)",
          "width": 2
         },
         "mode": "lines",
         "type": "scatter3d",
         "x": [
          0,
          0.0513288
         ],
         "y": [
          0,
          1.999226
         ],
         "z": [
          0,
          -0.0214892
         ]
        },
        {
         "line": {
          "color": "rgb(20, 0, 145)",
          "width": 2
         },
         "mode": "lines",
         "type": "scatter3d",
         "x": [
          0,
          0.0528192
         ],
         "y": [
          0,
          1.999198
         ],
         "z": [
          0,
          -0.020491
         ]
        },
        {
         "line": {
          "color": "rgb(20, 0, 145)",
          "width": 2
         },
         "mode": "lines",
         "type": "scatter3d",
         "x": [
          0,
          0.0528192
         ],
         "y": [
          0,
          1.999198
         ],
         "z": [
          0,
          -0.020491
         ]
        },
        {
         "line": {
          "color": "rgb(20, 0, 145)",
          "width": 2
         },
         "mode": "lines",
         "type": "scatter3d",
         "x": [
          0,
          0.0578858
         ],
         "y": [
          0,
          1.999066
         ],
         "z": [
          0,
          -0.01964112
         ]
        },
        {
         "line": {
          "color": "rgb(20, 0, 145)",
          "width": 2
         },
         "mode": "lines",
         "type": "scatter3d",
         "x": [
          0,
          0.0541838
         ],
         "y": [
          0,
          1.999184
         ],
         "z": [
          0,
          -0.01802452
         ]
        },
        {
         "line": {
          "color": "rgb(20, 0, 145)",
          "width": 2
         },
         "mode": "lines",
         "type": "scatter3d",
         "x": [
          0,
          0.0615182
         ],
         "y": [
          0,
          1.998962
         ],
         "z": [
          0,
          -0.01921142
         ]
        },
        {
         "line": {
          "color": "rgb(20, 0, 145)",
          "width": 2
         },
         "mode": "lines",
         "type": "scatter3d",
         "x": [
          0,
          0.0563656
         ],
         "y": [
          0,
          1.999118
         ],
         "z": [
          0,
          -0.01874336
         ]
        },
        {
         "line": {
          "color": "rgb(20, 0, 145)",
          "width": 2
         },
         "mode": "lines",
         "type": "scatter3d",
         "x": [
          0,
          0.0563656
         ],
         "y": [
          0,
          1.999118
         ],
         "z": [
          0,
          -0.01874336
         ]
        },
        {
         "line": {
          "color": "rgb(20, 0, 145)",
          "width": 2
         },
         "mode": "lines",
         "type": "scatter3d",
         "x": [
          0,
          0.0538776
         ],
         "y": [
          0,
          1.999138
         ],
         "z": [
          0,
          -0.0234026
         ]
        },
        {
         "line": {
          "color": "rgb(20, 0, 145)",
          "width": 2
         },
         "mode": "lines",
         "type": "scatter3d",
         "x": [
          0,
          0.0607654
         ],
         "y": [
          0,
          1.998984
         ],
         "z": [
          0,
          -0.01920274
         ]
        },
        {
         "line": {
          "color": "rgb(20, 0, 145)",
          "width": 2
         },
         "mode": "lines",
         "type": "scatter3d",
         "x": [
          0,
          0.055266
         ],
         "y": [
          0,
          1.999148
         ],
         "z": [
          0,
          -0.0188173
         ]
        },
        {
         "line": {
          "color": "rgb(20, 0, 145)",
          "width": 2
         },
         "mode": "lines",
         "type": "scatter3d",
         "x": [
          0,
          0.055266
         ],
         "y": [
          0,
          1.999148
         ],
         "z": [
          0,
          -0.0188173
         ]
        },
        {
         "line": {
          "color": "rgb(20, 0, 145)",
          "width": 2
         },
         "mode": "lines",
         "type": "scatter3d",
         "x": [
          0,
          0.0627362
         ],
         "y": [
          0,
          1.998934
         ],
         "z": [
          0,
          -0.0181638
         ]
        },
        {
         "line": {
          "color": "rgb(20, 0, 145)",
          "width": 2
         },
         "mode": "lines",
         "type": "scatter3d",
         "x": [
          0,
          0.0627362
         ],
         "y": [
          0,
          1.998934
         ],
         "z": [
          0,
          -0.0181638
         ]
        },
        {
         "line": {
          "color": "rgb(20, 0, 145)",
          "width": 2
         },
         "mode": "lines",
         "type": "scatter3d",
         "x": [
          0,
          0.0621436
         ],
         "y": [
          0,
          1.998954
         ],
         "z": [
          0,
          -0.01780946
         ]
        },
        {
         "line": {
          "color": "rgb(20, 0, 145)",
          "width": 2
         },
         "mode": "lines",
         "type": "scatter3d",
         "x": [
          0,
          0.0532068
         ],
         "y": [
          0,
          1.99922
         ],
         "z": [
          0,
          -0.01698962
         ]
        },
        {
         "line": {
          "color": "rgb(20, 0, 145)",
          "width": 2
         },
         "mode": "lines",
         "type": "scatter3d",
         "x": [
          0,
          0.059445
         ],
         "y": [
          0,
          1.999016
         ],
         "z": [
          0,
          -0.0201294
         ]
        },
        {
         "line": {
          "color": "rgb(20, 0, 145)",
          "width": 2
         },
         "mode": "lines",
         "type": "scatter3d",
         "x": [
          0,
          0.059445
         ],
         "y": [
          0,
          1.999016
         ],
         "z": [
          0,
          -0.0201294
         ]
        },
        {
         "line": {
          "color": "rgb(20, 0, 145)",
          "width": 2
         },
         "mode": "lines",
         "type": "scatter3d",
         "x": [
          0,
          0.0569762
         ],
         "y": [
          0,
          1.999036
         ],
         "z": [
          0,
          -0.02473
         ]
        },
        {
         "line": {
          "color": "rgb(20, 0, 145)",
          "width": 2
         },
         "mode": "lines",
         "type": "scatter3d",
         "x": [
          0,
          0.058089
         ],
         "y": [
          0,
          1.999022
         ],
         "z": [
          0,
          -0.0230866
         ]
        },
        {
         "line": {
          "color": "rgb(20, 0, 145)",
          "width": 2
         },
         "mode": "lines",
         "type": "scatter3d",
         "x": [
          0,
          0.0593142
         ],
         "y": [
          0,
          1.998978
         ],
         "z": [
          0,
          -0.0238272
         ]
        },
        {
         "line": {
          "color": "rgb(20, 0, 145)",
          "width": 2
         },
         "mode": "lines",
         "type": "scatter3d",
         "x": [
          0,
          0.0601288
         ],
         "y": [
          0,
          1.99898
         ],
         "z": [
          0,
          -0.0214384
         ]
        },
        {
         "line": {
          "color": "rgb(20, 0, 145)",
          "width": 2
         },
         "mode": "lines",
         "type": "scatter3d",
         "x": [
          0,
          0.0601288
         ],
         "y": [
          0,
          1.99898
         ],
         "z": [
          0,
          -0.0214384
         ]
        },
        {
         "line": {
          "color": "rgb(20, 0, 145)",
          "width": 2
         },
         "mode": "lines",
         "type": "scatter3d",
         "x": [
          0,
          0.061467
         ],
         "y": [
          0,
          1.998914
         ],
         "z": [
          0,
          -0.0237164
         ]
        },
        {
         "line": {
          "color": "rgb(20, 0, 145)",
          "width": 2
         },
         "mode": "lines",
         "type": "scatter3d",
         "x": [
          0,
          0.0545352
         ],
         "y": [
          0,
          1.999124
         ],
         "z": [
          0,
          -0.0229246
         ]
        },
        {
         "line": {
          "color": "rgb(20, 0, 145)",
          "width": 2
         },
         "mode": "lines",
         "type": "scatter3d",
         "x": [
          0,
          0.0565692
         ],
         "y": [
          0,
          1.99909
         ],
         "z": [
          0,
          -0.0210022
         ]
        },
        {
         "line": {
          "color": "rgb(20, 0, 145)",
          "width": 2
         },
         "mode": "lines",
         "type": "scatter3d",
         "x": [
          0,
          0.0527848
         ],
         "y": [
          0,
          1.99912
         ],
         "z": [
          0,
          -0.0270508
         ]
        },
        {
         "line": {
          "color": "rgb(20, 0, 145)",
          "width": 2
         },
         "mode": "lines",
         "type": "scatter3d",
         "x": [
          0,
          0.0527848
         ],
         "y": [
          0,
          1.99912
         ],
         "z": [
          0,
          -0.0270508
         ]
        },
        {
         "line": {
          "color": "rgb(20, 0, 145)",
          "width": 2
         },
         "mode": "lines",
         "type": "scatter3d",
         "x": [
          0,
          0.0644504
         ],
         "y": [
          0,
          1.998808
         ],
         "z": [
          0,
          -0.0247844
         ]
        },
        {
         "line": {
          "color": "rgb(20, 0, 145)",
          "width": 2
         },
         "mode": "lines",
         "type": "scatter3d",
         "x": [
          0,
          0.0587458
         ],
         "y": [
          0,
          1.99904
         ],
         "z": [
          0,
          -0.01961096
         ]
        },
        {
         "line": {
          "color": "rgb(20, 0, 145)",
          "width": 2
         },
         "mode": "lines",
         "type": "scatter3d",
         "x": [
          0,
          0.0673098
         ],
         "y": [
          0,
          1.998738
         ],
         "z": [
          0,
          -0.0227146
         ]
        },
        {
         "line": {
          "color": "rgb(20, 0, 145)",
          "width": 2
         },
         "mode": "lines",
         "type": "scatter3d",
         "x": [
          0,
          0.06236
         ],
         "y": [
          0,
          1.998934
         ],
         "z": [
          0,
          -0.01924436
         ]
        },
        {
         "line": {
          "color": "rgb(20, 0, 145)",
          "width": 2
         },
         "mode": "lines",
         "type": "scatter3d",
         "x": [
          0,
          0.06236
         ],
         "y": [
          0,
          1.998934
         ],
         "z": [
          0,
          -0.01924436
         ]
        },
        {
         "line": {
          "color": "rgb(20, 0, 145)",
          "width": 2
         },
         "mode": "lines",
         "type": "scatter3d",
         "x": [
          0,
          0.0587706
         ],
         "y": [
          0,
          1.999014
         ],
         "z": [
          0,
          -0.0221804
         ]
        },
        {
         "line": {
          "color": "rgb(20, 0, 145)",
          "width": 2
         },
         "mode": "lines",
         "type": "scatter3d",
         "x": [
          0,
          0.0591794
         ],
         "y": [
          0,
          1.999022
         ],
         "z": [
          0,
          -0.02029
         ]
        },
        {
         "line": {
          "color": "rgb(20, 0, 145)",
          "width": 2
         },
         "mode": "lines",
         "type": "scatter3d",
         "x": [
          0,
          0.0565862
         ],
         "y": [
          0,
          1.999102
         ],
         "z": [
          0,
          -0.0197233
         ]
        },
        {
         "line": {
          "color": "rgb(20, 0, 145)",
          "width": 2
         },
         "mode": "lines",
         "type": "scatter3d",
         "x": [
          0,
          0.0579806
         ],
         "y": [
          0,
          1.999012
         ],
         "z": [
          0,
          -0.0243264
         ]
        },
        {
         "line": {
          "color": "rgb(20, 0, 145)",
          "width": 2
         },
         "mode": "lines",
         "type": "scatter3d",
         "x": [
          0,
          0.0579806
         ],
         "y": [
          0,
          1.999012
         ],
         "z": [
          0,
          -0.0243264
         ]
        },
        {
         "line": {
          "color": "rgb(20, 0, 145)",
          "width": 2
         },
         "mode": "lines",
         "type": "scatter3d",
         "x": [
          0,
          0.060795
         ],
         "y": [
          0,
          1.99891
         ],
         "z": [
          0,
          -0.025674
         ]
        },
        {
         "line": {
          "color": "rgb(20, 0, 145)",
          "width": 2
         },
         "mode": "lines",
         "type": "scatter3d",
         "x": [
          0,
          0.0558574
         ],
         "y": [
          0,
          1.999098
         ],
         "z": [
          0,
          -0.0221254
         ]
        },
        {
         "line": {
          "color": "rgb(20, 0, 145)",
          "width": 2
         },
         "mode": "lines",
         "type": "scatter3d",
         "x": [
          0,
          0.05617
         ],
         "y": [
          0,
          1.999108
         ],
         "z": [
          0,
          -0.0202804
         ]
        },
        {
         "line": {
          "color": "rgb(20, 0, 145)",
          "width": 2
         },
         "mode": "lines",
         "type": "scatter3d",
         "x": [
          0,
          0.0524664
         ],
         "y": [
          0,
          1.999228
         ],
         "z": [
          0,
          -0.01832438
         ]
        },
        {
         "line": {
          "color": "rgb(20, 0, 145)",
          "width": 2
         },
         "mode": "lines",
         "type": "scatter3d",
         "x": [
          0,
          0.0524664
         ],
         "y": [
          0,
          1.999228
         ],
         "z": [
          0,
          -0.01832438
         ]
        },
        {
         "line": {
          "color": "rgb(20, 0, 145)",
          "width": 2
         },
         "mode": "lines",
         "type": "scatter3d",
         "x": [
          0,
          0.0549142
         ],
         "y": [
          0,
          1.999046
         ],
         "z": [
          0,
          -0.0282624
         ]
        },
        {
         "line": {
          "color": "rgb(20, 0, 145)",
          "width": 2
         },
         "mode": "lines",
         "type": "scatter3d",
         "x": [
          0,
          0.0571866
         ],
         "y": [
          0,
          1.999014
         ],
         "z": [
          0,
          -0.0259552
         ]
        },
        {
         "line": {
          "color": "rgb(20, 0, 145)",
          "width": 2
         },
         "mode": "lines",
         "type": "scatter3d",
         "x": [
          0,
          0.0555176
         ],
         "y": [
          0,
          1.99912
         ],
         "z": [
          0,
          -0.0208192
         ]
        },
        {
         "line": {
          "color": "rgb(20, 0, 145)",
          "width": 2
         },
         "mode": "lines",
         "type": "scatter3d",
         "x": [
          0,
          0.0518272
         ],
         "y": [
          0,
          1.999208
         ],
         "z": [
          0,
          -0.0218956
         ]
        },
        {
         "line": {
          "color": "rgb(20, 0, 145)",
          "width": 2
         },
         "mode": "lines",
         "type": "scatter3d",
         "x": [
          0,
          0.0518272
         ],
         "y": [
          0,
          1.999208
         ],
         "z": [
          0,
          -0.0218956
         ]
        },
        {
         "line": {
          "color": "rgb(20, 0, 145)",
          "width": 2
         },
         "mode": "lines",
         "type": "scatter3d",
         "x": [
          0,
          0.0471734
         ],
         "y": [
          0,
          1.999308
         ],
         "z": [
          0,
          -0.023337
         ]
        },
        {
         "line": {
          "color": "rgb(20, 0, 145)",
          "width": 2
         },
         "mode": "lines",
         "type": "scatter3d",
         "x": [
          0,
          0.050567
         ],
         "y": [
          0,
          1.999172
         ],
         "z": [
          0,
          -0.0274696
         ]
        },
        {
         "line": {
          "color": "rgb(20, 0, 145)",
          "width": 2
         },
         "mode": "lines",
         "type": "scatter3d",
         "x": [
          0,
          0.045084
         ],
         "y": [
          0,
          1.999346
         ],
         "z": [
          0,
          -0.0242014
         ]
        },
        {
         "line": {
          "color": "rgb(20, 0, 145)",
          "width": 2
         },
         "mode": "lines",
         "type": "scatter3d",
         "x": [
          0,
          0.0570194
         ],
         "y": [
          0,
          1.999012
         ],
         "z": [
          0,
          -0.0264858
         ]
        },
        {
         "line": {
          "color": "rgb(20, 0, 145)",
          "width": 2
         },
         "mode": "lines",
         "type": "scatter3d",
         "x": [
          0,
          0.0570194
         ],
         "y": [
          0,
          1.999012
         ],
         "z": [
          0,
          -0.0264858
         ]
        },
        {
         "line": {
          "color": "rgb(20, 0, 145)",
          "width": 2
         },
         "mode": "lines",
         "type": "scatter3d",
         "x": [
          0,
          0.0504158
         ],
         "y": [
          0,
          1.999198
         ],
         "z": [
          0,
          -0.0257782
         ]
        },
        {
         "line": {
          "color": "rgb(20, 0, 145)",
          "width": 2
         },
         "mode": "lines",
         "type": "scatter3d",
         "x": [
          0,
          0.049173
         ],
         "y": [
          0,
          1.999182
         ],
         "z": [
          0,
          -0.029253
         ]
        },
        {
         "line": {
          "color": "rgb(20, 0, 145)",
          "width": 2
         },
         "mode": "lines",
         "type": "scatter3d",
         "x": [
          0,
          0.0461176
         ],
         "y": [
          0,
          1.999356
         ],
         "z": [
          0,
          -0.0212308
         ]
        },
        {
         "line": {
          "color": "rgb(20, 0, 145)",
          "width": 2
         },
         "mode": "lines",
         "type": "scatter3d",
         "x": [
          0,
          0.0445532
         ],
         "y": [
          0,
          1.99939
         ],
         "z": [
          0,
          -0.0212938
         ]
        },
        {
         "line": {
          "color": "rgb(20, 0, 145)",
          "width": 2
         },
         "mode": "lines",
         "type": "scatter3d",
         "x": [
          0,
          0.0445532
         ],
         "y": [
          0,
          1.99939
         ],
         "z": [
          0,
          -0.0212938
         ]
        },
        {
         "line": {
          "color": "rgb(20, 0, 145)",
          "width": 2
         },
         "mode": "lines",
         "type": "scatter3d",
         "x": [
          0,
          0.0483516
         ],
         "y": [
          0,
          1.999262
         ],
         "z": [
          0,
          -0.0248068
         ]
        },
        {
         "line": {
          "color": "rgb(20, 0, 145)",
          "width": 2
         },
         "mode": "lines",
         "type": "scatter3d",
         "x": [
          0,
          0.0418828
         ],
         "y": [
          0,
          1.999428
         ],
         "z": [
          0,
          -0.023089
         ]
        },
        {
         "line": {
          "color": "rgb(20, 0, 145)",
          "width": 2
         },
         "mode": "lines",
         "type": "scatter3d",
         "x": [
          0,
          0.0485764
         ],
         "y": [
          0,
          1.999304
         ],
         "z": [
          0,
          -0.0205958
         ]
        },
        {
         "line": {
          "color": "rgb(20, 0, 145)",
          "width": 2
         },
         "mode": "lines",
         "type": "scatter3d",
         "x": [
          0,
          0.0485764
         ],
         "y": [
          0,
          1.999304
         ],
         "z": [
          0,
          -0.0205958
         ]
        },
        {
         "line": {
          "color": "rgb(20, 0, 145)",
          "width": 2
         },
         "mode": "lines",
         "type": "scatter3d",
         "x": [
          0,
          0.0475976
         ],
         "y": [
          0,
          1.999306
         ],
         "z": [
          0,
          -0.0225352
         ]
        },
        {
         "line": {
          "color": "rgb(20, 0, 145)",
          "width": 2
         },
         "mode": "lines",
         "type": "scatter3d",
         "x": [
          0,
          0.0510552
         ],
         "y": [
          0,
          1.999208
         ],
         "z": [
          0,
          -0.0236714
         ]
        },
        {
         "line": {
          "color": "rgb(20, 0, 145)",
          "width": 2
         },
         "mode": "lines",
         "type": "scatter3d",
         "x": [
          0,
          0.0499968
         ],
         "y": [
          0,
          1.999232
         ],
         "z": [
          0,
          -0.0238472
         ]
        },
        {
         "line": {
          "color": "rgb(20, 0, 145)",
          "width": 2
         },
         "mode": "lines",
         "type": "scatter3d",
         "x": [
          0,
          0.050424
         ],
         "y": [
          0,
          1.999248
         ],
         "z": [
          0,
          -0.0216226
         ]
        },
        {
         "line": {
          "color": "rgb(20, 0, 145)",
          "width": 2
         },
         "mode": "lines",
         "type": "scatter3d",
         "x": [
          0,
          0.0485158
         ],
         "y": [
          0,
          1.999252
         ],
         "z": [
          0,
          -0.0252048
         ]
        },
        {
         "line": {
          "color": "rgb(20, 0, 145)",
          "width": 2
         },
         "mode": "lines",
         "type": "scatter3d",
         "x": [
          0,
          0.0485158
         ],
         "y": [
          0,
          1.999252
         ],
         "z": [
          0,
          -0.0252048
         ]
        },
        {
         "line": {
          "color": "rgb(20, 0, 145)",
          "width": 2
         },
         "mode": "lines",
         "type": "scatter3d",
         "x": [
          0,
          0.0478454
         ],
         "y": [
          0,
          1.999268
         ],
         "z": [
          0,
          -0.0252714
         ]
        },
        {
         "line": {
          "color": "rgb(20, 0, 145)",
          "width": 2
         },
         "mode": "lines",
         "type": "scatter3d",
         "x": [
          0,
          0.0520658
         ],
         "y": [
          0,
          1.999182
         ],
         "z": [
          0,
          -0.0236378
         ]
        },
        {
         "line": {
          "color": "rgb(20, 0, 145)",
          "width": 2
         },
         "mode": "lines",
         "type": "scatter3d",
         "x": [
          0,
          0.049184
         ],
         "y": [
          0,
          1.999298
         ],
         "z": [
          0,
          -0.01972822
         ]
        },
        {
         "line": {
          "color": "rgb(20, 0, 145)",
          "width": 2
         },
         "mode": "lines",
         "type": "scatter3d",
         "x": [
          0,
          0.051204
         ],
         "y": [
          0,
          1.999184
         ],
         "z": [
          0,
          -0.0253766
         ]
        },
        {
         "line": {
          "color": "rgb(20, 0, 145)",
          "width": 2
         },
         "mode": "lines",
         "type": "scatter3d",
         "x": [
          0,
          0.051204
         ],
         "y": [
          0,
          1.999184
         ],
         "z": [
          0,
          -0.0253766
         ]
        },
        {
         "line": {
          "color": "rgb(20, 0, 145)",
          "width": 2
         },
         "mode": "lines",
         "type": "scatter3d",
         "x": [
          0,
          0.0472888
         ],
         "y": [
          0,
          1.999344
         ],
         "z": [
          0,
          -0.01972732
         ]
        },
        {
         "line": {
          "color": "rgb(20, 0, 145)",
          "width": 2
         },
         "mode": "lines",
         "type": "scatter3d",
         "x": [
          0,
          0.0581508
         ],
         "y": [
          0,
          1.998926
         ],
         "z": [
          0,
          -0.0302582
         ]
        },
        {
         "line": {
          "color": "rgb(20, 0, 145)",
          "width": 2
         },
         "mode": "lines",
         "type": "scatter3d",
         "x": [
          0,
          0.0539784
         ],
         "y": [
          0,
          1.999136
         ],
         "z": [
          0,
          -0.023237
         ]
        },
        {
         "line": {
          "color": "rgb(20, 0, 145)",
          "width": 2
         },
         "mode": "lines",
         "type": "scatter3d",
         "x": [
          0,
          0.0539784
         ],
         "y": [
          0,
          1.999136
         ],
         "z": [
          0,
          -0.023237
         ]
        },
        {
         "line": {
          "color": "rgb(20, 0, 145)",
          "width": 2
         },
         "mode": "lines",
         "type": "scatter3d",
         "x": [
          0,
          0.048071
         ],
         "y": [
          0,
          1.999302
         ],
         "z": [
          0,
          -0.0218484
         ]
        },
        {
         "line": {
          "color": "rgb(20, 0, 145)",
          "width": 2
         },
         "mode": "lines",
         "type": "scatter3d",
         "x": [
          0,
          0.057862
         ],
         "y": [
          0,
          1.999014
         ],
         "z": [
          0,
          -0.0244272
         ]
        },
        {
         "line": {
          "color": "rgb(20, 0, 145)",
          "width": 2
         },
         "mode": "lines",
         "type": "scatter3d",
         "x": [
          0,
          0.057231
         ],
         "y": [
          0,
          1.999042
         ],
         "z": [
          0,
          -0.0235968
         ]
        },
        {
         "line": {
          "color": "rgb(20, 0, 145)",
          "width": 2
         },
         "mode": "lines",
         "type": "scatter3d",
         "x": [
          0,
          0.043312
         ],
         "y": [
          0,
          1.999378
         ],
         "z": [
          0,
          -0.024676
         ]
        },
        {
         "line": {
          "color": "rgb(20, 0, 145)",
          "width": 2
         },
         "mode": "lines",
         "type": "scatter3d",
         "x": [
          0,
          0.0512374
         ],
         "y": [
          0,
          1.999244
         ],
         "z": [
          0,
          -0.01989252
         ]
        },
        {
         "line": {
          "color": "rgb(20, 0, 145)",
          "width": 2
         },
         "mode": "lines",
         "type": "scatter3d",
         "x": [
          0,
          0.0512374
         ],
         "y": [
          0,
          1.999244
         ],
         "z": [
          0,
          -0.01989252
         ]
        },
        {
         "line": {
          "color": "rgb(20, 0, 145)",
          "width": 2
         },
         "mode": "lines",
         "type": "scatter3d",
         "x": [
          0,
          0.048158
         ],
         "y": [
          0,
          1.999192
         ],
         "z": [
          0,
          -0.0302524
         ]
        },
        {
         "line": {
          "color": "rgb(20, 0, 145)",
          "width": 2
         },
         "mode": "lines",
         "type": "scatter3d",
         "x": [
          0,
          0.0529122
         ],
         "y": [
          0,
          1.999178
         ],
         "z": [
          0,
          -0.022156
         ]
        },
        {
         "line": {
          "color": "rgb(20, 0, 145)",
          "width": 2
         },
         "mode": "lines",
         "type": "scatter3d",
         "x": [
          0,
          0.0503674
         ],
         "y": [
          0,
          1.99917
         ],
         "z": [
          0,
          -0.0280394
         ]
        },
        {
         "line": {
          "color": "rgb(20, 0, 145)",
          "width": 2
         },
         "mode": "lines",
         "type": "scatter3d",
         "x": [
          0,
          0.0532014
         ],
         "y": [
          0,
          1.999154
         ],
         "z": [
          0,
          -0.0234824
         ]
        },
        {
         "line": {
          "color": "rgb(20, 0, 145)",
          "width": 2
         },
         "mode": "lines",
         "type": "scatter3d",
         "x": [
          0,
          0.0532014
         ],
         "y": [
          0,
          1.999154
         ],
         "z": [
          0,
          -0.0234824
         ]
        },
        {
         "line": {
          "color": "rgb(20, 0, 145)",
          "width": 2
         },
         "mode": "lines",
         "type": "scatter3d",
         "x": [
          0,
          0.0469586
         ],
         "y": [
          0,
          1.999346
         ],
         "z": [
          0,
          -0.0201676
         ]
        },
        {
         "line": {
          "color": "rgb(20, 0, 145)",
          "width": 2
         },
         "mode": "lines",
         "type": "scatter3d",
         "x": [
          0,
          0.052855
         ],
         "y": [
          0,
          1.999152
         ],
         "z": [
          0,
          -0.024376
         ]
        },
        {
         "line": {
          "color": "rgb(20, 0, 145)",
          "width": 2
         },
         "mode": "lines",
         "type": "scatter3d",
         "x": [
          0,
          0.0518156
         ],
         "y": [
          0,
          1.999198
         ],
         "z": [
          0,
          -0.0227712
         ]
        },
        {
         "line": {
          "color": "rgb(20, 0, 145)",
          "width": 2
         },
         "mode": "lines",
         "type": "scatter3d",
         "x": [
          0,
          0.0518156
         ],
         "y": [
          0,
          1.999198
         ],
         "z": [
          0,
          -0.0227712
         ]
        },
        {
         "line": {
          "color": "rgb(20, 0, 145)",
          "width": 2
         },
         "mode": "lines",
         "type": "scatter3d",
         "x": [
          0,
          0.0522266
         ],
         "y": [
          0,
          1.999174
         ],
         "z": [
          0,
          -0.0239884
         ]
        },
        {
         "line": {
          "color": "rgb(20, 0, 145)",
          "width": 2
         },
         "mode": "lines",
         "type": "scatter3d",
         "x": [
          0,
          0.0461642
         ],
         "y": [
          0,
          1.999274
         ],
         "z": [
          0,
          -0.0278488
         ]
        },
        {
         "line": {
          "color": "rgb(20, 0, 145)",
          "width": 2
         },
         "mode": "lines",
         "type": "scatter3d",
         "x": [
          0,
          0.0463232
         ],
         "y": [
          0,
          1.999316
         ],
         "z": [
          0,
          -0.0242454
         ]
        },
        {
         "line": {
          "color": "rgb(20, 0, 145)",
          "width": 2
         },
         "mode": "lines",
         "type": "scatter3d",
         "x": [
          0,
          0.0492712
         ],
         "y": [
          0,
          1.99921
         ],
         "z": [
          0,
          -0.0270886
         ]
        },
        {
         "line": {
          "color": "rgb(20, 0, 145)",
          "width": 2
         },
         "mode": "lines",
         "type": "scatter3d",
         "x": [
          0,
          0.27303
         ],
         "y": [
          0,
          1.981196
         ],
         "z": [
          0,
          -0.01772078
         ]
        },
        {
         "line": {
          "color": "rgb(20, 0, 145)",
          "width": 2
         },
         "mode": "lines",
         "type": "scatter3d",
         "x": [
          0,
          0.273086
         ],
         "y": [
          0,
          1.98118
         ],
         "z": [
          0,
          -0.01865864
         ]
        },
        {
         "line": {
          "color": "rgb(20, 0, 145)",
          "width": 2
         },
         "mode": "lines",
         "type": "scatter3d",
         "x": [
          0,
          0.27153
         ],
         "y": [
          0,
          1.981368
         ],
         "z": [
          0,
          -0.0212036
         ]
        },
        {
         "line": {
          "color": "rgb(20, 0, 145)",
          "width": 2
         },
         "mode": "lines",
         "type": "scatter3d",
         "x": [
          0,
          0.27153
         ],
         "y": [
          0,
          1.981368
         ],
         "z": [
          0,
          -0.0212036
         ]
        },
        {
         "line": {
          "color": "rgb(20, 0, 145)",
          "width": 2
         },
         "mode": "lines",
         "type": "scatter3d",
         "x": [
          0,
          0.268276
         ],
         "y": [
          0,
          1.981842
         ],
         "z": [
          0,
          -0.01806614
         ]
        },
        {
         "line": {
          "color": "rgb(20, 0, 145)",
          "width": 2
         },
         "mode": "lines",
         "type": "scatter3d",
         "x": [
          0,
          0.2661
         ],
         "y": [
          0,
          1.982106
         ],
         "z": [
          0,
          -0.021153
         ]
        },
        {
         "line": {
          "color": "rgb(20, 0, 145)",
          "width": 2
         },
         "mode": "lines",
         "type": "scatter3d",
         "x": [
          0,
          0.26565
         ],
         "y": [
          0,
          1.98215
         ],
         "z": [
          0,
          -0.0226154
         ]
        },
        {
         "line": {
          "color": "rgb(20, 0, 145)",
          "width": 2
         },
         "mode": "lines",
         "type": "scatter3d",
         "x": [
          0,
          0.266244
         ],
         "y": [
          0,
          1.98209
         ],
         "z": [
          0,
          -0.0208634
         ]
        },
        {
         "line": {
          "color": "rgb(20, 0, 145)",
          "width": 2
         },
         "mode": "lines",
         "type": "scatter3d",
         "x": [
          0,
          0.266244
         ],
         "y": [
          0,
          1.98209
         ],
         "z": [
          0,
          -0.0208634
         ]
        },
        {
         "line": {
          "color": "rgb(20, 0, 145)",
          "width": 2
         },
         "mode": "lines",
         "type": "scatter3d",
         "x": [
          0,
          0.267468
         ],
         "y": [
          0,
          1.981932
         ],
         "z": [
          0,
          -0.020141
         ]
        },
        {
         "line": {
          "color": "rgb(20, 0, 145)",
          "width": 2
         },
         "mode": "lines",
         "type": "scatter3d",
         "x": [
          0,
          0.264738
         ],
         "y": [
          0,
          1.982284
         ],
         "z": [
          0,
          -0.021563
         ]
        },
        {
         "line": {
          "color": "rgb(20, 0, 145)",
          "width": 2
         },
         "mode": "lines",
         "type": "scatter3d",
         "x": [
          0,
          0.266328
         ],
         "y": [
          0,
          1.982118
         ],
         "z": [
          0,
          -0.01669042
         ]
        },
        {
         "line": {
          "color": "rgb(20, 0, 145)",
          "width": 2
         },
         "mode": "lines",
         "type": "scatter3d",
         "x": [
          0,
          0.266328
         ],
         "y": [
          0,
          1.982118
         ],
         "z": [
          0,
          -0.01669042
         ]
        },
        {
         "line": {
          "color": "rgb(20, 0, 145)",
          "width": 2
         },
         "mode": "lines",
         "type": "scatter3d",
         "x": [
          0,
          0.2605
         ],
         "y": [
          0,
          1.982872
         ],
         "z": [
          0,
          -0.0188692
         ]
        },
        {
         "line": {
          "color": "rgb(20, 0, 145)",
          "width": 2
         },
         "mode": "lines",
         "type": "scatter3d",
         "x": [
          0,
          0.26285
         ],
         "y": [
          0,
          1.982566
         ],
         "z": [
          0,
          -0.01840682
         ]
        },
        {
         "line": {
          "color": "rgb(20, 0, 145)",
          "width": 2
         },
         "mode": "lines",
         "type": "scatter3d",
         "x": [
          0,
          0.264256
         ],
         "y": [
          0,
          1.982358
         ],
         "z": [
          0,
          -0.0205808
         ]
        },
        {
         "line": {
          "color": "rgb(20, 0, 145)",
          "width": 2
         },
         "mode": "lines",
         "type": "scatter3d",
         "x": [
          0,
          0.260812
         ],
         "y": [
          0,
          1.982836
         ],
         "z": [
          0,
          -0.01837582
         ]
        },
        {
         "line": {
          "color": "rgb(20, 0, 145)",
          "width": 2
         },
         "mode": "lines",
         "type": "scatter3d",
         "x": [
          0,
          0.264032
         ],
         "y": [
          0,
          1.982388
         ],
         "z": [
          0,
          -0.0206728
         ]
        },
        {
         "line": {
          "color": "rgb(20, 0, 145)",
          "width": 2
         },
         "mode": "lines",
         "type": "scatter3d",
         "x": [
          0,
          0.264032
         ],
         "y": [
          0,
          1.982388
         ],
         "z": [
          0,
          -0.0206728
         ]
        },
        {
         "line": {
          "color": "rgb(20, 0, 145)",
          "width": 2
         },
         "mode": "lines",
         "type": "scatter3d",
         "x": [
          0,
          0.258842
         ],
         "y": [
          0,
          1.983046
         ],
         "z": [
          0,
          -0.0230954
         ]
        },
        {
         "line": {
          "color": "rgb(20, 0, 145)",
          "width": 2
         },
         "mode": "lines",
         "type": "scatter3d",
         "x": [
          0,
          0.258192
         ],
         "y": [
          0,
          1.983152
         ],
         "z": [
          0,
          -0.0210034
         ]
        },
        {
         "line": {
          "color": "rgb(20, 0, 145)",
          "width": 2
         },
         "mode": "lines",
         "type": "scatter3d",
         "x": [
          0,
          0.263106
         ],
         "y": [
          0,
          1.9825
         ],
         "z": [
          0,
          -0.0216816
         ]
        },
        {
         "line": {
          "color": "rgb(20, 0, 145)",
          "width": 2
         },
         "mode": "lines",
         "type": "scatter3d",
         "x": [
          0,
          0.256318
         ],
         "y": [
          0,
          1.983408
         ],
         "z": [
          0,
          -0.01986374
         ]
        },
        {
         "line": {
          "color": "rgb(20, 0, 145)",
          "width": 2
         },
         "mode": "lines",
         "type": "scatter3d",
         "x": [
          0,
          0.256318
         ],
         "y": [
          0,
          1.983408
         ],
         "z": [
          0,
          -0.01986374
         ]
        },
        {
         "line": {
          "color": "rgb(20, 0, 145)",
          "width": 2
         },
         "mode": "lines",
         "type": "scatter3d",
         "x": [
          0,
          0.262156
         ],
         "y": [
          0,
          1.982646
         ],
         "z": [
          0,
          -0.01968646
         ]
        },
        {
         "line": {
          "color": "rgb(20, 0, 145)",
          "width": 2
         },
         "mode": "lines",
         "type": "scatter3d",
         "x": [
          0,
          0.261012
         ],
         "y": [
          0,
          1.982762
         ],
         "z": [
          0,
          -0.02298
         ]
        },
        {
         "line": {
          "color": "rgb(20, 0, 145)",
          "width": 2
         },
         "mode": "lines",
         "type": "scatter3d",
         "x": [
          0,
          0.26399
         ],
         "y": [
          0,
          1.98238
         ],
         "z": [
          0,
          -0.021812
         ]
        },
        {
         "line": {
          "color": "rgb(20, 0, 145)",
          "width": 2
         },
         "mode": "lines",
         "type": "scatter3d",
         "x": [
          0,
          0.267712
         ],
         "y": [
          0,
          1.981948
         ],
         "z": [
          0,
          -0.01458228
         ]
        },
        {
         "line": {
          "color": "rgb(20, 0, 145)",
          "width": 2
         },
         "mode": "lines",
         "type": "scatter3d",
         "x": [
          0,
          0.267712
         ],
         "y": [
          0,
          1.981948
         ],
         "z": [
          0,
          -0.01458228
         ]
        },
        {
         "line": {
          "color": "rgb(20, 0, 145)",
          "width": 2
         },
         "mode": "lines",
         "type": "scatter3d",
         "x": [
          0,
          0.26465
         ],
         "y": [
          0,
          1.982376
         ],
         "z": [
          0,
          -0.0121645
         ]
        },
        {
         "line": {
          "color": "rgb(20, 0, 145)",
          "width": 2
         },
         "mode": "lines",
         "type": "scatter3d",
         "x": [
          0,
          0.26545
         ],
         "y": [
          0,
          1.982244
         ],
         "z": [
          0,
          -0.01574968
         ]
        },
        {
         "line": {
          "color": "rgb(20, 0, 145)",
          "width": 2
         },
         "mode": "lines",
         "type": "scatter3d",
         "x": [
          0,
          0.262716
         ],
         "y": [
          0,
          1.982598
         ],
         "z": [
          0,
          -0.01682028
         ]
        },
        {
         "line": {
          "color": "rgb(20, 0, 145)",
          "width": 2
         },
         "mode": "lines",
         "type": "scatter3d",
         "x": [
          0,
          0.262716
         ],
         "y": [
          0,
          1.982598
         ],
         "z": [
          0,
          -0.01682028
         ]
        },
        {
         "line": {
          "color": "rgb(20, 0, 145)",
          "width": 2
         },
         "mode": "lines",
         "type": "scatter3d",
         "x": [
          0,
          0.261688
         ],
         "y": [
          0,
          1.982732
         ],
         "z": [
          0,
          -0.0170388
         ]
        },
        {
         "line": {
          "color": "rgb(20, 0, 145)",
          "width": 2
         },
         "mode": "lines",
         "type": "scatter3d",
         "x": [
          0,
          0.260318
         ],
         "y": [
          0,
          1.98289
         ],
         "z": [
          0,
          -0.0195676
         ]
        },
        {
         "line": {
          "color": "rgb(20, 0, 145)",
          "width": 2
         },
         "mode": "lines",
         "type": "scatter3d",
         "x": [
          0,
          0.26566
         ],
         "y": [
          0,
          1.982216
         ],
         "z": [
          0,
          -0.01573912
         ]
        },
        {
         "line": {
          "color": "rgb(20, 0, 145)",
          "width": 2
         },
         "mode": "lines",
         "type": "scatter3d",
         "x": [
          0,
          0.262692
         ],
         "y": [
          0,
          1.982582
         ],
         "z": [
          0,
          -0.01898014
         ]
        },
        {
         "line": {
          "color": "rgb(20, 0, 145)",
          "width": 2
         },
         "mode": "lines",
         "type": "scatter3d",
         "x": [
          0,
          0.265564
         ],
         "y": [
          0,
          1.982194
         ],
         "z": [
          0,
          -0.01961072
         ]
        },
        {
         "line": {
          "color": "rgb(20, 0, 145)",
          "width": 2
         },
         "mode": "lines",
         "type": "scatter3d",
         "x": [
          0,
          0.265564
         ],
         "y": [
          0,
          1.982194
         ],
         "z": [
          0,
          -0.01961072
         ]
        },
        {
         "line": {
          "color": "rgb(20, 0, 145)",
          "width": 2
         },
         "mode": "lines",
         "type": "scatter3d",
         "x": [
          0,
          0.263844
         ],
         "y": [
          0,
          1.982448
         ],
         "z": [
          0,
          -0.01702448
         ]
        },
        {
         "line": {
          "color": "rgb(20, 0, 145)",
          "width": 2
         },
         "mode": "lines",
         "type": "scatter3d",
         "x": [
          0,
          0.263636
         ],
         "y": [
          0,
          1.98247
         ],
         "z": [
          0,
          -0.0176272
         ]
        },
        {
         "line": {
          "color": "rgb(20, 0, 145)",
          "width": 2
         },
         "mode": "lines",
         "type": "scatter3d",
         "x": [
          0,
          0.261098
         ],
         "y": [
          0,
          1.982776
         ],
         "z": [
          0,
          -0.0207284
         ]
        },
        {
         "line": {
          "color": "rgb(20, 0, 145)",
          "width": 2
         },
         "mode": "lines",
         "type": "scatter3d",
         "x": [
          0,
          0.256068
         ],
         "y": [
          0,
          1.983464
         ],
         "z": [
          0,
          -0.0172187
         ]
        },
        {
         "line": {
          "color": "rgb(20, 0, 145)",
          "width": 2
         },
         "mode": "lines",
         "type": "scatter3d",
         "x": [
          0,
          0.256068
         ],
         "y": [
          0,
          1.983464
         ],
         "z": [
          0,
          -0.0172187
         ]
        },
        {
         "line": {
          "color": "rgb(20, 0, 145)",
          "width": 2
         },
         "mode": "lines",
         "type": "scatter3d",
         "x": [
          0,
          0.261498
         ],
         "y": [
          0,
          1.982736
         ],
         "z": [
          0,
          -0.01930304
         ]
        },
        {
         "line": {
          "color": "rgb(20, 0, 145)",
          "width": 2
         },
         "mode": "lines",
         "type": "scatter3d",
         "x": [
          0,
          0.263396
         ],
         "y": [
          0,
          1.98249
         ],
         "z": [
          0,
          -0.0188417
         ]
        },
        {
         "line": {
          "color": "rgb(20, 0, 145)",
          "width": 2
         },
         "mode": "lines",
         "type": "scatter3d",
         "x": [
          0,
          0.262022
         ],
         "y": [
          0,
          1.982708
         ],
         "z": [
          0,
          -0.01458676
         ]
        },
        {
         "line": {
          "color": "rgb(20, 0, 145)",
          "width": 2
         },
         "mode": "lines",
         "type": "scatter3d",
         "x": [
          0,
          0.260652
         ],
         "y": [
          0,
          1.98288
         ],
         "z": [
          0,
          -0.01580432
         ]
        },
        {
         "line": {
          "color": "rgb(20, 0, 145)",
          "width": 2
         },
         "mode": "lines",
         "type": "scatter3d",
         "x": [
          0,
          0.264918
         ],
         "y": [
          0,
          1.982288
         ],
         "z": [
          0,
          -0.01876066
         ]
        },
        {
         "line": {
          "color": "rgb(20, 0, 145)",
          "width": 2
         },
         "mode": "lines",
         "type": "scatter3d",
         "x": [
          0,
          0.264918
         ],
         "y": [
          0,
          1.982288
         ],
         "z": [
          0,
          -0.01876066
         ]
        },
        {
         "line": {
          "color": "rgb(20, 0, 145)",
          "width": 2
         },
         "mode": "lines",
         "type": "scatter3d",
         "x": [
          0,
          0.266514
         ],
         "y": [
          0,
          1.982082
         ],
         "z": [
          0,
          -0.017891
         ]
        },
        {
         "line": {
          "color": "rgb(20, 0, 145)",
          "width": 2
         },
         "mode": "lines",
         "type": "scatter3d",
         "x": [
          0,
          0.260242
         ],
         "y": [
          0,
          1.982906
         ],
         "z": [
          0,
          -0.01881572
         ]
        },
        {
         "line": {
          "color": "rgb(20, 0, 145)",
          "width": 2
         },
         "mode": "lines",
         "type": "scatter3d",
         "x": [
          0,
          0.262438
         ],
         "y": [
          0,
          1.982612
         ],
         "z": [
          0,
          -0.01937122
         ]
        },
        {
         "line": {
          "color": "rgb(20, 0, 145)",
          "width": 2
         },
         "mode": "lines",
         "type": "scatter3d",
         "x": [
          0,
          0.262438
         ],
         "y": [
          0,
          1.982612
         ],
         "z": [
          0,
          -0.01937122
         ]
        },
        {
         "line": {
          "color": "rgb(20, 0, 145)",
          "width": 2
         },
         "mode": "lines",
         "type": "scatter3d",
         "x": [
          0,
          0.263192
         ],
         "y": [
          0,
          1.98252
         ],
         "z": [
          0,
          -0.01863022
         ]
        },
        {
         "line": {
          "color": "rgb(20, 0, 145)",
          "width": 2
         },
         "mode": "lines",
         "type": "scatter3d",
         "x": [
          0,
          0.262952
         ],
         "y": [
          0,
          1.982542
         ],
         "z": [
          0,
          -0.0195943
         ]
        },
        {
         "line": {
          "color": "rgb(20, 0, 145)",
          "width": 2
         },
         "mode": "lines",
         "type": "scatter3d",
         "x": [
          0,
          0.26279
         ],
         "y": [
          0,
          1.98258
         ],
         "z": [
          0,
          -0.0177201
         ]
        },
        {
         "line": {
          "color": "rgb(20, 0, 145)",
          "width": 2
         },
         "mode": "lines",
         "type": "scatter3d",
         "x": [
          0,
          0.261512
         ],
         "y": [
          0,
          1.982732
         ],
         "z": [
          0,
          -0.01959516
         ]
        },
        {
         "line": {
          "color": "rgb(20, 0, 145)",
          "width": 2
         },
         "mode": "lines",
         "type": "scatter3d",
         "x": [
          0,
          0.261512
         ],
         "y": [
          0,
          1.982732
         ],
         "z": [
          0,
          -0.01959516
         ]
        },
        {
         "line": {
          "color": "rgb(20, 0, 145)",
          "width": 2
         },
         "mode": "lines",
         "type": "scatter3d",
         "x": [
          0,
          0.264832
         ],
         "y": [
          0,
          1.982332
         ],
         "z": [
          0,
          -0.01507174
         ]
        },
        {
         "line": {
          "color": "rgb(20, 0, 145)",
          "width": 2
         },
         "mode": "lines",
         "type": "scatter3d",
         "x": [
          0,
          0.261654
         ],
         "y": [
          0,
          1.982722
         ],
         "z": [
          0,
          -0.01863216
         ]
        },
        {
         "line": {
          "color": "rgb(20, 0, 145)",
          "width": 2
         },
         "mode": "lines",
         "type": "scatter3d",
         "x": [
          0,
          0.263214
         ],
         "y": [
          0,
          1.98249
         ],
         "z": [
          0,
          -0.0212318
         ]
        },
        {
         "line": {
          "color": "rgb(20, 0, 145)",
          "width": 2
         },
         "mode": "lines",
         "type": "scatter3d",
         "x": [
          0,
          0.263774
         ],
         "y": [
          0,
          1.98243
         ],
         "z": [
          0,
          -0.01981732
         ]
        },
        {
         "line": {
          "color": "rgb(20, 0, 145)",
          "width": 2
         },
         "mode": "lines",
         "type": "scatter3d",
         "x": [
          0,
          0.263774
         ],
         "y": [
          0,
          1.98243
         ],
         "z": [
          0,
          -0.01981732
         ]
        },
        {
         "line": {
          "color": "rgb(20, 0, 145)",
          "width": 2
         },
         "mode": "lines",
         "type": "scatter3d",
         "x": [
          0,
          0.2612
         ],
         "y": [
          0,
          1.98277
         ],
         "z": [
          0,
          -0.01985502
         ]
        },
        {
         "line": {
          "color": "rgb(20, 0, 145)",
          "width": 2
         },
         "mode": "lines",
         "type": "scatter3d",
         "x": [
          0,
          0.268552
         ],
         "y": [
          0,
          1.981816
         ],
         "z": [
          0,
          -0.01695296
         ]
        },
        {
         "line": {
          "color": "rgb(20, 0, 145)",
          "width": 2
         },
         "mode": "lines",
         "type": "scatter3d",
         "x": [
          0,
          0.264106
         ],
         "y": [
          0,
          1.982372
         ],
         "z": [
          0,
          -0.0211832
         ]
        },
        {
         "line": {
          "color": "rgb(20, 0, 145)",
          "width": 2
         },
         "mode": "lines",
         "type": "scatter3d",
         "x": [
          0,
          0.26439
         ],
         "y": [
          0,
          1.982354
         ],
         "z": [
          0,
          -0.01931494
         ]
        },
        {
         "line": {
          "color": "rgb(20, 0, 145)",
          "width": 2
         },
         "mode": "lines",
         "type": "scatter3d",
         "x": [
          0,
          0.26439
         ],
         "y": [
          0,
          1.982354
         ],
         "z": [
          0,
          -0.01931494
         ]
        },
        {
         "line": {
          "color": "rgb(20, 0, 145)",
          "width": 2
         },
         "mode": "lines",
         "type": "scatter3d",
         "x": [
          0,
          0.264856
         ],
         "y": [
          0,
          1.982276
         ],
         "z": [
          0,
          -0.0208354
         ]
        },
        {
         "line": {
          "color": "rgb(20, 0, 145)",
          "width": 2
         },
         "mode": "lines",
         "type": "scatter3d",
         "x": [
          0,
          0.26502
         ],
         "y": [
          0,
          1.982272
         ],
         "z": [
          0,
          -0.01910962
         ]
        },
        {
         "line": {
          "color": "rgb(20, 0, 145)",
          "width": 2
         },
         "mode": "lines",
         "type": "scatter3d",
         "x": [
          0,
          0.265822
         ],
         "y": [
          0,
          1.982134
         ],
         "z": [
          0,
          -0.0220718
         ]
        },
        {
         "line": {
          "color": "rgb(20, 0, 145)",
          "width": 2
         },
         "mode": "lines",
         "type": "scatter3d",
         "x": [
          0,
          0.264052
         ],
         "y": [
          0,
          1.982382
         ],
         "z": [
          0,
          -0.0210046
         ]
        },
        {
         "line": {
          "color": "rgb(20, 0, 145)",
          "width": 2
         },
         "mode": "lines",
         "type": "scatter3d",
         "x": [
          0,
          0.264052
         ],
         "y": [
          0,
          1.982382
         ],
         "z": [
          0,
          -0.0210046
         ]
        },
        {
         "line": {
          "color": "rgb(20, 0, 145)",
          "width": 2
         },
         "mode": "lines",
         "type": "scatter3d",
         "x": [
          0,
          0.265246
         ],
         "y": [
          0,
          1.982242
         ],
         "z": [
          0,
          -0.01897598
         ]
        },
        {
         "line": {
          "color": "rgb(20, 0, 145)",
          "width": 2
         },
         "mode": "lines",
         "type": "scatter3d",
         "x": [
          0,
          0.268508
         ],
         "y": [
          0,
          1.981812
         ],
         "z": [
          0,
          -0.01811678
         ]
        },
        {
         "line": {
          "color": "rgb(20, 0, 145)",
          "width": 2
         },
         "mode": "lines",
         "type": "scatter3d",
         "x": [
          0,
          0.269442
         ],
         "y": [
          0,
          1.98165
         ],
         "z": [
          0,
          -0.021508
         ]
        },
        {
         "line": {
          "color": "rgb(20, 0, 145)",
          "width": 2
         },
         "mode": "lines",
         "type": "scatter3d",
         "x": [
          0,
          0.264062
         ],
         "y": [
          0,
          1.982352
         ],
         "z": [
          0,
          -0.0235778
         ]
        },
        {
         "line": {
          "color": "rgb(20, 0, 145)",
          "width": 2
         },
         "mode": "lines",
         "type": "scatter3d",
         "x": [
          0,
          0.268982
         ],
         "y": [
          0,
          1.981682
         ],
         "z": [
          0,
          -0.0242058
         ]
        },
        {
         "line": {
          "color": "rgb(20, 0, 145)",
          "width": 2
         },
         "mode": "lines",
         "type": "scatter3d",
         "x": [
          0,
          0.268982
         ],
         "y": [
          0,
          1.981682
         ],
         "z": [
          0,
          -0.0242058
         ]
        },
        {
         "line": {
          "color": "rgb(20, 0, 145)",
          "width": 2
         },
         "mode": "lines",
         "type": "scatter3d",
         "x": [
          0,
          0.2687
         ],
         "y": [
          0,
          1.981744
         ],
         "z": [
          0,
          -0.0221508
         ]
        },
        {
         "line": {
          "color": "rgb(20, 0, 145)",
          "width": 2
         },
         "mode": "lines",
         "type": "scatter3d",
         "x": [
          0,
          0.263646
         ],
         "y": [
          0,
          1.982336
         ],
         "z": [
          0,
          -0.0288512
         ]
        },
        {
         "line": {
          "color": "rgb(20, 0, 145)",
          "width": 2
         },
         "mode": "lines",
         "type": "scatter3d",
         "x": [
          0,
          0.269422
         ],
         "y": [
          0,
          1.981576
         ],
         "z": [
          0,
          -0.0277194
         ]
        },
        {
         "line": {
          "color": "rgb(20, 0, 145)",
          "width": 2
         },
         "mode": "lines",
         "type": "scatter3d",
         "x": [
          0,
          0.269422
         ],
         "y": [
          0,
          1.981576
         ],
         "z": [
          0,
          -0.0277194
         ]
        },
        {
         "line": {
          "color": "rgb(20, 0, 145)",
          "width": 2
         },
         "mode": "lines",
         "type": "scatter3d",
         "x": [
          0,
          0.265654
         ],
         "y": [
          0,
          1.982062
         ],
         "z": [
          0,
          -0.0292832
         ]
        },
        {
         "line": {
          "color": "rgb(20, 0, 145)",
          "width": 2
         },
         "mode": "lines",
         "type": "scatter3d",
         "x": [
          0,
          0.269234
         ],
         "y": [
          0,
          1.981596
         ],
         "z": [
          0,
          -0.0280708
         ]
        },
        {
         "line": {
          "color": "rgb(20, 0, 145)",
          "width": 2
         },
         "mode": "lines",
         "type": "scatter3d",
         "x": [
          0,
          0.267408
         ],
         "y": [
          0,
          1.981772
         ],
         "z": [
          0,
          -0.0327884
         ]
        },
        {
         "line": {
          "color": "rgb(20, 0, 145)",
          "width": 2
         },
         "mode": "lines",
         "type": "scatter3d",
         "x": [
          0,
          0.260304
         ],
         "y": [
          0,
          1.98276
         ],
         "z": [
          0,
          -0.0301434
         ]
        },
        {
         "line": {
          "color": "rgb(20, 0, 145)",
          "width": 2
         },
         "mode": "lines",
         "type": "scatter3d",
         "x": [
          0,
          0.260304
         ],
         "y": [
          0,
          1.98276
         ],
         "z": [
          0,
          -0.0301434
         ]
        },
        {
         "line": {
          "color": "rgb(20, 0, 145)",
          "width": 2
         },
         "mode": "lines",
         "type": "scatter3d",
         "x": [
          0,
          0.264794
         ],
         "y": [
          0,
          1.98214
         ],
         "z": [
          0,
          -0.0317482
         ]
        },
        {
         "line": {
          "color": "rgb(20, 0, 145)",
          "width": 2
         },
         "mode": "lines",
         "type": "scatter3d",
         "x": [
          0,
          0.262426
         ],
         "y": [
          0,
          1.982458
         ],
         "z": [
          0,
          -0.031498
         ]
        },
        {
         "line": {
          "color": "rgb(20, 0, 145)",
          "width": 2
         },
         "mode": "lines",
         "type": "scatter3d",
         "x": [
          0,
          0.264342
         ],
         "y": [
          0,
          1.9822
         ],
         "z": [
          0,
          -0.0317082
         ]
        },
        {
         "line": {
          "color": "rgb(20, 0, 145)",
          "width": 2
         },
         "mode": "lines",
         "type": "scatter3d",
         "x": [
          0,
          0.263736
         ],
         "y": [
          0,
          1.982338
         ],
         "z": [
          0,
          -0.0278856
         ]
        },
        {
         "line": {
          "color": "rgb(20, 0, 145)",
          "width": 2
         },
         "mode": "lines",
         "type": "scatter3d",
         "x": [
          0,
          0.263736
         ],
         "y": [
          0,
          1.982338
         ],
         "z": [
          0,
          -0.0278856
         ]
        },
        {
         "line": {
          "color": "rgb(20, 0, 145)",
          "width": 2
         },
         "mode": "lines",
         "type": "scatter3d",
         "x": [
          0,
          0.263524
         ],
         "y": [
          0,
          1.982318
         ],
         "z": [
          0,
          -0.0311148
         ]
        },
        {
         "line": {
          "color": "rgb(20, 0, 145)",
          "width": 2
         },
         "mode": "lines",
         "type": "scatter3d",
         "x": [
          0,
          0.263198
         ],
         "y": [
          0,
          1.982376
         ],
         "z": [
          0,
          -0.0301636
         ]
        },
        {
         "line": {
          "color": "rgb(20, 0, 145)",
          "width": 2
         },
         "mode": "lines",
         "type": "scatter3d",
         "x": [
          0,
          0.25994
         ],
         "y": [
          0,
          1.982836
         ],
         "z": [
          0,
          -0.028141
         ]
        },
        {
         "line": {
          "color": "rgb(20, 0, 145)",
          "width": 2
         },
         "mode": "lines",
         "type": "scatter3d",
         "x": [
          0,
          0.262638
         ],
         "y": [
          0,
          1.98248
         ],
         "z": [
          0,
          -0.0281208
         ]
        },
        {
         "line": {
          "color": "rgb(20, 0, 145)",
          "width": 2
         },
         "mode": "lines",
         "type": "scatter3d",
         "x": [
          0,
          0.262638
         ],
         "y": [
          0,
          1.98248
         ],
         "z": [
          0,
          -0.0281208
         ]
        },
        {
         "line": {
          "color": "rgb(20, 0, 145)",
          "width": 2
         },
         "mode": "lines",
         "type": "scatter3d",
         "x": [
          0,
          0.254334
         ],
         "y": [
          0,
          1.983584
         ],
         "z": [
          0,
          -0.0266316
         ]
        },
        {
         "line": {
          "color": "rgb(20, 0, 145)",
          "width": 2
         },
         "mode": "lines",
         "type": "scatter3d",
         "x": [
          0,
          -0.229914
         ],
         "y": [
          0,
          1.881448
         ],
         "z": [
          0,
          0.638198
         ]
        },
        {
         "line": {
          "color": "rgb(20, 0, 145)",
          "width": 2
         },
         "mode": "lines",
         "type": "scatter3d",
         "x": [
          0,
          -0.23082
         ],
         "y": [
          0,
          1.880344
         ],
         "z": [
          0,
          0.641112
         ]
        },
        {
         "line": {
          "color": "rgb(20, 0, 145)",
          "width": 2
         },
         "mode": "lines",
         "type": "scatter3d",
         "x": [
          0,
          -0.23082
         ],
         "y": [
          0,
          1.880344
         ],
         "z": [
          0,
          0.641112
         ]
        },
        {
         "line": {
          "color": "rgb(20, 0, 145)",
          "width": 2
         },
         "mode": "lines",
         "type": "scatter3d",
         "x": [
          0,
          -0.230978
         ],
         "y": [
          0,
          1.88089
         ],
         "z": [
          0,
          0.639454
         ]
        },
        {
         "line": {
          "color": "rgb(20, 0, 145)",
          "width": 2
         },
         "mode": "lines",
         "type": "scatter3d",
         "x": [
          0,
          -0.229276
         ],
         "y": [
          0,
          1.881294
         ],
         "z": [
          0,
          0.638876
         ]
        },
        {
         "line": {
          "color": "rgb(20, 0, 145)",
          "width": 2
         },
         "mode": "lines",
         "type": "scatter3d",
         "x": [
          0,
          -0.230652
         ],
         "y": [
          0,
          1.88075
         ],
         "z": [
          0,
          0.639982
         ]
        },
        {
         "line": {
          "color": "rgb(20, 0, 145)",
          "width": 2
         },
         "mode": "lines",
         "type": "scatter3d",
         "x": [
          0,
          -0.22939
         ],
         "y": [
          0,
          1.881002
         ],
         "z": [
          0,
          0.639694
         ]
        },
        {
         "line": {
          "color": "rgb(20, 0, 145)",
          "width": 2
         },
         "mode": "lines",
         "type": "scatter3d",
         "x": [
          0,
          -0.22939
         ],
         "y": [
          0,
          1.881002
         ],
         "z": [
          0,
          0.639694
         ]
        },
        {
         "line": {
          "color": "rgb(20, 0, 145)",
          "width": 2
         },
         "mode": "lines",
         "type": "scatter3d",
         "x": [
          0,
          -0.230326
         ],
         "y": [
          0,
          1.88152
         ],
         "z": [
          0,
          0.637832
         ]
        },
        {
         "line": {
          "color": "rgb(20, 0, 145)",
          "width": 2
         },
         "mode": "lines",
         "type": "scatter3d",
         "x": [
          0,
          -0.229328
         ],
         "y": [
          0,
          1.881428
         ],
         "z": [
          0,
          0.638464
         ]
        },
        {
         "line": {
          "color": "rgb(20, 0, 145)",
          "width": 2
         },
         "mode": "lines",
         "type": "scatter3d",
         "x": [
          0,
          -0.230988
         ],
         "y": [
          0,
          1.882146
         ],
         "z": [
          0,
          0.635744
         ]
        },
        {
         "line": {
          "color": "rgb(20, 0, 145)",
          "width": 2
         },
         "mode": "lines",
         "type": "scatter3d",
         "x": [
          0,
          -0.229242
         ],
         "y": [
          0,
          1.881532
         ],
         "z": [
          0,
          0.638188
         ]
        },
        {
         "line": {
          "color": "rgb(20, 0, 145)",
          "width": 2
         },
         "mode": "lines",
         "type": "scatter3d",
         "x": [
          0,
          -0.232248
         ],
         "y": [
          0,
          1.882814
         ],
         "z": [
          0,
          0.633302
         ]
        },
        {
         "line": {
          "color": "rgb(20, 0, 145)",
          "width": 2
         },
         "mode": "lines",
         "type": "scatter3d",
         "x": [
          0,
          -0.232248
         ],
         "y": [
          0,
          1.882814
         ],
         "z": [
          0,
          0.633302
         ]
        },
        {
         "line": {
          "color": "rgb(20, 0, 145)",
          "width": 2
         },
         "mode": "lines",
         "type": "scatter3d",
         "x": [
          0,
          -0.229744
         ],
         "y": [
          0,
          1.881734
         ],
         "z": [
          0,
          0.637412
         ]
        },
        {
         "line": {
          "color": "rgb(20, 0, 145)",
          "width": 2
         },
         "mode": "lines",
         "type": "scatter3d",
         "x": [
          0,
          -0.229942
         ],
         "y": [
          0,
          1.88161
         ],
         "z": [
          0,
          0.637706
         ]
        },
        {
         "line": {
          "color": "rgb(20, 0, 145)",
          "width": 2
         },
         "mode": "lines",
         "type": "scatter3d",
         "x": [
          0,
          -0.229588
         ],
         "y": [
          0,
          1.882918
         ],
         "z": [
          0,
          0.633966
         ]
        },
        {
         "line": {
          "color": "rgb(20, 0, 145)",
          "width": 2
         },
         "mode": "lines",
         "type": "scatter3d",
         "x": [
          0,
          -0.229588
         ],
         "y": [
          0,
          1.882918
         ],
         "z": [
          0,
          0.633966
         ]
        },
        {
         "line": {
          "color": "rgb(20, 0, 145)",
          "width": 2
         },
         "mode": "lines",
         "type": "scatter3d",
         "x": [
          0,
          -0.231436
         ],
         "y": [
          0,
          1.88157
         ],
         "z": [
          0,
          0.637282
         ]
        },
        {
         "line": {
          "color": "rgb(20, 0, 145)",
          "width": 2
         },
         "mode": "lines",
         "type": "scatter3d",
         "x": [
          0,
          -0.231896
         ],
         "y": [
          0,
          1.8812
         ],
         "z": [
          0,
          0.63821
         ]
        },
        {
         "line": {
          "color": "rgb(20, 0, 145)",
          "width": 2
         },
         "mode": "lines",
         "type": "scatter3d",
         "x": [
          0,
          -0.226802
         ],
         "y": [
          0,
          1.882712
         ],
         "z": [
          0,
          0.635576
         ]
        },
        {
         "line": {
          "color": "rgb(20, 0, 145)",
          "width": 2
         },
         "mode": "lines",
         "type": "scatter3d",
         "x": [
          0,
          -0.226802
         ],
         "y": [
          0,
          1.882712
         ],
         "z": [
          0,
          0.635576
         ]
        },
        {
         "line": {
          "color": "rgb(20, 0, 145)",
          "width": 2
         },
         "mode": "lines",
         "type": "scatter3d",
         "x": [
          0,
          -0.218382
         ],
         "y": [
          0,
          1.88103
         ],
         "z": [
          0,
          0.643456
         ]
        },
        {
         "line": {
          "color": "rgb(20, 0, 145)",
          "width": 2
         },
         "mode": "lines",
         "type": "scatter3d",
         "x": [
          0,
          -0.22415
         ],
         "y": [
          0,
          1.880988
         ],
         "z": [
          0,
          0.641594
         ]
        },
        {
         "line": {
          "color": "rgb(20, 0, 145)",
          "width": 2
         },
         "mode": "lines",
         "type": "scatter3d",
         "x": [
          0,
          -0.22627
         ],
         "y": [
          0,
          1.879922
         ],
         "z": [
          0,
          0.64397
         ]
        },
        {
         "line": {
          "color": "rgb(20, 0, 145)",
          "width": 2
         },
         "mode": "lines",
         "type": "scatter3d",
         "x": [
          0,
          -0.226074
         ],
         "y": [
          0,
          1.879884
         ],
         "z": [
          0,
          0.644148
         ]
        },
        {
         "line": {
          "color": "rgb(20, 0, 145)",
          "width": 2
         },
         "mode": "lines",
         "type": "scatter3d",
         "x": [
          0,
          -0.22352
         ],
         "y": [
          0,
          1.88146
         ],
         "z": [
          0,
          0.64043
         ]
        },
        {
         "line": {
          "color": "rgb(20, 0, 145)",
          "width": 2
         },
         "mode": "lines",
         "type": "scatter3d",
         "x": [
          0,
          -0.22352
         ],
         "y": [
          0,
          1.88146
         ],
         "z": [
          0,
          0.64043
         ]
        },
        {
         "line": {
          "color": "rgb(20, 0, 145)",
          "width": 2
         },
         "mode": "lines",
         "type": "scatter3d",
         "x": [
          0,
          -0.226008
         ],
         "y": [
          0,
          1.880072
         ],
         "z": [
          0,
          0.643622
         ]
        },
        {
         "line": {
          "color": "rgb(20, 0, 145)",
          "width": 2
         },
         "mode": "lines",
         "type": "scatter3d",
         "x": [
          0,
          -0.22418
         ],
         "y": [
          0,
          1.88004
         ],
         "z": [
          0,
          0.644358
         ]
        },
        {
         "line": {
          "color": "rgb(20, 0, 145)",
          "width": 2
         },
         "mode": "lines",
         "type": "scatter3d",
         "x": [
          0,
          -0.221908
         ],
         "y": [
          0,
          1.879932
         ],
         "z": [
          0,
          0.645452
         ]
        },
        {
         "line": {
          "color": "rgb(20, 0, 145)",
          "width": 2
         },
         "mode": "lines",
         "type": "scatter3d",
         "x": [
          0,
          -0.225284
         ],
         "y": [
          0,
          1.880032
         ],
         "z": [
          0,
          0.64399
         ]
        },
        {
         "line": {
          "color": "rgb(20, 0, 145)",
          "width": 2
         },
         "mode": "lines",
         "type": "scatter3d",
         "x": [
          0,
          -0.225284
         ],
         "y": [
          0,
          1.880032
         ],
         "z": [
          0,
          0.64399
         ]
        },
        {
         "line": {
          "color": "rgb(20, 0, 145)",
          "width": 2
         },
         "mode": "lines",
         "type": "scatter3d",
         "x": [
          0,
          -0.226022
         ],
         "y": [
          0,
          1.880558
         ],
         "z": [
          0,
          0.642198
         ]
        },
        {
         "line": {
          "color": "rgb(20, 0, 145)",
          "width": 2
         },
         "mode": "lines",
         "type": "scatter3d",
         "x": [
          0,
          -0.221574
         ],
         "y": [
          0,
          1.880772
         ],
         "z": [
          0,
          0.643116
         ]
        },
        {
         "line": {
          "color": "rgb(20, 0, 145)",
          "width": 2
         },
         "mode": "lines",
         "type": "scatter3d",
         "x": [
          0,
          -0.219834
         ],
         "y": [
          0,
          1.88168
         ],
         "z": [
          0,
          0.641054
         ]
        },
        {
         "line": {
          "color": "rgb(20, 0, 145)",
          "width": 2
         },
         "mode": "lines",
         "type": "scatter3d",
         "x": [
          0,
          -0.223588
         ],
         "y": [
          0,
          1.880364
         ],
         "z": [
          0,
          0.643614
         ]
        },
        {
         "line": {
          "color": "rgb(20, 0, 145)",
          "width": 2
         },
         "mode": "lines",
         "type": "scatter3d",
         "x": [
          0,
          -0.219026
         ],
         "y": [
          0,
          1.881298
         ],
         "z": [
          0,
          0.642452
         ]
        },
        {
         "line": {
          "color": "rgb(20, 0, 145)",
          "width": 2
         },
         "mode": "lines",
         "type": "scatter3d",
         "x": [
          0,
          -0.219026
         ],
         "y": [
          0,
          1.881298
         ],
         "z": [
          0,
          0.642452
         ]
        },
        {
         "line": {
          "color": "rgb(20, 0, 145)",
          "width": 2
         },
         "mode": "lines",
         "type": "scatter3d",
         "x": [
          0,
          -0.22113
         ],
         "y": [
          0,
          1.880988
         ],
         "z": [
          0,
          0.642638
         ]
        },
        {
         "line": {
          "color": "rgb(20, 0, 145)",
          "width": 2
         },
         "mode": "lines",
         "type": "scatter3d",
         "x": [
          0,
          -0.21786
         ],
         "y": [
          0,
          1.881376
         ],
         "z": [
          0,
          0.642618
         ]
        },
        {
         "line": {
          "color": "rgb(20, 0, 145)",
          "width": 2
         },
         "mode": "lines",
         "type": "scatter3d",
         "x": [
          0,
          -0.221394
         ],
         "y": [
          0,
          1.88275
         ],
         "z": [
          0,
          0.63737
         ]
        },
        {
         "line": {
          "color": "rgb(20, 0, 145)",
          "width": 2
         },
         "mode": "lines",
         "type": "scatter3d",
         "x": [
          0,
          -0.221394
         ],
         "y": [
          0,
          1.88275
         ],
         "z": [
          0,
          0.63737
         ]
        },
        {
         "line": {
          "color": "rgb(20, 0, 145)",
          "width": 2
         },
         "mode": "lines",
         "type": "scatter3d",
         "x": [
          0,
          -0.219672
         ],
         "y": [
          0,
          1.882184
         ],
         "z": [
          0,
          0.639632
         ]
        },
        {
         "line": {
          "color": "rgb(20, 0, 145)",
          "width": 2
         },
         "mode": "lines",
         "type": "scatter3d",
         "x": [
          0,
          -0.219842
         ],
         "y": [
          0,
          1.881874
         ],
         "z": [
          0,
          0.640484
         ]
        },
        {
         "line": {
          "color": "rgb(20, 0, 145)",
          "width": 2
         },
         "mode": "lines",
         "type": "scatter3d",
         "x": [
          0,
          -0.21984
         ],
         "y": [
          0,
          1.88069
         ],
         "z": [
          0,
          0.643954
         ]
        },
        {
         "line": {
          "color": "rgb(20, 0, 145)",
          "width": 2
         },
         "mode": "lines",
         "type": "scatter3d",
         "x": [
          0,
          -0.219916
         ],
         "y": [
          0,
          1.882548
         ],
         "z": [
          0,
          0.638474
         ]
        },
        {
         "line": {
          "color": "rgb(20, 0, 145)",
          "width": 2
         },
         "mode": "lines",
         "type": "scatter3d",
         "x": [
          0,
          -0.219916
         ],
         "y": [
          0,
          1.882548
         ],
         "z": [
          0,
          0.638474
         ]
        },
        {
         "line": {
          "color": "rgb(20, 0, 145)",
          "width": 2
         },
         "mode": "lines",
         "type": "scatter3d",
         "x": [
          0,
          -0.218276
         ],
         "y": [
          0,
          1.881614
         ],
         "z": [
          0,
          0.641782
         ]
        },
        {
         "line": {
          "color": "rgb(20, 0, 145)",
          "width": 2
         },
         "mode": "lines",
         "type": "scatter3d",
         "x": [
          0,
          -0.216222
         ],
         "y": [
          0,
          1.883488
         ],
         "z": [
          0,
          0.636964
         ]
        },
        {
         "line": {
          "color": "rgb(20, 0, 145)",
          "width": 2
         },
         "mode": "lines",
         "type": "scatter3d",
         "x": [
          0,
          -0.216352
         ],
         "y": [
          0,
          1.882772
         ],
         "z": [
          0,
          0.63903
         ]
        },
        {
         "line": {
          "color": "rgb(20, 0, 145)",
          "width": 2
         },
         "mode": "lines",
         "type": "scatter3d",
         "x": [
          0,
          -0.216352
         ],
         "y": [
          0,
          1.882772
         ],
         "z": [
          0,
          0.63903
         ]
        },
        {
         "line": {
          "color": "rgb(20, 0, 145)",
          "width": 2
         },
         "mode": "lines",
         "type": "scatter3d",
         "x": [
          0,
          -0.220456
         ],
         "y": [
          0,
          1.88162
         ],
         "z": [
          0,
          0.641022
         ]
        },
        {
         "line": {
          "color": "rgb(20, 0, 145)",
          "width": 2
         },
         "mode": "lines",
         "type": "scatter3d",
         "x": [
          0,
          -0.214824
         ],
         "y": [
          0,
          1.88168
         ],
         "z": [
          0,
          0.64275
         ]
        },
        {
         "line": {
          "color": "rgb(20, 0, 145)",
          "width": 2
         },
         "mode": "lines",
         "type": "scatter3d",
         "x": [
          0,
          -0.218394
         ],
         "y": [
          0,
          1.881612
         ],
         "z": [
          0,
          0.641748
         ]
        },
        {
         "line": {
          "color": "rgb(20, 0, 145)",
          "width": 2
         },
         "mode": "lines",
         "type": "scatter3d",
         "x": [
          0,
          -0.216692
         ],
         "y": [
          0,
          1.882466
         ],
         "z": [
          0,
          0.63982
         ]
        },
        {
         "line": {
          "color": "rgb(20, 0, 145)",
          "width": 2
         },
         "mode": "lines",
         "type": "scatter3d",
         "x": [
          0,
          -0.217538
         ],
         "y": [
          0,
          1.881714
         ],
         "z": [
          0,
          0.641736
         ]
        },
        {
         "line": {
          "color": "rgb(20, 0, 145)",
          "width": 2
         },
         "mode": "lines",
         "type": "scatter3d",
         "x": [
          0,
          -0.217538
         ],
         "y": [
          0,
          1.881714
         ],
         "z": [
          0,
          0.641736
         ]
        },
        {
         "line": {
          "color": "rgb(20, 0, 145)",
          "width": 2
         },
         "mode": "lines",
         "type": "scatter3d",
         "x": [
          0,
          -0.217386
         ],
         "y": [
          0,
          1.88154
         ],
         "z": [
          0,
          0.642304
         ]
        },
        {
         "line": {
          "color": "rgb(20, 0, 145)",
          "width": 2
         },
         "mode": "lines",
         "type": "scatter3d",
         "x": [
          0,
          -0.217016
         ],
         "y": [
          0,
          1.882654
         ],
         "z": [
          0,
          0.639156
         ]
        },
        {
         "line": {
          "color": "rgb(20, 0, 145)",
          "width": 2
         },
         "mode": "lines",
         "type": "scatter3d",
         "x": [
          0,
          -0.216984
         ],
         "y": [
          0,
          1.882196
         ],
         "z": [
          0,
          0.64051
         ]
        },
        {
         "line": {
          "color": "rgb(20, 0, 145)",
          "width": 2
         },
         "mode": "lines",
         "type": "scatter3d",
         "x": [
          0,
          -0.215964
         ],
         "y": [
          0,
          1.883006
         ],
         "z": [
          0,
          0.638474
         ]
        },
        {
         "line": {
          "color": "rgb(20, 0, 145)",
          "width": 2
         },
         "mode": "lines",
         "type": "scatter3d",
         "x": [
          0,
          -0.21648
         ],
         "y": [
          0,
          1.883078
         ],
         "z": [
          0,
          0.638088
         ]
        },
        {
         "line": {
          "color": "rgb(20, 0, 145)",
          "width": 2
         },
         "mode": "lines",
         "type": "scatter3d",
         "x": [
          0,
          -0.21648
         ],
         "y": [
          0,
          1.883078
         ],
         "z": [
          0,
          0.638088
         ]
        },
        {
         "line": {
          "color": "rgb(20, 0, 145)",
          "width": 2
         },
         "mode": "lines",
         "type": "scatter3d",
         "x": [
          0,
          -0.218392
         ],
         "y": [
          0,
          1.881866
         ],
         "z": [
          0,
          0.641006
         ]
        },
        {
         "line": {
          "color": "rgb(20, 0, 145)",
          "width": 2
         },
         "mode": "lines",
         "type": "scatter3d",
         "x": [
          0,
          -0.220168
         ],
         "y": [
          0,
          1.881878
         ],
         "z": [
          0,
          0.64036
         ]
        },
        {
         "line": {
          "color": "rgb(20, 0, 145)",
          "width": 2
         },
         "mode": "lines",
         "type": "scatter3d",
         "x": [
          0,
          -0.218378
         ],
         "y": [
          0,
          1.881324
         ],
         "z": [
          0,
          0.642598
         ]
        },
        {
         "line": {
          "color": "rgb(20, 0, 145)",
          "width": 2
         },
         "mode": "lines",
         "type": "scatter3d",
         "x": [
          0,
          -0.218378
         ],
         "y": [
          0,
          1.881324
         ],
         "z": [
          0,
          0.642598
         ]
        },
        {
         "line": {
          "color": "rgb(20, 0, 145)",
          "width": 2
         },
         "mode": "lines",
         "type": "scatter3d",
         "x": [
          0,
          -0.216534
         ],
         "y": [
          0,
          1.88427
         ],
         "z": [
          0,
          0.634542
         ]
        },
        {
         "line": {
          "color": "rgb(20, 0, 145)",
          "width": 2
         },
         "mode": "lines",
         "type": "scatter3d",
         "x": [
          0,
          -0.21736
         ],
         "y": [
          0,
          1.883794
         ],
         "z": [
          0,
          0.635668
         ]
        },
        {
         "line": {
          "color": "rgb(20, 0, 145)",
          "width": 2
         },
         "mode": "lines",
         "type": "scatter3d",
         "x": [
          0,
          -0.217734
         ],
         "y": [
          0,
          1.88408
         ],
         "z": [
          0,
          0.634692
         ]
        },
        {
         "line": {
          "color": "rgb(20, 0, 145)",
          "width": 2
         },
         "mode": "lines",
         "type": "scatter3d",
         "x": [
          0,
          -0.21959
         ],
         "y": [
          0,
          1.882846
         ],
         "z": [
          0,
          0.63771
         ]
        },
        {
         "line": {
          "color": "rgb(20, 0, 145)",
          "width": 2
         },
         "mode": "lines",
         "type": "scatter3d",
         "x": [
          0,
          -0.21959
         ],
         "y": [
          0,
          1.882846
         ],
         "z": [
          0,
          0.63771
         ]
        },
        {
         "line": {
          "color": "rgb(20, 0, 145)",
          "width": 2
         },
         "mode": "lines",
         "type": "scatter3d",
         "x": [
          0,
          -0.21515
         ],
         "y": [
          0,
          1.884448
         ],
         "z": [
          0,
          0.63448
         ]
        },
        {
         "line": {
          "color": "rgb(20, 0, 145)",
          "width": 2
         },
         "mode": "lines",
         "type": "scatter3d",
         "x": [
          0,
          -0.217206
         ],
         "y": [
          0,
          1.883526
         ],
         "z": [
          0,
          0.636516
         ]
        },
        {
         "line": {
          "color": "rgb(20, 0, 145)",
          "width": 2
         },
         "mode": "lines",
         "type": "scatter3d",
         "x": [
          0,
          -0.215998
         ],
         "y": [
          0,
          1.884742
         ],
         "z": [
          0,
          0.63332
         ]
        },
        {
         "line": {
          "color": "rgb(20, 0, 145)",
          "width": 2
         },
         "mode": "lines",
         "type": "scatter3d",
         "x": [
          0,
          -0.215998
         ],
         "y": [
          0,
          1.884742
         ],
         "z": [
          0,
          0.63332
         ]
        },
        {
         "line": {
          "color": "rgb(20, 0, 145)",
          "width": 2
         },
         "mode": "lines",
         "type": "scatter3d",
         "x": [
          0,
          -0.216814
         ],
         "y": [
          0,
          1.883794
         ],
         "z": [
          0,
          0.635856
         ]
        },
        {
         "line": {
          "color": "rgb(20, 0, 145)",
          "width": 2
         },
         "mode": "lines",
         "type": "scatter3d",
         "x": [
          0,
          -0.217768
         ],
         "y": [
          0,
          1.883524
         ],
         "z": [
          0,
          0.63633
         ]
        },
        {
         "line": {
          "color": "rgb(20, 0, 145)",
          "width": 2
         },
         "mode": "lines",
         "type": "scatter3d",
         "x": [
          0,
          -0.218678
         ],
         "y": [
          0,
          1.884286
         ],
         "z": [
          0,
          0.633758
         ]
        },
        {
         "line": {
          "color": "rgb(20, 0, 145)",
          "width": 2
         },
         "mode": "lines",
         "type": "scatter3d",
         "x": [
          0,
          -0.217832
         ],
         "y": [
          0,
          1.884602
         ],
         "z": [
          0,
          0.633108
         ]
        },
        {
         "line": {
          "color": "rgb(20, 0, 145)",
          "width": 2
         },
         "mode": "lines",
         "type": "scatter3d",
         "x": [
          0,
          -0.218036
         ],
         "y": [
          0,
          1.885208
         ],
         "z": [
          0,
          0.63123
         ]
        },
        {
         "line": {
          "color": "rgb(20, 0, 145)",
          "width": 2
         },
         "mode": "lines",
         "type": "scatter3d",
         "x": [
          0,
          -0.218036
         ],
         "y": [
          0,
          1.885208
         ],
         "z": [
          0,
          0.63123
         ]
        },
        {
         "line": {
          "color": "rgb(20, 0, 145)",
          "width": 2
         },
         "mode": "lines",
         "type": "scatter3d",
         "x": [
          0,
          -0.219924
         ],
         "y": [
          0,
          1.884152
         ],
         "z": [
          0,
          0.633726
         ]
        },
        {
         "line": {
          "color": "rgb(20, 0, 145)",
          "width": 2
         },
         "mode": "lines",
         "type": "scatter3d",
         "x": [
          0,
          -0.21689
         ],
         "y": [
          0,
          1.88559
         ],
         "z": [
          0,
          0.630482
         ]
        },
        {
         "line": {
          "color": "rgb(20, 0, 145)",
          "width": 2
         },
         "mode": "lines",
         "type": "scatter3d",
         "x": [
          0,
          -0.21991
         ],
         "y": [
          0,
          1.883844
         ],
         "z": [
          0,
          0.634646
         ]
        },
        {
         "line": {
          "color": "rgb(20, 0, 145)",
          "width": 2
         },
         "mode": "lines",
         "type": "scatter3d",
         "x": [
          0,
          -0.214834
         ],
         "y": [
          0,
          1.88509
         ],
         "z": [
          0,
          0.63268
         ]
        },
        {
         "line": {
          "color": "rgb(20, 0, 145)",
          "width": 2
         },
         "mode": "lines",
         "type": "scatter3d",
         "x": [
          0,
          -0.214834
         ],
         "y": [
          0,
          1.88509
         ],
         "z": [
          0,
          0.63268
         ]
        },
        {
         "line": {
          "color": "rgb(20, 0, 145)",
          "width": 2
         },
         "mode": "lines",
         "type": "scatter3d",
         "x": [
          0,
          -0.217168
         ],
         "y": [
          0,
          1.885794
         ],
         "z": [
          0,
          0.629778
         ]
        },
        {
         "line": {
          "color": "rgb(20, 0, 145)",
          "width": 2
         },
         "mode": "lines",
         "type": "scatter3d",
         "x": [
          0,
          -0.217806
         ],
         "y": [
          0,
          1.883208
         ],
         "z": [
          0,
          0.637252
         ]
        },
        {
         "line": {
          "color": "rgb(20, 0, 145)",
          "width": 2
         },
         "mode": "lines",
         "type": "scatter3d",
         "x": [
          0,
          -0.212196
         ],
         "y": [
          0,
          1.881956
         ],
         "z": [
          0,
          0.642816
         ]
        },
        {
         "line": {
          "color": "rgb(20, 0, 145)",
          "width": 2
         },
         "mode": "lines",
         "type": "scatter3d",
         "x": [
          0,
          -0.20928
         ],
         "y": [
          0,
          1.881364
         ],
         "z": [
          0,
          0.645504
         ]
        },
        {
         "line": {
          "color": "rgb(20, 0, 145)",
          "width": 2
         },
         "mode": "lines",
         "type": "scatter3d",
         "x": [
          0,
          -0.211008
         ],
         "y": [
          0,
          1.88012
         ],
         "z": [
          0,
          0.648558
         ]
        },
        {
         "line": {
          "color": "rgb(20, 0, 145)",
          "width": 2
         },
         "mode": "lines",
         "type": "scatter3d",
         "x": [
          0,
          -0.211008
         ],
         "y": [
          0,
          1.88012
         ],
         "z": [
          0,
          0.648558
         ]
        },
        {
         "line": {
          "color": "rgb(20, 0, 145)",
          "width": 2
         },
         "mode": "lines",
         "type": "scatter3d",
         "x": [
          0,
          -0.217658
         ],
         "y": [
          0,
          1.878266
         ],
         "z": [
          0,
          0.65172
         ]
        },
        {
         "line": {
          "color": "rgb(20, 0, 145)",
          "width": 2
         },
         "mode": "lines",
         "type": "scatter3d",
         "x": [
          0,
          -0.217094
         ],
         "y": [
          0,
          1.878102
         ],
         "z": [
          0,
          0.652382
         ]
        },
        {
         "line": {
          "color": "rgb(20, 0, 145)",
          "width": 2
         },
         "mode": "lines",
         "type": "scatter3d",
         "x": [
          0,
          -0.218618
         ],
         "y": [
          0,
          1.878662
         ],
         "z": [
          0,
          0.65026
         ]
        },
        {
         "line": {
          "color": "rgb(20, 0, 145)",
          "width": 2
         },
         "mode": "lines",
         "type": "scatter3d",
         "x": [
          0,
          -0.215526
         ],
         "y": [
          0,
          1.879118
         ],
         "z": [
          0,
          0.649974
         ]
        },
        {
         "line": {
          "color": "rgb(20, 0, 145)",
          "width": 2
         },
         "mode": "lines",
         "type": "scatter3d",
         "x": [
          0,
          -0.2093
         ],
         "y": [
          0,
          1.8825
         ],
         "z": [
          0,
          0.642172
         ]
        },
        {
         "line": {
          "color": "rgb(20, 0, 145)",
          "width": 2
         },
         "mode": "lines",
         "type": "scatter3d",
         "x": [
          0,
          -0.20731
         ],
         "y": [
          0,
          1.884356
         ],
         "z": [
          0,
          0.637358
         ]
        },
        {
         "line": {
          "color": "rgb(20, 0, 145)",
          "width": 2
         },
         "mode": "lines",
         "type": "scatter3d",
         "x": [
          0,
          -0.0275842
         ],
         "y": [
          0,
          1.888012
         ],
         "z": [
          0,
          0.659282
         ]
        },
        {
         "line": {
          "color": "rgb(20, 0, 145)",
          "width": 2
         },
         "mode": "lines",
         "type": "scatter3d",
         "x": [
          0,
          -0.031196
         ],
         "y": [
          0,
          1.888734
         ],
         "z": [
          0,
          0.657046
         ]
        },
        {
         "line": {
          "color": "rgb(20, 0, 145)",
          "width": 2
         },
         "mode": "lines",
         "type": "scatter3d",
         "x": [
          0,
          -0.027978
         ],
         "y": [
          0,
          1.887538
         ],
         "z": [
          0,
          0.660618
         ]
        },
        {
         "line": {
          "color": "rgb(20, 0, 145)",
          "width": 2
         },
         "mode": "lines",
         "type": "scatter3d",
         "x": [
          0,
          -0.027978
         ],
         "y": [
          0,
          1.887538
         ],
         "z": [
          0,
          0.660618
         ]
        },
        {
         "line": {
          "color": "rgb(20, 0, 145)",
          "width": 2
         },
         "mode": "lines",
         "type": "scatter3d",
         "x": [
          0,
          -0.0311938
         ],
         "y": [
          0,
          1.888736
         ],
         "z": [
          0,
          0.65704
         ]
        },
        {
         "line": {
          "color": "rgb(20, 0, 145)",
          "width": 2
         },
         "mode": "lines",
         "type": "scatter3d",
         "x": [
          0,
          -0.028224
         ],
         "y": [
          0,
          1.88893
         ],
         "z": [
          0,
          0.656618
         ]
        },
        {
         "line": {
          "color": "rgb(20, 0, 145)",
          "width": 2
         },
         "mode": "lines",
         "type": "scatter3d",
         "x": [
          0,
          -0.0318616
         ],
         "y": [
          0,
          1.889326
         ],
         "z": [
          0,
          0.655308
         ]
        },
        {
         "line": {
          "color": "rgb(20, 0, 145)",
          "width": 2
         },
         "mode": "lines",
         "type": "scatter3d",
         "x": [
          0,
          -0.0292886
         ],
         "y": [
          0,
          1.889892
         ],
         "z": [
          0,
          0.653798
         ]
        },
        {
         "line": {
          "color": "rgb(20, 0, 145)",
          "width": 2
         },
         "mode": "lines",
         "type": "scatter3d",
         "x": [
          0,
          -0.0292886
         ],
         "y": [
          0,
          1.889892
         ],
         "z": [
          0,
          0.653798
         ]
        },
        {
         "line": {
          "color": "rgb(20, 0, 145)",
          "width": 2
         },
         "mode": "lines",
         "type": "scatter3d",
         "x": [
          0,
          -0.030904
         ],
         "y": [
          0,
          1.889804
         ],
         "z": [
          0,
          0.653976
         ]
        },
        {
         "line": {
          "color": "rgb(20, 0, 145)",
          "width": 2
         },
         "mode": "lines",
         "type": "scatter3d",
         "x": [
          0,
          -0.029631
         ],
         "y": [
          0,
          1.890356
         ],
         "z": [
          0,
          0.65244
         ]
        },
        {
         "line": {
          "color": "rgb(20, 0, 145)",
          "width": 2
         },
         "mode": "lines",
         "type": "scatter3d",
         "x": [
          0,
          -0.0305558
         ],
         "y": [
          0,
          1.890746
         ],
         "z": [
          0,
          0.651268
         ]
        },
        {
         "line": {
          "color": "rgb(20, 0, 145)",
          "width": 2
         },
         "mode": "lines",
         "type": "scatter3d",
         "x": [
          0,
          -0.0281102
         ],
         "y": [
          0,
          1.891976
         ],
         "z": [
          0,
          0.647796
         ]
        },
        {
         "line": {
          "color": "rgb(20, 0, 145)",
          "width": 2
         },
         "mode": "lines",
         "type": "scatter3d",
         "x": [
          0,
          -0.0281102
         ],
         "y": [
          0,
          1.891976
         ],
         "z": [
          0,
          0.647796
         ]
        },
        {
         "line": {
          "color": "rgb(20, 0, 145)",
          "width": 2
         },
         "mode": "lines",
         "type": "scatter3d",
         "x": [
          0,
          -0.025504
         ],
         "y": [
          0,
          1.892884
         ],
         "z": [
          0,
          0.645244
         ]
        },
        {
         "line": {
          "color": "rgb(20, 0, 145)",
          "width": 2
         },
         "mode": "lines",
         "type": "scatter3d",
         "x": [
          0,
          -0.0279886
         ],
         "y": [
          0,
          1.892656
         ],
         "z": [
          0,
          0.645812
         ]
        },
        {
         "line": {
          "color": "rgb(20, 0, 145)",
          "width": 2
         },
         "mode": "lines",
         "type": "scatter3d",
         "x": [
          0,
          -0.0284958
         ],
         "y": [
          0,
          1.8931
         ],
         "z": [
          0,
          0.644482
         ]
        },
        {
         "line": {
          "color": "rgb(20, 0, 145)",
          "width": 2
         },
         "mode": "lines",
         "type": "scatter3d",
         "x": [
          0,
          -0.0284958
         ],
         "y": [
          0,
          1.8931
         ],
         "z": [
          0,
          0.644482
         ]
        },
        {
         "line": {
          "color": "rgb(20, 0, 145)",
          "width": 2
         },
         "mode": "lines",
         "type": "scatter3d",
         "x": [
          0,
          -0.0303686
         ],
         "y": [
          0,
          1.894192
         ],
         "z": [
          0,
          0.64118
         ]
        },
        {
         "line": {
          "color": "rgb(20, 0, 145)",
          "width": 2
         },
         "mode": "lines",
         "type": "scatter3d",
         "x": [
          0,
          -0.0259756
         ],
         "y": [
          0,
          1.893606
         ],
         "z": [
          0,
          0.643104
         ]
        },
        {
         "line": {
          "color": "rgb(20, 0, 145)",
          "width": 2
         },
         "mode": "lines",
         "type": "scatter3d",
         "x": [
          0,
          -0.0317866
         ],
         "y": [
          0,
          1.893784
         ],
         "z": [
          0,
          0.642318
         ]
        },
        {
         "line": {
          "color": "rgb(20, 0, 145)",
          "width": 2
         },
         "mode": "lines",
         "type": "scatter3d",
         "x": [
          0,
          -0.0285552
         ],
         "y": [
          0,
          1.893628
         ],
         "z": [
          0,
          0.64293
         ]
        },
        {
         "line": {
          "color": "rgb(20, 0, 145)",
          "width": 2
         },
         "mode": "lines",
         "type": "scatter3d",
         "x": [
          0,
          -0.0320712
         ],
         "y": [
          0,
          1.891488
         ],
         "z": [
          0,
          0.649034
         ]
        },
        {
         "line": {
          "color": "rgb(20, 0, 145)",
          "width": 2
         },
         "mode": "lines",
         "type": "scatter3d",
         "x": [
          0,
          -0.0320712
         ],
         "y": [
          0,
          1.891488
         ],
         "z": [
          0,
          0.649034
         ]
        },
        {
         "line": {
          "color": "rgb(20, 0, 145)",
          "width": 2
         },
         "mode": "lines",
         "type": "scatter3d",
         "x": [
          0,
          -0.0295862
         ],
         "y": [
          0,
          1.891656
         ],
         "z": [
          0,
          0.648662
         ]
        },
        {
         "line": {
          "color": "rgb(20, 0, 145)",
          "width": 2
         },
         "mode": "lines",
         "type": "scatter3d",
         "x": [
          0,
          -0.0306554
         ],
         "y": [
          0,
          1.892606
         ],
         "z": [
          0,
          0.645832
         ]
        },
        {
         "line": {
          "color": "rgb(20, 0, 145)",
          "width": 2
         },
         "mode": "lines",
         "type": "scatter3d",
         "x": [
          0,
          -0.0296678
         ],
         "y": [
          0,
          1.891344
         ],
         "z": [
          0,
          0.649564
         ]
        },
        {
         "line": {
          "color": "rgb(20, 0, 145)",
          "width": 2
         },
         "mode": "lines",
         "type": "scatter3d",
         "x": [
          0,
          -0.0278684
         ],
         "y": [
          0,
          1.89287
         ],
         "z": [
          0,
          0.645186
         ]
        },
        {
         "line": {
          "color": "rgb(20, 0, 145)",
          "width": 2
         },
         "mode": "lines",
         "type": "scatter3d",
         "x": [
          0,
          -0.0278684
         ],
         "y": [
          0,
          1.89287
         ],
         "z": [
          0,
          0.645186
         ]
        },
        {
         "line": {
          "color": "rgb(20, 0, 145)",
          "width": 2
         },
         "mode": "lines",
         "type": "scatter3d",
         "x": [
          0,
          -0.0302714
         ],
         "y": [
          0,
          1.891658
         ],
         "z": [
          0,
          0.648626
         ]
        },
        {
         "line": {
          "color": "rgb(20, 0, 145)",
          "width": 2
         },
         "mode": "lines",
         "type": "scatter3d",
         "x": [
          0,
          -0.03099
         ],
         "y": [
          0,
          1.890948
         ],
         "z": [
          0,
          0.650658
         ]
        },
        {
         "line": {
          "color": "rgb(20, 0, 145)",
          "width": 2
         },
         "mode": "lines",
         "type": "scatter3d",
         "x": [
          0,
          -0.032236
         ],
         "y": [
          0,
          1.891698
         ],
         "z": [
          0,
          0.648414
         ]
        },
        {
         "line": {
          "color": "rgb(20, 0, 145)",
          "width": 2
         },
         "mode": "lines",
         "type": "scatter3d",
         "x": [
          0,
          -0.032236
         ],
         "y": [
          0,
          1.891698
         ],
         "z": [
          0,
          0.648414
         ]
        },
        {
         "line": {
          "color": "rgb(20, 0, 145)",
          "width": 2
         },
         "mode": "lines",
         "type": "scatter3d",
         "x": [
          0,
          -0.0292842
         ],
         "y": [
          0,
          1.891266
         ],
         "z": [
          0,
          0.649812
         ]
        },
        {
         "line": {
          "color": "rgb(20, 0, 145)",
          "width": 2
         },
         "mode": "lines",
         "type": "scatter3d",
         "x": [
          0,
          -0.029078
         ],
         "y": [
          0,
          1.892976
         ],
         "z": [
          0,
          0.644824
         ]
        },
        {
         "line": {
          "color": "rgb(20, 0, 145)",
          "width": 2
         },
         "mode": "lines",
         "type": "scatter3d",
         "x": [
          0,
          -0.02892
         ],
         "y": [
          0,
          1.891446
         ],
         "z": [
          0,
          0.649306
         ]
        },
        {
         "line": {
          "color": "rgb(20, 0, 145)",
          "width": 2
         },
         "mode": "lines",
         "type": "scatter3d",
         "x": [
          0,
          -0.0302572
         ],
         "y": [
          0,
          1.891788
         ],
         "z": [
          0,
          0.648248
         ]
        },
        {
         "line": {
          "color": "rgb(20, 0, 145)",
          "width": 2
         },
         "mode": "lines",
         "type": "scatter3d",
         "x": [
          0,
          -0.0285502
         ],
         "y": [
          0,
          1.89205
         ],
         "z": [
          0,
          0.64756
         ]
        },
        {
         "line": {
          "color": "rgb(20, 0, 145)",
          "width": 2
         },
         "mode": "lines",
         "type": "scatter3d",
         "x": [
          0,
          -0.0285502
         ],
         "y": [
          0,
          1.89205
         ],
         "z": [
          0,
          0.64756
         ]
        },
        {
         "line": {
          "color": "rgb(20, 0, 145)",
          "width": 2
         },
         "mode": "lines",
         "type": "scatter3d",
         "x": [
          0,
          -0.0310472
         ],
         "y": [
          0,
          1.892114
         ],
         "z": [
          0,
          0.647258
         ]
        },
        {
         "line": {
          "color": "rgb(20, 0, 145)",
          "width": 2
         },
         "mode": "lines",
         "type": "scatter3d",
         "x": [
          0,
          -0.0273702
         ],
         "y": [
          0,
          1.89491
         ],
         "z": [
          0,
          0.63919
         ]
        },
        {
         "line": {
          "color": "rgb(20, 0, 145)",
          "width": 2
         },
         "mode": "lines",
         "type": "scatter3d",
         "x": [
          0,
          -0.023204
         ],
         "y": [
          0,
          1.900584
         ],
         "z": [
          0,
          0.622288
         ]
        },
        {
         "line": {
          "color": "rgb(20, 0, 145)",
          "width": 2
         },
         "mode": "lines",
         "type": "scatter3d",
         "x": [
          0,
          0.001197766
         ],
         "y": [
          0,
          1.90769
         ],
         "z": [
          0,
          0.600598
         ]
        },
        {
         "line": {
          "color": "rgb(20, 0, 145)",
          "width": 2
         },
         "mode": "lines",
         "type": "scatter3d",
         "x": [
          0,
          0.001197766
         ],
         "y": [
          0,
          1.90769
         ],
         "z": [
          0,
          0.600598
         ]
        },
        {
         "line": {
          "color": "rgb(20, 0, 145)",
          "width": 2
         },
         "mode": "lines",
         "type": "scatter3d",
         "x": [
          0,
          0.0246534
         ],
         "y": [
          0,
          1.904016
         ],
         "z": [
          0,
          0.611652
         ]
        },
        {
         "line": {
          "color": "rgb(20, 0, 145)",
          "width": 2
         },
         "mode": "lines",
         "type": "scatter3d",
         "x": [
          0,
          0.0344024
         ],
         "y": [
          0,
          1.896512
         ],
         "z": [
          0,
          0.634082
         ]
        },
        {
         "line": {
          "color": "rgb(20, 0, 145)",
          "width": 2
         },
         "mode": "lines",
         "type": "scatter3d",
         "x": [
          0,
          0.0387388
         ],
         "y": [
          0,
          1.894384
         ],
         "z": [
          0,
          0.64016
         ]
        },
        {
         "line": {
          "color": "rgb(20, 0, 145)",
          "width": 2
         },
         "mode": "lines",
         "type": "scatter3d",
         "x": [
          0,
          0.0268282
         ],
         "y": [
          0,
          1.887326
         ],
         "z": [
          0,
          0.661274
         ]
        },
        {
         "line": {
          "color": "rgb(20, 0, 145)",
          "width": 2
         },
         "mode": "lines",
         "type": "scatter3d",
         "x": [
          0,
          0.0268282
         ],
         "y": [
          0,
          1.887326
         ],
         "z": [
          0,
          0.661274
         ]
        },
        {
         "line": {
          "color": "rgb(20, 0, 145)",
          "width": 2
         },
         "mode": "lines",
         "type": "scatter3d",
         "x": [
          0,
          0.01626382
         ],
         "y": [
          0,
          1.890352
         ],
         "z": [
          0,
          0.65292
         ]
        },
        {
         "line": {
          "color": "rgb(20, 0, 145)",
          "width": 2
         },
         "mode": "lines",
         "type": "scatter3d",
         "x": [
          0,
          0.00811786
         ],
         "y": [
          0,
          1.89085
         ],
         "z": [
          0,
          0.65163
         ]
        },
        {
         "line": {
          "color": "rgb(20, 0, 145)",
          "width": 2
         },
         "mode": "lines",
         "type": "scatter3d",
         "x": [
          0,
          0.000507692
         ],
         "y": [
          0,
          1.89243
         ],
         "z": [
          0,
          0.647074
         ]
        },
        {
         "line": {
          "color": "rgb(20, 0, 145)",
          "width": 2
         },
         "mode": "lines",
         "type": "scatter3d",
         "x": [
          0,
          -0.0026875
         ],
         "y": [
          0,
          1.894498
         ],
         "z": [
          0,
          0.64099
         ]
        },
        {
         "line": {
          "color": "rgb(20, 0, 145)",
          "width": 2
         },
         "mode": "lines",
         "type": "scatter3d",
         "x": [
          0,
          -0.0026875
         ],
         "y": [
          0,
          1.894498
         ],
         "z": [
          0,
          0.64099
         ]
        },
        {
         "line": {
          "color": "rgb(20, 0, 145)",
          "width": 2
         },
         "mode": "lines",
         "type": "scatter3d",
         "x": [
          0,
          0.00240614
         ],
         "y": [
          0,
          1.894944
         ],
         "z": [
          0,
          0.639676
         ]
        },
        {
         "line": {
          "color": "rgb(20, 0, 145)",
          "width": 2
         },
         "mode": "lines",
         "type": "scatter3d",
         "x": [
          0,
          -0.000938938
         ],
         "y": [
          0,
          1.894284
         ],
         "z": [
          0,
          0.641626
         ]
        },
        {
         "line": {
          "color": "rgb(20, 0, 145)",
          "width": 2
         },
         "mode": "lines",
         "type": "scatter3d",
         "x": [
          0,
          0.00232406
         ],
         "y": [
          0,
          1.895632
         ],
         "z": [
          0,
          0.637634
         ]
        },
        {
         "line": {
          "color": "rgb(20, 0, 145)",
          "width": 2
         },
         "mode": "lines",
         "type": "scatter3d",
         "x": [
          0,
          -0.0023555
         ],
         "y": [
          0,
          1.896892
         ],
         "z": [
          0,
          0.633876
         ]
        },
        {
         "line": {
          "color": "rgb(20, 0, 145)",
          "width": 2
         },
         "mode": "lines",
         "type": "scatter3d",
         "x": [
          0,
          -0.00026757
         ],
         "y": [
          0,
          1.89521
         ],
         "z": [
          0,
          0.63889
         ]
        },
        {
         "line": {
          "color": "rgb(20, 0, 145)",
          "width": 2
         },
         "mode": "lines",
         "type": "scatter3d",
         "x": [
          0,
          -0.00026757
         ],
         "y": [
          0,
          1.89521
         ],
         "z": [
          0,
          0.63889
         ]
        },
        {
         "line": {
          "color": "rgb(20, 0, 145)",
          "width": 2
         },
         "mode": "lines",
         "type": "scatter3d",
         "x": [
          0,
          0.0001136336
         ],
         "y": [
          0,
          1.895842
         ],
         "z": [
          0,
          0.637014
         ]
        },
        {
         "line": {
          "color": "rgb(20, 0, 145)",
          "width": 2
         },
         "mode": "lines",
         "type": "scatter3d",
         "x": [
          0,
          -0.00280624
         ],
         "y": [
          0,
          1.89596
         ],
         "z": [
          0,
          0.636652
         ]
        },
        {
         "line": {
          "color": "rgb(20, 0, 145)",
          "width": 2
         },
         "mode": "lines",
         "type": "scatter3d",
         "x": [
          0,
          -0.00280624
         ],
         "y": [
          0,
          1.89596
         ],
         "z": [
          0,
          0.636652
         ]
        },
        {
         "line": {
          "color": "rgb(20, 0, 145)",
          "width": 2
         },
         "mode": "lines",
         "type": "scatter3d",
         "x": [
          0,
          -0.001753024
         ],
         "y": [
          0,
          1.893772
         ],
         "z": [
          0,
          0.643136
         ]
        },
        {
         "line": {
          "color": "rgb(20, 0, 145)",
          "width": 2
         },
         "mode": "lines",
         "type": "scatter3d",
         "x": [
          0,
          -0.001332424
         ],
         "y": [
          0,
          1.893246
         ],
         "z": [
          0,
          0.644684
         ]
        },
        {
         "line": {
          "color": "rgb(20, 0, 145)",
          "width": 2
         },
         "mode": "lines",
         "type": "scatter3d",
         "x": [
          0,
          -0.00388438
         ],
         "y": [
          0,
          1.892356
         ],
         "z": [
          0,
          0.647284
         ]
        },
        {
         "line": {
          "color": "rgb(20, 0, 145)",
          "width": 2
         },
         "mode": "lines",
         "type": "scatter3d",
         "x": [
          0,
          -0.00244086
         ],
         "y": [
          0,
          1.891568
         ],
         "z": [
          0,
          0.649588
         ]
        },
        {
         "line": {
          "color": "rgb(20, 0, 145)",
          "width": 2
         },
         "mode": "lines",
         "type": "scatter3d",
         "x": [
          0,
          -0.00313818
         ],
         "y": [
          0,
          1.891354
         ],
         "z": [
          0,
          0.65021
         ]
        },
        {
         "line": {
          "color": "rgb(20, 0, 145)",
          "width": 2
         },
         "mode": "lines",
         "type": "scatter3d",
         "x": [
          0,
          -0.00313818
         ],
         "y": [
          0,
          1.891354
         ],
         "z": [
          0,
          0.65021
         ]
        },
        {
         "line": {
          "color": "rgb(20, 0, 145)",
          "width": 2
         },
         "mode": "lines",
         "type": "scatter3d",
         "x": [
          0,
          -0.00223098
         ],
         "y": [
          0,
          1.890686
         ],
         "z": [
          0,
          0.652152
         ]
        },
        {
         "line": {
          "color": "rgb(20, 0, 145)",
          "width": 2
         },
         "mode": "lines",
         "type": "scatter3d",
         "x": [
          0,
          -0.000333238
         ],
         "y": [
          0,
          1.891384
         ],
         "z": [
          0,
          0.65013
         ]
        },
        {
         "line": {
          "color": "rgb(20, 0, 145)",
          "width": 2
         },
         "mode": "lines",
         "type": "scatter3d",
         "x": [
          0,
          -0.001461194
         ],
         "y": [
          0,
          1.891384
         ],
         "z": [
          0,
          0.650126
         ]
        },
        {
         "line": {
          "color": "rgb(20, 0, 145)",
          "width": 2
         },
         "mode": "lines",
         "type": "scatter3d",
         "x": [
          0,
          -0.0029896
         ],
         "y": [
          0,
          1.89117
         ],
         "z": [
          0,
          0.650744
         ]
        },
        {
         "line": {
          "color": "rgb(20, 0, 145)",
          "width": 2
         },
         "mode": "lines",
         "type": "scatter3d",
         "x": [
          0,
          -0.00499368
         ],
         "y": [
          0,
          1.889288
         ],
         "z": [
          0,
          0.656178
         ]
        },
        {
         "line": {
          "color": "rgb(20, 0, 145)",
          "width": 2
         },
         "mode": "lines",
         "type": "scatter3d",
         "x": [
          0,
          -0.00499368
         ],
         "y": [
          0,
          1.889288
         ],
         "z": [
          0,
          0.656178
         ]
        },
        {
         "line": {
          "color": "rgb(20, 0, 145)",
          "width": 2
         },
         "mode": "lines",
         "type": "scatter3d",
         "x": [
          0,
          -0.00339532
         ],
         "y": [
          0,
          1.89115
         ],
         "z": [
          0,
          0.6508
         ]
        },
        {
         "line": {
          "color": "rgb(20, 0, 145)",
          "width": 2
         },
         "mode": "lines",
         "type": "scatter3d",
         "x": [
          0,
          -0.00321652
         ],
         "y": [
          0,
          1.890562
         ],
         "z": [
          0,
          0.652508
         ]
        },
        {
         "line": {
          "color": "rgb(20, 0, 145)",
          "width": 2
         },
         "mode": "lines",
         "type": "scatter3d",
         "x": [
          0,
          -0.00447062
         ],
         "y": [
          0,
          1.890046
         ],
         "z": [
          0,
          0.653994
         ]
        },
        {
         "line": {
          "color": "rgb(20, 0, 145)",
          "width": 2
         },
         "mode": "lines",
         "type": "scatter3d",
         "x": [
          0,
          -0.00447062
         ],
         "y": [
          0,
          1.890046
         ],
         "z": [
          0,
          0.653994
         ]
        },
        {
         "line": {
          "color": "rgb(20, 0, 145)",
          "width": 2
         },
         "mode": "lines",
         "type": "scatter3d",
         "x": [
          0,
          -0.00812364
         ],
         "y": [
          0,
          1.889748
         ],
         "z": [
          0,
          0.654816
         ]
        },
        {
         "line": {
          "color": "rgb(20, 0, 145)",
          "width": 2
         },
         "mode": "lines",
         "type": "scatter3d",
         "x": [
          0,
          -0.00691842
         ],
         "y": [
          0,
          1.890668
         ],
         "z": [
          0,
          0.65217
         ]
        },
        {
         "line": {
          "color": "rgb(20, 0, 145)",
          "width": 2
         },
         "mode": "lines",
         "type": "scatter3d",
         "x": [
          0,
          -0.00591838
         ],
         "y": [
          0,
          1.889242
         ],
         "z": [
          0,
          0.656302
         ]
        },
        {
         "line": {
          "color": "rgb(20, 0, 145)",
          "width": 2
         },
         "mode": "lines",
         "type": "scatter3d",
         "x": [
          0,
          -0.0067534
         ],
         "y": [
          0,
          1.890004
         ],
         "z": [
          0,
          0.654096
         ]
        },
        {
         "line": {
          "color": "rgb(20, 0, 145)",
          "width": 2
         },
         "mode": "lines",
         "type": "scatter3d",
         "x": [
          0,
          -0.0067534
         ],
         "y": [
          0,
          1.890004
         ],
         "z": [
          0,
          0.654096
         ]
        },
        {
         "line": {
          "color": "rgb(20, 0, 145)",
          "width": 2
         },
         "mode": "lines",
         "type": "scatter3d",
         "x": [
          0,
          -0.00927956
         ],
         "y": [
          0,
          1.89142
         ],
         "z": [
          0,
          0.649954
         ]
        },
        {
         "line": {
          "color": "rgb(20, 0, 145)",
          "width": 2
         },
         "mode": "lines",
         "type": "scatter3d",
         "x": [
          0,
          -0.00722574
         ],
         "y": [
          0,
          1.890574
         ],
         "z": [
          0,
          0.652442
         ]
        },
        {
         "line": {
          "color": "rgb(20, 0, 145)",
          "width": 2
         },
         "mode": "lines",
         "type": "scatter3d",
         "x": [
          0,
          -0.010015
         ],
         "y": [
          0,
          1.890328
         ],
         "z": [
          0,
          0.653118
         ]
        },
        {
         "line": {
          "color": "rgb(20, 0, 145)",
          "width": 2
         },
         "mode": "lines",
         "type": "scatter3d",
         "x": [
          0,
          -0.0094743
         ],
         "y": [
          0,
          1.891216
         ],
         "z": [
          0,
          0.650544
         ]
        },
        {
         "line": {
          "color": "rgb(20, 0, 145)",
          "width": 2
         },
         "mode": "lines",
         "type": "scatter3d",
         "x": [
          0,
          -0.0094743
         ],
         "y": [
          0,
          1.891216
         ],
         "z": [
          0,
          0.650544
         ]
        },
        {
         "line": {
          "color": "rgb(20, 0, 145)",
          "width": 2
         },
         "mode": "lines",
         "type": "scatter3d",
         "x": [
          0,
          -0.00737596
         ],
         "y": [
          0,
          1.891662
         ],
         "z": [
          0,
          0.64928
         ]
        },
        {
         "line": {
          "color": "rgb(20, 0, 145)",
          "width": 2
         },
         "mode": "lines",
         "type": "scatter3d",
         "x": [
          0,
          -0.00965694
         ],
         "y": [
          0,
          1.892544
         ],
         "z": [
          0,
          0.64667
         ]
        },
        {
         "line": {
          "color": "rgb(20, 0, 145)",
          "width": 2
         },
         "mode": "lines",
         "type": "scatter3d",
         "x": [
          0,
          -0.01071622
         ],
         "y": [
          0,
          1.89171
         ],
         "z": [
          0,
          0.64909
         ]
        },
        {
         "line": {
          "color": "rgb(20, 0, 145)",
          "width": 2
         },
         "mode": "lines",
         "type": "scatter3d",
         "x": [
          0,
          -0.01044702
         ],
         "y": [
          0,
          1.892778
         ],
         "z": [
          0,
          0.645976
         ]
        },
        {
         "line": {
          "color": "rgb(20, 0, 145)",
          "width": 2
         },
         "mode": "lines",
         "type": "scatter3d",
         "x": [
          0,
          -0.01044702
         ],
         "y": [
          0,
          1.892778
         ],
         "z": [
          0,
          0.645976
         ]
        },
        {
         "line": {
          "color": "rgb(20, 0, 145)",
          "width": 2
         },
         "mode": "lines",
         "type": "scatter3d",
         "x": [
          0,
          -0.00843292
         ],
         "y": [
          0,
          1.891318
         ],
         "z": [
          0,
          0.650264
         ]
        },
        {
         "line": {
          "color": "rgb(20, 0, 145)",
          "width": 2
         },
         "mode": "lines",
         "type": "scatter3d",
         "x": [
          0,
          -0.00918532
         ],
         "y": [
          0,
          1.892824
         ],
         "z": [
          0,
          0.645858
         ]
        },
        {
         "line": {
          "color": "rgb(20, 0, 145)",
          "width": 2
         },
         "mode": "lines",
         "type": "scatter3d",
         "x": [
          0,
          -0.00769004
         ],
         "y": [
          0,
          1.892066
         ],
         "z": [
          0,
          0.648092
         ]
        },
        {
         "line": {
          "color": "rgb(20, 0, 145)",
          "width": 2
         },
         "mode": "lines",
         "type": "scatter3d",
         "x": [
          0,
          -0.01487422
         ],
         "y": [
          0,
          1.891576
         ],
         "z": [
          0,
          0.649402
         ]
        },
        {
         "line": {
          "color": "rgb(20, 0, 145)",
          "width": 2
         },
         "mode": "lines",
         "type": "scatter3d",
         "x": [
          0,
          -0.0115748
         ],
         "y": [
          0,
          1.893428
         ],
         "z": [
          0,
          0.644046
         ]
        },
        {
         "line": {
          "color": "rgb(20, 0, 145)",
          "width": 2
         },
         "mode": "lines",
         "type": "scatter3d",
         "x": [
          0,
          -0.0115748
         ],
         "y": [
          0,
          1.893428
         ],
         "z": [
          0,
          0.644046
         ]
        },
        {
         "line": {
          "color": "rgb(20, 0, 145)",
          "width": 2
         },
         "mode": "lines",
         "type": "scatter3d",
         "x": [
          0,
          0.275772
         ],
         "y": [
          0,
          1.886714
         ],
         "z": [
          0,
          0.603542
         ]
        },
        {
         "line": {
          "color": "rgb(20, 0, 145)",
          "width": 2
         },
         "mode": "lines",
         "type": "scatter3d",
         "x": [
          0,
          0.276378
         ],
         "y": [
          0,
          1.886842
         ],
         "z": [
          0,
          0.602862
         ]
        },
        {
         "line": {
          "color": "rgb(20, 0, 145)",
          "width": 2
         },
         "mode": "lines",
         "type": "scatter3d",
         "x": [
          0,
          0.276374
         ],
         "y": [
          0,
          1.886382
         ],
         "z": [
          0,
          0.604302
         ]
        },
        {
         "line": {
          "color": "rgb(20, 0, 145)",
          "width": 2
         },
         "mode": "lines",
         "type": "scatter3d",
         "x": [
          0,
          0.276166
         ],
         "y": [
          0,
          1.887598
         ],
         "z": [
          0,
          0.60059
         ]
        },
        {
         "line": {
          "color": "rgb(20, 0, 145)",
          "width": 2
         },
         "mode": "lines",
         "type": "scatter3d",
         "x": [
          0,
          0.276166
         ],
         "y": [
          0,
          1.887598
         ],
         "z": [
          0,
          0.60059
         ]
        },
        {
         "line": {
          "color": "rgb(20, 0, 145)",
          "width": 2
         },
         "mode": "lines",
         "type": "scatter3d",
         "x": [
          0,
          0.272318
         ],
         "y": [
          0,
          1.886936
         ],
         "z": [
          0,
          0.60441
         ]
        },
        {
         "line": {
          "color": "rgb(20, 0, 145)",
          "width": 2
         },
         "mode": "lines",
         "type": "scatter3d",
         "x": [
          0,
          0.27537
         ],
         "y": [
          0,
          1.885608
         ],
         "z": [
          0,
          0.607168
         ]
        },
        {
         "line": {
          "color": "rgb(20, 0, 145)",
          "width": 2
         },
         "mode": "lines",
         "type": "scatter3d",
         "x": [
          0,
          0.276134
         ],
         "y": [
          0,
          1.887072
         ],
         "z": [
          0,
          0.602252
         ]
        },
        {
         "line": {
          "color": "rgb(20, 0, 145)",
          "width": 2
         },
         "mode": "lines",
         "type": "scatter3d",
         "x": [
          0,
          0.27357
         ],
         "y": [
          0,
          1.88727
         ],
         "z": [
          0,
          0.602802
         ]
        },
        {
         "line": {
          "color": "rgb(20, 0, 145)",
          "width": 2
         },
         "mode": "lines",
         "type": "scatter3d",
         "x": [
          0,
          0.27357
         ],
         "y": [
          0,
          1.88727
         ],
         "z": [
          0,
          0.602802
         ]
        },
        {
         "line": {
          "color": "rgb(20, 0, 145)",
          "width": 2
         },
         "mode": "lines",
         "type": "scatter3d",
         "x": [
          0,
          0.27633
         ],
         "y": [
          0,
          1.887256
         ],
         "z": [
          0,
          0.60159
         ]
        },
        {
         "line": {
          "color": "rgb(20, 0, 145)",
          "width": 2
         },
         "mode": "lines",
         "type": "scatter3d",
         "x": [
          0,
          0.271294
         ],
         "y": [
          0,
          1.886632
         ],
         "z": [
          0,
          0.605822
         ]
        },
        {
         "line": {
          "color": "rgb(20, 0, 145)",
          "width": 2
         },
         "mode": "lines",
         "type": "scatter3d",
         "x": [
          0,
          0.273028
         ],
         "y": [
          0,
          1.887774
         ],
         "z": [
          0,
          0.601472
         ]
        },
        {
         "line": {
          "color": "rgb(20, 0, 145)",
          "width": 2
         },
         "mode": "lines",
         "type": "scatter3d",
         "x": [
          0,
          0.273028
         ],
         "y": [
          0,
          1.887774
         ],
         "z": [
          0,
          0.601472
         ]
        },
        {
         "line": {
          "color": "rgb(20, 0, 145)",
          "width": 2
         },
         "mode": "lines",
         "type": "scatter3d",
         "x": [
          0,
          0.27528
         ],
         "y": [
          0,
          1.886902
         ],
         "z": [
          0,
          0.603178
         ]
        },
        {
         "line": {
          "color": "rgb(20, 0, 145)",
          "width": 2
         },
         "mode": "lines",
         "type": "scatter3d",
         "x": [
          0,
          0.274612
         ],
         "y": [
          0,
          1.887222
         ],
         "z": [
          0,
          0.602476
         ]
        },
        {
         "line": {
          "color": "rgb(20, 0, 145)",
          "width": 2
         },
         "mode": "lines",
         "type": "scatter3d",
         "x": [
          0,
          0.273838
         ],
         "y": [
          0,
          1.887424
         ],
         "z": [
          0,
          0.602202
         ]
        },
        {
         "line": {
          "color": "rgb(20, 0, 145)",
          "width": 2
         },
         "mode": "lines",
         "type": "scatter3d",
         "x": [
          0,
          0.27306
         ],
         "y": [
          0,
          1.887606
         ],
         "z": [
          0,
          0.60198
         ]
        },
        {
         "line": {
          "color": "rgb(20, 0, 145)",
          "width": 2
         },
         "mode": "lines",
         "type": "scatter3d",
         "x": [
          0,
          0.273786
         ],
         "y": [
          0,
          1.887744
         ],
         "z": [
          0,
          0.601216
         ]
        },
        {
         "line": {
          "color": "rgb(20, 0, 145)",
          "width": 2
         },
         "mode": "lines",
         "type": "scatter3d",
         "x": [
          0,
          0.273786
         ],
         "y": [
          0,
          1.887744
         ],
         "z": [
          0,
          0.601216
         ]
        },
        {
         "line": {
          "color": "rgb(20, 0, 145)",
          "width": 2
         },
         "mode": "lines",
         "type": "scatter3d",
         "x": [
          0,
          0.271696
         ],
         "y": [
          0,
          1.888946
         ],
         "z": [
          0,
          0.598386
         ]
        },
        {
         "line": {
          "color": "rgb(20, 0, 145)",
          "width": 2
         },
         "mode": "lines",
         "type": "scatter3d",
         "x": [
          0,
          0.274898
         ],
         "y": [
          0,
          1.887502
         ],
         "z": [
          0,
          0.601474
         ]
        },
        {
         "line": {
          "color": "rgb(20, 0, 145)",
          "width": 2
         },
         "mode": "lines",
         "type": "scatter3d",
         "x": [
          0,
          0.271998
         ],
         "y": [
          0,
          1.888094
         ],
         "z": [
          0,
          0.600932
         ]
        },
        {
         "line": {
          "color": "rgb(20, 0, 145)",
          "width": 2
         },
         "mode": "lines",
         "type": "scatter3d",
         "x": [
          0,
          0.271998
         ],
         "y": [
          0,
          1.888094
         ],
         "z": [
          0,
          0.600932
         ]
        },
        {
         "line": {
          "color": "rgb(20, 0, 145)",
          "width": 2
         },
         "mode": "lines",
         "type": "scatter3d",
         "x": [
          0,
          0.27365
         ],
         "y": [
          0,
          1.888156
         ],
         "z": [
          0,
          0.599982
         ]
        },
        {
         "line": {
          "color": "rgb(20, 0, 145)",
          "width": 2
         },
         "mode": "lines",
         "type": "scatter3d",
         "x": [
          0,
          0.276008
         ],
         "y": [
          0,
          1.88809
         ],
         "z": [
          0,
          0.59911
         ]
        },
        {
         "line": {
          "color": "rgb(20, 0, 145)",
          "width": 2
         },
         "mode": "lines",
         "type": "scatter3d",
         "x": [
          0,
          0.273884
         ],
         "y": [
          0,
          1.888224
         ],
         "z": [
          0,
          0.599668
         ]
        },
        {
         "line": {
          "color": "rgb(20, 0, 145)",
          "width": 2
         },
         "mode": "lines",
         "type": "scatter3d",
         "x": [
          0,
          0.268864
         ],
         "y": [
          0,
          1.889626
         ],
         "z": [
          0,
          0.597516
         ]
        },
        {
         "line": {
          "color": "rgb(20, 0, 145)",
          "width": 2
         },
         "mode": "lines",
         "type": "scatter3d",
         "x": [
          0,
          0.271752
         ],
         "y": [
          0,
          1.888782
         ],
         "z": [
          0,
          0.598876
         ]
        },
        {
         "line": {
          "color": "rgb(20, 0, 145)",
          "width": 2
         },
         "mode": "lines",
         "type": "scatter3d",
         "x": [
          0,
          0.271752
         ],
         "y": [
          0,
          1.888782
         ],
         "z": [
          0,
          0.598876
         ]
        },
        {
         "line": {
          "color": "rgb(20, 0, 145)",
          "width": 2
         },
         "mode": "lines",
         "type": "scatter3d",
         "x": [
          0,
          0.27013
         ],
         "y": [
          0,
          1.889274
         ],
         "z": [
          0,
          0.598058
         ]
        },
        {
         "line": {
          "color": "rgb(20, 0, 145)",
          "width": 2
         },
         "mode": "lines",
         "type": "scatter3d",
         "x": [
          0,
          0.26979
         ],
         "y": [
          0,
          1.88977
         ],
         "z": [
          0,
          0.596642
         ]
        },
        {
         "line": {
          "color": "rgb(20, 0, 145)",
          "width": 2
         },
         "mode": "lines",
         "type": "scatter3d",
         "x": [
          0,
          0.265828
         ],
         "y": [
          0,
          1.890104
         ],
         "z": [
          0,
          0.59736
         ]
        },
        {
         "line": {
          "color": "rgb(20, 0, 145)",
          "width": 2
         },
         "mode": "lines",
         "type": "scatter3d",
         "x": [
          0,
          0.269144
         ],
         "y": [
          0,
          1.890274
         ],
         "z": [
          0,
          0.595336
         ]
        },
        {
         "line": {
          "color": "rgb(20, 0, 145)",
          "width": 2
         },
         "mode": "lines",
         "type": "scatter3d",
         "x": [
          0,
          0.269144
         ],
         "y": [
          0,
          1.890274
         ],
         "z": [
          0,
          0.595336
         ]
        },
        {
         "line": {
          "color": "rgb(20, 0, 145)",
          "width": 2
         },
         "mode": "lines",
         "type": "scatter3d",
         "x": [
          0,
          0.266572
         ],
         "y": [
          0,
          1.89031
         ],
         "z": [
          0,
          0.596378
         ]
        },
        {
         "line": {
          "color": "rgb(20, 0, 145)",
          "width": 2
         },
         "mode": "lines",
         "type": "scatter3d",
         "x": [
          0,
          0.265642
         ],
         "y": [
          0,
          1.891054
         ],
         "z": [
          0,
          0.594432
         ]
        },
        {
         "line": {
          "color": "rgb(20, 0, 145)",
          "width": 2
         },
         "mode": "lines",
         "type": "scatter3d",
         "x": [
          0,
          0.266866
         ],
         "y": [
          0,
          1.890758
         ],
         "z": [
          0,
          0.594824
         ]
        },
        {
         "line": {
          "color": "rgb(20, 0, 145)",
          "width": 2
         },
         "mode": "lines",
         "type": "scatter3d",
         "x": [
          0,
          0.269438
         ],
         "y": [
          0,
          1.89033
         ],
         "z": [
          0,
          0.595026
         ]
        },
        {
         "line": {
          "color": "rgb(20, 0, 145)",
          "width": 2
         },
         "mode": "lines",
         "type": "scatter3d",
         "x": [
          0,
          0.269438
         ],
         "y": [
          0,
          1.89033
         ],
         "z": [
          0,
          0.595026
         ]
        },
        {
         "line": {
          "color": "rgb(20, 0, 145)",
          "width": 2
         },
         "mode": "lines",
         "type": "scatter3d",
         "x": [
          0,
          0.268076
         ],
         "y": [
          0,
          1.889086
         ],
         "z": [
          0,
          0.599578
         ]
        },
        {
         "line": {
          "color": "rgb(20, 0, 145)",
          "width": 2
         },
         "mode": "lines",
         "type": "scatter3d",
         "x": [
          0,
          0.266102
         ],
         "y": [
          0,
          1.888952
         ],
         "z": [
          0,
          0.600878
         ]
        },
        {
         "line": {
          "color": "rgb(20, 0, 145)",
          "width": 2
         },
         "mode": "lines",
         "type": "scatter3d",
         "x": [
          0,
          0.266018
         ],
         "y": [
          0,
          1.890248
         ],
         "z": [
          0,
          0.596824
         ]
        },
        {
         "line": {
          "color": "rgb(20, 0, 145)",
          "width": 2
         },
         "mode": "lines",
         "type": "scatter3d",
         "x": [
          0,
          0.26133
         ],
         "y": [
          0,
          1.889824
         ],
         "z": [
          0,
          0.600228
         ]
        },
        {
         "line": {
          "color": "rgb(20, 0, 145)",
          "width": 2
         },
         "mode": "lines",
         "type": "scatter3d",
         "x": [
          0,
          0.26133
         ],
         "y": [
          0,
          1.889824
         ],
         "z": [
          0,
          0.600228
         ]
        },
        {
         "line": {
          "color": "rgb(20, 0, 145)",
          "width": 2
         },
         "mode": "lines",
         "type": "scatter3d",
         "x": [
          0,
          0.26444
         ],
         "y": [
          0,
          1.890584
         ],
         "z": [
          0,
          0.59646
         ]
        },
        {
         "line": {
          "color": "rgb(20, 0, 145)",
          "width": 2
         },
         "mode": "lines",
         "type": "scatter3d",
         "x": [
          0,
          0.25762
         ],
         "y": [
          0,
          1.891038
         ],
         "z": [
          0,
          0.598002
         ]
        },
        {
         "line": {
          "color": "rgb(20, 0, 145)",
          "width": 2
         },
         "mode": "lines",
         "type": "scatter3d",
         "x": [
          0,
          0.263304
         ],
         "y": [
          0,
          1.891702
         ],
         "z": [
          0,
          0.593408
         ]
        },
        {
         "line": {
          "color": "rgb(20, 0, 145)",
          "width": 2
         },
         "mode": "lines",
         "type": "scatter3d",
         "x": [
          0,
          0.257662
         ],
         "y": [
          0,
          1.89154
         ],
         "z": [
          0,
          0.596394
         ]
        },
        {
         "line": {
          "color": "rgb(20, 0, 145)",
          "width": 2
         },
         "mode": "lines",
         "type": "scatter3d",
         "x": [
          0,
          0.257662
         ],
         "y": [
          0,
          1.89154
         ],
         "z": [
          0,
          0.596394
         ]
        },
        {
         "line": {
          "color": "rgb(20, 0, 145)",
          "width": 2
         },
         "mode": "lines",
         "type": "scatter3d",
         "x": [
          0,
          0.252914
         ],
         "y": [
          0,
          1.891086
         ],
         "z": [
          0,
          0.599858
         ]
        },
        {
         "line": {
          "color": "rgb(20, 0, 145)",
          "width": 2
         },
         "mode": "lines",
         "type": "scatter3d",
         "x": [
          0,
          0.25932
         ],
         "y": [
          0,
          1.891124
         ],
         "z": [
          0,
          0.596994
         ]
        },
        {
         "line": {
          "color": "rgb(20, 0, 145)",
          "width": 2
         },
         "mode": "lines",
         "type": "scatter3d",
         "x": [
          0,
          0.25829
         ],
         "y": [
          0,
          1.890338
         ],
         "z": [
          0,
          0.599926
         ]
        },
        {
         "line": {
          "color": "rgb(20, 0, 145)",
          "width": 2
         },
         "mode": "lines",
         "type": "scatter3d",
         "x": [
          0,
          0.261856
         ],
         "y": [
          0,
          1.891316
         ],
         "z": [
          0,
          0.595278
         ]
        },
        {
         "line": {
          "color": "rgb(20, 0, 145)",
          "width": 2
         },
         "mode": "lines",
         "type": "scatter3d",
         "x": [
          0,
          0.261856
         ],
         "y": [
          0,
          1.891316
         ],
         "z": [
          0,
          0.595278
         ]
        },
        {
         "line": {
          "color": "rgb(20, 0, 145)",
          "width": 2
         },
         "mode": "lines",
         "type": "scatter3d",
         "x": [
          0,
          0.253342
         ],
         "y": [
          0,
          1.890874
         ],
         "z": [
          0,
          0.600342
         ]
        },
        {
         "line": {
          "color": "rgb(20, 0, 145)",
          "width": 2
         },
         "mode": "lines",
         "type": "scatter3d",
         "x": [
          0,
          0.259448
         ],
         "y": [
          0,
          1.892088
         ],
         "z": [
          0,
          0.59388
         ]
        },
        {
         "line": {
          "color": "rgb(20, 0, 145)",
          "width": 2
         },
         "mode": "lines",
         "type": "scatter3d",
         "x": [
          0,
          0.256432
         ],
         "y": [
          0,
          1.891122
         ],
         "z": [
          0,
          0.59825
         ]
        },
        {
         "line": {
          "color": "rgb(20, 0, 145)",
          "width": 2
         },
         "mode": "lines",
         "type": "scatter3d",
         "x": [
          0,
          0.259112
         ],
         "y": [
          0,
          1.891848
         ],
         "z": [
          0,
          0.59479
         ]
        },
        {
         "line": {
          "color": "rgb(20, 0, 145)",
          "width": 2
         },
         "mode": "lines",
         "type": "scatter3d",
         "x": [
          0,
          0.259112
         ],
         "y": [
          0,
          1.891848
         ],
         "z": [
          0,
          0.59479
         ]
        },
        {
         "line": {
          "color": "rgb(20, 0, 145)",
          "width": 2
         },
         "mode": "lines",
         "type": "scatter3d",
         "x": [
          0,
          0.260448
         ],
         "y": [
          0,
          1.891594
         ],
         "z": [
          0,
          0.595012
         ]
        },
        {
         "line": {
          "color": "rgb(20, 0, 145)",
          "width": 2
         },
         "mode": "lines",
         "type": "scatter3d",
         "x": [
          0,
          0.258944
         ],
         "y": [
          0,
          1.890478
         ],
         "z": [
          0,
          0.5992
         ]
        },
        {
         "line": {
          "color": "rgb(20, 0, 145)",
          "width": 2
         },
         "mode": "lines",
         "type": "scatter3d",
         "x": [
          0,
          0.259556
         ],
         "y": [
          0,
          1.890548
         ],
         "z": [
          0,
          0.598718
         ]
        },
        {
         "line": {
          "color": "rgb(20, 0, 145)",
          "width": 2
         },
         "mode": "lines",
         "type": "scatter3d",
         "x": [
          0,
          0.258494
         ],
         "y": [
          0,
          1.890722
         ],
         "z": [
          0,
          0.598622
         ]
        },
        {
         "line": {
          "color": "rgb(20, 0, 145)",
          "width": 2
         },
         "mode": "lines",
         "type": "scatter3d",
         "x": [
          0,
          0.258494
         ],
         "y": [
          0,
          1.890722
         ],
         "z": [
          0,
          0.598622
         ]
        },
        {
         "line": {
          "color": "rgb(20, 0, 145)",
          "width": 2
         },
         "mode": "lines",
         "type": "scatter3d",
         "x": [
          0,
          0.262066
         ],
         "y": [
          0,
          1.89134
         ],
         "z": [
          0,
          0.59511
         ]
        },
        {
         "line": {
          "color": "rgb(20, 0, 145)",
          "width": 2
         },
         "mode": "lines",
         "type": "scatter3d",
         "x": [
          0,
          0.25975
         ],
         "y": [
          0,
          1.892004
         ],
         "z": [
          0,
          0.594014
         ]
        },
        {
         "line": {
          "color": "rgb(20, 0, 145)",
          "width": 2
         },
         "mode": "lines",
         "type": "scatter3d",
         "x": [
          0,
          0.26142
         ],
         "y": [
          0,
          1.890902
         ],
         "z": [
          0,
          0.596782
         ]
        },
        {
         "line": {
          "color": "rgb(20, 0, 145)",
          "width": 2
         },
         "mode": "lines",
         "type": "scatter3d",
         "x": [
          0,
          0.25713
         ],
         "y": [
          0,
          1.891996
         ],
         "z": [
          0,
          0.595176
         ]
        },
        {
         "line": {
          "color": "rgb(20, 0, 145)",
          "width": 2
         },
         "mode": "lines",
         "type": "scatter3d",
         "x": [
          0,
          0.25713
         ],
         "y": [
          0,
          1.891996
         ],
         "z": [
          0,
          0.595176
         ]
        },
        {
         "line": {
          "color": "rgb(20, 0, 145)",
          "width": 2
         },
         "mode": "lines",
         "type": "scatter3d",
         "x": [
          0,
          0.25409
         ],
         "y": [
          0,
          1.89286
         ],
         "z": [
          0,
          0.593732
         ]
        },
        {
         "line": {
          "color": "rgb(20, 0, 145)",
          "width": 2
         },
         "mode": "lines",
         "type": "scatter3d",
         "x": [
          0,
          0.255862
         ],
         "y": [
          0,
          1.894144
         ],
         "z": [
          0,
          0.58886
         ]
        },
        {
         "line": {
          "color": "rgb(20, 0, 145)",
          "width": 2
         },
         "mode": "lines",
         "type": "scatter3d",
         "x": [
          0,
          0.255684
         ],
         "y": [
          0,
          1.892954
         ],
         "z": [
          0,
          0.592746
         ]
        },
        {
         "line": {
          "color": "rgb(20, 0, 145)",
          "width": 2
         },
         "mode": "lines",
         "type": "scatter3d",
         "x": [
          0,
          0.252768
         ],
         "y": [
          0,
          1.893336
         ],
         "z": [
          0,
          0.592778
         ]
        },
        {
         "line": {
          "color": "rgb(20, 0, 145)",
          "width": 2
         },
         "mode": "lines",
         "type": "scatter3d",
         "x": [
          0,
          0.252768
         ],
         "y": [
          0,
          1.893336
         ],
         "z": [
          0,
          0.592778
         ]
        },
        {
         "line": {
          "color": "rgb(20, 0, 145)",
          "width": 2
         },
         "mode": "lines",
         "type": "scatter3d",
         "x": [
          0,
          0.25652
         ],
         "y": [
          0,
          1.893192
         ],
         "z": [
          0,
          0.591624
         ]
        },
        {
         "line": {
          "color": "rgb(20, 0, 145)",
          "width": 2
         },
         "mode": "lines",
         "type": "scatter3d",
         "x": [
          0,
          0.259008
         ],
         "y": [
          0,
          1.892444
         ],
         "z": [
          0,
          0.592936
         ]
        },
        {
         "line": {
          "color": "rgb(20, 0, 145)",
          "width": 2
         },
         "mode": "lines",
         "type": "scatter3d",
         "x": [
          0,
          0.262102
         ],
         "y": [
          0,
          1.892466
         ],
         "z": [
          0,
          0.591504
         ]
        },
        {
         "line": {
          "color": "rgb(20, 0, 145)",
          "width": 2
         },
         "mode": "lines",
         "type": "scatter3d",
         "x": [
          0,
          0.262862
         ],
         "y": [
          0,
          1.89324
         ],
         "z": [
          0,
          0.588682
         ]
        },
        {
         "line": {
          "color": "rgb(20, 0, 145)",
          "width": 2
         },
         "mode": "lines",
         "type": "scatter3d",
         "x": [
          0,
          0.262862
         ],
         "y": [
          0,
          1.89324
         ],
         "z": [
          0,
          0.588682
         ]
        },
        {
         "line": {
          "color": "rgb(20, 0, 145)",
          "width": 2
         },
         "mode": "lines",
         "type": "scatter3d",
         "x": [
          0,
          0.26107
         ],
         "y": [
          0,
          1.893142
         ],
         "z": [
          0,
          0.589792
         ]
        },
        {
         "line": {
          "color": "rgb(20, 0, 145)",
          "width": 2
         },
         "mode": "lines",
         "type": "scatter3d",
         "x": [
          0,
          0.265006
         ],
         "y": [
          0,
          1.891914
         ],
         "z": [
          0,
          0.591976
         ]
        },
        {
         "line": {
          "color": "rgb(20, 0, 145)",
          "width": 2
         },
         "mode": "lines",
         "type": "scatter3d",
         "x": [
          0,
          0.266006
         ],
         "y": [
          0,
          1.89299
         ],
         "z": [
          0,
          0.588072
         ]
        },
        {
         "line": {
          "color": "rgb(20, 0, 145)",
          "width": 2
         },
         "mode": "lines",
         "type": "scatter3d",
         "x": [
          0,
          0.262988
         ],
         "y": [
          0,
          1.893528
         ],
         "z": [
          0,
          0.587698
         ]
        },
        {
         "line": {
          "color": "rgb(20, 0, 145)",
          "width": 2
         },
         "mode": "lines",
         "type": "scatter3d",
         "x": [
          0,
          0.262988
         ],
         "y": [
          0,
          1.893528
         ],
         "z": [
          0,
          0.587698
         ]
        },
        {
         "line": {
          "color": "rgb(20, 0, 145)",
          "width": 2
         },
         "mode": "lines",
         "type": "scatter3d",
         "x": [
          0,
          0.260396
         ],
         "y": [
          0,
          1.892916
         ],
         "z": [
          0,
          0.590816
         ]
        },
        {
         "line": {
          "color": "rgb(20, 0, 145)",
          "width": 2
         },
         "mode": "lines",
         "type": "scatter3d",
         "x": [
          0,
          0.260738
         ],
         "y": [
          0,
          1.893898
         ],
         "z": [
          0,
          0.587506
         ]
        },
        {
         "line": {
          "color": "rgb(20, 0, 145)",
          "width": 2
         },
         "mode": "lines",
         "type": "scatter3d",
         "x": [
          0,
          0.256556
         ],
         "y": [
          0,
          1.89562
         ],
         "z": [
          0,
          0.583786
         ]
        },
        {
         "line": {
          "color": "rgb(20, 0, 145)",
          "width": 2
         },
         "mode": "lines",
         "type": "scatter3d",
         "x": [
          0,
          0.256096
         ],
         "y": [
          0,
          1.895174
         ],
         "z": [
          0,
          0.58543
         ]
        },
        {
         "line": {
          "color": "rgb(20, 0, 145)",
          "width": 2
         },
         "mode": "lines",
         "type": "scatter3d",
         "x": [
          0,
          0.256096
         ],
         "y": [
          0,
          1.895174
         ],
         "z": [
          0,
          0.58543
         ]
        },
        {
         "line": {
          "color": "rgb(20, 0, 145)",
          "width": 2
         },
         "mode": "lines",
         "type": "scatter3d",
         "x": [
          0,
          0.261714
         ],
         "y": [
          0,
          1.894534
         ],
         "z": [
          0,
          0.58502
         ]
        },
        {
         "line": {
          "color": "rgb(20, 0, 145)",
          "width": 2
         },
         "mode": "lines",
         "type": "scatter3d",
         "x": [
          0,
          0.258154
         ],
         "y": [
          0,
          1.894522
         ],
         "z": [
          0,
          0.58664
         ]
        },
        {
         "line": {
          "color": "rgb(20, 0, 145)",
          "width": 2
         },
         "mode": "lines",
         "type": "scatter3d",
         "x": [
          0,
          0.260638
         ],
         "y": [
          0,
          1.89359
         ],
         "z": [
          0,
          0.588548
         ]
        },
        {
         "line": {
          "color": "rgb(20, 0, 145)",
          "width": 2
         },
         "mode": "lines",
         "type": "scatter3d",
         "x": [
          0,
          0.25825
         ],
         "y": [
          0,
          1.894206
         ],
         "z": [
          0,
          0.587614
         ]
        },
        {
         "line": {
          "color": "rgb(20, 0, 145)",
          "width": 2
         },
         "mode": "lines",
         "type": "scatter3d",
         "x": [
          0,
          0.25825
         ],
         "y": [
          0,
          1.894206
         ],
         "z": [
          0,
          0.587614
         ]
        },
        {
         "line": {
          "color": "rgb(20, 0, 145)",
          "width": 2
         },
         "mode": "lines",
         "type": "scatter3d",
         "x": [
          0,
          0.260422
         ],
         "y": [
          0,
          1.894644
         ],
         "z": [
          0,
          0.585238
         ]
        },
        {
         "line": {
          "color": "rgb(20, 0, 145)",
          "width": 2
         },
         "mode": "lines",
         "type": "scatter3d",
         "x": [
          0,
          0.258388
         ],
         "y": [
          0,
          1.895576
         ],
         "z": [
          0,
          0.583118
         ]
        },
        {
         "line": {
          "color": "rgb(20, 0, 145)",
          "width": 2
         },
         "mode": "lines",
         "type": "scatter3d",
         "x": [
          0,
          0.254664
         ],
         "y": [
          0,
          1.895832
         ],
         "z": [
          0,
          0.583926
         ]
        },
        {
         "line": {
          "color": "rgb(20, 0, 145)",
          "width": 2
         },
         "mode": "lines",
         "type": "scatter3d",
         "x": [
          0,
          0.260202
         ],
         "y": [
          0,
          1.895384
         ],
         "z": [
          0,
          0.582938
         ]
        },
        {
         "line": {
          "color": "rgb(20, 0, 145)",
          "width": 2
         },
         "mode": "lines",
         "type": "scatter3d",
         "x": [
          0,
          0.260202
         ],
         "y": [
          0,
          1.895384
         ],
         "z": [
          0,
          0.582938
         ]
        },
        {
         "marker": {
          "color": "#48186a",
          "size": 10
         },
         "mode": "markers",
         "type": "scatter3d",
         "x": [
          0
         ],
         "y": [
          0
         ],
         "z": [
          0
         ]
        },
        {
         "marker": {
          "color": "rgb(0,144,144)",
          "size": 5
         },
         "mode": "markers",
         "type": "scatter3d",
         "x": [
          -0.20000000298023224,
          0,
          0.20000000298023224,
          -0.20000000298023224,
          0,
          0.20000000298023224,
          -0.20000000298023224,
          0,
          0.20000000298023224
         ],
         "y": [
          1.5,
          1.5,
          1.5,
          1.5,
          1.5,
          1.5,
          1.5,
          1.5,
          1.5
         ],
         "z": [
          -0.5,
          -0.5,
          -0.5,
          0,
          0,
          0,
          0.5,
          0.5,
          0.5
         ]
        }
       ],
       "layout": {
        "height": 800,
        "hovermode": "closest",
        "margin": {
         "t": 100
        },
        "scene": {
         "aspectmode": "manual",
         "aspectratio": {
          "x": 1,
          "y": 1,
          "z": 1
         },
         "xaxis": {
          "range": [
           -1,
           1
          ],
          "title": "x Axis"
         },
         "yaxis": {
          "range": [
           -1,
           3
          ],
          "title": "y Axis"
         },
         "zaxis": {
          "range": [
           -2,
           2
          ],
          "title": "z Axis"
         }
        },
        "showlegend": false,
        "title": "Calibration - EIH Space",
        "width": 800
       }
      },
      "text/html": [
       "<div id=\"0ea884f1-ad91-4432-b2c1-2c597dcf9a1f\" style=\"height: 800px; width: 800px;\" class=\"plotly-graph-div\"></div><script type=\"text/javascript\">require([\"plotly\"], function(Plotly) { window.PLOTLYENV=window.PLOTLYENV || {};window.PLOTLYENV.BASE_URL=\"https://plot.ly\";Plotly.newPlot(\"0ea884f1-ad91-4432-b2c1-2c597dcf9a1f\", [{\"type\": \"scatter3d\", \"x\": [0, -0.258302], \"y\": [0, 1.88447], \"z\": [0, -0.618104], \"mode\": \"lines\", \"line\": {\"color\": \"rgb(20, 0, 145)\", \"width\": 2}}, {\"type\": \"scatter3d\", \"x\": [0, -0.257598], \"y\": [0, 1.886034], \"z\": [0, -0.613614], \"mode\": \"lines\", \"line\": {\"color\": \"rgb(20, 0, 145)\", \"width\": 2}}, {\"type\": \"scatter3d\", \"x\": [0, -0.257598], \"y\": [0, 1.886034], \"z\": [0, -0.613614], \"mode\": \"lines\", \"line\": {\"color\": \"rgb(20, 0, 145)\", \"width\": 2}}, {\"type\": \"scatter3d\", \"x\": [0, -0.259086], \"y\": [0, 1.884134], \"z\": [0, -0.618802], \"mode\": \"lines\", \"line\": {\"color\": \"rgb(20, 0, 145)\", \"width\": 2}}, {\"type\": \"scatter3d\", \"x\": [0, -0.26093], \"y\": [0, 1.884678], \"z\": [0, -0.616366], \"mode\": \"lines\", \"line\": {\"color\": \"rgb(20, 0, 145)\", \"width\": 2}}, {\"type\": \"scatter3d\", \"x\": [0, -0.262744], \"y\": [0, 1.884534], \"z\": [0, -0.616036], \"mode\": \"lines\", \"line\": {\"color\": \"rgb(20, 0, 145)\", \"width\": 2}}, {\"type\": \"scatter3d\", \"x\": [0, -0.258652], \"y\": [0, 1.883452], \"z\": [0, -0.621056], \"mode\": \"lines\", \"line\": {\"color\": \"rgb(20, 0, 145)\", \"width\": 2}}, {\"type\": \"scatter3d\", \"x\": [0, -0.258652], \"y\": [0, 1.883452], \"z\": [0, -0.621056], \"mode\": \"lines\", \"line\": {\"color\": \"rgb(20, 0, 145)\", \"width\": 2}}, {\"type\": \"scatter3d\", \"x\": [0, -0.257008], \"y\": [0, 1.883558], \"z\": [0, -0.621412], \"mode\": \"lines\", \"line\": {\"color\": \"rgb(20, 0, 145)\", \"width\": 2}}, {\"type\": \"scatter3d\", \"x\": [0, -0.258392], \"y\": [0, 1.882908], \"z\": [0, -0.622808], \"mode\": \"lines\", \"line\": {\"color\": \"rgb(20, 0, 145)\", \"width\": 2}}, {\"type\": \"scatter3d\", \"x\": [0, -0.255662], \"y\": [0, 1.883386], \"z\": [0, -0.622492], \"mode\": \"lines\", \"line\": {\"color\": \"rgb(20, 0, 145)\", \"width\": 2}}, {\"type\": \"scatter3d\", \"x\": [0, -0.266306], \"y\": [0, 1.881078], \"z\": [0, -0.625002], \"mode\": \"lines\", \"line\": {\"color\": \"rgb(20, 0, 145)\", \"width\": 2}}, {\"type\": \"scatter3d\", \"x\": [0, -0.266306], \"y\": [0, 1.881078], \"z\": [0, -0.625002], \"mode\": \"lines\", \"line\": {\"color\": \"rgb(20, 0, 145)\", \"width\": 2}}, {\"type\": \"scatter3d\", \"x\": [0, -0.26327], \"y\": [0, 1.881482], \"z\": [0, -0.625072], \"mode\": \"lines\", \"line\": {\"color\": \"rgb(20, 0, 145)\", \"width\": 2}}, {\"type\": \"scatter3d\", \"x\": [0, -0.267388], \"y\": [0, 1.88056], \"z\": [0, -0.626098], \"mode\": \"lines\", \"line\": {\"color\": \"rgb(20, 0, 145)\", \"width\": 2}}, {\"type\": \"scatter3d\", \"x\": [0, -0.264084], \"y\": [0, 1.879454], \"z\": [0, -0.630802], \"mode\": \"lines\", \"line\": {\"color\": \"rgb(20, 0, 145)\", \"width\": 2}}, {\"type\": \"scatter3d\", \"x\": [0, -0.263846], \"y\": [0, 1.88119], \"z\": [0, -0.625706], \"mode\": \"lines\", \"line\": {\"color\": \"rgb(20, 0, 145)\", \"width\": 2}}, {\"type\": \"scatter3d\", \"x\": [0, -0.264598], \"y\": [0, 1.879664], \"z\": [0, -0.629964], \"mode\": \"lines\", \"line\": {\"color\": \"rgb(20, 0, 145)\", \"width\": 2}}, {\"type\": \"scatter3d\", \"x\": [0, -0.264598], \"y\": [0, 1.879664], \"z\": [0, -0.629964], \"mode\": \"lines\", \"line\": {\"color\": \"rgb(20, 0, 145)\", \"width\": 2}}, {\"type\": \"scatter3d\", \"x\": [0, -0.264436], \"y\": [0, 1.880024], \"z\": [0, -0.628952], \"mode\": \"lines\", \"line\": {\"color\": \"rgb(20, 0, 145)\", \"width\": 2}}, {\"type\": \"scatter3d\", \"x\": [0, -0.268784], \"y\": [0, 1.88008], \"z\": [0, -0.626938], \"mode\": \"lines\", \"line\": {\"color\": \"rgb(20, 0, 145)\", \"width\": 2}}, {\"type\": \"scatter3d\", \"x\": [0, -0.26742], \"y\": [0, 1.880908], \"z\": [0, -0.62504], \"mode\": \"lines\", \"line\": {\"color\": \"rgb(20, 0, 145)\", \"width\": 2}}, {\"type\": \"scatter3d\", \"x\": [0, -0.26528], \"y\": [0, 1.881914], \"z\": [0, -0.622918], \"mode\": \"lines\", \"line\": {\"color\": \"rgb(20, 0, 145)\", \"width\": 2}}, {\"type\": \"scatter3d\", \"x\": [0, -0.264488], \"y\": [0, 1.881798], \"z\": [0, -0.623604], \"mode\": \"lines\", \"line\": {\"color\": \"rgb(20, 0, 145)\", \"width\": 2}}, {\"type\": \"scatter3d\", \"x\": [0, -0.264488], \"y\": [0, 1.881798], \"z\": [0, -0.623604], \"mode\": \"lines\", \"line\": {\"color\": \"rgb(20, 0, 145)\", \"width\": 2}}, {\"type\": \"scatter3d\", \"x\": [0, -0.263192], \"y\": [0, 1.88165], \"z\": [0, -0.6246], \"mode\": \"lines\", \"line\": {\"color\": \"rgb(20, 0, 145)\", \"width\": 2}}, {\"type\": \"scatter3d\", \"x\": [0, -0.26344], \"y\": [0, 1.879836], \"z\": [0, -0.629932], \"mode\": \"lines\", \"line\": {\"color\": \"rgb(20, 0, 145)\", \"width\": 2}}, {\"type\": \"scatter3d\", \"x\": [0, -0.262272], \"y\": [0, 1.88191], \"z\": [0, -0.6242], \"mode\": \"lines\", \"line\": {\"color\": \"rgb(20, 0, 145)\", \"width\": 2}}, {\"type\": \"scatter3d\", \"x\": [0, -0.265636], \"y\": [0, 1.881308], \"z\": [0, -0.624596], \"mode\": \"lines\", \"line\": {\"color\": \"rgb(20, 0, 145)\", \"width\": 2}}, {\"type\": \"scatter3d\", \"x\": [0, -0.265636], \"y\": [0, 1.881308], \"z\": [0, -0.624596], \"mode\": \"lines\", \"line\": {\"color\": \"rgb(20, 0, 145)\", \"width\": 2}}, {\"type\": \"scatter3d\", \"x\": [0, -0.265582], \"y\": [0, 1.880652], \"z\": [0, -0.62659], \"mode\": \"lines\", \"line\": {\"color\": \"rgb(20, 0, 145)\", \"width\": 2}}, {\"type\": \"scatter3d\", \"x\": [0, -0.261866], \"y\": [0, 1.881052], \"z\": [0, -0.626952], \"mode\": \"lines\", \"line\": {\"color\": \"rgb(20, 0, 145)\", \"width\": 2}}, {\"type\": \"scatter3d\", \"x\": [0, -0.262534], \"y\": [0, 1.882548], \"z\": [0, -0.622164], \"mode\": \"lines\", \"line\": {\"color\": \"rgb(20, 0, 145)\", \"width\": 2}}, {\"type\": \"scatter3d\", \"x\": [0, -0.262534], \"y\": [0, 1.882548], \"z\": [0, -0.622164], \"mode\": \"lines\", \"line\": {\"color\": \"rgb(20, 0, 145)\", \"width\": 2}}, {\"type\": \"scatter3d\", \"x\": [0, -0.260234], \"y\": [0, 1.882222], \"z\": [0, -0.624114], \"mode\": \"lines\", \"line\": {\"color\": \"rgb(20, 0, 145)\", \"width\": 2}}, {\"type\": \"scatter3d\", \"x\": [0, -0.264262], \"y\": [0, 1.881246], \"z\": [0, -0.625364], \"mode\": \"lines\", \"line\": {\"color\": \"rgb(20, 0, 145)\", \"width\": 2}}, {\"type\": \"scatter3d\", \"x\": [0, -0.258822], \"y\": [0, 1.880954], \"z\": [0, -0.628508], \"mode\": \"lines\", \"line\": {\"color\": \"rgb(20, 0, 145)\", \"width\": 2}}, {\"type\": \"scatter3d\", \"x\": [0, -0.26153], \"y\": [0, 1.88147], \"z\": [0, -0.62584], \"mode\": \"lines\", \"line\": {\"color\": \"rgb(20, 0, 145)\", \"width\": 2}}, {\"type\": \"scatter3d\", \"x\": [0, -0.26153], \"y\": [0, 1.88147], \"z\": [0, -0.62584], \"mode\": \"lines\", \"line\": {\"color\": \"rgb(20, 0, 145)\", \"width\": 2}}, {\"type\": \"scatter3d\", \"x\": [0, -0.26441], \"y\": [0, 1.88005], \"z\": [0, -0.62889], \"mode\": \"lines\", \"line\": {\"color\": \"rgb(20, 0, 145)\", \"width\": 2}}, {\"type\": \"scatter3d\", \"x\": [0, -0.262914], \"y\": [0, 1.880694], \"z\": [0, -0.627586], \"mode\": \"lines\", \"line\": {\"color\": \"rgb(20, 0, 145)\", \"width\": 2}}, {\"type\": \"scatter3d\", \"x\": [0, -0.264796], \"y\": [0, 1.88061], \"z\": [0, -0.627048], \"mode\": \"lines\", \"line\": {\"color\": \"rgb(20, 0, 145)\", \"width\": 2}}, {\"type\": \"scatter3d\", \"x\": [0, -0.260188], \"y\": [0, 1.881156], \"z\": [0, -0.627342], \"mode\": \"lines\", \"line\": {\"color\": \"rgb(20, 0, 145)\", \"width\": 2}}, {\"type\": \"scatter3d\", \"x\": [0, -0.260188], \"y\": [0, 1.881156], \"z\": [0, -0.627342], \"mode\": \"lines\", \"line\": {\"color\": \"rgb(20, 0, 145)\", \"width\": 2}}, {\"type\": \"scatter3d\", \"x\": [0, -0.260338], \"y\": [0, 1.881078], \"z\": [0, -0.627508], \"mode\": \"lines\", \"line\": {\"color\": \"rgb(20, 0, 145)\", \"width\": 2}}, {\"type\": \"scatter3d\", \"x\": [0, -0.260828], \"y\": [0, 1.880534], \"z\": [0, -0.628936], \"mode\": \"lines\", \"line\": {\"color\": \"rgb(20, 0, 145)\", \"width\": 2}}, {\"type\": \"scatter3d\", \"x\": [0, -0.261514], \"y\": [0, 1.880892], \"z\": [0, -0.627578], \"mode\": \"lines\", \"line\": {\"color\": \"rgb(20, 0, 145)\", \"width\": 2}}, {\"type\": \"scatter3d\", \"x\": [0, -0.26247], \"y\": [0, 1.8803], \"z\": [0, -0.628954], \"mode\": \"lines\", \"line\": {\"color\": \"rgb(20, 0, 145)\", \"width\": 2}}, {\"type\": \"scatter3d\", \"x\": [0, -0.26247], \"y\": [0, 1.8803], \"z\": [0, -0.628954], \"mode\": \"lines\", \"line\": {\"color\": \"rgb(20, 0, 145)\", \"width\": 2}}, {\"type\": \"scatter3d\", \"x\": [0, -0.259286], \"y\": [0, 1.880678], \"z\": [0, -0.629142], \"mode\": \"lines\", \"line\": {\"color\": \"rgb(20, 0, 145)\", \"width\": 2}}, {\"type\": \"scatter3d\", \"x\": [0, -0.259694], \"y\": [0, 1.881018], \"z\": [0, -0.627956], \"mode\": \"lines\", \"line\": {\"color\": \"rgb(20, 0, 145)\", \"width\": 2}}, {\"type\": \"scatter3d\", \"x\": [0, -0.25867], \"y\": [0, 1.880976], \"z\": [0, -0.628508], \"mode\": \"lines\", \"line\": {\"color\": \"rgb(20, 0, 145)\", \"width\": 2}}, {\"type\": \"scatter3d\", \"x\": [0, -0.259922], \"y\": [0, 1.881428], \"z\": [0, -0.626634], \"mode\": \"lines\", \"line\": {\"color\": \"rgb(20, 0, 145)\", \"width\": 2}}, {\"type\": \"scatter3d\", \"x\": [0, -0.256304], \"y\": [0, 1.88177], \"z\": [0, -0.627094], \"mode\": \"lines\", \"line\": {\"color\": \"rgb(20, 0, 145)\", \"width\": 2}}, {\"type\": \"scatter3d\", \"x\": [0, -0.256304], \"y\": [0, 1.88177], \"z\": [0, -0.627094], \"mode\": \"lines\", \"line\": {\"color\": \"rgb(20, 0, 145)\", \"width\": 2}}, {\"type\": \"scatter3d\", \"x\": [0, -0.255894], \"y\": [0, 1.881834], \"z\": [0, -0.627072], \"mode\": \"lines\", \"line\": {\"color\": \"rgb(20, 0, 145)\", \"width\": 2}}, {\"type\": \"scatter3d\", \"x\": [0, -0.25711], \"y\": [0, 1.881066], \"z\": [0, -0.628874], \"mode\": \"lines\", \"line\": {\"color\": \"rgb(20, 0, 145)\", \"width\": 2}}, {\"type\": \"scatter3d\", \"x\": [0, -0.25629], \"y\": [0, 1.881194], \"z\": [0, -0.62883], \"mode\": \"lines\", \"line\": {\"color\": \"rgb(20, 0, 145)\", \"width\": 2}}, {\"type\": \"scatter3d\", \"x\": [0, -0.25854], \"y\": [0, 1.88046], \"z\": [0, -0.630102], \"mode\": \"lines\", \"line\": {\"color\": \"rgb(20, 0, 145)\", \"width\": 2}}, {\"type\": \"scatter3d\", \"x\": [0, -0.25854], \"y\": [0, 1.88046], \"z\": [0, -0.630102], \"mode\": \"lines\", \"line\": {\"color\": \"rgb(20, 0, 145)\", \"width\": 2}}, {\"type\": \"scatter3d\", \"x\": [0, -0.255992], \"y\": [0, 1.88169], \"z\": [0, -0.627466], \"mode\": \"lines\", \"line\": {\"color\": \"rgb(20, 0, 145)\", \"width\": 2}}, {\"type\": \"scatter3d\", \"x\": [0, -0.258886], \"y\": [0, 1.880598], \"z\": [0, -0.629548], \"mode\": \"lines\", \"line\": {\"color\": \"rgb(20, 0, 145)\", \"width\": 2}}, {\"type\": \"scatter3d\", \"x\": [0, -0.255818], \"y\": [0, 1.882424], \"z\": [0, -0.62533], \"mode\": \"lines\", \"line\": {\"color\": \"rgb(20, 0, 145)\", \"width\": 2}}, {\"type\": \"scatter3d\", \"x\": [0, -0.254714], \"y\": [0, 1.882514], \"z\": [0, -0.625508], \"mode\": \"lines\", \"line\": {\"color\": \"rgb(20, 0, 145)\", \"width\": 2}}, {\"type\": \"scatter3d\", \"x\": [0, -0.254714], \"y\": [0, 1.882514], \"z\": [0, -0.625508], \"mode\": \"lines\", \"line\": {\"color\": \"rgb(20, 0, 145)\", \"width\": 2}}, {\"type\": \"scatter3d\", \"x\": [0, -0.254464], \"y\": [0, 1.882096], \"z\": [0, -0.626864], \"mode\": \"lines\", \"line\": {\"color\": \"rgb(20, 0, 145)\", \"width\": 2}}, {\"type\": \"scatter3d\", \"x\": [0, -0.249782], \"y\": [0, 1.88397], \"z\": [0, -0.62311], \"mode\": \"lines\", \"line\": {\"color\": \"rgb(20, 0, 145)\", \"width\": 2}}, {\"type\": \"scatter3d\", \"x\": [0, -0.253246], \"y\": [0, 1.882786], \"z\": [0, -0.625286], \"mode\": \"lines\", \"line\": {\"color\": \"rgb(20, 0, 145)\", \"width\": 2}}, {\"type\": \"scatter3d\", \"x\": [0, -0.253246], \"y\": [0, 1.882786], \"z\": [0, -0.625286], \"mode\": \"lines\", \"line\": {\"color\": \"rgb(20, 0, 145)\", \"width\": 2}}, {\"type\": \"scatter3d\", \"x\": [0, -0.258584], \"y\": [0, 1.884434], \"z\": [0, -0.618096], \"mode\": \"lines\", \"line\": {\"color\": \"rgb(20, 0, 145)\", \"width\": 2}}, {\"type\": \"scatter3d\", \"x\": [0, -0.259678], \"y\": [0, 1.885474], \"z\": [0, -0.614458], \"mode\": \"lines\", \"line\": {\"color\": \"rgb(20, 0, 145)\", \"width\": 2}}, {\"type\": \"scatter3d\", \"x\": [0, -0.256704], \"y\": [0, 1.885314], \"z\": [0, -0.616192], \"mode\": \"lines\", \"line\": {\"color\": \"rgb(20, 0, 145)\", \"width\": 2}}, {\"type\": \"scatter3d\", \"x\": [0, -0.255714], \"y\": [0, 1.886168], \"z\": [0, -0.613986], \"mode\": \"lines\", \"line\": {\"color\": \"rgb(20, 0, 145)\", \"width\": 2}}, {\"type\": \"scatter3d\", \"x\": [0, -0.255642], \"y\": [0, 1.885792], \"z\": [0, -0.615174], \"mode\": \"lines\", \"line\": {\"color\": \"rgb(20, 0, 145)\", \"width\": 2}}, {\"type\": \"scatter3d\", \"x\": [0, -0.255642], \"y\": [0, 1.885792], \"z\": [0, -0.615174], \"mode\": \"lines\", \"line\": {\"color\": \"rgb(20, 0, 145)\", \"width\": 2}}, {\"type\": \"scatter3d\", \"x\": [0, -0.258122], \"y\": [0, 1.885292], \"z\": [0, -0.615668], \"mode\": \"lines\", \"line\": {\"color\": \"rgb(20, 0, 145)\", \"width\": 2}}, {\"type\": \"scatter3d\", \"x\": [0, -0.255508], \"y\": [0, 1.886888], \"z\": [0, -0.611856], \"mode\": \"lines\", \"line\": {\"color\": \"rgb(20, 0, 145)\", \"width\": 2}}, {\"type\": \"scatter3d\", \"x\": [0, -0.253754], \"y\": [0, 1.884302], \"z\": [0, -0.620496], \"mode\": \"lines\", \"line\": {\"color\": \"rgb(20, 0, 145)\", \"width\": 2}}, {\"type\": \"scatter3d\", \"x\": [0, -0.253754], \"y\": [0, 1.884302], \"z\": [0, -0.620496], \"mode\": \"lines\", \"line\": {\"color\": \"rgb(20, 0, 145)\", \"width\": 2}}, {\"type\": \"scatter3d\", \"x\": [0, -0.25578], \"y\": [0, 1.88416], \"z\": [0, -0.620094], \"mode\": \"lines\", \"line\": {\"color\": \"rgb(20, 0, 145)\", \"width\": 2}}, {\"type\": \"scatter3d\", \"x\": [0, -0.255996], \"y\": [0, 1.884508], \"z\": [0, -0.618948], \"mode\": \"lines\", \"line\": {\"color\": \"rgb(20, 0, 145)\", \"width\": 2}}, {\"type\": \"scatter3d\", \"x\": [0, -0.253586], \"y\": [0, 1.885034], \"z\": [0, -0.618338], \"mode\": \"lines\", \"line\": {\"color\": \"rgb(20, 0, 145)\", \"width\": 2}}, {\"type\": \"scatter3d\", \"x\": [0, -0.250784], \"y\": [0, 1.88532], \"z\": [0, -0.61861], \"mode\": \"lines\", \"line\": {\"color\": \"rgb(20, 0, 145)\", \"width\": 2}}, {\"type\": \"scatter3d\", \"x\": [0, -0.250784], \"y\": [0, 1.88532], \"z\": [0, -0.61861], \"mode\": \"lines\", \"line\": {\"color\": \"rgb(20, 0, 145)\", \"width\": 2}}, {\"type\": \"scatter3d\", \"x\": [0, -0.254034], \"y\": [0, 1.88564], \"z\": [0, -0.616304], \"mode\": \"lines\", \"line\": {\"color\": \"rgb(20, 0, 145)\", \"width\": 2}}, {\"type\": \"scatter3d\", \"x\": [0, -0.258406], \"y\": [0, 1.88303], \"z\": [0, -0.622434], \"mode\": \"lines\", \"line\": {\"color\": \"rgb(20, 0, 145)\", \"width\": 2}}, {\"type\": \"scatter3d\", \"x\": [0, -0.250358], \"y\": [0, 1.88488], \"z\": [0, -0.620116], \"mode\": \"lines\", \"line\": {\"color\": \"rgb(20, 0, 145)\", \"width\": 2}}, {\"type\": \"scatter3d\", \"x\": [0, -0.24949], \"y\": [0, 1.88449], \"z\": [0, -0.62165], \"mode\": \"lines\", \"line\": {\"color\": \"rgb(20, 0, 145)\", \"width\": 2}}, {\"type\": \"scatter3d\", \"x\": [0, -0.24949], \"y\": [0, 1.88449], \"z\": [0, -0.62165], \"mode\": \"lines\", \"line\": {\"color\": \"rgb(20, 0, 145)\", \"width\": 2}}, {\"type\": \"scatter3d\", \"x\": [0, -0.24981], \"y\": [0, 1.884636], \"z\": [0, -0.621084], \"mode\": \"lines\", \"line\": {\"color\": \"rgb(20, 0, 145)\", \"width\": 2}}, {\"type\": \"scatter3d\", \"x\": [0, -0.249778], \"y\": [0, 1.885448], \"z\": [0, -0.618624], \"mode\": \"lines\", \"line\": {\"color\": \"rgb(20, 0, 145)\", \"width\": 2}}, {\"type\": \"scatter3d\", \"x\": [0, -0.245978], \"y\": [0, 1.884886], \"z\": [0, -0.62185], \"mode\": \"lines\", \"line\": {\"color\": \"rgb(20, 0, 145)\", \"width\": 2}}, {\"type\": \"scatter3d\", \"x\": [0, -0.249828], \"y\": [0, 1.883854], \"z\": [0, -0.623442], \"mode\": \"lines\", \"line\": {\"color\": \"rgb(20, 0, 145)\", \"width\": 2}}, {\"type\": \"scatter3d\", \"x\": [0, -0.249828], \"y\": [0, 1.883854], \"z\": [0, -0.623442], \"mode\": \"lines\", \"line\": {\"color\": \"rgb(20, 0, 145)\", \"width\": 2}}, {\"type\": \"scatter3d\", \"x\": [0, -0.242876], \"y\": [0, 1.883844], \"z\": [0, -0.62621], \"mode\": \"lines\", \"line\": {\"color\": \"rgb(20, 0, 145)\", \"width\": 2}}, {\"type\": \"scatter3d\", \"x\": [0, -0.242876], \"y\": [0, 1.883844], \"z\": [0, -0.62621], \"mode\": \"lines\", \"line\": {\"color\": \"rgb(20, 0, 145)\", \"width\": 2}}, {\"type\": \"scatter3d\", \"x\": [0, -0.233912], \"y\": [0, 1.888026], \"z\": [0, -0.61696], \"mode\": \"lines\", \"line\": {\"color\": \"rgb(20, 0, 145)\", \"width\": 2}}, {\"type\": \"scatter3d\", \"x\": [0, -0.234684], \"y\": [0, 1.886378], \"z\": [0, -0.621694], \"mode\": \"lines\", \"line\": {\"color\": \"rgb(20, 0, 145)\", \"width\": 2}}, {\"type\": \"scatter3d\", \"x\": [0, -0.234684], \"y\": [0, 1.886378], \"z\": [0, -0.621694], \"mode\": \"lines\", \"line\": {\"color\": \"rgb(20, 0, 145)\", \"width\": 2}}, {\"type\": \"scatter3d\", \"x\": [0, -0.237642], \"y\": [0, 1.88705], \"z\": [0, -0.618522], \"mode\": \"lines\", \"line\": {\"color\": \"rgb(20, 0, 145)\", \"width\": 2}}, {\"type\": \"scatter3d\", \"x\": [0, -0.01359276], \"y\": [0, 1.89159], \"z\": [0, -0.649386], \"mode\": \"lines\", \"line\": {\"color\": \"rgb(20, 0, 145)\", \"width\": 2}}, {\"type\": \"scatter3d\", \"x\": [0, -0.01144308], \"y\": [0, 1.891418], \"z\": [0, -0.649928], \"mode\": \"lines\", \"line\": {\"color\": \"rgb(20, 0, 145)\", \"width\": 2}}, {\"type\": \"scatter3d\", \"x\": [0, -0.01144308], \"y\": [0, 1.891418], \"z\": [0, -0.649928], \"mode\": \"lines\", \"line\": {\"color\": \"rgb(20, 0, 145)\", \"width\": 2}}, {\"type\": \"scatter3d\", \"x\": [0, -0.01008678], \"y\": [0, 1.891688], \"z\": [0, -0.649164], \"mode\": \"lines\", \"line\": {\"color\": \"rgb(20, 0, 145)\", \"width\": 2}}, {\"type\": \"scatter3d\", \"x\": [0, -0.01158798], \"y\": [0, 1.893084], \"z\": [0, -0.645058], \"mode\": \"lines\", \"line\": {\"color\": \"rgb(20, 0, 145)\", \"width\": 2}}, {\"type\": \"scatter3d\", \"x\": [0, -0.0084648], \"y\": [0, 1.891022], \"z\": [0, -0.651124], \"mode\": \"lines\", \"line\": {\"color\": \"rgb(20, 0, 145)\", \"width\": 2}}, {\"type\": \"scatter3d\", \"x\": [0, -0.00836622], \"y\": [0, 1.893934], \"z\": [0, -0.642604], \"mode\": \"lines\", \"line\": {\"color\": \"rgb(20, 0, 145)\", \"width\": 2}}, {\"type\": \"scatter3d\", \"x\": [0, -0.0138453], \"y\": [0, 1.891124], \"z\": [0, -0.650738], \"mode\": \"lines\", \"line\": {\"color\": \"rgb(20, 0, 145)\", \"width\": 2}}, {\"type\": \"scatter3d\", \"x\": [0, -0.0138453], \"y\": [0, 1.891124], \"z\": [0, -0.650738], \"mode\": \"lines\", \"line\": {\"color\": \"rgb(20, 0, 145)\", \"width\": 2}}, {\"type\": \"scatter3d\", \"x\": [0, -0.00890144], \"y\": [0, 1.892824], \"z\": [0, -0.645864], \"mode\": \"lines\", \"line\": {\"color\": \"rgb(20, 0, 145)\", \"width\": 2}}, {\"type\": \"scatter3d\", \"x\": [0, -0.0089996], \"y\": [0, 1.893944], \"z\": [0, -0.642568], \"mode\": \"lines\", \"line\": {\"color\": \"rgb(20, 0, 145)\", \"width\": 2}}, {\"type\": \"scatter3d\", \"x\": [0, -0.01204646], \"y\": [0, 1.8907], \"z\": [0, -0.652002], \"mode\": \"lines\", \"line\": {\"color\": \"rgb(20, 0, 145)\", \"width\": 2}}, {\"type\": \"scatter3d\", \"x\": [0, -0.01204646], \"y\": [0, 1.8907], \"z\": [0, -0.652002], \"mode\": \"lines\", \"line\": {\"color\": \"rgb(20, 0, 145)\", \"width\": 2}}, {\"type\": \"scatter3d\", \"x\": [0, -0.00955072], \"y\": [0, 1.890366], \"z\": [0, -0.653014], \"mode\": \"lines\", \"line\": {\"color\": \"rgb(20, 0, 145)\", \"width\": 2}}, {\"type\": \"scatter3d\", \"x\": [0, -0.01735642], \"y\": [0, 1.89007], \"z\": [0, -0.653708], \"mode\": \"lines\", \"line\": {\"color\": \"rgb(20, 0, 145)\", \"width\": 2}}, {\"type\": \"scatter3d\", \"x\": [0, -0.01230984], \"y\": [0, 1.889296], \"z\": [0, -0.656056], \"mode\": \"lines\", \"line\": {\"color\": \"rgb(20, 0, 145)\", \"width\": 2}}, {\"type\": \"scatter3d\", \"x\": [0, -0.01434466], \"y\": [0, 1.888296], \"z\": [0, -0.658884], \"mode\": \"lines\", \"line\": {\"color\": \"rgb(20, 0, 145)\", \"width\": 2}}, {\"type\": \"scatter3d\", \"x\": [0, -0.01315174], \"y\": [0, 1.889812], \"z\": [0, -0.65455], \"mode\": \"lines\", \"line\": {\"color\": \"rgb(20, 0, 145)\", \"width\": 2}}, {\"type\": \"scatter3d\", \"x\": [0, -0.01315174], \"y\": [0, 1.889812], \"z\": [0, -0.65455], \"mode\": \"lines\", \"line\": {\"color\": \"rgb(20, 0, 145)\", \"width\": 2}}, {\"type\": \"scatter3d\", \"x\": [0, -0.01117448], \"y\": [0, 1.891112], \"z\": [0, -0.650824], \"mode\": \"lines\", \"line\": {\"color\": \"rgb(20, 0, 145)\", \"width\": 2}}, {\"type\": \"scatter3d\", \"x\": [0, -0.00998916], \"y\": [0, 1.889844], \"z\": [0, -0.654512], \"mode\": \"lines\", \"line\": {\"color\": \"rgb(20, 0, 145)\", \"width\": 2}}, {\"type\": \"scatter3d\", \"x\": [0, -0.01255968], \"y\": [0, 1.889282], \"z\": [0, -0.656088], \"mode\": \"lines\", \"line\": {\"color\": \"rgb(20, 0, 145)\", \"width\": 2}}, {\"type\": \"scatter3d\", \"x\": [0, -0.01255968], \"y\": [0, 1.889282], \"z\": [0, -0.656088], \"mode\": \"lines\", \"line\": {\"color\": \"rgb(20, 0, 145)\", \"width\": 2}}, {\"type\": \"scatter3d\", \"x\": [0, -0.00562716], \"y\": [0, 1.890116], \"z\": [0, -0.653782], \"mode\": \"lines\", \"line\": {\"color\": \"rgb(20, 0, 145)\", \"width\": 2}}, {\"type\": \"scatter3d\", \"x\": [0, -0.00961856], \"y\": [0, 1.8899], \"z\": [0, -0.65436], \"mode\": \"lines\", \"line\": {\"color\": \"rgb(20, 0, 145)\", \"width\": 2}}, {\"type\": \"scatter3d\", \"x\": [0, -0.0104028], \"y\": [0, 1.890166], \"z\": [0, -0.653578], \"mode\": \"lines\", \"line\": {\"color\": \"rgb(20, 0, 145)\", \"width\": 2}}, {\"type\": \"scatter3d\", \"x\": [0, -0.01097408], \"y\": [0, 1.888712], \"z\": [0, -0.657758], \"mode\": \"lines\", \"line\": {\"color\": \"rgb(20, 0, 145)\", \"width\": 2}}, {\"type\": \"scatter3d\", \"x\": [0, -0.01097408], \"y\": [0, 1.888712], \"z\": [0, -0.657758], \"mode\": \"lines\", \"line\": {\"color\": \"rgb(20, 0, 145)\", \"width\": 2}}, {\"type\": \"scatter3d\", \"x\": [0, -0.01255564], \"y\": [0, 1.888142], \"z\": [0, -0.659362], \"mode\": \"lines\", \"line\": {\"color\": \"rgb(20, 0, 145)\", \"width\": 2}}, {\"type\": \"scatter3d\", \"x\": [0, -0.01064284], \"y\": [0, 1.888134], \"z\": [0, -0.659422], \"mode\": \"lines\", \"line\": {\"color\": \"rgb(20, 0, 145)\", \"width\": 2}}, {\"type\": \"scatter3d\", \"x\": [0, -0.01299558], \"y\": [0, 1.88749], \"z\": [0, -0.661218], \"mode\": \"lines\", \"line\": {\"color\": \"rgb(20, 0, 145)\", \"width\": 2}}, {\"type\": \"scatter3d\", \"x\": [0, -0.0124644], \"y\": [0, 1.887272], \"z\": [0, -0.661854], \"mode\": \"lines\", \"line\": {\"color\": \"rgb(20, 0, 145)\", \"width\": 2}}, {\"type\": \"scatter3d\", \"x\": [0, -0.01303322], \"y\": [0, 1.888454], \"z\": [0, -0.658462], \"mode\": \"lines\", \"line\": {\"color\": \"rgb(20, 0, 145)\", \"width\": 2}}, {\"type\": \"scatter3d\", \"x\": [0, -0.01303322], \"y\": [0, 1.888454], \"z\": [0, -0.658462], \"mode\": \"lines\", \"line\": {\"color\": \"rgb(20, 0, 145)\", \"width\": 2}}, {\"type\": \"scatter3d\", \"x\": [0, -0.01445224], \"y\": [0, 1.88653], \"z\": [0, -0.663926], \"mode\": \"lines\", \"line\": {\"color\": \"rgb(20, 0, 145)\", \"width\": 2}}, {\"type\": \"scatter3d\", \"x\": [0, -0.01766026], \"y\": [0, 1.886334], \"z\": [0, -0.664402], \"mode\": \"lines\", \"line\": {\"color\": \"rgb(20, 0, 145)\", \"width\": 2}}, {\"type\": \"scatter3d\", \"x\": [0, -0.0242596], \"y\": [0, 1.88675], \"z\": [0, -0.663014], \"mode\": \"lines\", \"line\": {\"color\": \"rgb(20, 0, 145)\", \"width\": 2}}, {\"type\": \"scatter3d\", \"x\": [0, -0.0251978], \"y\": [0, 1.885556], \"z\": [0, -0.666366], \"mode\": \"lines\", \"line\": {\"color\": \"rgb(20, 0, 145)\", \"width\": 2}}, {\"type\": \"scatter3d\", \"x\": [0, -0.0238566], \"y\": [0, 1.88675], \"z\": [0, -0.663026], \"mode\": \"lines\", \"line\": {\"color\": \"rgb(20, 0, 145)\", \"width\": 2}}, {\"type\": \"scatter3d\", \"x\": [0, -0.0227464], \"y\": [0, 1.887454], \"z\": [0, -0.661062], \"mode\": \"lines\", \"line\": {\"color\": \"rgb(20, 0, 145)\", \"width\": 2}}, {\"type\": \"scatter3d\", \"x\": [0, -0.0262374], \"y\": [0, 1.88656], \"z\": [0, -0.663476], \"mode\": \"lines\", \"line\": {\"color\": \"rgb(20, 0, 145)\", \"width\": 2}}, {\"type\": \"scatter3d\", \"x\": [0, -0.0135913], \"y\": [0, 1.887226], \"z\": [0, -0.661962], \"mode\": \"lines\", \"line\": {\"color\": \"rgb(20, 0, 145)\", \"width\": 2}}, {\"type\": \"scatter3d\", \"x\": [0, -0.01502344], \"y\": [0, 1.884438], \"z\": [0, -0.669826], \"mode\": \"lines\", \"line\": {\"color\": \"rgb(20, 0, 145)\", \"width\": 2}}, {\"type\": \"scatter3d\", \"x\": [0, -0.01763126], \"y\": [0, 1.882684], \"z\": [0, -0.67468], \"mode\": \"lines\", \"line\": {\"color\": \"rgb(20, 0, 145)\", \"width\": 2}}, {\"type\": \"scatter3d\", \"x\": [0, -0.01899352], \"y\": [0, 1.88333], \"z\": [0, -0.672838], \"mode\": \"lines\", \"line\": {\"color\": \"rgb(20, 0, 145)\", \"width\": 2}}, {\"type\": \"scatter3d\", \"x\": [0, -0.01483978], \"y\": [0, 1.883576], \"z\": [0, -0.672248], \"mode\": \"lines\", \"line\": {\"color\": \"rgb(20, 0, 145)\", \"width\": 2}}, {\"type\": \"scatter3d\", \"x\": [0, -0.0253452], \"y\": [0, 1.88026], \"z\": [0, -0.68116], \"mode\": \"lines\", \"line\": {\"color\": \"rgb(20, 0, 145)\", \"width\": 2}}, {\"type\": \"scatter3d\", \"x\": [0, -0.0253452], \"y\": [0, 1.88026], \"z\": [0, -0.68116], \"mode\": \"lines\", \"line\": {\"color\": \"rgb(20, 0, 145)\", \"width\": 2}}, {\"type\": \"scatter3d\", \"x\": [0, -0.0228706], \"y\": [0, 1.87956], \"z\": [0, -0.683178], \"mode\": \"lines\", \"line\": {\"color\": \"rgb(20, 0, 145)\", \"width\": 2}}, {\"type\": \"scatter3d\", \"x\": [0, -0.0203358], \"y\": [0, 1.87862], \"z\": [0, -0.685838], \"mode\": \"lines\", \"line\": {\"color\": \"rgb(20, 0, 145)\", \"width\": 2}}, {\"type\": \"scatter3d\", \"x\": [0, -0.0256216], \"y\": [0, 1.877976], \"z\": [0, -0.687424], \"mode\": \"lines\", \"line\": {\"color\": \"rgb(20, 0, 145)\", \"width\": 2}}, {\"type\": \"scatter3d\", \"x\": [0, -0.025691], \"y\": [0, 1.877486], \"z\": [0, -0.688758], \"mode\": \"lines\", \"line\": {\"color\": \"rgb(20, 0, 145)\", \"width\": 2}}, {\"type\": \"scatter3d\", \"x\": [0, -0.025691], \"y\": [0, 1.877486], \"z\": [0, -0.688758], \"mode\": \"lines\", \"line\": {\"color\": \"rgb(20, 0, 145)\", \"width\": 2}}, {\"type\": \"scatter3d\", \"x\": [0, -0.0228546], \"y\": [0, 1.878534], \"z\": [0, -0.685996], \"mode\": \"lines\", \"line\": {\"color\": \"rgb(20, 0, 145)\", \"width\": 2}}, {\"type\": \"scatter3d\", \"x\": [0, -0.0247962], \"y\": [0, 1.877752], \"z\": [0, -0.688064], \"mode\": \"lines\", \"line\": {\"color\": \"rgb(20, 0, 145)\", \"width\": 2}}, {\"type\": \"scatter3d\", \"x\": [0, -0.0250124], \"y\": [0, 1.877824], \"z\": [0, -0.687858], \"mode\": \"lines\", \"line\": {\"color\": \"rgb(20, 0, 145)\", \"width\": 2}}, {\"type\": \"scatter3d\", \"x\": [0, -0.025733], \"y\": [0, 1.877578], \"z\": [0, -0.688504], \"mode\": \"lines\", \"line\": {\"color\": \"rgb(20, 0, 145)\", \"width\": 2}}, {\"type\": \"scatter3d\", \"x\": [0, -0.025733], \"y\": [0, 1.877578], \"z\": [0, -0.688504], \"mode\": \"lines\", \"line\": {\"color\": \"rgb(20, 0, 145)\", \"width\": 2}}, {\"type\": \"scatter3d\", \"x\": [0, -0.0272442], \"y\": [0, 1.876548], \"z\": [0, -0.691248], \"mode\": \"lines\", \"line\": {\"color\": \"rgb(20, 0, 145)\", \"width\": 2}}, {\"type\": \"scatter3d\", \"x\": [0, -0.029519], \"y\": [0, 1.875672], \"z\": [0, -0.69353], \"mode\": \"lines\", \"line\": {\"color\": \"rgb(20, 0, 145)\", \"width\": 2}}, {\"type\": \"scatter3d\", \"x\": [0, -0.0330256], \"y\": [0, 1.874552], \"z\": [0, -0.69639], \"mode\": \"lines\", \"line\": {\"color\": \"rgb(20, 0, 145)\", \"width\": 2}}, {\"type\": \"scatter3d\", \"x\": [0, -0.0330256], \"y\": [0, 1.874552], \"z\": [0, -0.69639], \"mode\": \"lines\", \"line\": {\"color\": \"rgb(20, 0, 145)\", \"width\": 2}}, {\"type\": \"scatter3d\", \"x\": [0, -0.0332258], \"y\": [0, 1.876214], \"z\": [0, -0.691892], \"mode\": \"lines\", \"line\": {\"color\": \"rgb(20, 0, 145)\", \"width\": 2}}, {\"type\": \"scatter3d\", \"x\": [0, -0.0282792], \"y\": [0, 1.875552], \"z\": [0, -0.693904], \"mode\": \"lines\", \"line\": {\"color\": \"rgb(20, 0, 145)\", \"width\": 2}}, {\"type\": \"scatter3d\", \"x\": [0, -0.027656], \"y\": [0, 1.881402], \"z\": [0, -0.677912], \"mode\": \"lines\", \"line\": {\"color\": \"rgb(20, 0, 145)\", \"width\": 2}}, {\"type\": \"scatter3d\", \"x\": [0, -0.028457], \"y\": [0, 1.88014], \"z\": [0, -0.681372], \"mode\": \"lines\", \"line\": {\"color\": \"rgb(20, 0, 145)\", \"width\": 2}}, {\"type\": \"scatter3d\", \"x\": [0, -0.0230146], \"y\": [0, 1.880792], \"z\": [0, -0.679776], \"mode\": \"lines\", \"line\": {\"color\": \"rgb(20, 0, 145)\", \"width\": 2}}, {\"type\": \"scatter3d\", \"x\": [0, -0.0230146], \"y\": [0, 1.880792], \"z\": [0, -0.679776], \"mode\": \"lines\", \"line\": {\"color\": \"rgb(20, 0, 145)\", \"width\": 2}}, {\"type\": \"scatter3d\", \"x\": [0, -0.0238006], \"y\": [0, 1.88177], \"z\": [0, -0.677032], \"mode\": \"lines\", \"line\": {\"color\": \"rgb(20, 0, 145)\", \"width\": 2}}, {\"type\": \"scatter3d\", \"x\": [0, -0.0226066], \"y\": [0, 1.880698], \"z\": [0, -0.680044], \"mode\": \"lines\", \"line\": {\"color\": \"rgb(20, 0, 145)\", \"width\": 2}}, {\"type\": \"scatter3d\", \"x\": [0, -0.0206544], \"y\": [0, 1.88062], \"z\": [0, -0.680324], \"mode\": \"lines\", \"line\": {\"color\": \"rgb(20, 0, 145)\", \"width\": 2}}, {\"type\": \"scatter3d\", \"x\": [0, -0.0206544], \"y\": [0, 1.88062], \"z\": [0, -0.680324], \"mode\": \"lines\", \"line\": {\"color\": \"rgb(20, 0, 145)\", \"width\": 2}}, {\"type\": \"scatter3d\", \"x\": [0, -0.0230328], \"y\": [0, 1.878908], \"z\": [0, -0.684964], \"mode\": \"lines\", \"line\": {\"color\": \"rgb(20, 0, 145)\", \"width\": 2}}, {\"type\": \"scatter3d\", \"x\": [0, -0.0228144], \"y\": [0, 1.876896], \"z\": [0, -0.690466], \"mode\": \"lines\", \"line\": {\"color\": \"rgb(20, 0, 145)\", \"width\": 2}}, {\"type\": \"scatter3d\", \"x\": [0, -0.0249658], \"y\": [0, 1.87822], \"z\": [0, -0.686782], \"mode\": \"lines\", \"line\": {\"color\": \"rgb(20, 0, 145)\", \"width\": 2}}, {\"type\": \"scatter3d\", \"x\": [0, -0.029402], \"y\": [0, 1.87712], \"z\": [0, -0.689604], \"mode\": \"lines\", \"line\": {\"color\": \"rgb(20, 0, 145)\", \"width\": 2}}, {\"type\": \"scatter3d\", \"x\": [0, -0.0262146], \"y\": [0, 1.880586], \"z\": [0, -0.680226], \"mode\": \"lines\", \"line\": {\"color\": \"rgb(20, 0, 145)\", \"width\": 2}}, {\"type\": \"scatter3d\", \"x\": [0, -0.0262146], \"y\": [0, 1.880586], \"z\": [0, -0.680226], \"mode\": \"lines\", \"line\": {\"color\": \"rgb(20, 0, 145)\", \"width\": 2}}, {\"type\": \"scatter3d\", \"x\": [0, -0.0283382], \"y\": [0, 1.87636], \"z\": [0, -0.691718], \"mode\": \"lines\", \"line\": {\"color\": \"rgb(20, 0, 145)\", \"width\": 2}}, {\"type\": \"scatter3d\", \"x\": [0, -0.0286582], \"y\": [0, 1.877942], \"z\": [0, -0.687392], \"mode\": \"lines\", \"line\": {\"color\": \"rgb(20, 0, 145)\", \"width\": 2}}, {\"type\": \"scatter3d\", \"x\": [0, -0.0333506], \"y\": [0, 1.876084], \"z\": [0, -0.692238], \"mode\": \"lines\", \"line\": {\"color\": \"rgb(20, 0, 145)\", \"width\": 2}}, {\"type\": \"scatter3d\", \"x\": [0, -0.0305434], \"y\": [0, 1.877336], \"z\": [0, -0.68897], \"mode\": \"lines\", \"line\": {\"color\": \"rgb(20, 0, 145)\", \"width\": 2}}, {\"type\": \"scatter3d\", \"x\": [0, -0.0305434], \"y\": [0, 1.877336], \"z\": [0, -0.68897], \"mode\": \"lines\", \"line\": {\"color\": \"rgb(20, 0, 145)\", \"width\": 2}}, {\"type\": \"scatter3d\", \"x\": [0, -0.0261594], \"y\": [0, 1.88191], \"z\": [0, -0.676558], \"mode\": \"lines\", \"line\": {\"color\": \"rgb(20, 0, 145)\", \"width\": 2}}, {\"type\": \"scatter3d\", \"x\": [0, -0.0304356], \"y\": [0, 1.87764], \"z\": [0, -0.688142], \"mode\": \"lines\", \"line\": {\"color\": \"rgb(20, 0, 145)\", \"width\": 2}}, {\"type\": \"scatter3d\", \"x\": [0, -0.0294076], \"y\": [0, 1.87633], \"z\": [0, -0.69175], \"mode\": \"lines\", \"line\": {\"color\": \"rgb(20, 0, 145)\", \"width\": 2}}, {\"type\": \"scatter3d\", \"x\": [0, -0.0294076], \"y\": [0, 1.87633], \"z\": [0, -0.69175], \"mode\": \"lines\", \"line\": {\"color\": \"rgb(20, 0, 145)\", \"width\": 2}}, {\"type\": \"scatter3d\", \"x\": [0, -0.0277582], \"y\": [0, 1.87939], \"z\": [0, -0.683462], \"mode\": \"lines\", \"line\": {\"color\": \"rgb(20, 0, 145)\", \"width\": 2}}, {\"type\": \"scatter3d\", \"x\": [0, -0.0252112], \"y\": [0, 1.882074], \"z\": [0, -0.676136], \"mode\": \"lines\", \"line\": {\"color\": \"rgb(20, 0, 145)\", \"width\": 2}}, {\"type\": \"scatter3d\", \"x\": [0, -0.0240952], \"y\": [0, 1.882932], \"z\": [0, -0.673784], \"mode\": \"lines\", \"line\": {\"color\": \"rgb(20, 0, 145)\", \"width\": 2}}, {\"type\": \"scatter3d\", \"x\": [0, -0.0263378], \"y\": [0, 1.882276], \"z\": [0, -0.675534], \"mode\": \"lines\", \"line\": {\"color\": \"rgb(20, 0, 145)\", \"width\": 2}}, {\"type\": \"scatter3d\", \"x\": [0, -0.0232486], \"y\": [0, 1.885784], \"z\": [0, -0.665792], \"mode\": \"lines\", \"line\": {\"color\": \"rgb(20, 0, 145)\", \"width\": 2}}, {\"type\": \"scatter3d\", \"x\": [0, -0.0232486], \"y\": [0, 1.885784], \"z\": [0, -0.665792], \"mode\": \"lines\", \"line\": {\"color\": \"rgb(20, 0, 145)\", \"width\": 2}}, {\"type\": \"scatter3d\", \"x\": [0, -0.0246028], \"y\": [0, 1.884774], \"z\": [0, -0.668596], \"mode\": \"lines\", \"line\": {\"color\": \"rgb(20, 0, 145)\", \"width\": 2}}, {\"type\": \"scatter3d\", \"x\": [0, -0.0212168], \"y\": [0, 1.88167], \"z\": [0, -0.677398], \"mode\": \"lines\", \"line\": {\"color\": \"rgb(20, 0, 145)\", \"width\": 2}}, {\"type\": \"scatter3d\", \"x\": [0, -0.0256154], \"y\": [0, 1.878948], \"z\": [0, -0.68476], \"mode\": \"lines\", \"line\": {\"color\": \"rgb(20, 0, 145)\", \"width\": 2}}, {\"type\": \"scatter3d\", \"x\": [0, -0.0268664], \"y\": [0, 1.879786], \"z\": [0, -0.682412], \"mode\": \"lines\", \"line\": {\"color\": \"rgb(20, 0, 145)\", \"width\": 2}}, {\"type\": \"scatter3d\", \"x\": [0, -0.0268664], \"y\": [0, 1.879786], \"z\": [0, -0.682412], \"mode\": \"lines\", \"line\": {\"color\": \"rgb(20, 0, 145)\", \"width\": 2}}, {\"type\": \"scatter3d\", \"x\": [0, -0.0276834], \"y\": [0, 1.880082], \"z\": [0, -0.68156], \"mode\": \"lines\", \"line\": {\"color\": \"rgb(20, 0, 145)\", \"width\": 2}}, {\"type\": \"scatter3d\", \"x\": [0, -0.0251716], \"y\": [0, 1.879824], \"z\": [0, -0.682368], \"mode\": \"lines\", \"line\": {\"color\": \"rgb(20, 0, 145)\", \"width\": 2}}, {\"type\": \"scatter3d\", \"x\": [0, 0.1963716], \"y\": [0, 1.879678], \"z\": [0, -0.654406], \"mode\": \"lines\", \"line\": {\"color\": \"rgb(20, 0, 145)\", \"width\": 2}}, {\"type\": \"scatter3d\", \"x\": [0, 0.1923424], \"y\": [0, 1.878452], \"z\": [0, -0.659108], \"mode\": \"lines\", \"line\": {\"color\": \"rgb(20, 0, 145)\", \"width\": 2}}, {\"type\": \"scatter3d\", \"x\": [0, 0.1923424], \"y\": [0, 1.878452], \"z\": [0, -0.659108], \"mode\": \"lines\", \"line\": {\"color\": \"rgb(20, 0, 145)\", \"width\": 2}}, {\"type\": \"scatter3d\", \"x\": [0, 0.190139], \"y\": [0, 1.88102], \"z\": [0, -0.652392], \"mode\": \"lines\", \"line\": {\"color\": \"rgb(20, 0, 145)\", \"width\": 2}}, {\"type\": \"scatter3d\", \"x\": [0, 0.1920304], \"y\": [0, 1.881468], \"z\": [0, -0.650542], \"mode\": \"lines\", \"line\": {\"color\": \"rgb(20, 0, 145)\", \"width\": 2}}, {\"type\": \"scatter3d\", \"x\": [0, 0.1857408], \"y\": [0, 1.879244], \"z\": [0, -0.658742], \"mode\": \"lines\", \"line\": {\"color\": \"rgb(20, 0, 145)\", \"width\": 2}}, {\"type\": \"scatter3d\", \"x\": [0, 0.191738], \"y\": [0, 1.881058], \"z\": [0, -0.651812], \"mode\": \"lines\", \"line\": {\"color\": \"rgb(20, 0, 145)\", \"width\": 2}}, {\"type\": \"scatter3d\", \"x\": [0, 0.1797566], \"y\": [0, 1.882612], \"z\": [0, -0.65074], \"mode\": \"lines\", \"line\": {\"color\": \"rgb(20, 0, 145)\", \"width\": 2}}, {\"type\": \"scatter3d\", \"x\": [0, 0.1797566], \"y\": [0, 1.882612], \"z\": [0, -0.65074], \"mode\": \"lines\", \"line\": {\"color\": \"rgb(20, 0, 145)\", \"width\": 2}}, {\"type\": \"scatter3d\", \"x\": [0, 0.1909882], \"y\": [0, 1.885214], \"z\": [0, -0.639918], \"mode\": \"lines\", \"line\": {\"color\": \"rgb(20, 0, 145)\", \"width\": 2}}, {\"type\": \"scatter3d\", \"x\": [0, 0.184482], \"y\": [0, 1.882596], \"z\": [0, -0.64946], \"mode\": \"lines\", \"line\": {\"color\": \"rgb(20, 0, 145)\", \"width\": 2}}, {\"type\": \"scatter3d\", \"x\": [0, 0.184482], \"y\": [0, 1.882596], \"z\": [0, -0.64946], \"mode\": \"lines\", \"line\": {\"color\": \"rgb(20, 0, 145)\", \"width\": 2}}, {\"type\": \"scatter3d\", \"x\": [0, 0.1799268], \"y\": [0, 1.883464], \"z\": [0, -0.648222], \"mode\": \"lines\", \"line\": {\"color\": \"rgb(20, 0, 145)\", \"width\": 2}}, {\"type\": \"scatter3d\", \"x\": [0, 0.188701], \"y\": [0, 1.883178], \"z\": [0, -0.646556], \"mode\": \"lines\", \"line\": {\"color\": \"rgb(20, 0, 145)\", \"width\": 2}}, {\"type\": \"scatter3d\", \"x\": [0, 0.1742866], \"y\": [0, 1.885036], \"z\": [0, -0.645184], \"mode\": \"lines\", \"line\": {\"color\": \"rgb(20, 0, 145)\", \"width\": 2}}, {\"type\": \"scatter3d\", \"x\": [0, 0.1847546], \"y\": [0, 1.884592], \"z\": [0, -0.64357], \"mode\": \"lines\", \"line\": {\"color\": \"rgb(20, 0, 145)\", \"width\": 2}}, {\"type\": \"scatter3d\", \"x\": [0, 0.1806858], \"y\": [0, 1.882164], \"z\": [0, -0.651778], \"mode\": \"lines\", \"line\": {\"color\": \"rgb(20, 0, 145)\", \"width\": 2}}, {\"type\": \"scatter3d\", \"x\": [0, 0.1806858], \"y\": [0, 1.882164], \"z\": [0, -0.651778], \"mode\": \"lines\", \"line\": {\"color\": \"rgb(20, 0, 145)\", \"width\": 2}}, {\"type\": \"scatter3d\", \"x\": [0, 0.1756114], \"y\": [0, 1.883334], \"z\": [0, -0.649782], \"mode\": \"lines\", \"line\": {\"color\": \"rgb(20, 0, 145)\", \"width\": 2}}, {\"type\": \"scatter3d\", \"x\": [0, 0.1831328], \"y\": [0, 1.880812], \"z\": [0, -0.65499], \"mode\": \"lines\", \"line\": {\"color\": \"rgb(20, 0, 145)\", \"width\": 2}}, {\"type\": \"scatter3d\", \"x\": [0, 0.1747332], \"y\": [0, 1.881662], \"z\": [0, -0.654842], \"mode\": \"lines\", \"line\": {\"color\": \"rgb(20, 0, 145)\", \"width\": 2}}, {\"type\": \"scatter3d\", \"x\": [0, 0.1747332], \"y\": [0, 1.881662], \"z\": [0, -0.654842], \"mode\": \"lines\", \"line\": {\"color\": \"rgb(20, 0, 145)\", \"width\": 2}}, {\"type\": \"scatter3d\", \"x\": [0, 0.187586], \"y\": [0, 1.885078], \"z\": [0, -0.641324], \"mode\": \"lines\", \"line\": {\"color\": \"rgb(20, 0, 145)\", \"width\": 2}}, {\"type\": \"scatter3d\", \"x\": [0, 0.1943228], \"y\": [0, 1.88347], \"z\": [0, -0.644032], \"mode\": \"lines\", \"line\": {\"color\": \"rgb(20, 0, 145)\", \"width\": 2}}, {\"type\": \"scatter3d\", \"x\": [0, 0.200712], \"y\": [0, 1.882838], \"z\": [0, -0.643924], \"mode\": \"lines\", \"line\": {\"color\": \"rgb(20, 0, 145)\", \"width\": 2}}, {\"type\": \"scatter3d\", \"x\": [0, 0.195385], \"y\": [0, 1.880614], \"z\": [0, -0.65201], \"mode\": \"lines\", \"line\": {\"color\": \"rgb(20, 0, 145)\", \"width\": 2}}, {\"type\": \"scatter3d\", \"x\": [0, 0.199628], \"y\": [0, 1.879734], \"z\": [0, -0.653262], \"mode\": \"lines\", \"line\": {\"color\": \"rgb(20, 0, 145)\", \"width\": 2}}, {\"type\": \"scatter3d\", \"x\": [0, 0.199628], \"y\": [0, 1.879734], \"z\": [0, -0.653262], \"mode\": \"lines\", \"line\": {\"color\": \"rgb(20, 0, 145)\", \"width\": 2}}, {\"type\": \"scatter3d\", \"x\": [0, 0.201838], \"y\": [0, 1.881146], \"z\": [0, -0.6485], \"mode\": \"lines\", \"line\": {\"color\": \"rgb(20, 0, 145)\", \"width\": 2}}, {\"type\": \"scatter3d\", \"x\": [0, 0.1991992], \"y\": [0, 1.878644], \"z\": [0, -0.656518], \"mode\": \"lines\", \"line\": {\"color\": \"rgb(20, 0, 145)\", \"width\": 2}}, {\"type\": \"scatter3d\", \"x\": [0, 0.1976472], \"y\": [0, 1.879014], \"z\": [0, -0.65593], \"mode\": \"lines\", \"line\": {\"color\": \"rgb(20, 0, 145)\", \"width\": 2}}, {\"type\": \"scatter3d\", \"x\": [0, 0.1955962], \"y\": [0, 1.88132], \"z\": [0, -0.649906], \"mode\": \"lines\", \"line\": {\"color\": \"rgb(20, 0, 145)\", \"width\": 2}}, {\"type\": \"scatter3d\", \"x\": [0, 0.1980534], \"y\": [0, 1.879114], \"z\": [0, -0.65552], \"mode\": \"lines\", \"line\": {\"color\": \"rgb(20, 0, 145)\", \"width\": 2}}, {\"type\": \"scatter3d\", \"x\": [0, 0.1934168], \"y\": [0, 1.879468], \"z\": [0, -0.655892], \"mode\": \"lines\", \"line\": {\"color\": \"rgb(20, 0, 145)\", \"width\": 2}}, {\"type\": \"scatter3d\", \"x\": [0, 0.1957368], \"y\": [0, 1.880958], \"z\": [0, -0.65091], \"mode\": \"lines\", \"line\": {\"color\": \"rgb(20, 0, 145)\", \"width\": 2}}, {\"type\": \"scatter3d\", \"x\": [0, 0.1957368], \"y\": [0, 1.880958], \"z\": [0, -0.65091], \"mode\": \"lines\", \"line\": {\"color\": \"rgb(20, 0, 145)\", \"width\": 2}}, {\"type\": \"scatter3d\", \"x\": [0, 0.1880838], \"y\": [0, 1.880126], \"z\": [0, -0.655556], \"mode\": \"lines\", \"line\": {\"color\": \"rgb(20, 0, 145)\", \"width\": 2}}, {\"type\": \"scatter3d\", \"x\": [0, 0.180787], \"y\": [0, 1.879874], \"z\": [0, -0.658322], \"mode\": \"lines\", \"line\": {\"color\": \"rgb(20, 0, 145)\", \"width\": 2}}, {\"type\": \"scatter3d\", \"x\": [0, 0.1728852], \"y\": [0, 1.878908], \"z\": [0, -0.663188], \"mode\": \"lines\", \"line\": {\"color\": \"rgb(20, 0, 145)\", \"width\": 2}}, {\"type\": \"scatter3d\", \"x\": [0, 0.1819476], \"y\": [0, 1.881686], \"z\": [0, -0.6528], \"mode\": \"lines\", \"line\": {\"color\": \"rgb(20, 0, 145)\", \"width\": 2}}, {\"type\": \"scatter3d\", \"x\": [0, 0.1769688], \"y\": [0, 1.878992], \"z\": [0, -0.661868], \"mode\": \"lines\", \"line\": {\"color\": \"rgb(20, 0, 145)\", \"width\": 2}}, {\"type\": \"scatter3d\", \"x\": [0, 0.1769688], \"y\": [0, 1.878992], \"z\": [0, -0.661868], \"mode\": \"lines\", \"line\": {\"color\": \"rgb(20, 0, 145)\", \"width\": 2}}, {\"type\": \"scatter3d\", \"x\": [0, 0.1809554], \"y\": [0, 1.882734], \"z\": [0, -0.650052], \"mode\": \"lines\", \"line\": {\"color\": \"rgb(20, 0, 145)\", \"width\": 2}}, {\"type\": \"scatter3d\", \"x\": [0, 0.173271], \"y\": [0, 1.882296], \"z\": [0, -0.653406], \"mode\": \"lines\", \"line\": {\"color\": \"rgb(20, 0, 145)\", \"width\": 2}}, {\"type\": \"scatter3d\", \"x\": [0, 0.1800972], \"y\": [0, 1.88272], \"z\": [0, -0.650328], \"mode\": \"lines\", \"line\": {\"color\": \"rgb(20, 0, 145)\", \"width\": 2}}, {\"type\": \"scatter3d\", \"x\": [0, 0.1800972], \"y\": [0, 1.88272], \"z\": [0, -0.650328], \"mode\": \"lines\", \"line\": {\"color\": \"rgb(20, 0, 145)\", \"width\": 2}}, {\"type\": \"scatter3d\", \"x\": [0, 0.1765818], \"y\": [0, 1.88282], \"z\": [0, -0.651004], \"mode\": \"lines\", \"line\": {\"color\": \"rgb(20, 0, 145)\", \"width\": 2}}, {\"type\": \"scatter3d\", \"x\": [0, 0.1735354], \"y\": [0, 1.881208], \"z\": [0, -0.656462], \"mode\": \"lines\", \"line\": {\"color\": \"rgb(20, 0, 145)\", \"width\": 2}}, {\"type\": \"scatter3d\", \"x\": [0, 0.1782484], \"y\": [0, 1.880126], \"z\": [0, -0.658296], \"mode\": \"lines\", \"line\": {\"color\": \"rgb(20, 0, 145)\", \"width\": 2}}, {\"type\": \"scatter3d\", \"x\": [0, 0.1696922], \"y\": [0, 1.879782], \"z\": [0, -0.661532], \"mode\": \"lines\", \"line\": {\"color\": \"rgb(20, 0, 145)\", \"width\": 2}}, {\"type\": \"scatter3d\", \"x\": [0, 0.1858136], \"y\": [0, 1.883406], \"z\": [0, -0.64673], \"mode\": \"lines\", \"line\": {\"color\": \"rgb(20, 0, 145)\", \"width\": 2}}, {\"type\": \"scatter3d\", \"x\": [0, 0.1858136], \"y\": [0, 1.883406], \"z\": [0, -0.64673], \"mode\": \"lines\", \"line\": {\"color\": \"rgb(20, 0, 145)\", \"width\": 2}}, {\"type\": \"scatter3d\", \"x\": [0, 0.1759298], \"y\": [0, 1.883128], \"z\": [0, -0.650288], \"mode\": \"lines\", \"line\": {\"color\": \"rgb(20, 0, 145)\", \"width\": 2}}, {\"type\": \"scatter3d\", \"x\": [0, 0.1775746], \"y\": [0, 1.884164], \"z\": [0, -0.646834], \"mode\": \"lines\", \"line\": {\"color\": \"rgb(20, 0, 145)\", \"width\": 2}}, {\"type\": \"scatter3d\", \"x\": [0, 0.1709468], \"y\": [0, 1.882546], \"z\": [0, -0.653298], \"mode\": \"lines\", \"line\": {\"color\": \"rgb(20, 0, 145)\", \"width\": 2}}, {\"type\": \"scatter3d\", \"x\": [0, 0.1743166], \"y\": [0, 1.880786], \"z\": [0, -0.657466], \"mode\": \"lines\", \"line\": {\"color\": \"rgb(20, 0, 145)\", \"width\": 2}}, {\"type\": \"scatter3d\", \"x\": [0, 0.1743166], \"y\": [0, 1.880786], \"z\": [0, -0.657466], \"mode\": \"lines\", \"line\": {\"color\": \"rgb(20, 0, 145)\", \"width\": 2}}, {\"type\": \"scatter3d\", \"x\": [0, 0.177672], \"y\": [0, 1.880868], \"z\": [0, -0.656326], \"mode\": \"lines\", \"line\": {\"color\": \"rgb(20, 0, 145)\", \"width\": 2}}, {\"type\": \"scatter3d\", \"x\": [0, 0.1683256], \"y\": [0, 1.880794], \"z\": [0, -0.659002], \"mode\": \"lines\", \"line\": {\"color\": \"rgb(20, 0, 145)\", \"width\": 2}}, {\"type\": \"scatter3d\", \"x\": [0, 0.1832526], \"y\": [0, 1.882104], \"z\": [0, -0.651234], \"mode\": \"lines\", \"line\": {\"color\": \"rgb(20, 0, 145)\", \"width\": 2}}, {\"type\": \"scatter3d\", \"x\": [0, 0.1745826], \"y\": [0, 1.881414], \"z\": [0, -0.65559], \"mode\": \"lines\", \"line\": {\"color\": \"rgb(20, 0, 145)\", \"width\": 2}}, {\"type\": \"scatter3d\", \"x\": [0, 0.1745826], \"y\": [0, 1.881414], \"z\": [0, -0.65559], \"mode\": \"lines\", \"line\": {\"color\": \"rgb(20, 0, 145)\", \"width\": 2}}, {\"type\": \"scatter3d\", \"x\": [0, 0.1783842], \"y\": [0, 1.882674], \"z\": [0, -0.650934], \"mode\": \"lines\", \"line\": {\"color\": \"rgb(20, 0, 145)\", \"width\": 2}}, {\"type\": \"scatter3d\", \"x\": [0, 0.1777044], \"y\": [0, 1.881292], \"z\": [0, -0.655106], \"mode\": \"lines\", \"line\": {\"color\": \"rgb(20, 0, 145)\", \"width\": 2}}, {\"type\": \"scatter3d\", \"x\": [0, 0.1725028], \"y\": [0, 1.881968], \"z\": [0, -0.65455], \"mode\": \"lines\", \"line\": {\"color\": \"rgb(20, 0, 145)\", \"width\": 2}}, {\"type\": \"scatter3d\", \"x\": [0, 0.1838968], \"y\": [0, 1.883458], \"z\": [0, -0.647122], \"mode\": \"lines\", \"line\": {\"color\": \"rgb(20, 0, 145)\", \"width\": 2}}, {\"type\": \"scatter3d\", \"x\": [0, 0.1838968], \"y\": [0, 1.883458], \"z\": [0, -0.647122], \"mode\": \"lines\", \"line\": {\"color\": \"rgb(20, 0, 145)\", \"width\": 2}}, {\"type\": \"scatter3d\", \"x\": [0, 0.1738764], \"y\": [0, 1.881126], \"z\": [0, -0.656608], \"mode\": \"lines\", \"line\": {\"color\": \"rgb(20, 0, 145)\", \"width\": 2}}, {\"type\": \"scatter3d\", \"x\": [0, 0.1769566], \"y\": [0, 1.88268], \"z\": [0, -0.651308], \"mode\": \"lines\", \"line\": {\"color\": \"rgb(20, 0, 145)\", \"width\": 2}}, {\"type\": \"scatter3d\", \"x\": [0, 0.1782786], \"y\": [0, 1.880774], \"z\": [0, -0.656434], \"mode\": \"lines\", \"line\": {\"color\": \"rgb(20, 0, 145)\", \"width\": 2}}, {\"type\": \"scatter3d\", \"x\": [0, 0.1816604], \"y\": [0, 1.884054], \"z\": [0, -0.64602], \"mode\": \"lines\", \"line\": {\"color\": \"rgb(20, 0, 145)\", \"width\": 2}}, {\"type\": \"scatter3d\", \"x\": [0, 0.1816604], \"y\": [0, 1.884054], \"z\": [0, -0.64602], \"mode\": \"lines\", \"line\": {\"color\": \"rgb(20, 0, 145)\", \"width\": 2}}, {\"type\": \"scatter3d\", \"x\": [0, 0.1840016], \"y\": [0, 1.880996], \"z\": [0, -0.654216], \"mode\": \"lines\", \"line\": {\"color\": \"rgb(20, 0, 145)\", \"width\": 2}}, {\"type\": \"scatter3d\", \"x\": [0, 0.1705586], \"y\": [0, 1.879134], \"z\": [0, -0.66315], \"mode\": \"lines\", \"line\": {\"color\": \"rgb(20, 0, 145)\", \"width\": 2}}, {\"type\": \"scatter3d\", \"x\": [0, 0.1859962], \"y\": [0, 1.879742], \"z\": [0, -0.65725], \"mode\": \"lines\", \"line\": {\"color\": \"rgb(20, 0, 145)\", \"width\": 2}}, {\"type\": \"scatter3d\", \"x\": [0, 0.1726786], \"y\": [0, 1.880018], \"z\": [0, -0.660086], \"mode\": \"lines\", \"line\": {\"color\": \"rgb(20, 0, 145)\", \"width\": 2}}, {\"type\": \"scatter3d\", \"x\": [0, 0.1726786], \"y\": [0, 1.880018], \"z\": [0, -0.660086], \"mode\": \"lines\", \"line\": {\"color\": \"rgb(20, 0, 145)\", \"width\": 2}}, {\"type\": \"scatter3d\", \"x\": [0, 0.1816886], \"y\": [0, 1.881256], \"z\": [0, -0.654112], \"mode\": \"lines\", \"line\": {\"color\": \"rgb(20, 0, 145)\", \"width\": 2}}, {\"type\": \"scatter3d\", \"x\": [0, 0.1754976], \"y\": [0, 1.881082], \"z\": [0, -0.6563], \"mode\": \"lines\", \"line\": {\"color\": \"rgb(20, 0, 145)\", \"width\": 2}}, {\"type\": \"scatter3d\", \"x\": [0, 0.1794558], \"y\": [0, 1.881922], \"z\": [0, -0.652814], \"mode\": \"lines\", \"line\": {\"color\": \"rgb(20, 0, 145)\", \"width\": 2}}, {\"type\": \"scatter3d\", \"x\": [0, 0.1817726], \"y\": [0, 1.881048], \"z\": [0, -0.654692], \"mode\": \"lines\", \"line\": {\"color\": \"rgb(20, 0, 145)\", \"width\": 2}}, {\"type\": \"scatter3d\", \"x\": [0, 0.1817726], \"y\": [0, 1.881048], \"z\": [0, -0.654692], \"mode\": \"lines\", \"line\": {\"color\": \"rgb(20, 0, 145)\", \"width\": 2}}, {\"type\": \"scatter3d\", \"x\": [0, 0.1774742], \"y\": [0, 1.881656], \"z\": [0, -0.654124], \"mode\": \"lines\", \"line\": {\"color\": \"rgb(20, 0, 145)\", \"width\": 2}}, {\"type\": \"scatter3d\", \"x\": [0, 0.1830008], \"y\": [0, 1.881072], \"z\": [0, -0.654276], \"mode\": \"lines\", \"line\": {\"color\": \"rgb(20, 0, 145)\", \"width\": 2}}, {\"type\": \"scatter3d\", \"x\": [0, 0.1814004], \"y\": [0, 1.88208], \"z\": [0, -0.651818], \"mode\": \"lines\", \"line\": {\"color\": \"rgb(20, 0, 145)\", \"width\": 2}}, {\"type\": \"scatter3d\", \"x\": [0, 0.184693], \"y\": [0, 1.883244], \"z\": [0, -0.64752], \"mode\": \"lines\", \"line\": {\"color\": \"rgb(20, 0, 145)\", \"width\": 2}}, {\"type\": \"scatter3d\", \"x\": [0, 0.184693], \"y\": [0, 1.883244], \"z\": [0, -0.64752], \"mode\": \"lines\", \"line\": {\"color\": \"rgb(20, 0, 145)\", \"width\": 2}}, {\"type\": \"scatter3d\", \"x\": [0, 0.1868988], \"y\": [0, 1.882152], \"z\": [0, -0.650058], \"mode\": \"lines\", \"line\": {\"color\": \"rgb(20, 0, 145)\", \"width\": 2}}, {\"type\": \"scatter3d\", \"x\": [0, 0.1838012], \"y\": [0, 1.882714], \"z\": [0, -0.649314], \"mode\": \"lines\", \"line\": {\"color\": \"rgb(20, 0, 145)\", \"width\": 2}}, {\"type\": \"scatter3d\", \"x\": [0, 0.1931156], \"y\": [0, 1.883246], \"z\": [0, -0.645054], \"mode\": \"lines\", \"line\": {\"color\": \"rgb(20, 0, 145)\", \"width\": 2}}, {\"type\": \"scatter3d\", \"x\": [0, 0.1821232], \"y\": [0, 1.880656], \"z\": [0, -0.655714], \"mode\": \"lines\", \"line\": {\"color\": \"rgb(20, 0, 145)\", \"width\": 2}}, {\"type\": \"scatter3d\", \"x\": [0, 0.1930616], \"y\": [0, 1.884134], \"z\": [0, -0.64247], \"mode\": \"lines\", \"line\": {\"color\": \"rgb(20, 0, 145)\", \"width\": 2}}, {\"type\": \"scatter3d\", \"x\": [0, 0.1930616], \"y\": [0, 1.884134], \"z\": [0, -0.64247], \"mode\": \"lines\", \"line\": {\"color\": \"rgb(20, 0, 145)\", \"width\": 2}}, {\"type\": \"scatter3d\", \"x\": [0, 0.1837508], \"y\": [0, 1.881326], \"z\": [0, -0.653334], \"mode\": \"lines\", \"line\": {\"color\": \"rgb(20, 0, 145)\", \"width\": 2}}, {\"type\": \"scatter3d\", \"x\": [0, 0.1810272], \"y\": [0, 1.880826], \"z\": [0, -0.65553], \"mode\": \"lines\", \"line\": {\"color\": \"rgb(20, 0, 145)\", \"width\": 2}}, {\"type\": \"scatter3d\", \"x\": [0, 0.1810272], \"y\": [0, 1.880826], \"z\": [0, -0.65553], \"mode\": \"lines\", \"line\": {\"color\": \"rgb(20, 0, 145)\", \"width\": 2}}, {\"type\": \"scatter3d\", \"x\": [0, 0.1893624], \"y\": [0, 1.882218], \"z\": [0, -0.649152], \"mode\": \"lines\", \"line\": {\"color\": \"rgb(20, 0, 145)\", \"width\": 2}}, {\"type\": \"scatter3d\", \"x\": [0, 0.1834808], \"y\": [0, 1.881626], \"z\": [0, -0.65255], \"mode\": \"lines\", \"line\": {\"color\": \"rgb(20, 0, 145)\", \"width\": 2}}, {\"type\": \"scatter3d\", \"x\": [0, 0.1876198], \"y\": [0, 1.883232], \"z\": [0, -0.64671], \"mode\": \"lines\", \"line\": {\"color\": \"rgb(20, 0, 145)\", \"width\": 2}}, {\"type\": \"scatter3d\", \"x\": [0, 0.1808108], \"y\": [0, 1.882998], \"z\": [0, -0.64933], \"mode\": \"lines\", \"line\": {\"color\": \"rgb(20, 0, 145)\", \"width\": 2}}, {\"type\": \"scatter3d\", \"x\": [0, -0.226612], \"y\": [0, 1.987118], \"z\": [0, -0.00251254], \"mode\": \"lines\", \"line\": {\"color\": \"rgb(20, 0, 145)\", \"width\": 2}}, {\"type\": \"scatter3d\", \"x\": [0, -0.226612], \"y\": [0, 1.987118], \"z\": [0, -0.00251254], \"mode\": \"lines\", \"line\": {\"color\": \"rgb(20, 0, 145)\", \"width\": 2}}, {\"type\": \"scatter3d\", \"x\": [0, -0.222148], \"y\": [0, 1.98762], \"z\": [0, -0.00387968], \"mode\": \"lines\", \"line\": {\"color\": \"rgb(20, 0, 145)\", \"width\": 2}}, {\"type\": \"scatter3d\", \"x\": [0, -0.241238], \"y\": [0, 1.985394], \"z\": [0, -0.00365654], \"mode\": \"lines\", \"line\": {\"color\": \"rgb(20, 0, 145)\", \"width\": 2}}, {\"type\": \"scatter3d\", \"x\": [0, -0.23576], \"y\": [0, 1.986054], \"z\": [0, -0.003094], \"mode\": \"lines\", \"line\": {\"color\": \"rgb(20, 0, 145)\", \"width\": 2}}, {\"type\": \"scatter3d\", \"x\": [0, -0.239658], \"y\": [0, 1.985578], \"z\": [0, -0.00675102], \"mode\": \"lines\", \"line\": {\"color\": \"rgb(20, 0, 145)\", \"width\": 2}}, {\"type\": \"scatter3d\", \"x\": [0, -0.239658], \"y\": [0, 1.985578], \"z\": [0, -0.00675102], \"mode\": \"lines\", \"line\": {\"color\": \"rgb(20, 0, 145)\", \"width\": 2}}, {\"type\": \"scatter3d\", \"x\": [0, -0.236348], \"y\": [0, 1.985978], \"z\": [0, -0.0057792], \"mode\": \"lines\", \"line\": {\"color\": \"rgb(20, 0, 145)\", \"width\": 2}}, {\"type\": \"scatter3d\", \"x\": [0, -0.239894], \"y\": [0, 1.98554], \"z\": [0, -0.00922258], \"mode\": \"lines\", \"line\": {\"color\": \"rgb(20, 0, 145)\", \"width\": 2}}, {\"type\": \"scatter3d\", \"x\": [0, -0.2337], \"y\": [0, 1.986294], \"z\": [0, -0.00410312], \"mode\": \"lines\", \"line\": {\"color\": \"rgb(20, 0, 145)\", \"width\": 2}}, {\"type\": \"scatter3d\", \"x\": [0, -0.237162], \"y\": [0, 1.985872], \"z\": [0, -0.00842036], \"mode\": \"lines\", \"line\": {\"color\": \"rgb(20, 0, 145)\", \"width\": 2}}, {\"type\": \"scatter3d\", \"x\": [0, -0.236944], \"y\": [0, 1.98591], \"z\": [0, -0.00469172], \"mode\": \"lines\", \"line\": {\"color\": \"rgb(20, 0, 145)\", \"width\": 2}}, {\"type\": \"scatter3d\", \"x\": [0, -0.236944], \"y\": [0, 1.98591], \"z\": [0, -0.00469172], \"mode\": \"lines\", \"line\": {\"color\": \"rgb(20, 0, 145)\", \"width\": 2}}, {\"type\": \"scatter3d\", \"x\": [0, -0.236234], \"y\": [0, 1.985946], \"z\": [0, -0.01459638], \"mode\": \"lines\", \"line\": {\"color\": \"rgb(20, 0, 145)\", \"width\": 2}}, {\"type\": \"scatter3d\", \"x\": [0, -0.232248], \"y\": [0, 1.986454], \"z\": [0, -0.00796142], \"mode\": \"lines\", \"line\": {\"color\": \"rgb(20, 0, 145)\", \"width\": 2}}, {\"type\": \"scatter3d\", \"x\": [0, -0.231858], \"y\": [0, 1.986484], \"z\": [0, -0.01100466], \"mode\": \"lines\", \"line\": {\"color\": \"rgb(20, 0, 145)\", \"width\": 2}}, {\"type\": \"scatter3d\", \"x\": [0, -0.231858], \"y\": [0, 1.986484], \"z\": [0, -0.01100466], \"mode\": \"lines\", \"line\": {\"color\": \"rgb(20, 0, 145)\", \"width\": 2}}, {\"type\": \"scatter3d\", \"x\": [0, -0.23951], \"y\": [0, 1.985588], \"z\": [0, -0.008758], \"mode\": \"lines\", \"line\": {\"color\": \"rgb(20, 0, 145)\", \"width\": 2}}, {\"type\": \"scatter3d\", \"x\": [0, -0.23147], \"y\": [0, 1.986528], \"z\": [0, -0.01120332], \"mode\": \"lines\", \"line\": {\"color\": \"rgb(20, 0, 145)\", \"width\": 2}}, {\"type\": \"scatter3d\", \"x\": [0, -0.23147], \"y\": [0, 1.986528], \"z\": [0, -0.01120332], \"mode\": \"lines\", \"line\": {\"color\": \"rgb(20, 0, 145)\", \"width\": 2}}, {\"type\": \"scatter3d\", \"x\": [0, -0.246336], \"y\": [0, 1.984732], \"z\": [0, -0.01270618], \"mode\": \"lines\", \"line\": {\"color\": \"rgb(20, 0, 145)\", \"width\": 2}}, {\"type\": \"scatter3d\", \"x\": [0, -0.246336], \"y\": [0, 1.984732], \"z\": [0, -0.01270618], \"mode\": \"lines\", \"line\": {\"color\": \"rgb(20, 0, 145)\", \"width\": 2}}, {\"type\": \"scatter3d\", \"x\": [0, -0.246574], \"y\": [0, 1.984724], \"z\": [0, -0.00865494], \"mode\": \"lines\", \"line\": {\"color\": \"rgb(20, 0, 145)\", \"width\": 2}}, {\"type\": \"scatter3d\", \"x\": [0, -0.250356], \"y\": [0, 1.984254], \"z\": [0, -0.00772602], \"mode\": \"lines\", \"line\": {\"color\": \"rgb(20, 0, 145)\", \"width\": 2}}, {\"type\": \"scatter3d\", \"x\": [0, -0.244588], \"y\": [0, 1.984982], \"z\": [0, -0.00498988], \"mode\": \"lines\", \"line\": {\"color\": \"rgb(20, 0, 145)\", \"width\": 2}}, {\"type\": \"scatter3d\", \"x\": [0, -0.248894], \"y\": [0, 1.984412], \"z\": [0, -0.01283776], \"mode\": \"lines\", \"line\": {\"color\": \"rgb(20, 0, 145)\", \"width\": 2}}, {\"type\": \"scatter3d\", \"x\": [0, -0.244958], \"y\": [0, 1.984932], \"z\": [0, -0.00610254], \"mode\": \"lines\", \"line\": {\"color\": \"rgb(20, 0, 145)\", \"width\": 2}}, {\"type\": \"scatter3d\", \"x\": [0, -0.244958], \"y\": [0, 1.984932], \"z\": [0, -0.00610254], \"mode\": \"lines\", \"line\": {\"color\": \"rgb(20, 0, 145)\", \"width\": 2}}, {\"type\": \"scatter3d\", \"x\": [0, -0.245622], \"y\": [0, 1.984814], \"z\": [0, -0.0136319], \"mode\": \"lines\", \"line\": {\"color\": \"rgb(20, 0, 145)\", \"width\": 2}}, {\"type\": \"scatter3d\", \"x\": [0, -0.244788], \"y\": [0, 1.984948], \"z\": [0, -0.0079885], \"mode\": \"lines\", \"line\": {\"color\": \"rgb(20, 0, 145)\", \"width\": 2}}, {\"type\": \"scatter3d\", \"x\": [0, -0.244788], \"y\": [0, 1.984948], \"z\": [0, -0.0079885], \"mode\": \"lines\", \"line\": {\"color\": \"rgb(20, 0, 145)\", \"width\": 2}}, {\"type\": \"scatter3d\", \"x\": [0, -0.241844], \"y\": [0, 1.985294], \"z\": [0, -0.01086104], \"mode\": \"lines\", \"line\": {\"color\": \"rgb(20, 0, 145)\", \"width\": 2}}, {\"type\": \"scatter3d\", \"x\": [0, -0.237158], \"y\": [0, 1.985864], \"z\": [0, -0.00983], \"mode\": \"lines\", \"line\": {\"color\": \"rgb(20, 0, 145)\", \"width\": 2}}, {\"type\": \"scatter3d\", \"x\": [0, -0.24436], \"y\": [0, 1.984934], \"z\": [0, -0.01799056], \"mode\": \"lines\", \"line\": {\"color\": \"rgb(20, 0, 145)\", \"width\": 2}}, {\"type\": \"scatter3d\", \"x\": [0, -0.235042], \"y\": [0, 1.986104], \"z\": [0, -0.01220202], \"mode\": \"lines\", \"line\": {\"color\": \"rgb(20, 0, 145)\", \"width\": 2}}, {\"type\": \"scatter3d\", \"x\": [0, -0.236846], \"y\": [0, 1.98587], \"z\": [0, -0.01502688], \"mode\": \"lines\", \"line\": {\"color\": \"rgb(20, 0, 145)\", \"width\": 2}}, {\"type\": \"scatter3d\", \"x\": [0, -0.23886], \"y\": [0, 1.985632], \"z\": [0, -0.01444234], \"mode\": \"lines\", \"line\": {\"color\": \"rgb(20, 0, 145)\", \"width\": 2}}, {\"type\": \"scatter3d\", \"x\": [0, -0.239508], \"y\": [0, 1.98558], \"z\": [0, -0.01056196], \"mode\": \"lines\", \"line\": {\"color\": \"rgb(20, 0, 145)\", \"width\": 2}}, {\"type\": \"scatter3d\", \"x\": [0, -0.243926], \"y\": [0, 1.985042], \"z\": [0, -0.01040036], \"mode\": \"lines\", \"line\": {\"color\": \"rgb(20, 0, 145)\", \"width\": 2}}, {\"type\": \"scatter3d\", \"x\": [0, -0.245176], \"y\": [0, 1.984872], \"z\": [0, -0.01319808], \"mode\": \"lines\", \"line\": {\"color\": \"rgb(20, 0, 145)\", \"width\": 2}}, {\"type\": \"scatter3d\", \"x\": [0, -0.242724], \"y\": [0, 1.98519], \"z\": [0, -0.01024284], \"mode\": \"lines\", \"line\": {\"color\": \"rgb(20, 0, 145)\", \"width\": 2}}, {\"type\": \"scatter3d\", \"x\": [0, -0.23999], \"y\": [0, 1.985528], \"z\": [0, -0.0092769], \"mode\": \"lines\", \"line\": {\"color\": \"rgb(20, 0, 145)\", \"width\": 2}}, {\"type\": \"scatter3d\", \"x\": [0, -0.235318], \"y\": [0, 1.986088], \"z\": [0, -0.00882498], \"mode\": \"lines\", \"line\": {\"color\": \"rgb(20, 0, 145)\", \"width\": 2}}, {\"type\": \"scatter3d\", \"x\": [0, -0.237246], \"y\": [0, 1.985844], \"z\": [0, -0.01169742], \"mode\": \"lines\", \"line\": {\"color\": \"rgb(20, 0, 145)\", \"width\": 2}}, {\"type\": \"scatter3d\", \"x\": [0, -0.236632], \"y\": [0, 1.98592], \"z\": [0, -0.0110984], \"mode\": \"lines\", \"line\": {\"color\": \"rgb(20, 0, 145)\", \"width\": 2}}, {\"type\": \"scatter3d\", \"x\": [0, -0.236632], \"y\": [0, 1.98592], \"z\": [0, -0.0110984], \"mode\": \"lines\", \"line\": {\"color\": \"rgb(20, 0, 145)\", \"width\": 2}}, {\"type\": \"scatter3d\", \"x\": [0, -0.235092], \"y\": [0, 1.986094], \"z\": [0, -0.01288222], \"mode\": \"lines\", \"line\": {\"color\": \"rgb(20, 0, 145)\", \"width\": 2}}, {\"type\": \"scatter3d\", \"x\": [0, -0.234406], \"y\": [0, 1.986152], \"z\": [0, -0.01605492], \"mode\": \"lines\", \"line\": {\"color\": \"rgb(20, 0, 145)\", \"width\": 2}}, {\"type\": \"scatter3d\", \"x\": [0, -0.227762], \"y\": [0, 1.986966], \"z\": [0, -0.00965296], \"mode\": \"lines\", \"line\": {\"color\": \"rgb(20, 0, 145)\", \"width\": 2}}, {\"type\": \"scatter3d\", \"x\": [0, -0.23625], \"y\": [0, 1.98594], \"z\": [0, -0.0151757], \"mode\": \"lines\", \"line\": {\"color\": \"rgb(20, 0, 145)\", \"width\": 2}}, {\"type\": \"scatter3d\", \"x\": [0, -0.23625], \"y\": [0, 1.98594], \"z\": [0, -0.0151757], \"mode\": \"lines\", \"line\": {\"color\": \"rgb(20, 0, 145)\", \"width\": 2}}, {\"type\": \"scatter3d\", \"x\": [0, -0.226498], \"y\": [0, 1.98708], \"z\": [0, -0.01452828], \"mode\": \"lines\", \"line\": {\"color\": \"rgb(20, 0, 145)\", \"width\": 2}}, {\"type\": \"scatter3d\", \"x\": [0, -0.227416], \"y\": [0, 1.986974], \"z\": [0, -0.01460536], \"mode\": \"lines\", \"line\": {\"color\": \"rgb(20, 0, 145)\", \"width\": 2}}, {\"type\": \"scatter3d\", \"x\": [0, -0.224116], \"y\": [0, 1.987362], \"z\": [0, -0.01272686], \"mode\": \"lines\", \"line\": {\"color\": \"rgb(20, 0, 145)\", \"width\": 2}}, {\"type\": \"scatter3d\", \"x\": [0, -0.227174], \"y\": [0, 1.986996], \"z\": [0, -0.01534028], \"mode\": \"lines\", \"line\": {\"color\": \"rgb(20, 0, 145)\", \"width\": 2}}, {\"type\": \"scatter3d\", \"x\": [0, -0.222582], \"y\": [0, 1.987512], \"z\": [0, -0.01589984], \"mode\": \"lines\", \"line\": {\"color\": \"rgb(20, 0, 145)\", \"width\": 2}}, {\"type\": \"scatter3d\", \"x\": [0, -0.222582], \"y\": [0, 1.987512], \"z\": [0, -0.01589984], \"mode\": \"lines\", \"line\": {\"color\": \"rgb(20, 0, 145)\", \"width\": 2}}, {\"type\": \"scatter3d\", \"x\": [0, -0.22032], \"y\": [0, 1.987818], \"z\": [0, -0.0064664], \"mode\": \"lines\", \"line\": {\"color\": \"rgb(20, 0, 145)\", \"width\": 2}}, {\"type\": \"scatter3d\", \"x\": [0, -0.222964], \"y\": [0, 1.98746], \"z\": [0, -0.01696312], \"mode\": \"lines\", \"line\": {\"color\": \"rgb(20, 0, 145)\", \"width\": 2}}, {\"type\": \"scatter3d\", \"x\": [0, -0.218056], \"y\": [0, 1.988034], \"z\": [0, -0.01307648], \"mode\": \"lines\", \"line\": {\"color\": \"rgb(20, 0, 145)\", \"width\": 2}}, {\"type\": \"scatter3d\", \"x\": [0, -0.218056], \"y\": [0, 1.988034], \"z\": [0, -0.01307648], \"mode\": \"lines\", \"line\": {\"color\": \"rgb(20, 0, 145)\", \"width\": 2}}, {\"type\": \"scatter3d\", \"x\": [0, -0.220864], \"y\": [0, 1.987736], \"z\": [0, -0.01099078], \"mode\": \"lines\", \"line\": {\"color\": \"rgb(20, 0, 145)\", \"width\": 2}}, {\"type\": \"scatter3d\", \"x\": [0, -0.21738], \"y\": [0, 1.988118], \"z\": [0, -0.01140516], \"mode\": \"lines\", \"line\": {\"color\": \"rgb(20, 0, 145)\", \"width\": 2}}, {\"type\": \"scatter3d\", \"x\": [0, -0.2193], \"y\": [0, 1.987906], \"z\": [0, -0.01186102], \"mode\": \"lines\", \"line\": {\"color\": \"rgb(20, 0, 145)\", \"width\": 2}}, {\"type\": \"scatter3d\", \"x\": [0, -0.219798], \"y\": [0, 1.987824], \"z\": [0, -0.01566092], \"mode\": \"lines\", \"line\": {\"color\": \"rgb(20, 0, 145)\", \"width\": 2}}, {\"type\": \"scatter3d\", \"x\": [0, -0.219798], \"y\": [0, 1.987824], \"z\": [0, -0.01566092], \"mode\": \"lines\", \"line\": {\"color\": \"rgb(20, 0, 145)\", \"width\": 2}}, {\"type\": \"scatter3d\", \"x\": [0, -0.223474], \"y\": [0, 1.987436], \"z\": [0, -0.01268284], \"mode\": \"lines\", \"line\": {\"color\": \"rgb(20, 0, 145)\", \"width\": 2}}, {\"type\": \"scatter3d\", \"x\": [0, -0.222238], \"y\": [0, 1.987568], \"z\": [0, -0.01362512], \"mode\": \"lines\", \"line\": {\"color\": \"rgb(20, 0, 145)\", \"width\": 2}}, {\"type\": \"scatter3d\", \"x\": [0, -0.2242], \"y\": [0, 1.987344], \"z\": [0, -0.01419772], \"mode\": \"lines\", \"line\": {\"color\": \"rgb(20, 0, 145)\", \"width\": 2}}, {\"type\": \"scatter3d\", \"x\": [0, -0.224784], \"y\": [0, 1.987272], \"z\": [0, -0.01490072], \"mode\": \"lines\", \"line\": {\"color\": \"rgb(20, 0, 145)\", \"width\": 2}}, {\"type\": \"scatter3d\", \"x\": [0, -0.224784], \"y\": [0, 1.987272], \"z\": [0, -0.01490072], \"mode\": \"lines\", \"line\": {\"color\": \"rgb(20, 0, 145)\", \"width\": 2}}, {\"type\": \"scatter3d\", \"x\": [0, -0.231992], \"y\": [0, 1.986448], \"z\": [0, -0.01435774], \"mode\": \"lines\", \"line\": {\"color\": \"rgb(20, 0, 145)\", \"width\": 2}}, {\"type\": \"scatter3d\", \"x\": [0, -0.231414], \"y\": [0, 1.986532], \"z\": [0, -0.0116761], \"mode\": \"lines\", \"line\": {\"color\": \"rgb(20, 0, 145)\", \"width\": 2}}, {\"type\": \"scatter3d\", \"x\": [0, -0.230378], \"y\": [0, 1.98665], \"z\": [0, -0.01226992], \"mode\": \"lines\", \"line\": {\"color\": \"rgb(20, 0, 145)\", \"width\": 2}}, {\"type\": \"scatter3d\", \"x\": [0, -0.23293], \"y\": [0, 1.98635], \"z\": [0, -0.01243848], \"mode\": \"lines\", \"line\": {\"color\": \"rgb(20, 0, 145)\", \"width\": 2}}, {\"type\": \"scatter3d\", \"x\": [0, -0.23293], \"y\": [0, 1.98635], \"z\": [0, -0.01243848], \"mode\": \"lines\", \"line\": {\"color\": \"rgb(20, 0, 145)\", \"width\": 2}}, {\"type\": \"scatter3d\", \"x\": [0, -0.233152], \"y\": [0, 1.986292], \"z\": [0, -0.0167821], \"mode\": \"lines\", \"line\": {\"color\": \"rgb(20, 0, 145)\", \"width\": 2}}, {\"type\": \"scatter3d\", \"x\": [0, -0.234772], \"y\": [0, 1.986128], \"z\": [0, -0.01332542], \"mode\": \"lines\", \"line\": {\"color\": \"rgb(20, 0, 145)\", \"width\": 2}}, {\"type\": \"scatter3d\", \"x\": [0, -0.24521], \"y\": [0, 1.984908], \"z\": [0, -0.003596], \"mode\": \"lines\", \"line\": {\"color\": \"rgb(20, 0, 145)\", \"width\": 2}}, {\"type\": \"scatter3d\", \"x\": [0, -0.242762], \"y\": [0, 1.98521], \"z\": [0, -0.00210834], \"mode\": \"lines\", \"line\": {\"color\": \"rgb(20, 0, 145)\", \"width\": 2}}, {\"type\": \"scatter3d\", \"x\": [0, -0.242762], \"y\": [0, 1.98521], \"z\": [0, -0.00210834], \"mode\": \"lines\", \"line\": {\"color\": \"rgb(20, 0, 145)\", \"width\": 2}}, {\"type\": \"scatter3d\", \"x\": [0, -0.244384], \"y\": [0, 1.985012], \"z\": [0, -0.001327786], \"mode\": \"lines\", \"line\": {\"color\": \"rgb(20, 0, 145)\", \"width\": 2}}, {\"type\": \"scatter3d\", \"x\": [0, -0.238632], \"y\": [0, 1.985712], \"z\": [0, 8.21536e-05], \"mode\": \"lines\", \"line\": {\"color\": \"rgb(20, 0, 145)\", \"width\": 2}}, {\"type\": \"scatter3d\", \"x\": [0, -0.24129], \"y\": [0, 1.98539], \"z\": [0, -0.00242934], \"mode\": \"lines\", \"line\": {\"color\": \"rgb(20, 0, 145)\", \"width\": 2}}, {\"type\": \"scatter3d\", \"x\": [0, -0.241288], \"y\": [0, 1.985388], \"z\": [0, -0.00341504], \"mode\": \"lines\", \"line\": {\"color\": \"rgb(20, 0, 145)\", \"width\": 2}}, {\"type\": \"scatter3d\", \"x\": [0, -0.241748], \"y\": [0, 1.98533], \"z\": [0, -0.00454994], \"mode\": \"lines\", \"line\": {\"color\": \"rgb(20, 0, 145)\", \"width\": 2}}, {\"type\": \"scatter3d\", \"x\": [0, -0.241748], \"y\": [0, 1.98533], \"z\": [0, -0.00454994], \"mode\": \"lines\", \"line\": {\"color\": \"rgb(20, 0, 145)\", \"width\": 2}}, {\"type\": \"scatter3d\", \"x\": [0, -0.241098], \"y\": [0, 1.985412], \"z\": [0, -0.00293624], \"mode\": \"lines\", \"line\": {\"color\": \"rgb(20, 0, 145)\", \"width\": 2}}, {\"type\": \"scatter3d\", \"x\": [0, -0.24125], \"y\": [0, 1.985392], \"z\": [0, -0.00430128], \"mode\": \"lines\", \"line\": {\"color\": \"rgb(20, 0, 145)\", \"width\": 2}}, {\"type\": \"scatter3d\", \"x\": [0, -0.235886], \"y\": [0, 1.986028], \"z\": [0, -0.00709226], \"mode\": \"lines\", \"line\": {\"color\": \"rgb(20, 0, 145)\", \"width\": 2}}, {\"type\": \"scatter3d\", \"x\": [0, -0.238378], \"y\": [0, 1.985712], \"z\": [0, -0.01122452], \"mode\": \"lines\", \"line\": {\"color\": \"rgb(20, 0, 145)\", \"width\": 2}}, {\"type\": \"scatter3d\", \"x\": [0, -0.238378], \"y\": [0, 1.985712], \"z\": [0, -0.01122452], \"mode\": \"lines\", \"line\": {\"color\": \"rgb(20, 0, 145)\", \"width\": 2}}, {\"type\": \"scatter3d\", \"x\": [0, -0.236116], \"y\": [0, 1.985976], \"z\": [0, -0.01227226], \"mode\": \"lines\", \"line\": {\"color\": \"rgb(20, 0, 145)\", \"width\": 2}}, {\"type\": \"scatter3d\", \"x\": [0, -0.240476], \"y\": [0, 1.985426], \"z\": [0, -0.01606386], \"mode\": \"lines\", \"line\": {\"color\": \"rgb(20, 0, 145)\", \"width\": 2}}, {\"type\": \"scatter3d\", \"x\": [0, -0.24116], \"y\": [0, 1.985358], \"z\": [0, -0.01407356], \"mode\": \"lines\", \"line\": {\"color\": \"rgb(20, 0, 145)\", \"width\": 2}}, {\"type\": \"scatter3d\", \"x\": [0, -0.24116], \"y\": [0, 1.985358], \"z\": [0, -0.01407356], \"mode\": \"lines\", \"line\": {\"color\": \"rgb(20, 0, 145)\", \"width\": 2}}, {\"type\": \"scatter3d\", \"x\": [0, -0.239636], \"y\": [0, 1.98555], \"z\": [0, -0.0130117], \"mode\": \"lines\", \"line\": {\"color\": \"rgb(20, 0, 145)\", \"width\": 2}}, {\"type\": \"scatter3d\", \"x\": [0, -0.243388], \"y\": [0, 1.985046], \"z\": [0, -0.01886128], \"mode\": \"lines\", \"line\": {\"color\": \"rgb(20, 0, 145)\", \"width\": 2}}, {\"type\": \"scatter3d\", \"x\": [0, -0.243854], \"y\": [0, 1.985008], \"z\": [0, -0.01675882], \"mode\": \"lines\", \"line\": {\"color\": \"rgb(20, 0, 145)\", \"width\": 2}}, {\"type\": \"scatter3d\", \"x\": [0, -0.239088], \"y\": [0, 1.98559], \"z\": [0, -0.01637034], \"mode\": \"lines\", \"line\": {\"color\": \"rgb(20, 0, 145)\", \"width\": 2}}, {\"type\": \"scatter3d\", \"x\": [0, 0.0454582], \"y\": [0, 1.999372], \"z\": [0, -0.0211772], \"mode\": \"lines\", \"line\": {\"color\": \"rgb(20, 0, 145)\", \"width\": 2}}, {\"type\": \"scatter3d\", \"x\": [0, 0.0454582], \"y\": [0, 1.999372], \"z\": [0, -0.0211772], \"mode\": \"lines\", \"line\": {\"color\": \"rgb(20, 0, 145)\", \"width\": 2}}, {\"type\": \"scatter3d\", \"x\": [0, 0.049713], \"y\": [0, 1.99925], \"z\": [0, -0.022927], \"mode\": \"lines\", \"line\": {\"color\": \"rgb(20, 0, 145)\", \"width\": 2}}, {\"type\": \"scatter3d\", \"x\": [0, 0.053093], \"y\": [0, 1.999168], \"z\": [0, -0.0225768], \"mode\": \"lines\", \"line\": {\"color\": \"rgb(20, 0, 145)\", \"width\": 2}}, {\"type\": \"scatter3d\", \"x\": [0, 0.0513288], \"y\": [0, 1.999226], \"z\": [0, -0.0214892], \"mode\": \"lines\", \"line\": {\"color\": \"rgb(20, 0, 145)\", \"width\": 2}}, {\"type\": \"scatter3d\", \"x\": [0, 0.0528192], \"y\": [0, 1.999198], \"z\": [0, -0.020491], \"mode\": \"lines\", \"line\": {\"color\": \"rgb(20, 0, 145)\", \"width\": 2}}, {\"type\": \"scatter3d\", \"x\": [0, 0.0528192], \"y\": [0, 1.999198], \"z\": [0, -0.020491], \"mode\": \"lines\", \"line\": {\"color\": \"rgb(20, 0, 145)\", \"width\": 2}}, {\"type\": \"scatter3d\", \"x\": [0, 0.0578858], \"y\": [0, 1.999066], \"z\": [0, -0.01964112], \"mode\": \"lines\", \"line\": {\"color\": \"rgb(20, 0, 145)\", \"width\": 2}}, {\"type\": \"scatter3d\", \"x\": [0, 0.0541838], \"y\": [0, 1.999184], \"z\": [0, -0.01802452], \"mode\": \"lines\", \"line\": {\"color\": \"rgb(20, 0, 145)\", \"width\": 2}}, {\"type\": \"scatter3d\", \"x\": [0, 0.0615182], \"y\": [0, 1.998962], \"z\": [0, -0.01921142], \"mode\": \"lines\", \"line\": {\"color\": \"rgb(20, 0, 145)\", \"width\": 2}}, {\"type\": \"scatter3d\", \"x\": [0, 0.0563656], \"y\": [0, 1.999118], \"z\": [0, -0.01874336], \"mode\": \"lines\", \"line\": {\"color\": \"rgb(20, 0, 145)\", \"width\": 2}}, {\"type\": \"scatter3d\", \"x\": [0, 0.0563656], \"y\": [0, 1.999118], \"z\": [0, -0.01874336], \"mode\": \"lines\", \"line\": {\"color\": \"rgb(20, 0, 145)\", \"width\": 2}}, {\"type\": \"scatter3d\", \"x\": [0, 0.0538776], \"y\": [0, 1.999138], \"z\": [0, -0.0234026], \"mode\": \"lines\", \"line\": {\"color\": \"rgb(20, 0, 145)\", \"width\": 2}}, {\"type\": \"scatter3d\", \"x\": [0, 0.0607654], \"y\": [0, 1.998984], \"z\": [0, -0.01920274], \"mode\": \"lines\", \"line\": {\"color\": \"rgb(20, 0, 145)\", \"width\": 2}}, {\"type\": \"scatter3d\", \"x\": [0, 0.055266], \"y\": [0, 1.999148], \"z\": [0, -0.0188173], \"mode\": \"lines\", \"line\": {\"color\": \"rgb(20, 0, 145)\", \"width\": 2}}, {\"type\": \"scatter3d\", \"x\": [0, 0.055266], \"y\": [0, 1.999148], \"z\": [0, -0.0188173], \"mode\": \"lines\", \"line\": {\"color\": \"rgb(20, 0, 145)\", \"width\": 2}}, {\"type\": \"scatter3d\", \"x\": [0, 0.0627362], \"y\": [0, 1.998934], \"z\": [0, -0.0181638], \"mode\": \"lines\", \"line\": {\"color\": \"rgb(20, 0, 145)\", \"width\": 2}}, {\"type\": \"scatter3d\", \"x\": [0, 0.0627362], \"y\": [0, 1.998934], \"z\": [0, -0.0181638], \"mode\": \"lines\", \"line\": {\"color\": \"rgb(20, 0, 145)\", \"width\": 2}}, {\"type\": \"scatter3d\", \"x\": [0, 0.0621436], \"y\": [0, 1.998954], \"z\": [0, -0.01780946], \"mode\": \"lines\", \"line\": {\"color\": \"rgb(20, 0, 145)\", \"width\": 2}}, {\"type\": \"scatter3d\", \"x\": [0, 0.0532068], \"y\": [0, 1.99922], \"z\": [0, -0.01698962], \"mode\": \"lines\", \"line\": {\"color\": \"rgb(20, 0, 145)\", \"width\": 2}}, {\"type\": \"scatter3d\", \"x\": [0, 0.059445], \"y\": [0, 1.999016], \"z\": [0, -0.0201294], \"mode\": \"lines\", \"line\": {\"color\": \"rgb(20, 0, 145)\", \"width\": 2}}, {\"type\": \"scatter3d\", \"x\": [0, 0.059445], \"y\": [0, 1.999016], \"z\": [0, -0.0201294], \"mode\": \"lines\", \"line\": {\"color\": \"rgb(20, 0, 145)\", \"width\": 2}}, {\"type\": \"scatter3d\", \"x\": [0, 0.0569762], \"y\": [0, 1.999036], \"z\": [0, -0.02473], \"mode\": \"lines\", \"line\": {\"color\": \"rgb(20, 0, 145)\", \"width\": 2}}, {\"type\": \"scatter3d\", \"x\": [0, 0.058089], \"y\": [0, 1.999022], \"z\": [0, -0.0230866], \"mode\": \"lines\", \"line\": {\"color\": \"rgb(20, 0, 145)\", \"width\": 2}}, {\"type\": \"scatter3d\", \"x\": [0, 0.0593142], \"y\": [0, 1.998978], \"z\": [0, -0.0238272], \"mode\": \"lines\", \"line\": {\"color\": \"rgb(20, 0, 145)\", \"width\": 2}}, {\"type\": \"scatter3d\", \"x\": [0, 0.0601288], \"y\": [0, 1.99898], \"z\": [0, -0.0214384], \"mode\": \"lines\", \"line\": {\"color\": \"rgb(20, 0, 145)\", \"width\": 2}}, {\"type\": \"scatter3d\", \"x\": [0, 0.0601288], \"y\": [0, 1.99898], \"z\": [0, -0.0214384], \"mode\": \"lines\", \"line\": {\"color\": \"rgb(20, 0, 145)\", \"width\": 2}}, {\"type\": \"scatter3d\", \"x\": [0, 0.061467], \"y\": [0, 1.998914], \"z\": [0, -0.0237164], \"mode\": \"lines\", \"line\": {\"color\": \"rgb(20, 0, 145)\", \"width\": 2}}, {\"type\": \"scatter3d\", \"x\": [0, 0.0545352], \"y\": [0, 1.999124], \"z\": [0, -0.0229246], \"mode\": \"lines\", \"line\": {\"color\": \"rgb(20, 0, 145)\", \"width\": 2}}, {\"type\": \"scatter3d\", \"x\": [0, 0.0565692], \"y\": [0, 1.99909], \"z\": [0, -0.0210022], \"mode\": \"lines\", \"line\": {\"color\": \"rgb(20, 0, 145)\", \"width\": 2}}, {\"type\": \"scatter3d\", \"x\": [0, 0.0527848], \"y\": [0, 1.99912], \"z\": [0, -0.0270508], \"mode\": \"lines\", \"line\": {\"color\": \"rgb(20, 0, 145)\", \"width\": 2}}, {\"type\": \"scatter3d\", \"x\": [0, 0.0527848], \"y\": [0, 1.99912], \"z\": [0, -0.0270508], \"mode\": \"lines\", \"line\": {\"color\": \"rgb(20, 0, 145)\", \"width\": 2}}, {\"type\": \"scatter3d\", \"x\": [0, 0.0644504], \"y\": [0, 1.998808], \"z\": [0, -0.0247844], \"mode\": \"lines\", \"line\": {\"color\": \"rgb(20, 0, 145)\", \"width\": 2}}, {\"type\": \"scatter3d\", \"x\": [0, 0.0587458], \"y\": [0, 1.99904], \"z\": [0, -0.01961096], \"mode\": \"lines\", \"line\": {\"color\": \"rgb(20, 0, 145)\", \"width\": 2}}, {\"type\": \"scatter3d\", \"x\": [0, 0.0673098], \"y\": [0, 1.998738], \"z\": [0, -0.0227146], \"mode\": \"lines\", \"line\": {\"color\": \"rgb(20, 0, 145)\", \"width\": 2}}, {\"type\": \"scatter3d\", \"x\": [0, 0.06236], \"y\": [0, 1.998934], \"z\": [0, -0.01924436], \"mode\": \"lines\", \"line\": {\"color\": \"rgb(20, 0, 145)\", \"width\": 2}}, {\"type\": \"scatter3d\", \"x\": [0, 0.06236], \"y\": [0, 1.998934], \"z\": [0, -0.01924436], \"mode\": \"lines\", \"line\": {\"color\": \"rgb(20, 0, 145)\", \"width\": 2}}, {\"type\": \"scatter3d\", \"x\": [0, 0.0587706], \"y\": [0, 1.999014], \"z\": [0, -0.0221804], \"mode\": \"lines\", \"line\": {\"color\": \"rgb(20, 0, 145)\", \"width\": 2}}, {\"type\": \"scatter3d\", \"x\": [0, 0.0591794], \"y\": [0, 1.999022], \"z\": [0, -0.02029], \"mode\": \"lines\", \"line\": {\"color\": \"rgb(20, 0, 145)\", \"width\": 2}}, {\"type\": \"scatter3d\", \"x\": [0, 0.0565862], \"y\": [0, 1.999102], \"z\": [0, -0.0197233], \"mode\": \"lines\", \"line\": {\"color\": \"rgb(20, 0, 145)\", \"width\": 2}}, {\"type\": \"scatter3d\", \"x\": [0, 0.0579806], \"y\": [0, 1.999012], \"z\": [0, -0.0243264], \"mode\": \"lines\", \"line\": {\"color\": \"rgb(20, 0, 145)\", \"width\": 2}}, {\"type\": \"scatter3d\", \"x\": [0, 0.0579806], \"y\": [0, 1.999012], \"z\": [0, -0.0243264], \"mode\": \"lines\", \"line\": {\"color\": \"rgb(20, 0, 145)\", \"width\": 2}}, {\"type\": \"scatter3d\", \"x\": [0, 0.060795], \"y\": [0, 1.99891], \"z\": [0, -0.025674], \"mode\": \"lines\", \"line\": {\"color\": \"rgb(20, 0, 145)\", \"width\": 2}}, {\"type\": \"scatter3d\", \"x\": [0, 0.0558574], \"y\": [0, 1.999098], \"z\": [0, -0.0221254], \"mode\": \"lines\", \"line\": {\"color\": \"rgb(20, 0, 145)\", \"width\": 2}}, {\"type\": \"scatter3d\", \"x\": [0, 0.05617], \"y\": [0, 1.999108], \"z\": [0, -0.0202804], \"mode\": \"lines\", \"line\": {\"color\": \"rgb(20, 0, 145)\", \"width\": 2}}, {\"type\": \"scatter3d\", \"x\": [0, 0.0524664], \"y\": [0, 1.999228], \"z\": [0, -0.01832438], \"mode\": \"lines\", \"line\": {\"color\": \"rgb(20, 0, 145)\", \"width\": 2}}, {\"type\": \"scatter3d\", \"x\": [0, 0.0524664], \"y\": [0, 1.999228], \"z\": [0, -0.01832438], \"mode\": \"lines\", \"line\": {\"color\": \"rgb(20, 0, 145)\", \"width\": 2}}, {\"type\": \"scatter3d\", \"x\": [0, 0.0549142], \"y\": [0, 1.999046], \"z\": [0, -0.0282624], \"mode\": \"lines\", \"line\": {\"color\": \"rgb(20, 0, 145)\", \"width\": 2}}, {\"type\": \"scatter3d\", \"x\": [0, 0.0571866], \"y\": [0, 1.999014], \"z\": [0, -0.0259552], \"mode\": \"lines\", \"line\": {\"color\": \"rgb(20, 0, 145)\", \"width\": 2}}, {\"type\": \"scatter3d\", \"x\": [0, 0.0555176], \"y\": [0, 1.99912], \"z\": [0, -0.0208192], \"mode\": \"lines\", \"line\": {\"color\": \"rgb(20, 0, 145)\", \"width\": 2}}, {\"type\": \"scatter3d\", \"x\": [0, 0.0518272], \"y\": [0, 1.999208], \"z\": [0, -0.0218956], \"mode\": \"lines\", \"line\": {\"color\": \"rgb(20, 0, 145)\", \"width\": 2}}, {\"type\": \"scatter3d\", \"x\": [0, 0.0518272], \"y\": [0, 1.999208], \"z\": [0, -0.0218956], \"mode\": \"lines\", \"line\": {\"color\": \"rgb(20, 0, 145)\", \"width\": 2}}, {\"type\": \"scatter3d\", \"x\": [0, 0.0471734], \"y\": [0, 1.999308], \"z\": [0, -0.023337], \"mode\": \"lines\", \"line\": {\"color\": \"rgb(20, 0, 145)\", \"width\": 2}}, {\"type\": \"scatter3d\", \"x\": [0, 0.050567], \"y\": [0, 1.999172], \"z\": [0, -0.0274696], \"mode\": \"lines\", \"line\": {\"color\": \"rgb(20, 0, 145)\", \"width\": 2}}, {\"type\": \"scatter3d\", \"x\": [0, 0.045084], \"y\": [0, 1.999346], \"z\": [0, -0.0242014], \"mode\": \"lines\", \"line\": {\"color\": \"rgb(20, 0, 145)\", \"width\": 2}}, {\"type\": \"scatter3d\", \"x\": [0, 0.0570194], \"y\": [0, 1.999012], \"z\": [0, -0.0264858], \"mode\": \"lines\", \"line\": {\"color\": \"rgb(20, 0, 145)\", \"width\": 2}}, {\"type\": \"scatter3d\", \"x\": [0, 0.0570194], \"y\": [0, 1.999012], \"z\": [0, -0.0264858], \"mode\": \"lines\", \"line\": {\"color\": \"rgb(20, 0, 145)\", \"width\": 2}}, {\"type\": \"scatter3d\", \"x\": [0, 0.0504158], \"y\": [0, 1.999198], \"z\": [0, -0.0257782], \"mode\": \"lines\", \"line\": {\"color\": \"rgb(20, 0, 145)\", \"width\": 2}}, {\"type\": \"scatter3d\", \"x\": [0, 0.049173], \"y\": [0, 1.999182], \"z\": [0, -0.029253], \"mode\": \"lines\", \"line\": {\"color\": \"rgb(20, 0, 145)\", \"width\": 2}}, {\"type\": \"scatter3d\", \"x\": [0, 0.0461176], \"y\": [0, 1.999356], \"z\": [0, -0.0212308], \"mode\": \"lines\", \"line\": {\"color\": \"rgb(20, 0, 145)\", \"width\": 2}}, {\"type\": \"scatter3d\", \"x\": [0, 0.0445532], \"y\": [0, 1.99939], \"z\": [0, -0.0212938], \"mode\": \"lines\", \"line\": {\"color\": \"rgb(20, 0, 145)\", \"width\": 2}}, {\"type\": \"scatter3d\", \"x\": [0, 0.0445532], \"y\": [0, 1.99939], \"z\": [0, -0.0212938], \"mode\": \"lines\", \"line\": {\"color\": \"rgb(20, 0, 145)\", \"width\": 2}}, {\"type\": \"scatter3d\", \"x\": [0, 0.0483516], \"y\": [0, 1.999262], \"z\": [0, -0.0248068], \"mode\": \"lines\", \"line\": {\"color\": \"rgb(20, 0, 145)\", \"width\": 2}}, {\"type\": \"scatter3d\", \"x\": [0, 0.0418828], \"y\": [0, 1.999428], \"z\": [0, -0.023089], \"mode\": \"lines\", \"line\": {\"color\": \"rgb(20, 0, 145)\", \"width\": 2}}, {\"type\": \"scatter3d\", \"x\": [0, 0.0485764], \"y\": [0, 1.999304], \"z\": [0, -0.0205958], \"mode\": \"lines\", \"line\": {\"color\": \"rgb(20, 0, 145)\", \"width\": 2}}, {\"type\": \"scatter3d\", \"x\": [0, 0.0485764], \"y\": [0, 1.999304], \"z\": [0, -0.0205958], \"mode\": \"lines\", \"line\": {\"color\": \"rgb(20, 0, 145)\", \"width\": 2}}, {\"type\": \"scatter3d\", \"x\": [0, 0.0475976], \"y\": [0, 1.999306], \"z\": [0, -0.0225352], \"mode\": \"lines\", \"line\": {\"color\": \"rgb(20, 0, 145)\", \"width\": 2}}, {\"type\": \"scatter3d\", \"x\": [0, 0.0510552], \"y\": [0, 1.999208], \"z\": [0, -0.0236714], \"mode\": \"lines\", \"line\": {\"color\": \"rgb(20, 0, 145)\", \"width\": 2}}, {\"type\": \"scatter3d\", \"x\": [0, 0.0499968], \"y\": [0, 1.999232], \"z\": [0, -0.0238472], \"mode\": \"lines\", \"line\": {\"color\": \"rgb(20, 0, 145)\", \"width\": 2}}, {\"type\": \"scatter3d\", \"x\": [0, 0.050424], \"y\": [0, 1.999248], \"z\": [0, -0.0216226], \"mode\": \"lines\", \"line\": {\"color\": \"rgb(20, 0, 145)\", \"width\": 2}}, {\"type\": \"scatter3d\", \"x\": [0, 0.0485158], \"y\": [0, 1.999252], \"z\": [0, -0.0252048], \"mode\": \"lines\", \"line\": {\"color\": \"rgb(20, 0, 145)\", \"width\": 2}}, {\"type\": \"scatter3d\", \"x\": [0, 0.0485158], \"y\": [0, 1.999252], \"z\": [0, -0.0252048], \"mode\": \"lines\", \"line\": {\"color\": \"rgb(20, 0, 145)\", \"width\": 2}}, {\"type\": \"scatter3d\", \"x\": [0, 0.0478454], \"y\": [0, 1.999268], \"z\": [0, -0.0252714], \"mode\": \"lines\", \"line\": {\"color\": \"rgb(20, 0, 145)\", \"width\": 2}}, {\"type\": \"scatter3d\", \"x\": [0, 0.0520658], \"y\": [0, 1.999182], \"z\": [0, -0.0236378], \"mode\": \"lines\", \"line\": {\"color\": \"rgb(20, 0, 145)\", \"width\": 2}}, {\"type\": \"scatter3d\", \"x\": [0, 0.049184], \"y\": [0, 1.999298], \"z\": [0, -0.01972822], \"mode\": \"lines\", \"line\": {\"color\": \"rgb(20, 0, 145)\", \"width\": 2}}, {\"type\": \"scatter3d\", \"x\": [0, 0.051204], \"y\": [0, 1.999184], \"z\": [0, -0.0253766], \"mode\": \"lines\", \"line\": {\"color\": \"rgb(20, 0, 145)\", \"width\": 2}}, {\"type\": \"scatter3d\", \"x\": [0, 0.051204], \"y\": [0, 1.999184], \"z\": [0, -0.0253766], \"mode\": \"lines\", \"line\": {\"color\": \"rgb(20, 0, 145)\", \"width\": 2}}, {\"type\": \"scatter3d\", \"x\": [0, 0.0472888], \"y\": [0, 1.999344], \"z\": [0, -0.01972732], \"mode\": \"lines\", \"line\": {\"color\": \"rgb(20, 0, 145)\", \"width\": 2}}, {\"type\": \"scatter3d\", \"x\": [0, 0.0581508], \"y\": [0, 1.998926], \"z\": [0, -0.0302582], \"mode\": \"lines\", \"line\": {\"color\": \"rgb(20, 0, 145)\", \"width\": 2}}, {\"type\": \"scatter3d\", \"x\": [0, 0.0539784], \"y\": [0, 1.999136], \"z\": [0, -0.023237], \"mode\": \"lines\", \"line\": {\"color\": \"rgb(20, 0, 145)\", \"width\": 2}}, {\"type\": \"scatter3d\", \"x\": [0, 0.0539784], \"y\": [0, 1.999136], \"z\": [0, -0.023237], \"mode\": \"lines\", \"line\": {\"color\": \"rgb(20, 0, 145)\", \"width\": 2}}, {\"type\": \"scatter3d\", \"x\": [0, 0.048071], \"y\": [0, 1.999302], \"z\": [0, -0.0218484], \"mode\": \"lines\", \"line\": {\"color\": \"rgb(20, 0, 145)\", \"width\": 2}}, {\"type\": \"scatter3d\", \"x\": [0, 0.057862], \"y\": [0, 1.999014], \"z\": [0, -0.0244272], \"mode\": \"lines\", \"line\": {\"color\": \"rgb(20, 0, 145)\", \"width\": 2}}, {\"type\": \"scatter3d\", \"x\": [0, 0.057231], \"y\": [0, 1.999042], \"z\": [0, -0.0235968], \"mode\": \"lines\", \"line\": {\"color\": \"rgb(20, 0, 145)\", \"width\": 2}}, {\"type\": \"scatter3d\", \"x\": [0, 0.043312], \"y\": [0, 1.999378], \"z\": [0, -0.024676], \"mode\": \"lines\", \"line\": {\"color\": \"rgb(20, 0, 145)\", \"width\": 2}}, {\"type\": \"scatter3d\", \"x\": [0, 0.0512374], \"y\": [0, 1.999244], \"z\": [0, -0.01989252], \"mode\": \"lines\", \"line\": {\"color\": \"rgb(20, 0, 145)\", \"width\": 2}}, {\"type\": \"scatter3d\", \"x\": [0, 0.0512374], \"y\": [0, 1.999244], \"z\": [0, -0.01989252], \"mode\": \"lines\", \"line\": {\"color\": \"rgb(20, 0, 145)\", \"width\": 2}}, {\"type\": \"scatter3d\", \"x\": [0, 0.048158], \"y\": [0, 1.999192], \"z\": [0, -0.0302524], \"mode\": \"lines\", \"line\": {\"color\": \"rgb(20, 0, 145)\", \"width\": 2}}, {\"type\": \"scatter3d\", \"x\": [0, 0.0529122], \"y\": [0, 1.999178], \"z\": [0, -0.022156], \"mode\": \"lines\", \"line\": {\"color\": \"rgb(20, 0, 145)\", \"width\": 2}}, {\"type\": \"scatter3d\", \"x\": [0, 0.0503674], \"y\": [0, 1.99917], \"z\": [0, -0.0280394], \"mode\": \"lines\", \"line\": {\"color\": \"rgb(20, 0, 145)\", \"width\": 2}}, {\"type\": \"scatter3d\", \"x\": [0, 0.0532014], \"y\": [0, 1.999154], \"z\": [0, -0.0234824], \"mode\": \"lines\", \"line\": {\"color\": \"rgb(20, 0, 145)\", \"width\": 2}}, {\"type\": \"scatter3d\", \"x\": [0, 0.0532014], \"y\": [0, 1.999154], \"z\": [0, -0.0234824], \"mode\": \"lines\", \"line\": {\"color\": \"rgb(20, 0, 145)\", \"width\": 2}}, {\"type\": \"scatter3d\", \"x\": [0, 0.0469586], \"y\": [0, 1.999346], \"z\": [0, -0.0201676], \"mode\": \"lines\", \"line\": {\"color\": \"rgb(20, 0, 145)\", \"width\": 2}}, {\"type\": \"scatter3d\", \"x\": [0, 0.052855], \"y\": [0, 1.999152], \"z\": [0, -0.024376], \"mode\": \"lines\", \"line\": {\"color\": \"rgb(20, 0, 145)\", \"width\": 2}}, {\"type\": \"scatter3d\", \"x\": [0, 0.0518156], \"y\": [0, 1.999198], \"z\": [0, -0.0227712], \"mode\": \"lines\", \"line\": {\"color\": \"rgb(20, 0, 145)\", \"width\": 2}}, {\"type\": \"scatter3d\", \"x\": [0, 0.0518156], \"y\": [0, 1.999198], \"z\": [0, -0.0227712], \"mode\": \"lines\", \"line\": {\"color\": \"rgb(20, 0, 145)\", \"width\": 2}}, {\"type\": \"scatter3d\", \"x\": [0, 0.0522266], \"y\": [0, 1.999174], \"z\": [0, -0.0239884], \"mode\": \"lines\", \"line\": {\"color\": \"rgb(20, 0, 145)\", \"width\": 2}}, {\"type\": \"scatter3d\", \"x\": [0, 0.0461642], \"y\": [0, 1.999274], \"z\": [0, -0.0278488], \"mode\": \"lines\", \"line\": {\"color\": \"rgb(20, 0, 145)\", \"width\": 2}}, {\"type\": \"scatter3d\", \"x\": [0, 0.0463232], \"y\": [0, 1.999316], \"z\": [0, -0.0242454], \"mode\": \"lines\", \"line\": {\"color\": \"rgb(20, 0, 145)\", \"width\": 2}}, {\"type\": \"scatter3d\", \"x\": [0, 0.0492712], \"y\": [0, 1.99921], \"z\": [0, -0.0270886], \"mode\": \"lines\", \"line\": {\"color\": \"rgb(20, 0, 145)\", \"width\": 2}}, {\"type\": \"scatter3d\", \"x\": [0, 0.27303], \"y\": [0, 1.981196], \"z\": [0, -0.01772078], \"mode\": \"lines\", \"line\": {\"color\": \"rgb(20, 0, 145)\", \"width\": 2}}, {\"type\": \"scatter3d\", \"x\": [0, 0.273086], \"y\": [0, 1.98118], \"z\": [0, -0.01865864], \"mode\": \"lines\", \"line\": {\"color\": \"rgb(20, 0, 145)\", \"width\": 2}}, {\"type\": \"scatter3d\", \"x\": [0, 0.27153], \"y\": [0, 1.981368], \"z\": [0, -0.0212036], \"mode\": \"lines\", \"line\": {\"color\": \"rgb(20, 0, 145)\", \"width\": 2}}, {\"type\": \"scatter3d\", \"x\": [0, 0.27153], \"y\": [0, 1.981368], \"z\": [0, -0.0212036], \"mode\": \"lines\", \"line\": {\"color\": \"rgb(20, 0, 145)\", \"width\": 2}}, {\"type\": \"scatter3d\", \"x\": [0, 0.268276], \"y\": [0, 1.981842], \"z\": [0, -0.01806614], \"mode\": \"lines\", \"line\": {\"color\": \"rgb(20, 0, 145)\", \"width\": 2}}, {\"type\": \"scatter3d\", \"x\": [0, 0.2661], \"y\": [0, 1.982106], \"z\": [0, -0.021153], \"mode\": \"lines\", \"line\": {\"color\": \"rgb(20, 0, 145)\", \"width\": 2}}, {\"type\": \"scatter3d\", \"x\": [0, 0.26565], \"y\": [0, 1.98215], \"z\": [0, -0.0226154], \"mode\": \"lines\", \"line\": {\"color\": \"rgb(20, 0, 145)\", \"width\": 2}}, {\"type\": \"scatter3d\", \"x\": [0, 0.266244], \"y\": [0, 1.98209], \"z\": [0, -0.0208634], \"mode\": \"lines\", \"line\": {\"color\": \"rgb(20, 0, 145)\", \"width\": 2}}, {\"type\": \"scatter3d\", \"x\": [0, 0.266244], \"y\": [0, 1.98209], \"z\": [0, -0.0208634], \"mode\": \"lines\", \"line\": {\"color\": \"rgb(20, 0, 145)\", \"width\": 2}}, {\"type\": \"scatter3d\", \"x\": [0, 0.267468], \"y\": [0, 1.981932], \"z\": [0, -0.020141], \"mode\": \"lines\", \"line\": {\"color\": \"rgb(20, 0, 145)\", \"width\": 2}}, {\"type\": \"scatter3d\", \"x\": [0, 0.264738], \"y\": [0, 1.982284], \"z\": [0, -0.021563], \"mode\": \"lines\", \"line\": {\"color\": \"rgb(20, 0, 145)\", \"width\": 2}}, {\"type\": \"scatter3d\", \"x\": [0, 0.266328], \"y\": [0, 1.982118], \"z\": [0, -0.01669042], \"mode\": \"lines\", \"line\": {\"color\": \"rgb(20, 0, 145)\", \"width\": 2}}, {\"type\": \"scatter3d\", \"x\": [0, 0.266328], \"y\": [0, 1.982118], \"z\": [0, -0.01669042], \"mode\": \"lines\", \"line\": {\"color\": \"rgb(20, 0, 145)\", \"width\": 2}}, {\"type\": \"scatter3d\", \"x\": [0, 0.2605], \"y\": [0, 1.982872], \"z\": [0, -0.0188692], \"mode\": \"lines\", \"line\": {\"color\": \"rgb(20, 0, 145)\", \"width\": 2}}, {\"type\": \"scatter3d\", \"x\": [0, 0.26285], \"y\": [0, 1.982566], \"z\": [0, -0.01840682], \"mode\": \"lines\", \"line\": {\"color\": \"rgb(20, 0, 145)\", \"width\": 2}}, {\"type\": \"scatter3d\", \"x\": [0, 0.264256], \"y\": [0, 1.982358], \"z\": [0, -0.0205808], \"mode\": \"lines\", \"line\": {\"color\": \"rgb(20, 0, 145)\", \"width\": 2}}, {\"type\": \"scatter3d\", \"x\": [0, 0.260812], \"y\": [0, 1.982836], \"z\": [0, -0.01837582], \"mode\": \"lines\", \"line\": {\"color\": \"rgb(20, 0, 145)\", \"width\": 2}}, {\"type\": \"scatter3d\", \"x\": [0, 0.264032], \"y\": [0, 1.982388], \"z\": [0, -0.0206728], \"mode\": \"lines\", \"line\": {\"color\": \"rgb(20, 0, 145)\", \"width\": 2}}, {\"type\": \"scatter3d\", \"x\": [0, 0.264032], \"y\": [0, 1.982388], \"z\": [0, -0.0206728], \"mode\": \"lines\", \"line\": {\"color\": \"rgb(20, 0, 145)\", \"width\": 2}}, {\"type\": \"scatter3d\", \"x\": [0, 0.258842], \"y\": [0, 1.983046], \"z\": [0, -0.0230954], \"mode\": \"lines\", \"line\": {\"color\": \"rgb(20, 0, 145)\", \"width\": 2}}, {\"type\": \"scatter3d\", \"x\": [0, 0.258192], \"y\": [0, 1.983152], \"z\": [0, -0.0210034], \"mode\": \"lines\", \"line\": {\"color\": \"rgb(20, 0, 145)\", \"width\": 2}}, {\"type\": \"scatter3d\", \"x\": [0, 0.263106], \"y\": [0, 1.9825], \"z\": [0, -0.0216816], \"mode\": \"lines\", \"line\": {\"color\": \"rgb(20, 0, 145)\", \"width\": 2}}, {\"type\": \"scatter3d\", \"x\": [0, 0.256318], \"y\": [0, 1.983408], \"z\": [0, -0.01986374], \"mode\": \"lines\", \"line\": {\"color\": \"rgb(20, 0, 145)\", \"width\": 2}}, {\"type\": \"scatter3d\", \"x\": [0, 0.256318], \"y\": [0, 1.983408], \"z\": [0, -0.01986374], \"mode\": \"lines\", \"line\": {\"color\": \"rgb(20, 0, 145)\", \"width\": 2}}, {\"type\": \"scatter3d\", \"x\": [0, 0.262156], \"y\": [0, 1.982646], \"z\": [0, -0.01968646], \"mode\": \"lines\", \"line\": {\"color\": \"rgb(20, 0, 145)\", \"width\": 2}}, {\"type\": \"scatter3d\", \"x\": [0, 0.261012], \"y\": [0, 1.982762], \"z\": [0, -0.02298], \"mode\": \"lines\", \"line\": {\"color\": \"rgb(20, 0, 145)\", \"width\": 2}}, {\"type\": \"scatter3d\", \"x\": [0, 0.26399], \"y\": [0, 1.98238], \"z\": [0, -0.021812], \"mode\": \"lines\", \"line\": {\"color\": \"rgb(20, 0, 145)\", \"width\": 2}}, {\"type\": \"scatter3d\", \"x\": [0, 0.267712], \"y\": [0, 1.981948], \"z\": [0, -0.01458228], \"mode\": \"lines\", \"line\": {\"color\": \"rgb(20, 0, 145)\", \"width\": 2}}, {\"type\": \"scatter3d\", \"x\": [0, 0.267712], \"y\": [0, 1.981948], \"z\": [0, -0.01458228], \"mode\": \"lines\", \"line\": {\"color\": \"rgb(20, 0, 145)\", \"width\": 2}}, {\"type\": \"scatter3d\", \"x\": [0, 0.26465], \"y\": [0, 1.982376], \"z\": [0, -0.0121645], \"mode\": \"lines\", \"line\": {\"color\": \"rgb(20, 0, 145)\", \"width\": 2}}, {\"type\": \"scatter3d\", \"x\": [0, 0.26545], \"y\": [0, 1.982244], \"z\": [0, -0.01574968], \"mode\": \"lines\", \"line\": {\"color\": \"rgb(20, 0, 145)\", \"width\": 2}}, {\"type\": \"scatter3d\", \"x\": [0, 0.262716], \"y\": [0, 1.982598], \"z\": [0, -0.01682028], \"mode\": \"lines\", \"line\": {\"color\": \"rgb(20, 0, 145)\", \"width\": 2}}, {\"type\": \"scatter3d\", \"x\": [0, 0.262716], \"y\": [0, 1.982598], \"z\": [0, -0.01682028], \"mode\": \"lines\", \"line\": {\"color\": \"rgb(20, 0, 145)\", \"width\": 2}}, {\"type\": \"scatter3d\", \"x\": [0, 0.261688], \"y\": [0, 1.982732], \"z\": [0, -0.0170388], \"mode\": \"lines\", \"line\": {\"color\": \"rgb(20, 0, 145)\", \"width\": 2}}, {\"type\": \"scatter3d\", \"x\": [0, 0.260318], \"y\": [0, 1.98289], \"z\": [0, -0.0195676], \"mode\": \"lines\", \"line\": {\"color\": \"rgb(20, 0, 145)\", \"width\": 2}}, {\"type\": \"scatter3d\", \"x\": [0, 0.26566], \"y\": [0, 1.982216], \"z\": [0, -0.01573912], \"mode\": \"lines\", \"line\": {\"color\": \"rgb(20, 0, 145)\", \"width\": 2}}, {\"type\": \"scatter3d\", \"x\": [0, 0.262692], \"y\": [0, 1.982582], \"z\": [0, -0.01898014], \"mode\": \"lines\", \"line\": {\"color\": \"rgb(20, 0, 145)\", \"width\": 2}}, {\"type\": \"scatter3d\", \"x\": [0, 0.265564], \"y\": [0, 1.982194], \"z\": [0, -0.01961072], \"mode\": \"lines\", \"line\": {\"color\": \"rgb(20, 0, 145)\", \"width\": 2}}, {\"type\": \"scatter3d\", \"x\": [0, 0.265564], \"y\": [0, 1.982194], \"z\": [0, -0.01961072], \"mode\": \"lines\", \"line\": {\"color\": \"rgb(20, 0, 145)\", \"width\": 2}}, {\"type\": \"scatter3d\", \"x\": [0, 0.263844], \"y\": [0, 1.982448], \"z\": [0, -0.01702448], \"mode\": \"lines\", \"line\": {\"color\": \"rgb(20, 0, 145)\", \"width\": 2}}, {\"type\": \"scatter3d\", \"x\": [0, 0.263636], \"y\": [0, 1.98247], \"z\": [0, -0.0176272], \"mode\": \"lines\", \"line\": {\"color\": \"rgb(20, 0, 145)\", \"width\": 2}}, {\"type\": \"scatter3d\", \"x\": [0, 0.261098], \"y\": [0, 1.982776], \"z\": [0, -0.0207284], \"mode\": \"lines\", \"line\": {\"color\": \"rgb(20, 0, 145)\", \"width\": 2}}, {\"type\": \"scatter3d\", \"x\": [0, 0.256068], \"y\": [0, 1.983464], \"z\": [0, -0.0172187], \"mode\": \"lines\", \"line\": {\"color\": \"rgb(20, 0, 145)\", \"width\": 2}}, {\"type\": \"scatter3d\", \"x\": [0, 0.256068], \"y\": [0, 1.983464], \"z\": [0, -0.0172187], \"mode\": \"lines\", \"line\": {\"color\": \"rgb(20, 0, 145)\", \"width\": 2}}, {\"type\": \"scatter3d\", \"x\": [0, 0.261498], \"y\": [0, 1.982736], \"z\": [0, -0.01930304], \"mode\": \"lines\", \"line\": {\"color\": \"rgb(20, 0, 145)\", \"width\": 2}}, {\"type\": \"scatter3d\", \"x\": [0, 0.263396], \"y\": [0, 1.98249], \"z\": [0, -0.0188417], \"mode\": \"lines\", \"line\": {\"color\": \"rgb(20, 0, 145)\", \"width\": 2}}, {\"type\": \"scatter3d\", \"x\": [0, 0.262022], \"y\": [0, 1.982708], \"z\": [0, -0.01458676], \"mode\": \"lines\", \"line\": {\"color\": \"rgb(20, 0, 145)\", \"width\": 2}}, {\"type\": \"scatter3d\", \"x\": [0, 0.260652], \"y\": [0, 1.98288], \"z\": [0, -0.01580432], \"mode\": \"lines\", \"line\": {\"color\": \"rgb(20, 0, 145)\", \"width\": 2}}, {\"type\": \"scatter3d\", \"x\": [0, 0.264918], \"y\": [0, 1.982288], \"z\": [0, -0.01876066], \"mode\": \"lines\", \"line\": {\"color\": \"rgb(20, 0, 145)\", \"width\": 2}}, {\"type\": \"scatter3d\", \"x\": [0, 0.264918], \"y\": [0, 1.982288], \"z\": [0, -0.01876066], \"mode\": \"lines\", \"line\": {\"color\": \"rgb(20, 0, 145)\", \"width\": 2}}, {\"type\": \"scatter3d\", \"x\": [0, 0.266514], \"y\": [0, 1.982082], \"z\": [0, -0.017891], \"mode\": \"lines\", \"line\": {\"color\": \"rgb(20, 0, 145)\", \"width\": 2}}, {\"type\": \"scatter3d\", \"x\": [0, 0.260242], \"y\": [0, 1.982906], \"z\": [0, -0.01881572], \"mode\": \"lines\", \"line\": {\"color\": \"rgb(20, 0, 145)\", \"width\": 2}}, {\"type\": \"scatter3d\", \"x\": [0, 0.262438], \"y\": [0, 1.982612], \"z\": [0, -0.01937122], \"mode\": \"lines\", \"line\": {\"color\": \"rgb(20, 0, 145)\", \"width\": 2}}, {\"type\": \"scatter3d\", \"x\": [0, 0.262438], \"y\": [0, 1.982612], \"z\": [0, -0.01937122], \"mode\": \"lines\", \"line\": {\"color\": \"rgb(20, 0, 145)\", \"width\": 2}}, {\"type\": \"scatter3d\", \"x\": [0, 0.263192], \"y\": [0, 1.98252], \"z\": [0, -0.01863022], \"mode\": \"lines\", \"line\": {\"color\": \"rgb(20, 0, 145)\", \"width\": 2}}, {\"type\": \"scatter3d\", \"x\": [0, 0.262952], \"y\": [0, 1.982542], \"z\": [0, -0.0195943], \"mode\": \"lines\", \"line\": {\"color\": \"rgb(20, 0, 145)\", \"width\": 2}}, {\"type\": \"scatter3d\", \"x\": [0, 0.26279], \"y\": [0, 1.98258], \"z\": [0, -0.0177201], \"mode\": \"lines\", \"line\": {\"color\": \"rgb(20, 0, 145)\", \"width\": 2}}, {\"type\": \"scatter3d\", \"x\": [0, 0.261512], \"y\": [0, 1.982732], \"z\": [0, -0.01959516], \"mode\": \"lines\", \"line\": {\"color\": \"rgb(20, 0, 145)\", \"width\": 2}}, {\"type\": \"scatter3d\", \"x\": [0, 0.261512], \"y\": [0, 1.982732], \"z\": [0, -0.01959516], \"mode\": \"lines\", \"line\": {\"color\": \"rgb(20, 0, 145)\", \"width\": 2}}, {\"type\": \"scatter3d\", \"x\": [0, 0.264832], \"y\": [0, 1.982332], \"z\": [0, -0.01507174], \"mode\": \"lines\", \"line\": {\"color\": \"rgb(20, 0, 145)\", \"width\": 2}}, {\"type\": \"scatter3d\", \"x\": [0, 0.261654], \"y\": [0, 1.982722], \"z\": [0, -0.01863216], \"mode\": \"lines\", \"line\": {\"color\": \"rgb(20, 0, 145)\", \"width\": 2}}, {\"type\": \"scatter3d\", \"x\": [0, 0.263214], \"y\": [0, 1.98249], \"z\": [0, -0.0212318], \"mode\": \"lines\", \"line\": {\"color\": \"rgb(20, 0, 145)\", \"width\": 2}}, {\"type\": \"scatter3d\", \"x\": [0, 0.263774], \"y\": [0, 1.98243], \"z\": [0, -0.01981732], \"mode\": \"lines\", \"line\": {\"color\": \"rgb(20, 0, 145)\", \"width\": 2}}, {\"type\": \"scatter3d\", \"x\": [0, 0.263774], \"y\": [0, 1.98243], \"z\": [0, -0.01981732], \"mode\": \"lines\", \"line\": {\"color\": \"rgb(20, 0, 145)\", \"width\": 2}}, {\"type\": \"scatter3d\", \"x\": [0, 0.2612], \"y\": [0, 1.98277], \"z\": [0, -0.01985502], \"mode\": \"lines\", \"line\": {\"color\": \"rgb(20, 0, 145)\", \"width\": 2}}, {\"type\": \"scatter3d\", \"x\": [0, 0.268552], \"y\": [0, 1.981816], \"z\": [0, -0.01695296], \"mode\": \"lines\", \"line\": {\"color\": \"rgb(20, 0, 145)\", \"width\": 2}}, {\"type\": \"scatter3d\", \"x\": [0, 0.264106], \"y\": [0, 1.982372], \"z\": [0, -0.0211832], \"mode\": \"lines\", \"line\": {\"color\": \"rgb(20, 0, 145)\", \"width\": 2}}, {\"type\": \"scatter3d\", \"x\": [0, 0.26439], \"y\": [0, 1.982354], \"z\": [0, -0.01931494], \"mode\": \"lines\", \"line\": {\"color\": \"rgb(20, 0, 145)\", \"width\": 2}}, {\"type\": \"scatter3d\", \"x\": [0, 0.26439], \"y\": [0, 1.982354], \"z\": [0, -0.01931494], \"mode\": \"lines\", \"line\": {\"color\": \"rgb(20, 0, 145)\", \"width\": 2}}, {\"type\": \"scatter3d\", \"x\": [0, 0.264856], \"y\": [0, 1.982276], \"z\": [0, -0.0208354], \"mode\": \"lines\", \"line\": {\"color\": \"rgb(20, 0, 145)\", \"width\": 2}}, {\"type\": \"scatter3d\", \"x\": [0, 0.26502], \"y\": [0, 1.982272], \"z\": [0, -0.01910962], \"mode\": \"lines\", \"line\": {\"color\": \"rgb(20, 0, 145)\", \"width\": 2}}, {\"type\": \"scatter3d\", \"x\": [0, 0.265822], \"y\": [0, 1.982134], \"z\": [0, -0.0220718], \"mode\": \"lines\", \"line\": {\"color\": \"rgb(20, 0, 145)\", \"width\": 2}}, {\"type\": \"scatter3d\", \"x\": [0, 0.264052], \"y\": [0, 1.982382], \"z\": [0, -0.0210046], \"mode\": \"lines\", \"line\": {\"color\": \"rgb(20, 0, 145)\", \"width\": 2}}, {\"type\": \"scatter3d\", \"x\": [0, 0.264052], \"y\": [0, 1.982382], \"z\": [0, -0.0210046], \"mode\": \"lines\", \"line\": {\"color\": \"rgb(20, 0, 145)\", \"width\": 2}}, {\"type\": \"scatter3d\", \"x\": [0, 0.265246], \"y\": [0, 1.982242], \"z\": [0, -0.01897598], \"mode\": \"lines\", \"line\": {\"color\": \"rgb(20, 0, 145)\", \"width\": 2}}, {\"type\": \"scatter3d\", \"x\": [0, 0.268508], \"y\": [0, 1.981812], \"z\": [0, -0.01811678], \"mode\": \"lines\", \"line\": {\"color\": \"rgb(20, 0, 145)\", \"width\": 2}}, {\"type\": \"scatter3d\", \"x\": [0, 0.269442], \"y\": [0, 1.98165], \"z\": [0, -0.021508], \"mode\": \"lines\", \"line\": {\"color\": \"rgb(20, 0, 145)\", \"width\": 2}}, {\"type\": \"scatter3d\", \"x\": [0, 0.264062], \"y\": [0, 1.982352], \"z\": [0, -0.0235778], \"mode\": \"lines\", \"line\": {\"color\": \"rgb(20, 0, 145)\", \"width\": 2}}, {\"type\": \"scatter3d\", \"x\": [0, 0.268982], \"y\": [0, 1.981682], \"z\": [0, -0.0242058], \"mode\": \"lines\", \"line\": {\"color\": \"rgb(20, 0, 145)\", \"width\": 2}}, {\"type\": \"scatter3d\", \"x\": [0, 0.268982], \"y\": [0, 1.981682], \"z\": [0, -0.0242058], \"mode\": \"lines\", \"line\": {\"color\": \"rgb(20, 0, 145)\", \"width\": 2}}, {\"type\": \"scatter3d\", \"x\": [0, 0.2687], \"y\": [0, 1.981744], \"z\": [0, -0.0221508], \"mode\": \"lines\", \"line\": {\"color\": \"rgb(20, 0, 145)\", \"width\": 2}}, {\"type\": \"scatter3d\", \"x\": [0, 0.263646], \"y\": [0, 1.982336], \"z\": [0, -0.0288512], \"mode\": \"lines\", \"line\": {\"color\": \"rgb(20, 0, 145)\", \"width\": 2}}, {\"type\": \"scatter3d\", \"x\": [0, 0.269422], \"y\": [0, 1.981576], \"z\": [0, -0.0277194], \"mode\": \"lines\", \"line\": {\"color\": \"rgb(20, 0, 145)\", \"width\": 2}}, {\"type\": \"scatter3d\", \"x\": [0, 0.269422], \"y\": [0, 1.981576], \"z\": [0, -0.0277194], \"mode\": \"lines\", \"line\": {\"color\": \"rgb(20, 0, 145)\", \"width\": 2}}, {\"type\": \"scatter3d\", \"x\": [0, 0.265654], \"y\": [0, 1.982062], \"z\": [0, -0.0292832], \"mode\": \"lines\", \"line\": {\"color\": \"rgb(20, 0, 145)\", \"width\": 2}}, {\"type\": \"scatter3d\", \"x\": [0, 0.269234], \"y\": [0, 1.981596], \"z\": [0, -0.0280708], \"mode\": \"lines\", \"line\": {\"color\": \"rgb(20, 0, 145)\", \"width\": 2}}, {\"type\": \"scatter3d\", \"x\": [0, 0.267408], \"y\": [0, 1.981772], \"z\": [0, -0.0327884], \"mode\": \"lines\", \"line\": {\"color\": \"rgb(20, 0, 145)\", \"width\": 2}}, {\"type\": \"scatter3d\", \"x\": [0, 0.260304], \"y\": [0, 1.98276], \"z\": [0, -0.0301434], \"mode\": \"lines\", \"line\": {\"color\": \"rgb(20, 0, 145)\", \"width\": 2}}, {\"type\": \"scatter3d\", \"x\": [0, 0.260304], \"y\": [0, 1.98276], \"z\": [0, -0.0301434], \"mode\": \"lines\", \"line\": {\"color\": \"rgb(20, 0, 145)\", \"width\": 2}}, {\"type\": \"scatter3d\", \"x\": [0, 0.264794], \"y\": [0, 1.98214], \"z\": [0, -0.0317482], \"mode\": \"lines\", \"line\": {\"color\": \"rgb(20, 0, 145)\", \"width\": 2}}, {\"type\": \"scatter3d\", \"x\": [0, 0.262426], \"y\": [0, 1.982458], \"z\": [0, -0.031498], \"mode\": \"lines\", \"line\": {\"color\": \"rgb(20, 0, 145)\", \"width\": 2}}, {\"type\": \"scatter3d\", \"x\": [0, 0.264342], \"y\": [0, 1.9822], \"z\": [0, -0.0317082], \"mode\": \"lines\", \"line\": {\"color\": \"rgb(20, 0, 145)\", \"width\": 2}}, {\"type\": \"scatter3d\", \"x\": [0, 0.263736], \"y\": [0, 1.982338], \"z\": [0, -0.0278856], \"mode\": \"lines\", \"line\": {\"color\": \"rgb(20, 0, 145)\", \"width\": 2}}, {\"type\": \"scatter3d\", \"x\": [0, 0.263736], \"y\": [0, 1.982338], \"z\": [0, -0.0278856], \"mode\": \"lines\", \"line\": {\"color\": \"rgb(20, 0, 145)\", \"width\": 2}}, {\"type\": \"scatter3d\", \"x\": [0, 0.263524], \"y\": [0, 1.982318], \"z\": [0, -0.0311148], \"mode\": \"lines\", \"line\": {\"color\": \"rgb(20, 0, 145)\", \"width\": 2}}, {\"type\": \"scatter3d\", \"x\": [0, 0.263198], \"y\": [0, 1.982376], \"z\": [0, -0.0301636], \"mode\": \"lines\", \"line\": {\"color\": \"rgb(20, 0, 145)\", \"width\": 2}}, {\"type\": \"scatter3d\", \"x\": [0, 0.25994], \"y\": [0, 1.982836], \"z\": [0, -0.028141], \"mode\": \"lines\", \"line\": {\"color\": \"rgb(20, 0, 145)\", \"width\": 2}}, {\"type\": \"scatter3d\", \"x\": [0, 0.262638], \"y\": [0, 1.98248], \"z\": [0, -0.0281208], \"mode\": \"lines\", \"line\": {\"color\": \"rgb(20, 0, 145)\", \"width\": 2}}, {\"type\": \"scatter3d\", \"x\": [0, 0.262638], \"y\": [0, 1.98248], \"z\": [0, -0.0281208], \"mode\": \"lines\", \"line\": {\"color\": \"rgb(20, 0, 145)\", \"width\": 2}}, {\"type\": \"scatter3d\", \"x\": [0, 0.254334], \"y\": [0, 1.983584], \"z\": [0, -0.0266316], \"mode\": \"lines\", \"line\": {\"color\": \"rgb(20, 0, 145)\", \"width\": 2}}, {\"type\": \"scatter3d\", \"x\": [0, -0.229914], \"y\": [0, 1.881448], \"z\": [0, 0.638198], \"mode\": \"lines\", \"line\": {\"color\": \"rgb(20, 0, 145)\", \"width\": 2}}, {\"type\": \"scatter3d\", \"x\": [0, -0.23082], \"y\": [0, 1.880344], \"z\": [0, 0.641112], \"mode\": \"lines\", \"line\": {\"color\": \"rgb(20, 0, 145)\", \"width\": 2}}, {\"type\": \"scatter3d\", \"x\": [0, -0.23082], \"y\": [0, 1.880344], \"z\": [0, 0.641112], \"mode\": \"lines\", \"line\": {\"color\": \"rgb(20, 0, 145)\", \"width\": 2}}, {\"type\": \"scatter3d\", \"x\": [0, -0.230978], \"y\": [0, 1.88089], \"z\": [0, 0.639454], \"mode\": \"lines\", \"line\": {\"color\": \"rgb(20, 0, 145)\", \"width\": 2}}, {\"type\": \"scatter3d\", \"x\": [0, -0.229276], \"y\": [0, 1.881294], \"z\": [0, 0.638876], \"mode\": \"lines\", \"line\": {\"color\": \"rgb(20, 0, 145)\", \"width\": 2}}, {\"type\": \"scatter3d\", \"x\": [0, -0.230652], \"y\": [0, 1.88075], \"z\": [0, 0.639982], \"mode\": \"lines\", \"line\": {\"color\": \"rgb(20, 0, 145)\", \"width\": 2}}, {\"type\": \"scatter3d\", \"x\": [0, -0.22939], \"y\": [0, 1.881002], \"z\": [0, 0.639694], \"mode\": \"lines\", \"line\": {\"color\": \"rgb(20, 0, 145)\", \"width\": 2}}, {\"type\": \"scatter3d\", \"x\": [0, -0.22939], \"y\": [0, 1.881002], \"z\": [0, 0.639694], \"mode\": \"lines\", \"line\": {\"color\": \"rgb(20, 0, 145)\", \"width\": 2}}, {\"type\": \"scatter3d\", \"x\": [0, -0.230326], \"y\": [0, 1.88152], \"z\": [0, 0.637832], \"mode\": \"lines\", \"line\": {\"color\": \"rgb(20, 0, 145)\", \"width\": 2}}, {\"type\": \"scatter3d\", \"x\": [0, -0.229328], \"y\": [0, 1.881428], \"z\": [0, 0.638464], \"mode\": \"lines\", \"line\": {\"color\": \"rgb(20, 0, 145)\", \"width\": 2}}, {\"type\": \"scatter3d\", \"x\": [0, -0.230988], \"y\": [0, 1.882146], \"z\": [0, 0.635744], \"mode\": \"lines\", \"line\": {\"color\": \"rgb(20, 0, 145)\", \"width\": 2}}, {\"type\": \"scatter3d\", \"x\": [0, -0.229242], \"y\": [0, 1.881532], \"z\": [0, 0.638188], \"mode\": \"lines\", \"line\": {\"color\": \"rgb(20, 0, 145)\", \"width\": 2}}, {\"type\": \"scatter3d\", \"x\": [0, -0.232248], \"y\": [0, 1.882814], \"z\": [0, 0.633302], \"mode\": \"lines\", \"line\": {\"color\": \"rgb(20, 0, 145)\", \"width\": 2}}, {\"type\": \"scatter3d\", \"x\": [0, -0.232248], \"y\": [0, 1.882814], \"z\": [0, 0.633302], \"mode\": \"lines\", \"line\": {\"color\": \"rgb(20, 0, 145)\", \"width\": 2}}, {\"type\": \"scatter3d\", \"x\": [0, -0.229744], \"y\": [0, 1.881734], \"z\": [0, 0.637412], \"mode\": \"lines\", \"line\": {\"color\": \"rgb(20, 0, 145)\", \"width\": 2}}, {\"type\": \"scatter3d\", \"x\": [0, -0.229942], \"y\": [0, 1.88161], \"z\": [0, 0.637706], \"mode\": \"lines\", \"line\": {\"color\": \"rgb(20, 0, 145)\", \"width\": 2}}, {\"type\": \"scatter3d\", \"x\": [0, -0.229588], \"y\": [0, 1.882918], \"z\": [0, 0.633966], \"mode\": \"lines\", \"line\": {\"color\": \"rgb(20, 0, 145)\", \"width\": 2}}, {\"type\": \"scatter3d\", \"x\": [0, -0.229588], \"y\": [0, 1.882918], \"z\": [0, 0.633966], \"mode\": \"lines\", \"line\": {\"color\": \"rgb(20, 0, 145)\", \"width\": 2}}, {\"type\": \"scatter3d\", \"x\": [0, -0.231436], \"y\": [0, 1.88157], \"z\": [0, 0.637282], \"mode\": \"lines\", \"line\": {\"color\": \"rgb(20, 0, 145)\", \"width\": 2}}, {\"type\": \"scatter3d\", \"x\": [0, -0.231896], \"y\": [0, 1.8812], \"z\": [0, 0.63821], \"mode\": \"lines\", \"line\": {\"color\": \"rgb(20, 0, 145)\", \"width\": 2}}, {\"type\": \"scatter3d\", \"x\": [0, -0.226802], \"y\": [0, 1.882712], \"z\": [0, 0.635576], \"mode\": \"lines\", \"line\": {\"color\": \"rgb(20, 0, 145)\", \"width\": 2}}, {\"type\": \"scatter3d\", \"x\": [0, -0.226802], \"y\": [0, 1.882712], \"z\": [0, 0.635576], \"mode\": \"lines\", \"line\": {\"color\": \"rgb(20, 0, 145)\", \"width\": 2}}, {\"type\": \"scatter3d\", \"x\": [0, -0.218382], \"y\": [0, 1.88103], \"z\": [0, 0.643456], \"mode\": \"lines\", \"line\": {\"color\": \"rgb(20, 0, 145)\", \"width\": 2}}, {\"type\": \"scatter3d\", \"x\": [0, -0.22415], \"y\": [0, 1.880988], \"z\": [0, 0.641594], \"mode\": \"lines\", \"line\": {\"color\": \"rgb(20, 0, 145)\", \"width\": 2}}, {\"type\": \"scatter3d\", \"x\": [0, -0.22627], \"y\": [0, 1.879922], \"z\": [0, 0.64397], \"mode\": \"lines\", \"line\": {\"color\": \"rgb(20, 0, 145)\", \"width\": 2}}, {\"type\": \"scatter3d\", \"x\": [0, -0.226074], \"y\": [0, 1.879884], \"z\": [0, 0.644148], \"mode\": \"lines\", \"line\": {\"color\": \"rgb(20, 0, 145)\", \"width\": 2}}, {\"type\": \"scatter3d\", \"x\": [0, -0.22352], \"y\": [0, 1.88146], \"z\": [0, 0.64043], \"mode\": \"lines\", \"line\": {\"color\": \"rgb(20, 0, 145)\", \"width\": 2}}, {\"type\": \"scatter3d\", \"x\": [0, -0.22352], \"y\": [0, 1.88146], \"z\": [0, 0.64043], \"mode\": \"lines\", \"line\": {\"color\": \"rgb(20, 0, 145)\", \"width\": 2}}, {\"type\": \"scatter3d\", \"x\": [0, -0.226008], \"y\": [0, 1.880072], \"z\": [0, 0.643622], \"mode\": \"lines\", \"line\": {\"color\": \"rgb(20, 0, 145)\", \"width\": 2}}, {\"type\": \"scatter3d\", \"x\": [0, -0.22418], \"y\": [0, 1.88004], \"z\": [0, 0.644358], \"mode\": \"lines\", \"line\": {\"color\": \"rgb(20, 0, 145)\", \"width\": 2}}, {\"type\": \"scatter3d\", \"x\": [0, -0.221908], \"y\": [0, 1.879932], \"z\": [0, 0.645452], \"mode\": \"lines\", \"line\": {\"color\": \"rgb(20, 0, 145)\", \"width\": 2}}, {\"type\": \"scatter3d\", \"x\": [0, -0.225284], \"y\": [0, 1.880032], \"z\": [0, 0.64399], \"mode\": \"lines\", \"line\": {\"color\": \"rgb(20, 0, 145)\", \"width\": 2}}, {\"type\": \"scatter3d\", \"x\": [0, -0.225284], \"y\": [0, 1.880032], \"z\": [0, 0.64399], \"mode\": \"lines\", \"line\": {\"color\": \"rgb(20, 0, 145)\", \"width\": 2}}, {\"type\": \"scatter3d\", \"x\": [0, -0.226022], \"y\": [0, 1.880558], \"z\": [0, 0.642198], \"mode\": \"lines\", \"line\": {\"color\": \"rgb(20, 0, 145)\", \"width\": 2}}, {\"type\": \"scatter3d\", \"x\": [0, -0.221574], \"y\": [0, 1.880772], \"z\": [0, 0.643116], \"mode\": \"lines\", \"line\": {\"color\": \"rgb(20, 0, 145)\", \"width\": 2}}, {\"type\": \"scatter3d\", \"x\": [0, -0.219834], \"y\": [0, 1.88168], \"z\": [0, 0.641054], \"mode\": \"lines\", \"line\": {\"color\": \"rgb(20, 0, 145)\", \"width\": 2}}, {\"type\": \"scatter3d\", \"x\": [0, -0.223588], \"y\": [0, 1.880364], \"z\": [0, 0.643614], \"mode\": \"lines\", \"line\": {\"color\": \"rgb(20, 0, 145)\", \"width\": 2}}, {\"type\": \"scatter3d\", \"x\": [0, -0.219026], \"y\": [0, 1.881298], \"z\": [0, 0.642452], \"mode\": \"lines\", \"line\": {\"color\": \"rgb(20, 0, 145)\", \"width\": 2}}, {\"type\": \"scatter3d\", \"x\": [0, -0.219026], \"y\": [0, 1.881298], \"z\": [0, 0.642452], \"mode\": \"lines\", \"line\": {\"color\": \"rgb(20, 0, 145)\", \"width\": 2}}, {\"type\": \"scatter3d\", \"x\": [0, -0.22113], \"y\": [0, 1.880988], \"z\": [0, 0.642638], \"mode\": \"lines\", \"line\": {\"color\": \"rgb(20, 0, 145)\", \"width\": 2}}, {\"type\": \"scatter3d\", \"x\": [0, -0.21786], \"y\": [0, 1.881376], \"z\": [0, 0.642618], \"mode\": \"lines\", \"line\": {\"color\": \"rgb(20, 0, 145)\", \"width\": 2}}, {\"type\": \"scatter3d\", \"x\": [0, -0.221394], \"y\": [0, 1.88275], \"z\": [0, 0.63737], \"mode\": \"lines\", \"line\": {\"color\": \"rgb(20, 0, 145)\", \"width\": 2}}, {\"type\": \"scatter3d\", \"x\": [0, -0.221394], \"y\": [0, 1.88275], \"z\": [0, 0.63737], \"mode\": \"lines\", \"line\": {\"color\": \"rgb(20, 0, 145)\", \"width\": 2}}, {\"type\": \"scatter3d\", \"x\": [0, -0.219672], \"y\": [0, 1.882184], \"z\": [0, 0.639632], \"mode\": \"lines\", \"line\": {\"color\": \"rgb(20, 0, 145)\", \"width\": 2}}, {\"type\": \"scatter3d\", \"x\": [0, -0.219842], \"y\": [0, 1.881874], \"z\": [0, 0.640484], \"mode\": \"lines\", \"line\": {\"color\": \"rgb(20, 0, 145)\", \"width\": 2}}, {\"type\": \"scatter3d\", \"x\": [0, -0.21984], \"y\": [0, 1.88069], \"z\": [0, 0.643954], \"mode\": \"lines\", \"line\": {\"color\": \"rgb(20, 0, 145)\", \"width\": 2}}, {\"type\": \"scatter3d\", \"x\": [0, -0.219916], \"y\": [0, 1.882548], \"z\": [0, 0.638474], \"mode\": \"lines\", \"line\": {\"color\": \"rgb(20, 0, 145)\", \"width\": 2}}, {\"type\": \"scatter3d\", \"x\": [0, -0.219916], \"y\": [0, 1.882548], \"z\": [0, 0.638474], \"mode\": \"lines\", \"line\": {\"color\": \"rgb(20, 0, 145)\", \"width\": 2}}, {\"type\": \"scatter3d\", \"x\": [0, -0.218276], \"y\": [0, 1.881614], \"z\": [0, 0.641782], \"mode\": \"lines\", \"line\": {\"color\": \"rgb(20, 0, 145)\", \"width\": 2}}, {\"type\": \"scatter3d\", \"x\": [0, -0.216222], \"y\": [0, 1.883488], \"z\": [0, 0.636964], \"mode\": \"lines\", \"line\": {\"color\": \"rgb(20, 0, 145)\", \"width\": 2}}, {\"type\": \"scatter3d\", \"x\": [0, -0.216352], \"y\": [0, 1.882772], \"z\": [0, 0.63903], \"mode\": \"lines\", \"line\": {\"color\": \"rgb(20, 0, 145)\", \"width\": 2}}, {\"type\": \"scatter3d\", \"x\": [0, -0.216352], \"y\": [0, 1.882772], \"z\": [0, 0.63903], \"mode\": \"lines\", \"line\": {\"color\": \"rgb(20, 0, 145)\", \"width\": 2}}, {\"type\": \"scatter3d\", \"x\": [0, -0.220456], \"y\": [0, 1.88162], \"z\": [0, 0.641022], \"mode\": \"lines\", \"line\": {\"color\": \"rgb(20, 0, 145)\", \"width\": 2}}, {\"type\": \"scatter3d\", \"x\": [0, -0.214824], \"y\": [0, 1.88168], \"z\": [0, 0.64275], \"mode\": \"lines\", \"line\": {\"color\": \"rgb(20, 0, 145)\", \"width\": 2}}, {\"type\": \"scatter3d\", \"x\": [0, -0.218394], \"y\": [0, 1.881612], \"z\": [0, 0.641748], \"mode\": \"lines\", \"line\": {\"color\": \"rgb(20, 0, 145)\", \"width\": 2}}, {\"type\": \"scatter3d\", \"x\": [0, -0.216692], \"y\": [0, 1.882466], \"z\": [0, 0.63982], \"mode\": \"lines\", \"line\": {\"color\": \"rgb(20, 0, 145)\", \"width\": 2}}, {\"type\": \"scatter3d\", \"x\": [0, -0.217538], \"y\": [0, 1.881714], \"z\": [0, 0.641736], \"mode\": \"lines\", \"line\": {\"color\": \"rgb(20, 0, 145)\", \"width\": 2}}, {\"type\": \"scatter3d\", \"x\": [0, -0.217538], \"y\": [0, 1.881714], \"z\": [0, 0.641736], \"mode\": \"lines\", \"line\": {\"color\": \"rgb(20, 0, 145)\", \"width\": 2}}, {\"type\": \"scatter3d\", \"x\": [0, -0.217386], \"y\": [0, 1.88154], \"z\": [0, 0.642304], \"mode\": \"lines\", \"line\": {\"color\": \"rgb(20, 0, 145)\", \"width\": 2}}, {\"type\": \"scatter3d\", \"x\": [0, -0.217016], \"y\": [0, 1.882654], \"z\": [0, 0.639156], \"mode\": \"lines\", \"line\": {\"color\": \"rgb(20, 0, 145)\", \"width\": 2}}, {\"type\": \"scatter3d\", \"x\": [0, -0.216984], \"y\": [0, 1.882196], \"z\": [0, 0.64051], \"mode\": \"lines\", \"line\": {\"color\": \"rgb(20, 0, 145)\", \"width\": 2}}, {\"type\": \"scatter3d\", \"x\": [0, -0.215964], \"y\": [0, 1.883006], \"z\": [0, 0.638474], \"mode\": \"lines\", \"line\": {\"color\": \"rgb(20, 0, 145)\", \"width\": 2}}, {\"type\": \"scatter3d\", \"x\": [0, -0.21648], \"y\": [0, 1.883078], \"z\": [0, 0.638088], \"mode\": \"lines\", \"line\": {\"color\": \"rgb(20, 0, 145)\", \"width\": 2}}, {\"type\": \"scatter3d\", \"x\": [0, -0.21648], \"y\": [0, 1.883078], \"z\": [0, 0.638088], \"mode\": \"lines\", \"line\": {\"color\": \"rgb(20, 0, 145)\", \"width\": 2}}, {\"type\": \"scatter3d\", \"x\": [0, -0.218392], \"y\": [0, 1.881866], \"z\": [0, 0.641006], \"mode\": \"lines\", \"line\": {\"color\": \"rgb(20, 0, 145)\", \"width\": 2}}, {\"type\": \"scatter3d\", \"x\": [0, -0.220168], \"y\": [0, 1.881878], \"z\": [0, 0.64036], \"mode\": \"lines\", \"line\": {\"color\": \"rgb(20, 0, 145)\", \"width\": 2}}, {\"type\": \"scatter3d\", \"x\": [0, -0.218378], \"y\": [0, 1.881324], \"z\": [0, 0.642598], \"mode\": \"lines\", \"line\": {\"color\": \"rgb(20, 0, 145)\", \"width\": 2}}, {\"type\": \"scatter3d\", \"x\": [0, -0.218378], \"y\": [0, 1.881324], \"z\": [0, 0.642598], \"mode\": \"lines\", \"line\": {\"color\": \"rgb(20, 0, 145)\", \"width\": 2}}, {\"type\": \"scatter3d\", \"x\": [0, -0.216534], \"y\": [0, 1.88427], \"z\": [0, 0.634542], \"mode\": \"lines\", \"line\": {\"color\": \"rgb(20, 0, 145)\", \"width\": 2}}, {\"type\": \"scatter3d\", \"x\": [0, -0.21736], \"y\": [0, 1.883794], \"z\": [0, 0.635668], \"mode\": \"lines\", \"line\": {\"color\": \"rgb(20, 0, 145)\", \"width\": 2}}, {\"type\": \"scatter3d\", \"x\": [0, -0.217734], \"y\": [0, 1.88408], \"z\": [0, 0.634692], \"mode\": \"lines\", \"line\": {\"color\": \"rgb(20, 0, 145)\", \"width\": 2}}, {\"type\": \"scatter3d\", \"x\": [0, -0.21959], \"y\": [0, 1.882846], \"z\": [0, 0.63771], \"mode\": \"lines\", \"line\": {\"color\": \"rgb(20, 0, 145)\", \"width\": 2}}, {\"type\": \"scatter3d\", \"x\": [0, -0.21959], \"y\": [0, 1.882846], \"z\": [0, 0.63771], \"mode\": \"lines\", \"line\": {\"color\": \"rgb(20, 0, 145)\", \"width\": 2}}, {\"type\": \"scatter3d\", \"x\": [0, -0.21515], \"y\": [0, 1.884448], \"z\": [0, 0.63448], \"mode\": \"lines\", \"line\": {\"color\": \"rgb(20, 0, 145)\", \"width\": 2}}, {\"type\": \"scatter3d\", \"x\": [0, -0.217206], \"y\": [0, 1.883526], \"z\": [0, 0.636516], \"mode\": \"lines\", \"line\": {\"color\": \"rgb(20, 0, 145)\", \"width\": 2}}, {\"type\": \"scatter3d\", \"x\": [0, -0.215998], \"y\": [0, 1.884742], \"z\": [0, 0.63332], \"mode\": \"lines\", \"line\": {\"color\": \"rgb(20, 0, 145)\", \"width\": 2}}, {\"type\": \"scatter3d\", \"x\": [0, -0.215998], \"y\": [0, 1.884742], \"z\": [0, 0.63332], \"mode\": \"lines\", \"line\": {\"color\": \"rgb(20, 0, 145)\", \"width\": 2}}, {\"type\": \"scatter3d\", \"x\": [0, -0.216814], \"y\": [0, 1.883794], \"z\": [0, 0.635856], \"mode\": \"lines\", \"line\": {\"color\": \"rgb(20, 0, 145)\", \"width\": 2}}, {\"type\": \"scatter3d\", \"x\": [0, -0.217768], \"y\": [0, 1.883524], \"z\": [0, 0.63633], \"mode\": \"lines\", \"line\": {\"color\": \"rgb(20, 0, 145)\", \"width\": 2}}, {\"type\": \"scatter3d\", \"x\": [0, -0.218678], \"y\": [0, 1.884286], \"z\": [0, 0.633758], \"mode\": \"lines\", \"line\": {\"color\": \"rgb(20, 0, 145)\", \"width\": 2}}, {\"type\": \"scatter3d\", \"x\": [0, -0.217832], \"y\": [0, 1.884602], \"z\": [0, 0.633108], \"mode\": \"lines\", \"line\": {\"color\": \"rgb(20, 0, 145)\", \"width\": 2}}, {\"type\": \"scatter3d\", \"x\": [0, -0.218036], \"y\": [0, 1.885208], \"z\": [0, 0.63123], \"mode\": \"lines\", \"line\": {\"color\": \"rgb(20, 0, 145)\", \"width\": 2}}, {\"type\": \"scatter3d\", \"x\": [0, -0.218036], \"y\": [0, 1.885208], \"z\": [0, 0.63123], \"mode\": \"lines\", \"line\": {\"color\": \"rgb(20, 0, 145)\", \"width\": 2}}, {\"type\": \"scatter3d\", \"x\": [0, -0.219924], \"y\": [0, 1.884152], \"z\": [0, 0.633726], \"mode\": \"lines\", \"line\": {\"color\": \"rgb(20, 0, 145)\", \"width\": 2}}, {\"type\": \"scatter3d\", \"x\": [0, -0.21689], \"y\": [0, 1.88559], \"z\": [0, 0.630482], \"mode\": \"lines\", \"line\": {\"color\": \"rgb(20, 0, 145)\", \"width\": 2}}, {\"type\": \"scatter3d\", \"x\": [0, -0.21991], \"y\": [0, 1.883844], \"z\": [0, 0.634646], \"mode\": \"lines\", \"line\": {\"color\": \"rgb(20, 0, 145)\", \"width\": 2}}, {\"type\": \"scatter3d\", \"x\": [0, -0.214834], \"y\": [0, 1.88509], \"z\": [0, 0.63268], \"mode\": \"lines\", \"line\": {\"color\": \"rgb(20, 0, 145)\", \"width\": 2}}, {\"type\": \"scatter3d\", \"x\": [0, -0.214834], \"y\": [0, 1.88509], \"z\": [0, 0.63268], \"mode\": \"lines\", \"line\": {\"color\": \"rgb(20, 0, 145)\", \"width\": 2}}, {\"type\": \"scatter3d\", \"x\": [0, -0.217168], \"y\": [0, 1.885794], \"z\": [0, 0.629778], \"mode\": \"lines\", \"line\": {\"color\": \"rgb(20, 0, 145)\", \"width\": 2}}, {\"type\": \"scatter3d\", \"x\": [0, -0.217806], \"y\": [0, 1.883208], \"z\": [0, 0.637252], \"mode\": \"lines\", \"line\": {\"color\": \"rgb(20, 0, 145)\", \"width\": 2}}, {\"type\": \"scatter3d\", \"x\": [0, -0.212196], \"y\": [0, 1.881956], \"z\": [0, 0.642816], \"mode\": \"lines\", \"line\": {\"color\": \"rgb(20, 0, 145)\", \"width\": 2}}, {\"type\": \"scatter3d\", \"x\": [0, -0.20928], \"y\": [0, 1.881364], \"z\": [0, 0.645504], \"mode\": \"lines\", \"line\": {\"color\": \"rgb(20, 0, 145)\", \"width\": 2}}, {\"type\": \"scatter3d\", \"x\": [0, -0.211008], \"y\": [0, 1.88012], \"z\": [0, 0.648558], \"mode\": \"lines\", \"line\": {\"color\": \"rgb(20, 0, 145)\", \"width\": 2}}, {\"type\": \"scatter3d\", \"x\": [0, -0.211008], \"y\": [0, 1.88012], \"z\": [0, 0.648558], \"mode\": \"lines\", \"line\": {\"color\": \"rgb(20, 0, 145)\", \"width\": 2}}, {\"type\": \"scatter3d\", \"x\": [0, -0.217658], \"y\": [0, 1.878266], \"z\": [0, 0.65172], \"mode\": \"lines\", \"line\": {\"color\": \"rgb(20, 0, 145)\", \"width\": 2}}, {\"type\": \"scatter3d\", \"x\": [0, -0.217094], \"y\": [0, 1.878102], \"z\": [0, 0.652382], \"mode\": \"lines\", \"line\": {\"color\": \"rgb(20, 0, 145)\", \"width\": 2}}, {\"type\": \"scatter3d\", \"x\": [0, -0.218618], \"y\": [0, 1.878662], \"z\": [0, 0.65026], \"mode\": \"lines\", \"line\": {\"color\": \"rgb(20, 0, 145)\", \"width\": 2}}, {\"type\": \"scatter3d\", \"x\": [0, -0.215526], \"y\": [0, 1.879118], \"z\": [0, 0.649974], \"mode\": \"lines\", \"line\": {\"color\": \"rgb(20, 0, 145)\", \"width\": 2}}, {\"type\": \"scatter3d\", \"x\": [0, -0.2093], \"y\": [0, 1.8825], \"z\": [0, 0.642172], \"mode\": \"lines\", \"line\": {\"color\": \"rgb(20, 0, 145)\", \"width\": 2}}, {\"type\": \"scatter3d\", \"x\": [0, -0.20731], \"y\": [0, 1.884356], \"z\": [0, 0.637358], \"mode\": \"lines\", \"line\": {\"color\": \"rgb(20, 0, 145)\", \"width\": 2}}, {\"type\": \"scatter3d\", \"x\": [0, -0.0275842], \"y\": [0, 1.888012], \"z\": [0, 0.659282], \"mode\": \"lines\", \"line\": {\"color\": \"rgb(20, 0, 145)\", \"width\": 2}}, {\"type\": \"scatter3d\", \"x\": [0, -0.031196], \"y\": [0, 1.888734], \"z\": [0, 0.657046], \"mode\": \"lines\", \"line\": {\"color\": \"rgb(20, 0, 145)\", \"width\": 2}}, {\"type\": \"scatter3d\", \"x\": [0, -0.027978], \"y\": [0, 1.887538], \"z\": [0, 0.660618], \"mode\": \"lines\", \"line\": {\"color\": \"rgb(20, 0, 145)\", \"width\": 2}}, {\"type\": \"scatter3d\", \"x\": [0, -0.027978], \"y\": [0, 1.887538], \"z\": [0, 0.660618], \"mode\": \"lines\", \"line\": {\"color\": \"rgb(20, 0, 145)\", \"width\": 2}}, {\"type\": \"scatter3d\", \"x\": [0, -0.0311938], \"y\": [0, 1.888736], \"z\": [0, 0.65704], \"mode\": \"lines\", \"line\": {\"color\": \"rgb(20, 0, 145)\", \"width\": 2}}, {\"type\": \"scatter3d\", \"x\": [0, -0.028224], \"y\": [0, 1.88893], \"z\": [0, 0.656618], \"mode\": \"lines\", \"line\": {\"color\": \"rgb(20, 0, 145)\", \"width\": 2}}, {\"type\": \"scatter3d\", \"x\": [0, -0.0318616], \"y\": [0, 1.889326], \"z\": [0, 0.655308], \"mode\": \"lines\", \"line\": {\"color\": \"rgb(20, 0, 145)\", \"width\": 2}}, {\"type\": \"scatter3d\", \"x\": [0, -0.0292886], \"y\": [0, 1.889892], \"z\": [0, 0.653798], \"mode\": \"lines\", \"line\": {\"color\": \"rgb(20, 0, 145)\", \"width\": 2}}, {\"type\": \"scatter3d\", \"x\": [0, -0.0292886], \"y\": [0, 1.889892], \"z\": [0, 0.653798], \"mode\": \"lines\", \"line\": {\"color\": \"rgb(20, 0, 145)\", \"width\": 2}}, {\"type\": \"scatter3d\", \"x\": [0, -0.030904], \"y\": [0, 1.889804], \"z\": [0, 0.653976], \"mode\": \"lines\", \"line\": {\"color\": \"rgb(20, 0, 145)\", \"width\": 2}}, {\"type\": \"scatter3d\", \"x\": [0, -0.029631], \"y\": [0, 1.890356], \"z\": [0, 0.65244], \"mode\": \"lines\", \"line\": {\"color\": \"rgb(20, 0, 145)\", \"width\": 2}}, {\"type\": \"scatter3d\", \"x\": [0, -0.0305558], \"y\": [0, 1.890746], \"z\": [0, 0.651268], \"mode\": \"lines\", \"line\": {\"color\": \"rgb(20, 0, 145)\", \"width\": 2}}, {\"type\": \"scatter3d\", \"x\": [0, -0.0281102], \"y\": [0, 1.891976], \"z\": [0, 0.647796], \"mode\": \"lines\", \"line\": {\"color\": \"rgb(20, 0, 145)\", \"width\": 2}}, {\"type\": \"scatter3d\", \"x\": [0, -0.0281102], \"y\": [0, 1.891976], \"z\": [0, 0.647796], \"mode\": \"lines\", \"line\": {\"color\": \"rgb(20, 0, 145)\", \"width\": 2}}, {\"type\": \"scatter3d\", \"x\": [0, -0.025504], \"y\": [0, 1.892884], \"z\": [0, 0.645244], \"mode\": \"lines\", \"line\": {\"color\": \"rgb(20, 0, 145)\", \"width\": 2}}, {\"type\": \"scatter3d\", \"x\": [0, -0.0279886], \"y\": [0, 1.892656], \"z\": [0, 0.645812], \"mode\": \"lines\", \"line\": {\"color\": \"rgb(20, 0, 145)\", \"width\": 2}}, {\"type\": \"scatter3d\", \"x\": [0, -0.0284958], \"y\": [0, 1.8931], \"z\": [0, 0.644482], \"mode\": \"lines\", \"line\": {\"color\": \"rgb(20, 0, 145)\", \"width\": 2}}, {\"type\": \"scatter3d\", \"x\": [0, -0.0284958], \"y\": [0, 1.8931], \"z\": [0, 0.644482], \"mode\": \"lines\", \"line\": {\"color\": \"rgb(20, 0, 145)\", \"width\": 2}}, {\"type\": \"scatter3d\", \"x\": [0, -0.0303686], \"y\": [0, 1.894192], \"z\": [0, 0.64118], \"mode\": \"lines\", \"line\": {\"color\": \"rgb(20, 0, 145)\", \"width\": 2}}, {\"type\": \"scatter3d\", \"x\": [0, -0.0259756], \"y\": [0, 1.893606], \"z\": [0, 0.643104], \"mode\": \"lines\", \"line\": {\"color\": \"rgb(20, 0, 145)\", \"width\": 2}}, {\"type\": \"scatter3d\", \"x\": [0, -0.0317866], \"y\": [0, 1.893784], \"z\": [0, 0.642318], \"mode\": \"lines\", \"line\": {\"color\": \"rgb(20, 0, 145)\", \"width\": 2}}, {\"type\": \"scatter3d\", \"x\": [0, -0.0285552], \"y\": [0, 1.893628], \"z\": [0, 0.64293], \"mode\": \"lines\", \"line\": {\"color\": \"rgb(20, 0, 145)\", \"width\": 2}}, {\"type\": \"scatter3d\", \"x\": [0, -0.0320712], \"y\": [0, 1.891488], \"z\": [0, 0.649034], \"mode\": \"lines\", \"line\": {\"color\": \"rgb(20, 0, 145)\", \"width\": 2}}, {\"type\": \"scatter3d\", \"x\": [0, -0.0320712], \"y\": [0, 1.891488], \"z\": [0, 0.649034], \"mode\": \"lines\", \"line\": {\"color\": \"rgb(20, 0, 145)\", \"width\": 2}}, {\"type\": \"scatter3d\", \"x\": [0, -0.0295862], \"y\": [0, 1.891656], \"z\": [0, 0.648662], \"mode\": \"lines\", \"line\": {\"color\": \"rgb(20, 0, 145)\", \"width\": 2}}, {\"type\": \"scatter3d\", \"x\": [0, -0.0306554], \"y\": [0, 1.892606], \"z\": [0, 0.645832], \"mode\": \"lines\", \"line\": {\"color\": \"rgb(20, 0, 145)\", \"width\": 2}}, {\"type\": \"scatter3d\", \"x\": [0, -0.0296678], \"y\": [0, 1.891344], \"z\": [0, 0.649564], \"mode\": \"lines\", \"line\": {\"color\": \"rgb(20, 0, 145)\", \"width\": 2}}, {\"type\": \"scatter3d\", \"x\": [0, -0.0278684], \"y\": [0, 1.89287], \"z\": [0, 0.645186], \"mode\": \"lines\", \"line\": {\"color\": \"rgb(20, 0, 145)\", \"width\": 2}}, {\"type\": \"scatter3d\", \"x\": [0, -0.0278684], \"y\": [0, 1.89287], \"z\": [0, 0.645186], \"mode\": \"lines\", \"line\": {\"color\": \"rgb(20, 0, 145)\", \"width\": 2}}, {\"type\": \"scatter3d\", \"x\": [0, -0.0302714], \"y\": [0, 1.891658], \"z\": [0, 0.648626], \"mode\": \"lines\", \"line\": {\"color\": \"rgb(20, 0, 145)\", \"width\": 2}}, {\"type\": \"scatter3d\", \"x\": [0, -0.03099], \"y\": [0, 1.890948], \"z\": [0, 0.650658], \"mode\": \"lines\", \"line\": {\"color\": \"rgb(20, 0, 145)\", \"width\": 2}}, {\"type\": \"scatter3d\", \"x\": [0, -0.032236], \"y\": [0, 1.891698], \"z\": [0, 0.648414], \"mode\": \"lines\", \"line\": {\"color\": \"rgb(20, 0, 145)\", \"width\": 2}}, {\"type\": \"scatter3d\", \"x\": [0, -0.032236], \"y\": [0, 1.891698], \"z\": [0, 0.648414], \"mode\": \"lines\", \"line\": {\"color\": \"rgb(20, 0, 145)\", \"width\": 2}}, {\"type\": \"scatter3d\", \"x\": [0, -0.0292842], \"y\": [0, 1.891266], \"z\": [0, 0.649812], \"mode\": \"lines\", \"line\": {\"color\": \"rgb(20, 0, 145)\", \"width\": 2}}, {\"type\": \"scatter3d\", \"x\": [0, -0.029078], \"y\": [0, 1.892976], \"z\": [0, 0.644824], \"mode\": \"lines\", \"line\": {\"color\": \"rgb(20, 0, 145)\", \"width\": 2}}, {\"type\": \"scatter3d\", \"x\": [0, -0.02892], \"y\": [0, 1.891446], \"z\": [0, 0.649306], \"mode\": \"lines\", \"line\": {\"color\": \"rgb(20, 0, 145)\", \"width\": 2}}, {\"type\": \"scatter3d\", \"x\": [0, -0.0302572], \"y\": [0, 1.891788], \"z\": [0, 0.648248], \"mode\": \"lines\", \"line\": {\"color\": \"rgb(20, 0, 145)\", \"width\": 2}}, {\"type\": \"scatter3d\", \"x\": [0, -0.0285502], \"y\": [0, 1.89205], \"z\": [0, 0.64756], \"mode\": \"lines\", \"line\": {\"color\": \"rgb(20, 0, 145)\", \"width\": 2}}, {\"type\": \"scatter3d\", \"x\": [0, -0.0285502], \"y\": [0, 1.89205], \"z\": [0, 0.64756], \"mode\": \"lines\", \"line\": {\"color\": \"rgb(20, 0, 145)\", \"width\": 2}}, {\"type\": \"scatter3d\", \"x\": [0, -0.0310472], \"y\": [0, 1.892114], \"z\": [0, 0.647258], \"mode\": \"lines\", \"line\": {\"color\": \"rgb(20, 0, 145)\", \"width\": 2}}, {\"type\": \"scatter3d\", \"x\": [0, -0.0273702], \"y\": [0, 1.89491], \"z\": [0, 0.63919], \"mode\": \"lines\", \"line\": {\"color\": \"rgb(20, 0, 145)\", \"width\": 2}}, {\"type\": \"scatter3d\", \"x\": [0, -0.023204], \"y\": [0, 1.900584], \"z\": [0, 0.622288], \"mode\": \"lines\", \"line\": {\"color\": \"rgb(20, 0, 145)\", \"width\": 2}}, {\"type\": \"scatter3d\", \"x\": [0, 0.001197766], \"y\": [0, 1.90769], \"z\": [0, 0.600598], \"mode\": \"lines\", \"line\": {\"color\": \"rgb(20, 0, 145)\", \"width\": 2}}, {\"type\": \"scatter3d\", \"x\": [0, 0.001197766], \"y\": [0, 1.90769], \"z\": [0, 0.600598], \"mode\": \"lines\", \"line\": {\"color\": \"rgb(20, 0, 145)\", \"width\": 2}}, {\"type\": \"scatter3d\", \"x\": [0, 0.0246534], \"y\": [0, 1.904016], \"z\": [0, 0.611652], \"mode\": \"lines\", \"line\": {\"color\": \"rgb(20, 0, 145)\", \"width\": 2}}, {\"type\": \"scatter3d\", \"x\": [0, 0.0344024], \"y\": [0, 1.896512], \"z\": [0, 0.634082], \"mode\": \"lines\", \"line\": {\"color\": \"rgb(20, 0, 145)\", \"width\": 2}}, {\"type\": \"scatter3d\", \"x\": [0, 0.0387388], \"y\": [0, 1.894384], \"z\": [0, 0.64016], \"mode\": \"lines\", \"line\": {\"color\": \"rgb(20, 0, 145)\", \"width\": 2}}, {\"type\": \"scatter3d\", \"x\": [0, 0.0268282], \"y\": [0, 1.887326], \"z\": [0, 0.661274], \"mode\": \"lines\", \"line\": {\"color\": \"rgb(20, 0, 145)\", \"width\": 2}}, {\"type\": \"scatter3d\", \"x\": [0, 0.0268282], \"y\": [0, 1.887326], \"z\": [0, 0.661274], \"mode\": \"lines\", \"line\": {\"color\": \"rgb(20, 0, 145)\", \"width\": 2}}, {\"type\": \"scatter3d\", \"x\": [0, 0.01626382], \"y\": [0, 1.890352], \"z\": [0, 0.65292], \"mode\": \"lines\", \"line\": {\"color\": \"rgb(20, 0, 145)\", \"width\": 2}}, {\"type\": \"scatter3d\", \"x\": [0, 0.00811786], \"y\": [0, 1.89085], \"z\": [0, 0.65163], \"mode\": \"lines\", \"line\": {\"color\": \"rgb(20, 0, 145)\", \"width\": 2}}, {\"type\": \"scatter3d\", \"x\": [0, 0.000507692], \"y\": [0, 1.89243], \"z\": [0, 0.647074], \"mode\": \"lines\", \"line\": {\"color\": \"rgb(20, 0, 145)\", \"width\": 2}}, {\"type\": \"scatter3d\", \"x\": [0, -0.0026875], \"y\": [0, 1.894498], \"z\": [0, 0.64099], \"mode\": \"lines\", \"line\": {\"color\": \"rgb(20, 0, 145)\", \"width\": 2}}, {\"type\": \"scatter3d\", \"x\": [0, -0.0026875], \"y\": [0, 1.894498], \"z\": [0, 0.64099], \"mode\": \"lines\", \"line\": {\"color\": \"rgb(20, 0, 145)\", \"width\": 2}}, {\"type\": \"scatter3d\", \"x\": [0, 0.00240614], \"y\": [0, 1.894944], \"z\": [0, 0.639676], \"mode\": \"lines\", \"line\": {\"color\": \"rgb(20, 0, 145)\", \"width\": 2}}, {\"type\": \"scatter3d\", \"x\": [0, -0.000938938], \"y\": [0, 1.894284], \"z\": [0, 0.641626], \"mode\": \"lines\", \"line\": {\"color\": \"rgb(20, 0, 145)\", \"width\": 2}}, {\"type\": \"scatter3d\", \"x\": [0, 0.00232406], \"y\": [0, 1.895632], \"z\": [0, 0.637634], \"mode\": \"lines\", \"line\": {\"color\": \"rgb(20, 0, 145)\", \"width\": 2}}, {\"type\": \"scatter3d\", \"x\": [0, -0.0023555], \"y\": [0, 1.896892], \"z\": [0, 0.633876], \"mode\": \"lines\", \"line\": {\"color\": \"rgb(20, 0, 145)\", \"width\": 2}}, {\"type\": \"scatter3d\", \"x\": [0, -0.00026757], \"y\": [0, 1.89521], \"z\": [0, 0.63889], \"mode\": \"lines\", \"line\": {\"color\": \"rgb(20, 0, 145)\", \"width\": 2}}, {\"type\": \"scatter3d\", \"x\": [0, -0.00026757], \"y\": [0, 1.89521], \"z\": [0, 0.63889], \"mode\": \"lines\", \"line\": {\"color\": \"rgb(20, 0, 145)\", \"width\": 2}}, {\"type\": \"scatter3d\", \"x\": [0, 0.0001136336], \"y\": [0, 1.895842], \"z\": [0, 0.637014], \"mode\": \"lines\", \"line\": {\"color\": \"rgb(20, 0, 145)\", \"width\": 2}}, {\"type\": \"scatter3d\", \"x\": [0, -0.00280624], \"y\": [0, 1.89596], \"z\": [0, 0.636652], \"mode\": \"lines\", \"line\": {\"color\": \"rgb(20, 0, 145)\", \"width\": 2}}, {\"type\": \"scatter3d\", \"x\": [0, -0.00280624], \"y\": [0, 1.89596], \"z\": [0, 0.636652], \"mode\": \"lines\", \"line\": {\"color\": \"rgb(20, 0, 145)\", \"width\": 2}}, {\"type\": \"scatter3d\", \"x\": [0, -0.001753024], \"y\": [0, 1.893772], \"z\": [0, 0.643136], \"mode\": \"lines\", \"line\": {\"color\": \"rgb(20, 0, 145)\", \"width\": 2}}, {\"type\": \"scatter3d\", \"x\": [0, -0.001332424], \"y\": [0, 1.893246], \"z\": [0, 0.644684], \"mode\": \"lines\", \"line\": {\"color\": \"rgb(20, 0, 145)\", \"width\": 2}}, {\"type\": \"scatter3d\", \"x\": [0, -0.00388438], \"y\": [0, 1.892356], \"z\": [0, 0.647284], \"mode\": \"lines\", \"line\": {\"color\": \"rgb(20, 0, 145)\", \"width\": 2}}, {\"type\": \"scatter3d\", \"x\": [0, -0.00244086], \"y\": [0, 1.891568], \"z\": [0, 0.649588], \"mode\": \"lines\", \"line\": {\"color\": \"rgb(20, 0, 145)\", \"width\": 2}}, {\"type\": \"scatter3d\", \"x\": [0, -0.00313818], \"y\": [0, 1.891354], \"z\": [0, 0.65021], \"mode\": \"lines\", \"line\": {\"color\": \"rgb(20, 0, 145)\", \"width\": 2}}, {\"type\": \"scatter3d\", \"x\": [0, -0.00313818], \"y\": [0, 1.891354], \"z\": [0, 0.65021], \"mode\": \"lines\", \"line\": {\"color\": \"rgb(20, 0, 145)\", \"width\": 2}}, {\"type\": \"scatter3d\", \"x\": [0, -0.00223098], \"y\": [0, 1.890686], \"z\": [0, 0.652152], \"mode\": \"lines\", \"line\": {\"color\": \"rgb(20, 0, 145)\", \"width\": 2}}, {\"type\": \"scatter3d\", \"x\": [0, -0.000333238], \"y\": [0, 1.891384], \"z\": [0, 0.65013], \"mode\": \"lines\", \"line\": {\"color\": \"rgb(20, 0, 145)\", \"width\": 2}}, {\"type\": \"scatter3d\", \"x\": [0, -0.001461194], \"y\": [0, 1.891384], \"z\": [0, 0.650126], \"mode\": \"lines\", \"line\": {\"color\": \"rgb(20, 0, 145)\", \"width\": 2}}, {\"type\": \"scatter3d\", \"x\": [0, -0.0029896], \"y\": [0, 1.89117], \"z\": [0, 0.650744], \"mode\": \"lines\", \"line\": {\"color\": \"rgb(20, 0, 145)\", \"width\": 2}}, {\"type\": \"scatter3d\", \"x\": [0, -0.00499368], \"y\": [0, 1.889288], \"z\": [0, 0.656178], \"mode\": \"lines\", \"line\": {\"color\": \"rgb(20, 0, 145)\", \"width\": 2}}, {\"type\": \"scatter3d\", \"x\": [0, -0.00499368], \"y\": [0, 1.889288], \"z\": [0, 0.656178], \"mode\": \"lines\", \"line\": {\"color\": \"rgb(20, 0, 145)\", \"width\": 2}}, {\"type\": \"scatter3d\", \"x\": [0, -0.00339532], \"y\": [0, 1.89115], \"z\": [0, 0.6508], \"mode\": \"lines\", \"line\": {\"color\": \"rgb(20, 0, 145)\", \"width\": 2}}, {\"type\": \"scatter3d\", \"x\": [0, -0.00321652], \"y\": [0, 1.890562], \"z\": [0, 0.652508], \"mode\": \"lines\", \"line\": {\"color\": \"rgb(20, 0, 145)\", \"width\": 2}}, {\"type\": \"scatter3d\", \"x\": [0, -0.00447062], \"y\": [0, 1.890046], \"z\": [0, 0.653994], \"mode\": \"lines\", \"line\": {\"color\": \"rgb(20, 0, 145)\", \"width\": 2}}, {\"type\": \"scatter3d\", \"x\": [0, -0.00447062], \"y\": [0, 1.890046], \"z\": [0, 0.653994], \"mode\": \"lines\", \"line\": {\"color\": \"rgb(20, 0, 145)\", \"width\": 2}}, {\"type\": \"scatter3d\", \"x\": [0, -0.00812364], \"y\": [0, 1.889748], \"z\": [0, 0.654816], \"mode\": \"lines\", \"line\": {\"color\": \"rgb(20, 0, 145)\", \"width\": 2}}, {\"type\": \"scatter3d\", \"x\": [0, -0.00691842], \"y\": [0, 1.890668], \"z\": [0, 0.65217], \"mode\": \"lines\", \"line\": {\"color\": \"rgb(20, 0, 145)\", \"width\": 2}}, {\"type\": \"scatter3d\", \"x\": [0, -0.00591838], \"y\": [0, 1.889242], \"z\": [0, 0.656302], \"mode\": \"lines\", \"line\": {\"color\": \"rgb(20, 0, 145)\", \"width\": 2}}, {\"type\": \"scatter3d\", \"x\": [0, -0.0067534], \"y\": [0, 1.890004], \"z\": [0, 0.654096], \"mode\": \"lines\", \"line\": {\"color\": \"rgb(20, 0, 145)\", \"width\": 2}}, {\"type\": \"scatter3d\", \"x\": [0, -0.0067534], \"y\": [0, 1.890004], \"z\": [0, 0.654096], \"mode\": \"lines\", \"line\": {\"color\": \"rgb(20, 0, 145)\", \"width\": 2}}, {\"type\": \"scatter3d\", \"x\": [0, -0.00927956], \"y\": [0, 1.89142], \"z\": [0, 0.649954], \"mode\": \"lines\", \"line\": {\"color\": \"rgb(20, 0, 145)\", \"width\": 2}}, {\"type\": \"scatter3d\", \"x\": [0, -0.00722574], \"y\": [0, 1.890574], \"z\": [0, 0.652442], \"mode\": \"lines\", \"line\": {\"color\": \"rgb(20, 0, 145)\", \"width\": 2}}, {\"type\": \"scatter3d\", \"x\": [0, -0.010015], \"y\": [0, 1.890328], \"z\": [0, 0.653118], \"mode\": \"lines\", \"line\": {\"color\": \"rgb(20, 0, 145)\", \"width\": 2}}, {\"type\": \"scatter3d\", \"x\": [0, -0.0094743], \"y\": [0, 1.891216], \"z\": [0, 0.650544], \"mode\": \"lines\", \"line\": {\"color\": \"rgb(20, 0, 145)\", \"width\": 2}}, {\"type\": \"scatter3d\", \"x\": [0, -0.0094743], \"y\": [0, 1.891216], \"z\": [0, 0.650544], \"mode\": \"lines\", \"line\": {\"color\": \"rgb(20, 0, 145)\", \"width\": 2}}, {\"type\": \"scatter3d\", \"x\": [0, -0.00737596], \"y\": [0, 1.891662], \"z\": [0, 0.64928], \"mode\": \"lines\", \"line\": {\"color\": \"rgb(20, 0, 145)\", \"width\": 2}}, {\"type\": \"scatter3d\", \"x\": [0, -0.00965694], \"y\": [0, 1.892544], \"z\": [0, 0.64667], \"mode\": \"lines\", \"line\": {\"color\": \"rgb(20, 0, 145)\", \"width\": 2}}, {\"type\": \"scatter3d\", \"x\": [0, -0.01071622], \"y\": [0, 1.89171], \"z\": [0, 0.64909], \"mode\": \"lines\", \"line\": {\"color\": \"rgb(20, 0, 145)\", \"width\": 2}}, {\"type\": \"scatter3d\", \"x\": [0, -0.01044702], \"y\": [0, 1.892778], \"z\": [0, 0.645976], \"mode\": \"lines\", \"line\": {\"color\": \"rgb(20, 0, 145)\", \"width\": 2}}, {\"type\": \"scatter3d\", \"x\": [0, -0.01044702], \"y\": [0, 1.892778], \"z\": [0, 0.645976], \"mode\": \"lines\", \"line\": {\"color\": \"rgb(20, 0, 145)\", \"width\": 2}}, {\"type\": \"scatter3d\", \"x\": [0, -0.00843292], \"y\": [0, 1.891318], \"z\": [0, 0.650264], \"mode\": \"lines\", \"line\": {\"color\": \"rgb(20, 0, 145)\", \"width\": 2}}, {\"type\": \"scatter3d\", \"x\": [0, -0.00918532], \"y\": [0, 1.892824], \"z\": [0, 0.645858], \"mode\": \"lines\", \"line\": {\"color\": \"rgb(20, 0, 145)\", \"width\": 2}}, {\"type\": \"scatter3d\", \"x\": [0, -0.00769004], \"y\": [0, 1.892066], \"z\": [0, 0.648092], \"mode\": \"lines\", \"line\": {\"color\": \"rgb(20, 0, 145)\", \"width\": 2}}, {\"type\": \"scatter3d\", \"x\": [0, -0.01487422], \"y\": [0, 1.891576], \"z\": [0, 0.649402], \"mode\": \"lines\", \"line\": {\"color\": \"rgb(20, 0, 145)\", \"width\": 2}}, {\"type\": \"scatter3d\", \"x\": [0, -0.0115748], \"y\": [0, 1.893428], \"z\": [0, 0.644046], \"mode\": \"lines\", \"line\": {\"color\": \"rgb(20, 0, 145)\", \"width\": 2}}, {\"type\": \"scatter3d\", \"x\": [0, -0.0115748], \"y\": [0, 1.893428], \"z\": [0, 0.644046], \"mode\": \"lines\", \"line\": {\"color\": \"rgb(20, 0, 145)\", \"width\": 2}}, {\"type\": \"scatter3d\", \"x\": [0, 0.275772], \"y\": [0, 1.886714], \"z\": [0, 0.603542], \"mode\": \"lines\", \"line\": {\"color\": \"rgb(20, 0, 145)\", \"width\": 2}}, {\"type\": \"scatter3d\", \"x\": [0, 0.276378], \"y\": [0, 1.886842], \"z\": [0, 0.602862], \"mode\": \"lines\", \"line\": {\"color\": \"rgb(20, 0, 145)\", \"width\": 2}}, {\"type\": \"scatter3d\", \"x\": [0, 0.276374], \"y\": [0, 1.886382], \"z\": [0, 0.604302], \"mode\": \"lines\", \"line\": {\"color\": \"rgb(20, 0, 145)\", \"width\": 2}}, {\"type\": \"scatter3d\", \"x\": [0, 0.276166], \"y\": [0, 1.887598], \"z\": [0, 0.60059], \"mode\": \"lines\", \"line\": {\"color\": \"rgb(20, 0, 145)\", \"width\": 2}}, {\"type\": \"scatter3d\", \"x\": [0, 0.276166], \"y\": [0, 1.887598], \"z\": [0, 0.60059], \"mode\": \"lines\", \"line\": {\"color\": \"rgb(20, 0, 145)\", \"width\": 2}}, {\"type\": \"scatter3d\", \"x\": [0, 0.272318], \"y\": [0, 1.886936], \"z\": [0, 0.60441], \"mode\": \"lines\", \"line\": {\"color\": \"rgb(20, 0, 145)\", \"width\": 2}}, {\"type\": \"scatter3d\", \"x\": [0, 0.27537], \"y\": [0, 1.885608], \"z\": [0, 0.607168], \"mode\": \"lines\", \"line\": {\"color\": \"rgb(20, 0, 145)\", \"width\": 2}}, {\"type\": \"scatter3d\", \"x\": [0, 0.276134], \"y\": [0, 1.887072], \"z\": [0, 0.602252], \"mode\": \"lines\", \"line\": {\"color\": \"rgb(20, 0, 145)\", \"width\": 2}}, {\"type\": \"scatter3d\", \"x\": [0, 0.27357], \"y\": [0, 1.88727], \"z\": [0, 0.602802], \"mode\": \"lines\", \"line\": {\"color\": \"rgb(20, 0, 145)\", \"width\": 2}}, {\"type\": \"scatter3d\", \"x\": [0, 0.27357], \"y\": [0, 1.88727], \"z\": [0, 0.602802], \"mode\": \"lines\", \"line\": {\"color\": \"rgb(20, 0, 145)\", \"width\": 2}}, {\"type\": \"scatter3d\", \"x\": [0, 0.27633], \"y\": [0, 1.887256], \"z\": [0, 0.60159], \"mode\": \"lines\", \"line\": {\"color\": \"rgb(20, 0, 145)\", \"width\": 2}}, {\"type\": \"scatter3d\", \"x\": [0, 0.271294], \"y\": [0, 1.886632], \"z\": [0, 0.605822], \"mode\": \"lines\", \"line\": {\"color\": \"rgb(20, 0, 145)\", \"width\": 2}}, {\"type\": \"scatter3d\", \"x\": [0, 0.273028], \"y\": [0, 1.887774], \"z\": [0, 0.601472], \"mode\": \"lines\", \"line\": {\"color\": \"rgb(20, 0, 145)\", \"width\": 2}}, {\"type\": \"scatter3d\", \"x\": [0, 0.273028], \"y\": [0, 1.887774], \"z\": [0, 0.601472], \"mode\": \"lines\", \"line\": {\"color\": \"rgb(20, 0, 145)\", \"width\": 2}}, {\"type\": \"scatter3d\", \"x\": [0, 0.27528], \"y\": [0, 1.886902], \"z\": [0, 0.603178], \"mode\": \"lines\", \"line\": {\"color\": \"rgb(20, 0, 145)\", \"width\": 2}}, {\"type\": \"scatter3d\", \"x\": [0, 0.274612], \"y\": [0, 1.887222], \"z\": [0, 0.602476], \"mode\": \"lines\", \"line\": {\"color\": \"rgb(20, 0, 145)\", \"width\": 2}}, {\"type\": \"scatter3d\", \"x\": [0, 0.273838], \"y\": [0, 1.887424], \"z\": [0, 0.602202], \"mode\": \"lines\", \"line\": {\"color\": \"rgb(20, 0, 145)\", \"width\": 2}}, {\"type\": \"scatter3d\", \"x\": [0, 0.27306], \"y\": [0, 1.887606], \"z\": [0, 0.60198], \"mode\": \"lines\", \"line\": {\"color\": \"rgb(20, 0, 145)\", \"width\": 2}}, {\"type\": \"scatter3d\", \"x\": [0, 0.273786], \"y\": [0, 1.887744], \"z\": [0, 0.601216], \"mode\": \"lines\", \"line\": {\"color\": \"rgb(20, 0, 145)\", \"width\": 2}}, {\"type\": \"scatter3d\", \"x\": [0, 0.273786], \"y\": [0, 1.887744], \"z\": [0, 0.601216], \"mode\": \"lines\", \"line\": {\"color\": \"rgb(20, 0, 145)\", \"width\": 2}}, {\"type\": \"scatter3d\", \"x\": [0, 0.271696], \"y\": [0, 1.888946], \"z\": [0, 0.598386], \"mode\": \"lines\", \"line\": {\"color\": \"rgb(20, 0, 145)\", \"width\": 2}}, {\"type\": \"scatter3d\", \"x\": [0, 0.274898], \"y\": [0, 1.887502], \"z\": [0, 0.601474], \"mode\": \"lines\", \"line\": {\"color\": \"rgb(20, 0, 145)\", \"width\": 2}}, {\"type\": \"scatter3d\", \"x\": [0, 0.271998], \"y\": [0, 1.888094], \"z\": [0, 0.600932], \"mode\": \"lines\", \"line\": {\"color\": \"rgb(20, 0, 145)\", \"width\": 2}}, {\"type\": \"scatter3d\", \"x\": [0, 0.271998], \"y\": [0, 1.888094], \"z\": [0, 0.600932], \"mode\": \"lines\", \"line\": {\"color\": \"rgb(20, 0, 145)\", \"width\": 2}}, {\"type\": \"scatter3d\", \"x\": [0, 0.27365], \"y\": [0, 1.888156], \"z\": [0, 0.599982], \"mode\": \"lines\", \"line\": {\"color\": \"rgb(20, 0, 145)\", \"width\": 2}}, {\"type\": \"scatter3d\", \"x\": [0, 0.276008], \"y\": [0, 1.88809], \"z\": [0, 0.59911], \"mode\": \"lines\", \"line\": {\"color\": \"rgb(20, 0, 145)\", \"width\": 2}}, {\"type\": \"scatter3d\", \"x\": [0, 0.273884], \"y\": [0, 1.888224], \"z\": [0, 0.599668], \"mode\": \"lines\", \"line\": {\"color\": \"rgb(20, 0, 145)\", \"width\": 2}}, {\"type\": \"scatter3d\", \"x\": [0, 0.268864], \"y\": [0, 1.889626], \"z\": [0, 0.597516], \"mode\": \"lines\", \"line\": {\"color\": \"rgb(20, 0, 145)\", \"width\": 2}}, {\"type\": \"scatter3d\", \"x\": [0, 0.271752], \"y\": [0, 1.888782], \"z\": [0, 0.598876], \"mode\": \"lines\", \"line\": {\"color\": \"rgb(20, 0, 145)\", \"width\": 2}}, {\"type\": \"scatter3d\", \"x\": [0, 0.271752], \"y\": [0, 1.888782], \"z\": [0, 0.598876], \"mode\": \"lines\", \"line\": {\"color\": \"rgb(20, 0, 145)\", \"width\": 2}}, {\"type\": \"scatter3d\", \"x\": [0, 0.27013], \"y\": [0, 1.889274], \"z\": [0, 0.598058], \"mode\": \"lines\", \"line\": {\"color\": \"rgb(20, 0, 145)\", \"width\": 2}}, {\"type\": \"scatter3d\", \"x\": [0, 0.26979], \"y\": [0, 1.88977], \"z\": [0, 0.596642], \"mode\": \"lines\", \"line\": {\"color\": \"rgb(20, 0, 145)\", \"width\": 2}}, {\"type\": \"scatter3d\", \"x\": [0, 0.265828], \"y\": [0, 1.890104], \"z\": [0, 0.59736], \"mode\": \"lines\", \"line\": {\"color\": \"rgb(20, 0, 145)\", \"width\": 2}}, {\"type\": \"scatter3d\", \"x\": [0, 0.269144], \"y\": [0, 1.890274], \"z\": [0, 0.595336], \"mode\": \"lines\", \"line\": {\"color\": \"rgb(20, 0, 145)\", \"width\": 2}}, {\"type\": \"scatter3d\", \"x\": [0, 0.269144], \"y\": [0, 1.890274], \"z\": [0, 0.595336], \"mode\": \"lines\", \"line\": {\"color\": \"rgb(20, 0, 145)\", \"width\": 2}}, {\"type\": \"scatter3d\", \"x\": [0, 0.266572], \"y\": [0, 1.89031], \"z\": [0, 0.596378], \"mode\": \"lines\", \"line\": {\"color\": \"rgb(20, 0, 145)\", \"width\": 2}}, {\"type\": \"scatter3d\", \"x\": [0, 0.265642], \"y\": [0, 1.891054], \"z\": [0, 0.594432], \"mode\": \"lines\", \"line\": {\"color\": \"rgb(20, 0, 145)\", \"width\": 2}}, {\"type\": \"scatter3d\", \"x\": [0, 0.266866], \"y\": [0, 1.890758], \"z\": [0, 0.594824], \"mode\": \"lines\", \"line\": {\"color\": \"rgb(20, 0, 145)\", \"width\": 2}}, {\"type\": \"scatter3d\", \"x\": [0, 0.269438], \"y\": [0, 1.89033], \"z\": [0, 0.595026], \"mode\": \"lines\", \"line\": {\"color\": \"rgb(20, 0, 145)\", \"width\": 2}}, {\"type\": \"scatter3d\", \"x\": [0, 0.269438], \"y\": [0, 1.89033], \"z\": [0, 0.595026], \"mode\": \"lines\", \"line\": {\"color\": \"rgb(20, 0, 145)\", \"width\": 2}}, {\"type\": \"scatter3d\", \"x\": [0, 0.268076], \"y\": [0, 1.889086], \"z\": [0, 0.599578], \"mode\": \"lines\", \"line\": {\"color\": \"rgb(20, 0, 145)\", \"width\": 2}}, {\"type\": \"scatter3d\", \"x\": [0, 0.266102], \"y\": [0, 1.888952], \"z\": [0, 0.600878], \"mode\": \"lines\", \"line\": {\"color\": \"rgb(20, 0, 145)\", \"width\": 2}}, {\"type\": \"scatter3d\", \"x\": [0, 0.266018], \"y\": [0, 1.890248], \"z\": [0, 0.596824], \"mode\": \"lines\", \"line\": {\"color\": \"rgb(20, 0, 145)\", \"width\": 2}}, {\"type\": \"scatter3d\", \"x\": [0, 0.26133], \"y\": [0, 1.889824], \"z\": [0, 0.600228], \"mode\": \"lines\", \"line\": {\"color\": \"rgb(20, 0, 145)\", \"width\": 2}}, {\"type\": \"scatter3d\", \"x\": [0, 0.26133], \"y\": [0, 1.889824], \"z\": [0, 0.600228], \"mode\": \"lines\", \"line\": {\"color\": \"rgb(20, 0, 145)\", \"width\": 2}}, {\"type\": \"scatter3d\", \"x\": [0, 0.26444], \"y\": [0, 1.890584], \"z\": [0, 0.59646], \"mode\": \"lines\", \"line\": {\"color\": \"rgb(20, 0, 145)\", \"width\": 2}}, {\"type\": \"scatter3d\", \"x\": [0, 0.25762], \"y\": [0, 1.891038], \"z\": [0, 0.598002], \"mode\": \"lines\", \"line\": {\"color\": \"rgb(20, 0, 145)\", \"width\": 2}}, {\"type\": \"scatter3d\", \"x\": [0, 0.263304], \"y\": [0, 1.891702], \"z\": [0, 0.593408], \"mode\": \"lines\", \"line\": {\"color\": \"rgb(20, 0, 145)\", \"width\": 2}}, {\"type\": \"scatter3d\", \"x\": [0, 0.257662], \"y\": [0, 1.89154], \"z\": [0, 0.596394], \"mode\": \"lines\", \"line\": {\"color\": \"rgb(20, 0, 145)\", \"width\": 2}}, {\"type\": \"scatter3d\", \"x\": [0, 0.257662], \"y\": [0, 1.89154], \"z\": [0, 0.596394], \"mode\": \"lines\", \"line\": {\"color\": \"rgb(20, 0, 145)\", \"width\": 2}}, {\"type\": \"scatter3d\", \"x\": [0, 0.252914], \"y\": [0, 1.891086], \"z\": [0, 0.599858], \"mode\": \"lines\", \"line\": {\"color\": \"rgb(20, 0, 145)\", \"width\": 2}}, {\"type\": \"scatter3d\", \"x\": [0, 0.25932], \"y\": [0, 1.891124], \"z\": [0, 0.596994], \"mode\": \"lines\", \"line\": {\"color\": \"rgb(20, 0, 145)\", \"width\": 2}}, {\"type\": \"scatter3d\", \"x\": [0, 0.25829], \"y\": [0, 1.890338], \"z\": [0, 0.599926], \"mode\": \"lines\", \"line\": {\"color\": \"rgb(20, 0, 145)\", \"width\": 2}}, {\"type\": \"scatter3d\", \"x\": [0, 0.261856], \"y\": [0, 1.891316], \"z\": [0, 0.595278], \"mode\": \"lines\", \"line\": {\"color\": \"rgb(20, 0, 145)\", \"width\": 2}}, {\"type\": \"scatter3d\", \"x\": [0, 0.261856], \"y\": [0, 1.891316], \"z\": [0, 0.595278], \"mode\": \"lines\", \"line\": {\"color\": \"rgb(20, 0, 145)\", \"width\": 2}}, {\"type\": \"scatter3d\", \"x\": [0, 0.253342], \"y\": [0, 1.890874], \"z\": [0, 0.600342], \"mode\": \"lines\", \"line\": {\"color\": \"rgb(20, 0, 145)\", \"width\": 2}}, {\"type\": \"scatter3d\", \"x\": [0, 0.259448], \"y\": [0, 1.892088], \"z\": [0, 0.59388], \"mode\": \"lines\", \"line\": {\"color\": \"rgb(20, 0, 145)\", \"width\": 2}}, {\"type\": \"scatter3d\", \"x\": [0, 0.256432], \"y\": [0, 1.891122], \"z\": [0, 0.59825], \"mode\": \"lines\", \"line\": {\"color\": \"rgb(20, 0, 145)\", \"width\": 2}}, {\"type\": \"scatter3d\", \"x\": [0, 0.259112], \"y\": [0, 1.891848], \"z\": [0, 0.59479], \"mode\": \"lines\", \"line\": {\"color\": \"rgb(20, 0, 145)\", \"width\": 2}}, {\"type\": \"scatter3d\", \"x\": [0, 0.259112], \"y\": [0, 1.891848], \"z\": [0, 0.59479], \"mode\": \"lines\", \"line\": {\"color\": \"rgb(20, 0, 145)\", \"width\": 2}}, {\"type\": \"scatter3d\", \"x\": [0, 0.260448], \"y\": [0, 1.891594], \"z\": [0, 0.595012], \"mode\": \"lines\", \"line\": {\"color\": \"rgb(20, 0, 145)\", \"width\": 2}}, {\"type\": \"scatter3d\", \"x\": [0, 0.258944], \"y\": [0, 1.890478], \"z\": [0, 0.5992], \"mode\": \"lines\", \"line\": {\"color\": \"rgb(20, 0, 145)\", \"width\": 2}}, {\"type\": \"scatter3d\", \"x\": [0, 0.259556], \"y\": [0, 1.890548], \"z\": [0, 0.598718], \"mode\": \"lines\", \"line\": {\"color\": \"rgb(20, 0, 145)\", \"width\": 2}}, {\"type\": \"scatter3d\", \"x\": [0, 0.258494], \"y\": [0, 1.890722], \"z\": [0, 0.598622], \"mode\": \"lines\", \"line\": {\"color\": \"rgb(20, 0, 145)\", \"width\": 2}}, {\"type\": \"scatter3d\", \"x\": [0, 0.258494], \"y\": [0, 1.890722], \"z\": [0, 0.598622], \"mode\": \"lines\", \"line\": {\"color\": \"rgb(20, 0, 145)\", \"width\": 2}}, {\"type\": \"scatter3d\", \"x\": [0, 0.262066], \"y\": [0, 1.89134], \"z\": [0, 0.59511], \"mode\": \"lines\", \"line\": {\"color\": \"rgb(20, 0, 145)\", \"width\": 2}}, {\"type\": \"scatter3d\", \"x\": [0, 0.25975], \"y\": [0, 1.892004], \"z\": [0, 0.594014], \"mode\": \"lines\", \"line\": {\"color\": \"rgb(20, 0, 145)\", \"width\": 2}}, {\"type\": \"scatter3d\", \"x\": [0, 0.26142], \"y\": [0, 1.890902], \"z\": [0, 0.596782], \"mode\": \"lines\", \"line\": {\"color\": \"rgb(20, 0, 145)\", \"width\": 2}}, {\"type\": \"scatter3d\", \"x\": [0, 0.25713], \"y\": [0, 1.891996], \"z\": [0, 0.595176], \"mode\": \"lines\", \"line\": {\"color\": \"rgb(20, 0, 145)\", \"width\": 2}}, {\"type\": \"scatter3d\", \"x\": [0, 0.25713], \"y\": [0, 1.891996], \"z\": [0, 0.595176], \"mode\": \"lines\", \"line\": {\"color\": \"rgb(20, 0, 145)\", \"width\": 2}}, {\"type\": \"scatter3d\", \"x\": [0, 0.25409], \"y\": [0, 1.89286], \"z\": [0, 0.593732], \"mode\": \"lines\", \"line\": {\"color\": \"rgb(20, 0, 145)\", \"width\": 2}}, {\"type\": \"scatter3d\", \"x\": [0, 0.255862], \"y\": [0, 1.894144], \"z\": [0, 0.58886], \"mode\": \"lines\", \"line\": {\"color\": \"rgb(20, 0, 145)\", \"width\": 2}}, {\"type\": \"scatter3d\", \"x\": [0, 0.255684], \"y\": [0, 1.892954], \"z\": [0, 0.592746], \"mode\": \"lines\", \"line\": {\"color\": \"rgb(20, 0, 145)\", \"width\": 2}}, {\"type\": \"scatter3d\", \"x\": [0, 0.252768], \"y\": [0, 1.893336], \"z\": [0, 0.592778], \"mode\": \"lines\", \"line\": {\"color\": \"rgb(20, 0, 145)\", \"width\": 2}}, {\"type\": \"scatter3d\", \"x\": [0, 0.252768], \"y\": [0, 1.893336], \"z\": [0, 0.592778], \"mode\": \"lines\", \"line\": {\"color\": \"rgb(20, 0, 145)\", \"width\": 2}}, {\"type\": \"scatter3d\", \"x\": [0, 0.25652], \"y\": [0, 1.893192], \"z\": [0, 0.591624], \"mode\": \"lines\", \"line\": {\"color\": \"rgb(20, 0, 145)\", \"width\": 2}}, {\"type\": \"scatter3d\", \"x\": [0, 0.259008], \"y\": [0, 1.892444], \"z\": [0, 0.592936], \"mode\": \"lines\", \"line\": {\"color\": \"rgb(20, 0, 145)\", \"width\": 2}}, {\"type\": \"scatter3d\", \"x\": [0, 0.262102], \"y\": [0, 1.892466], \"z\": [0, 0.591504], \"mode\": \"lines\", \"line\": {\"color\": \"rgb(20, 0, 145)\", \"width\": 2}}, {\"type\": \"scatter3d\", \"x\": [0, 0.262862], \"y\": [0, 1.89324], \"z\": [0, 0.588682], \"mode\": \"lines\", \"line\": {\"color\": \"rgb(20, 0, 145)\", \"width\": 2}}, {\"type\": \"scatter3d\", \"x\": [0, 0.262862], \"y\": [0, 1.89324], \"z\": [0, 0.588682], \"mode\": \"lines\", \"line\": {\"color\": \"rgb(20, 0, 145)\", \"width\": 2}}, {\"type\": \"scatter3d\", \"x\": [0, 0.26107], \"y\": [0, 1.893142], \"z\": [0, 0.589792], \"mode\": \"lines\", \"line\": {\"color\": \"rgb(20, 0, 145)\", \"width\": 2}}, {\"type\": \"scatter3d\", \"x\": [0, 0.265006], \"y\": [0, 1.891914], \"z\": [0, 0.591976], \"mode\": \"lines\", \"line\": {\"color\": \"rgb(20, 0, 145)\", \"width\": 2}}, {\"type\": \"scatter3d\", \"x\": [0, 0.266006], \"y\": [0, 1.89299], \"z\": [0, 0.588072], \"mode\": \"lines\", \"line\": {\"color\": \"rgb(20, 0, 145)\", \"width\": 2}}, {\"type\": \"scatter3d\", \"x\": [0, 0.262988], \"y\": [0, 1.893528], \"z\": [0, 0.587698], \"mode\": \"lines\", \"line\": {\"color\": \"rgb(20, 0, 145)\", \"width\": 2}}, {\"type\": \"scatter3d\", \"x\": [0, 0.262988], \"y\": [0, 1.893528], \"z\": [0, 0.587698], \"mode\": \"lines\", \"line\": {\"color\": \"rgb(20, 0, 145)\", \"width\": 2}}, {\"type\": \"scatter3d\", \"x\": [0, 0.260396], \"y\": [0, 1.892916], \"z\": [0, 0.590816], \"mode\": \"lines\", \"line\": {\"color\": \"rgb(20, 0, 145)\", \"width\": 2}}, {\"type\": \"scatter3d\", \"x\": [0, 0.260738], \"y\": [0, 1.893898], \"z\": [0, 0.587506], \"mode\": \"lines\", \"line\": {\"color\": \"rgb(20, 0, 145)\", \"width\": 2}}, {\"type\": \"scatter3d\", \"x\": [0, 0.256556], \"y\": [0, 1.89562], \"z\": [0, 0.583786], \"mode\": \"lines\", \"line\": {\"color\": \"rgb(20, 0, 145)\", \"width\": 2}}, {\"type\": \"scatter3d\", \"x\": [0, 0.256096], \"y\": [0, 1.895174], \"z\": [0, 0.58543], \"mode\": \"lines\", \"line\": {\"color\": \"rgb(20, 0, 145)\", \"width\": 2}}, {\"type\": \"scatter3d\", \"x\": [0, 0.256096], \"y\": [0, 1.895174], \"z\": [0, 0.58543], \"mode\": \"lines\", \"line\": {\"color\": \"rgb(20, 0, 145)\", \"width\": 2}}, {\"type\": \"scatter3d\", \"x\": [0, 0.261714], \"y\": [0, 1.894534], \"z\": [0, 0.58502], \"mode\": \"lines\", \"line\": {\"color\": \"rgb(20, 0, 145)\", \"width\": 2}}, {\"type\": \"scatter3d\", \"x\": [0, 0.258154], \"y\": [0, 1.894522], \"z\": [0, 0.58664], \"mode\": \"lines\", \"line\": {\"color\": \"rgb(20, 0, 145)\", \"width\": 2}}, {\"type\": \"scatter3d\", \"x\": [0, 0.260638], \"y\": [0, 1.89359], \"z\": [0, 0.588548], \"mode\": \"lines\", \"line\": {\"color\": \"rgb(20, 0, 145)\", \"width\": 2}}, {\"type\": \"scatter3d\", \"x\": [0, 0.25825], \"y\": [0, 1.894206], \"z\": [0, 0.587614], \"mode\": \"lines\", \"line\": {\"color\": \"rgb(20, 0, 145)\", \"width\": 2}}, {\"type\": \"scatter3d\", \"x\": [0, 0.25825], \"y\": [0, 1.894206], \"z\": [0, 0.587614], \"mode\": \"lines\", \"line\": {\"color\": \"rgb(20, 0, 145)\", \"width\": 2}}, {\"type\": \"scatter3d\", \"x\": [0, 0.260422], \"y\": [0, 1.894644], \"z\": [0, 0.585238], \"mode\": \"lines\", \"line\": {\"color\": \"rgb(20, 0, 145)\", \"width\": 2}}, {\"type\": \"scatter3d\", \"x\": [0, 0.258388], \"y\": [0, 1.895576], \"z\": [0, 0.583118], \"mode\": \"lines\", \"line\": {\"color\": \"rgb(20, 0, 145)\", \"width\": 2}}, {\"type\": \"scatter3d\", \"x\": [0, 0.254664], \"y\": [0, 1.895832], \"z\": [0, 0.583926], \"mode\": \"lines\", \"line\": {\"color\": \"rgb(20, 0, 145)\", \"width\": 2}}, {\"type\": \"scatter3d\", \"x\": [0, 0.260202], \"y\": [0, 1.895384], \"z\": [0, 0.582938], \"mode\": \"lines\", \"line\": {\"color\": \"rgb(20, 0, 145)\", \"width\": 2}}, {\"type\": \"scatter3d\", \"x\": [0, 0.260202], \"y\": [0, 1.895384], \"z\": [0, 0.582938], \"mode\": \"lines\", \"line\": {\"color\": \"rgb(20, 0, 145)\", \"width\": 2}}, {\"type\": \"scatter3d\", \"x\": [0], \"y\": [0], \"z\": [0], \"mode\": \"markers\", \"marker\": {\"color\": \"#48186a\", \"size\": 10}}, {\"type\": \"scatter3d\", \"x\": [-0.20000000298023224, 0.0, 0.20000000298023224, -0.20000000298023224, 0.0, 0.20000000298023224, -0.20000000298023224, 0.0, 0.20000000298023224], \"y\": [1.5, 1.5, 1.5, 1.5, 1.5, 1.5, 1.5, 1.5, 1.5], \"z\": [-0.5, -0.5, -0.5, 0.0, 0.0, 0.0, 0.5, 0.5, 0.5], \"mode\": \"markers\", \"marker\": {\"color\": \"rgb(0,144,144)\", \"size\": 5}}], {\"title\": \"Calibration - EIH Space\", \"width\": 800, \"height\": 800, \"showlegend\": false, \"scene\": {\"aspectmode\": \"manual\", \"xaxis\": {\"range\": [-1, 1], \"title\": \"x Axis\"}, \"yaxis\": {\"range\": [-1, 3], \"title\": \"y Axis\"}, \"zaxis\": {\"range\": [-2, 2], \"title\": \"z Axis\"}, \"aspectratio\": {\"x\": 1, \"y\": 1, \"z\": 1}}, \"margin\": {\"t\": 100}, \"hovermode\": \"closest\"}, {\"showLink\": true, \"linkText\": \"Export to plot.ly\"})});</script>"
      ],
      "text/vnd.plotly.v1+html": [
       "<div id=\"0ea884f1-ad91-4432-b2c1-2c597dcf9a1f\" style=\"height: 800px; width: 800px;\" class=\"plotly-graph-div\"></div><script type=\"text/javascript\">require([\"plotly\"], function(Plotly) { window.PLOTLYENV=window.PLOTLYENV || {};window.PLOTLYENV.BASE_URL=\"https://plot.ly\";Plotly.newPlot(\"0ea884f1-ad91-4432-b2c1-2c597dcf9a1f\", [{\"type\": \"scatter3d\", \"x\": [0, -0.258302], \"y\": [0, 1.88447], \"z\": [0, -0.618104], \"mode\": \"lines\", \"line\": {\"color\": \"rgb(20, 0, 145)\", \"width\": 2}}, {\"type\": \"scatter3d\", \"x\": [0, -0.257598], \"y\": [0, 1.886034], \"z\": [0, -0.613614], \"mode\": \"lines\", \"line\": {\"color\": \"rgb(20, 0, 145)\", \"width\": 2}}, {\"type\": \"scatter3d\", \"x\": [0, -0.257598], \"y\": [0, 1.886034], \"z\": [0, -0.613614], \"mode\": \"lines\", \"line\": {\"color\": \"rgb(20, 0, 145)\", \"width\": 2}}, {\"type\": \"scatter3d\", \"x\": [0, -0.259086], \"y\": [0, 1.884134], \"z\": [0, -0.618802], \"mode\": \"lines\", \"line\": {\"color\": \"rgb(20, 0, 145)\", \"width\": 2}}, {\"type\": \"scatter3d\", \"x\": [0, -0.26093], \"y\": [0, 1.884678], \"z\": [0, -0.616366], \"mode\": \"lines\", \"line\": {\"color\": \"rgb(20, 0, 145)\", \"width\": 2}}, {\"type\": \"scatter3d\", \"x\": [0, -0.262744], \"y\": [0, 1.884534], \"z\": [0, -0.616036], \"mode\": \"lines\", \"line\": {\"color\": \"rgb(20, 0, 145)\", \"width\": 2}}, {\"type\": \"scatter3d\", \"x\": [0, -0.258652], \"y\": [0, 1.883452], \"z\": [0, -0.621056], \"mode\": \"lines\", \"line\": {\"color\": \"rgb(20, 0, 145)\", \"width\": 2}}, {\"type\": \"scatter3d\", \"x\": [0, -0.258652], \"y\": [0, 1.883452], \"z\": [0, -0.621056], \"mode\": \"lines\", \"line\": {\"color\": \"rgb(20, 0, 145)\", \"width\": 2}}, {\"type\": \"scatter3d\", \"x\": [0, -0.257008], \"y\": [0, 1.883558], \"z\": [0, -0.621412], \"mode\": \"lines\", \"line\": {\"color\": \"rgb(20, 0, 145)\", \"width\": 2}}, {\"type\": \"scatter3d\", \"x\": [0, -0.258392], \"y\": [0, 1.882908], \"z\": [0, -0.622808], \"mode\": \"lines\", \"line\": {\"color\": \"rgb(20, 0, 145)\", \"width\": 2}}, {\"type\": \"scatter3d\", \"x\": [0, -0.255662], \"y\": [0, 1.883386], \"z\": [0, -0.622492], \"mode\": \"lines\", \"line\": {\"color\": \"rgb(20, 0, 145)\", \"width\": 2}}, {\"type\": \"scatter3d\", \"x\": [0, -0.266306], \"y\": [0, 1.881078], \"z\": [0, -0.625002], \"mode\": \"lines\", \"line\": {\"color\": \"rgb(20, 0, 145)\", \"width\": 2}}, {\"type\": \"scatter3d\", \"x\": [0, -0.266306], \"y\": [0, 1.881078], \"z\": [0, -0.625002], \"mode\": \"lines\", \"line\": {\"color\": \"rgb(20, 0, 145)\", \"width\": 2}}, {\"type\": \"scatter3d\", \"x\": [0, -0.26327], \"y\": [0, 1.881482], \"z\": [0, -0.625072], \"mode\": \"lines\", \"line\": {\"color\": \"rgb(20, 0, 145)\", \"width\": 2}}, {\"type\": \"scatter3d\", \"x\": [0, -0.267388], \"y\": [0, 1.88056], \"z\": [0, -0.626098], \"mode\": \"lines\", \"line\": {\"color\": \"rgb(20, 0, 145)\", \"width\": 2}}, {\"type\": \"scatter3d\", \"x\": [0, -0.264084], \"y\": [0, 1.879454], \"z\": [0, -0.630802], \"mode\": \"lines\", \"line\": {\"color\": \"rgb(20, 0, 145)\", \"width\": 2}}, {\"type\": \"scatter3d\", \"x\": [0, -0.263846], \"y\": [0, 1.88119], \"z\": [0, -0.625706], \"mode\": \"lines\", \"line\": {\"color\": \"rgb(20, 0, 145)\", \"width\": 2}}, {\"type\": \"scatter3d\", \"x\": [0, -0.264598], \"y\": [0, 1.879664], \"z\": [0, -0.629964], \"mode\": \"lines\", \"line\": {\"color\": \"rgb(20, 0, 145)\", \"width\": 2}}, {\"type\": \"scatter3d\", \"x\": [0, -0.264598], \"y\": [0, 1.879664], \"z\": [0, -0.629964], \"mode\": \"lines\", \"line\": {\"color\": \"rgb(20, 0, 145)\", \"width\": 2}}, {\"type\": \"scatter3d\", \"x\": [0, -0.264436], \"y\": [0, 1.880024], \"z\": [0, -0.628952], \"mode\": \"lines\", \"line\": {\"color\": \"rgb(20, 0, 145)\", \"width\": 2}}, {\"type\": \"scatter3d\", \"x\": [0, -0.268784], \"y\": [0, 1.88008], \"z\": [0, -0.626938], \"mode\": \"lines\", \"line\": {\"color\": \"rgb(20, 0, 145)\", \"width\": 2}}, {\"type\": \"scatter3d\", \"x\": [0, -0.26742], \"y\": [0, 1.880908], \"z\": [0, -0.62504], \"mode\": \"lines\", \"line\": {\"color\": \"rgb(20, 0, 145)\", \"width\": 2}}, {\"type\": \"scatter3d\", \"x\": [0, -0.26528], \"y\": [0, 1.881914], \"z\": [0, -0.622918], \"mode\": \"lines\", \"line\": {\"color\": \"rgb(20, 0, 145)\", \"width\": 2}}, {\"type\": \"scatter3d\", \"x\": [0, -0.264488], \"y\": [0, 1.881798], \"z\": [0, -0.623604], \"mode\": \"lines\", \"line\": {\"color\": \"rgb(20, 0, 145)\", \"width\": 2}}, {\"type\": \"scatter3d\", \"x\": [0, -0.264488], \"y\": [0, 1.881798], \"z\": [0, -0.623604], \"mode\": \"lines\", \"line\": {\"color\": \"rgb(20, 0, 145)\", \"width\": 2}}, {\"type\": \"scatter3d\", \"x\": [0, -0.263192], \"y\": [0, 1.88165], \"z\": [0, -0.6246], \"mode\": \"lines\", \"line\": {\"color\": \"rgb(20, 0, 145)\", \"width\": 2}}, {\"type\": \"scatter3d\", \"x\": [0, -0.26344], \"y\": [0, 1.879836], \"z\": [0, -0.629932], \"mode\": \"lines\", \"line\": {\"color\": \"rgb(20, 0, 145)\", \"width\": 2}}, {\"type\": \"scatter3d\", \"x\": [0, -0.262272], \"y\": [0, 1.88191], \"z\": [0, -0.6242], \"mode\": \"lines\", \"line\": {\"color\": \"rgb(20, 0, 145)\", \"width\": 2}}, {\"type\": \"scatter3d\", \"x\": [0, -0.265636], \"y\": [0, 1.881308], \"z\": [0, -0.624596], \"mode\": \"lines\", \"line\": {\"color\": \"rgb(20, 0, 145)\", \"width\": 2}}, {\"type\": \"scatter3d\", \"x\": [0, -0.265636], \"y\": [0, 1.881308], \"z\": [0, -0.624596], \"mode\": \"lines\", \"line\": {\"color\": \"rgb(20, 0, 145)\", \"width\": 2}}, {\"type\": \"scatter3d\", \"x\": [0, -0.265582], \"y\": [0, 1.880652], \"z\": [0, -0.62659], \"mode\": \"lines\", \"line\": {\"color\": \"rgb(20, 0, 145)\", \"width\": 2}}, {\"type\": \"scatter3d\", \"x\": [0, -0.261866], \"y\": [0, 1.881052], \"z\": [0, -0.626952], \"mode\": \"lines\", \"line\": {\"color\": \"rgb(20, 0, 145)\", \"width\": 2}}, {\"type\": \"scatter3d\", \"x\": [0, -0.262534], \"y\": [0, 1.882548], \"z\": [0, -0.622164], \"mode\": \"lines\", \"line\": {\"color\": \"rgb(20, 0, 145)\", \"width\": 2}}, {\"type\": \"scatter3d\", \"x\": [0, -0.262534], \"y\": [0, 1.882548], \"z\": [0, -0.622164], \"mode\": \"lines\", \"line\": {\"color\": \"rgb(20, 0, 145)\", \"width\": 2}}, {\"type\": \"scatter3d\", \"x\": [0, -0.260234], \"y\": [0, 1.882222], \"z\": [0, -0.624114], \"mode\": \"lines\", \"line\": {\"color\": \"rgb(20, 0, 145)\", \"width\": 2}}, {\"type\": \"scatter3d\", \"x\": [0, -0.264262], \"y\": [0, 1.881246], \"z\": [0, -0.625364], \"mode\": \"lines\", \"line\": {\"color\": \"rgb(20, 0, 145)\", \"width\": 2}}, {\"type\": \"scatter3d\", \"x\": [0, -0.258822], \"y\": [0, 1.880954], \"z\": [0, -0.628508], \"mode\": \"lines\", \"line\": {\"color\": \"rgb(20, 0, 145)\", \"width\": 2}}, {\"type\": \"scatter3d\", \"x\": [0, -0.26153], \"y\": [0, 1.88147], \"z\": [0, -0.62584], \"mode\": \"lines\", \"line\": {\"color\": \"rgb(20, 0, 145)\", \"width\": 2}}, {\"type\": \"scatter3d\", \"x\": [0, -0.26153], \"y\": [0, 1.88147], \"z\": [0, -0.62584], \"mode\": \"lines\", \"line\": {\"color\": \"rgb(20, 0, 145)\", \"width\": 2}}, {\"type\": \"scatter3d\", \"x\": [0, -0.26441], \"y\": [0, 1.88005], \"z\": [0, -0.62889], \"mode\": \"lines\", \"line\": {\"color\": \"rgb(20, 0, 145)\", \"width\": 2}}, {\"type\": \"scatter3d\", \"x\": [0, -0.262914], \"y\": [0, 1.880694], \"z\": [0, -0.627586], \"mode\": \"lines\", \"line\": {\"color\": \"rgb(20, 0, 145)\", \"width\": 2}}, {\"type\": \"scatter3d\", \"x\": [0, -0.264796], \"y\": [0, 1.88061], \"z\": [0, -0.627048], \"mode\": \"lines\", \"line\": {\"color\": \"rgb(20, 0, 145)\", \"width\": 2}}, {\"type\": \"scatter3d\", \"x\": [0, -0.260188], \"y\": [0, 1.881156], \"z\": [0, -0.627342], \"mode\": \"lines\", \"line\": {\"color\": \"rgb(20, 0, 145)\", \"width\": 2}}, {\"type\": \"scatter3d\", \"x\": [0, -0.260188], \"y\": [0, 1.881156], \"z\": [0, -0.627342], \"mode\": \"lines\", \"line\": {\"color\": \"rgb(20, 0, 145)\", \"width\": 2}}, {\"type\": \"scatter3d\", \"x\": [0, -0.260338], \"y\": [0, 1.881078], \"z\": [0, -0.627508], \"mode\": \"lines\", \"line\": {\"color\": \"rgb(20, 0, 145)\", \"width\": 2}}, {\"type\": \"scatter3d\", \"x\": [0, -0.260828], \"y\": [0, 1.880534], \"z\": [0, -0.628936], \"mode\": \"lines\", \"line\": {\"color\": \"rgb(20, 0, 145)\", \"width\": 2}}, {\"type\": \"scatter3d\", \"x\": [0, -0.261514], \"y\": [0, 1.880892], \"z\": [0, -0.627578], \"mode\": \"lines\", \"line\": {\"color\": \"rgb(20, 0, 145)\", \"width\": 2}}, {\"type\": \"scatter3d\", \"x\": [0, -0.26247], \"y\": [0, 1.8803], \"z\": [0, -0.628954], \"mode\": \"lines\", \"line\": {\"color\": \"rgb(20, 0, 145)\", \"width\": 2}}, {\"type\": \"scatter3d\", \"x\": [0, -0.26247], \"y\": [0, 1.8803], \"z\": [0, -0.628954], \"mode\": \"lines\", \"line\": {\"color\": \"rgb(20, 0, 145)\", \"width\": 2}}, {\"type\": \"scatter3d\", \"x\": [0, -0.259286], \"y\": [0, 1.880678], \"z\": [0, -0.629142], \"mode\": \"lines\", \"line\": {\"color\": \"rgb(20, 0, 145)\", \"width\": 2}}, {\"type\": \"scatter3d\", \"x\": [0, -0.259694], \"y\": [0, 1.881018], \"z\": [0, -0.627956], \"mode\": \"lines\", \"line\": {\"color\": \"rgb(20, 0, 145)\", \"width\": 2}}, {\"type\": \"scatter3d\", \"x\": [0, -0.25867], \"y\": [0, 1.880976], \"z\": [0, -0.628508], \"mode\": \"lines\", \"line\": {\"color\": \"rgb(20, 0, 145)\", \"width\": 2}}, {\"type\": \"scatter3d\", \"x\": [0, -0.259922], \"y\": [0, 1.881428], \"z\": [0, -0.626634], \"mode\": \"lines\", \"line\": {\"color\": \"rgb(20, 0, 145)\", \"width\": 2}}, {\"type\": \"scatter3d\", \"x\": [0, -0.256304], \"y\": [0, 1.88177], \"z\": [0, -0.627094], \"mode\": \"lines\", \"line\": {\"color\": \"rgb(20, 0, 145)\", \"width\": 2}}, {\"type\": \"scatter3d\", \"x\": [0, -0.256304], \"y\": [0, 1.88177], \"z\": [0, -0.627094], \"mode\": \"lines\", \"line\": {\"color\": \"rgb(20, 0, 145)\", \"width\": 2}}, {\"type\": \"scatter3d\", \"x\": [0, -0.255894], \"y\": [0, 1.881834], \"z\": [0, -0.627072], \"mode\": \"lines\", \"line\": {\"color\": \"rgb(20, 0, 145)\", \"width\": 2}}, {\"type\": \"scatter3d\", \"x\": [0, -0.25711], \"y\": [0, 1.881066], \"z\": [0, -0.628874], \"mode\": \"lines\", \"line\": {\"color\": \"rgb(20, 0, 145)\", \"width\": 2}}, {\"type\": \"scatter3d\", \"x\": [0, -0.25629], \"y\": [0, 1.881194], \"z\": [0, -0.62883], \"mode\": \"lines\", \"line\": {\"color\": \"rgb(20, 0, 145)\", \"width\": 2}}, {\"type\": \"scatter3d\", \"x\": [0, -0.25854], \"y\": [0, 1.88046], \"z\": [0, -0.630102], \"mode\": \"lines\", \"line\": {\"color\": \"rgb(20, 0, 145)\", \"width\": 2}}, {\"type\": \"scatter3d\", \"x\": [0, -0.25854], \"y\": [0, 1.88046], \"z\": [0, -0.630102], \"mode\": \"lines\", \"line\": {\"color\": \"rgb(20, 0, 145)\", \"width\": 2}}, {\"type\": \"scatter3d\", \"x\": [0, -0.255992], \"y\": [0, 1.88169], \"z\": [0, -0.627466], \"mode\": \"lines\", \"line\": {\"color\": \"rgb(20, 0, 145)\", \"width\": 2}}, {\"type\": \"scatter3d\", \"x\": [0, -0.258886], \"y\": [0, 1.880598], \"z\": [0, -0.629548], \"mode\": \"lines\", \"line\": {\"color\": \"rgb(20, 0, 145)\", \"width\": 2}}, {\"type\": \"scatter3d\", \"x\": [0, -0.255818], \"y\": [0, 1.882424], \"z\": [0, -0.62533], \"mode\": \"lines\", \"line\": {\"color\": \"rgb(20, 0, 145)\", \"width\": 2}}, {\"type\": \"scatter3d\", \"x\": [0, -0.254714], \"y\": [0, 1.882514], \"z\": [0, -0.625508], \"mode\": \"lines\", \"line\": {\"color\": \"rgb(20, 0, 145)\", \"width\": 2}}, {\"type\": \"scatter3d\", \"x\": [0, -0.254714], \"y\": [0, 1.882514], \"z\": [0, -0.625508], \"mode\": \"lines\", \"line\": {\"color\": \"rgb(20, 0, 145)\", \"width\": 2}}, {\"type\": \"scatter3d\", \"x\": [0, -0.254464], \"y\": [0, 1.882096], \"z\": [0, -0.626864], \"mode\": \"lines\", \"line\": {\"color\": \"rgb(20, 0, 145)\", \"width\": 2}}, {\"type\": \"scatter3d\", \"x\": [0, -0.249782], \"y\": [0, 1.88397], \"z\": [0, -0.62311], \"mode\": \"lines\", \"line\": {\"color\": \"rgb(20, 0, 145)\", \"width\": 2}}, {\"type\": \"scatter3d\", \"x\": [0, -0.253246], \"y\": [0, 1.882786], \"z\": [0, -0.625286], \"mode\": \"lines\", \"line\": {\"color\": \"rgb(20, 0, 145)\", \"width\": 2}}, {\"type\": \"scatter3d\", \"x\": [0, -0.253246], \"y\": [0, 1.882786], \"z\": [0, -0.625286], \"mode\": \"lines\", \"line\": {\"color\": \"rgb(20, 0, 145)\", \"width\": 2}}, {\"type\": \"scatter3d\", \"x\": [0, -0.258584], \"y\": [0, 1.884434], \"z\": [0, -0.618096], \"mode\": \"lines\", \"line\": {\"color\": \"rgb(20, 0, 145)\", \"width\": 2}}, {\"type\": \"scatter3d\", \"x\": [0, -0.259678], \"y\": [0, 1.885474], \"z\": [0, -0.614458], \"mode\": \"lines\", \"line\": {\"color\": \"rgb(20, 0, 145)\", \"width\": 2}}, {\"type\": \"scatter3d\", \"x\": [0, -0.256704], \"y\": [0, 1.885314], \"z\": [0, -0.616192], \"mode\": \"lines\", \"line\": {\"color\": \"rgb(20, 0, 145)\", \"width\": 2}}, {\"type\": \"scatter3d\", \"x\": [0, -0.255714], \"y\": [0, 1.886168], \"z\": [0, -0.613986], \"mode\": \"lines\", \"line\": {\"color\": \"rgb(20, 0, 145)\", \"width\": 2}}, {\"type\": \"scatter3d\", \"x\": [0, -0.255642], \"y\": [0, 1.885792], \"z\": [0, -0.615174], \"mode\": \"lines\", \"line\": {\"color\": \"rgb(20, 0, 145)\", \"width\": 2}}, {\"type\": \"scatter3d\", \"x\": [0, -0.255642], \"y\": [0, 1.885792], \"z\": [0, -0.615174], \"mode\": \"lines\", \"line\": {\"color\": \"rgb(20, 0, 145)\", \"width\": 2}}, {\"type\": \"scatter3d\", \"x\": [0, -0.258122], \"y\": [0, 1.885292], \"z\": [0, -0.615668], \"mode\": \"lines\", \"line\": {\"color\": \"rgb(20, 0, 145)\", \"width\": 2}}, {\"type\": \"scatter3d\", \"x\": [0, -0.255508], \"y\": [0, 1.886888], \"z\": [0, -0.611856], \"mode\": \"lines\", \"line\": {\"color\": \"rgb(20, 0, 145)\", \"width\": 2}}, {\"type\": \"scatter3d\", \"x\": [0, -0.253754], \"y\": [0, 1.884302], \"z\": [0, -0.620496], \"mode\": \"lines\", \"line\": {\"color\": \"rgb(20, 0, 145)\", \"width\": 2}}, {\"type\": \"scatter3d\", \"x\": [0, -0.253754], \"y\": [0, 1.884302], \"z\": [0, -0.620496], \"mode\": \"lines\", \"line\": {\"color\": \"rgb(20, 0, 145)\", \"width\": 2}}, {\"type\": \"scatter3d\", \"x\": [0, -0.25578], \"y\": [0, 1.88416], \"z\": [0, -0.620094], \"mode\": \"lines\", \"line\": {\"color\": \"rgb(20, 0, 145)\", \"width\": 2}}, {\"type\": \"scatter3d\", \"x\": [0, -0.255996], \"y\": [0, 1.884508], \"z\": [0, -0.618948], \"mode\": \"lines\", \"line\": {\"color\": \"rgb(20, 0, 145)\", \"width\": 2}}, {\"type\": \"scatter3d\", \"x\": [0, -0.253586], \"y\": [0, 1.885034], \"z\": [0, -0.618338], \"mode\": \"lines\", \"line\": {\"color\": \"rgb(20, 0, 145)\", \"width\": 2}}, {\"type\": \"scatter3d\", \"x\": [0, -0.250784], \"y\": [0, 1.88532], \"z\": [0, -0.61861], \"mode\": \"lines\", \"line\": {\"color\": \"rgb(20, 0, 145)\", \"width\": 2}}, {\"type\": \"scatter3d\", \"x\": [0, -0.250784], \"y\": [0, 1.88532], \"z\": [0, -0.61861], \"mode\": \"lines\", \"line\": {\"color\": \"rgb(20, 0, 145)\", \"width\": 2}}, {\"type\": \"scatter3d\", \"x\": [0, -0.254034], \"y\": [0, 1.88564], \"z\": [0, -0.616304], \"mode\": \"lines\", \"line\": {\"color\": \"rgb(20, 0, 145)\", \"width\": 2}}, {\"type\": \"scatter3d\", \"x\": [0, -0.258406], \"y\": [0, 1.88303], \"z\": [0, -0.622434], \"mode\": \"lines\", \"line\": {\"color\": \"rgb(20, 0, 145)\", \"width\": 2}}, {\"type\": \"scatter3d\", \"x\": [0, -0.250358], \"y\": [0, 1.88488], \"z\": [0, -0.620116], \"mode\": \"lines\", \"line\": {\"color\": \"rgb(20, 0, 145)\", \"width\": 2}}, {\"type\": \"scatter3d\", \"x\": [0, -0.24949], \"y\": [0, 1.88449], \"z\": [0, -0.62165], \"mode\": \"lines\", \"line\": {\"color\": \"rgb(20, 0, 145)\", \"width\": 2}}, {\"type\": \"scatter3d\", \"x\": [0, -0.24949], \"y\": [0, 1.88449], \"z\": [0, -0.62165], \"mode\": \"lines\", \"line\": {\"color\": \"rgb(20, 0, 145)\", \"width\": 2}}, {\"type\": \"scatter3d\", \"x\": [0, -0.24981], \"y\": [0, 1.884636], \"z\": [0, -0.621084], \"mode\": \"lines\", \"line\": {\"color\": \"rgb(20, 0, 145)\", \"width\": 2}}, {\"type\": \"scatter3d\", \"x\": [0, -0.249778], \"y\": [0, 1.885448], \"z\": [0, -0.618624], \"mode\": \"lines\", \"line\": {\"color\": \"rgb(20, 0, 145)\", \"width\": 2}}, {\"type\": \"scatter3d\", \"x\": [0, -0.245978], \"y\": [0, 1.884886], \"z\": [0, -0.62185], \"mode\": \"lines\", \"line\": {\"color\": \"rgb(20, 0, 145)\", \"width\": 2}}, {\"type\": \"scatter3d\", \"x\": [0, -0.249828], \"y\": [0, 1.883854], \"z\": [0, -0.623442], \"mode\": \"lines\", \"line\": {\"color\": \"rgb(20, 0, 145)\", \"width\": 2}}, {\"type\": \"scatter3d\", \"x\": [0, -0.249828], \"y\": [0, 1.883854], \"z\": [0, -0.623442], \"mode\": \"lines\", \"line\": {\"color\": \"rgb(20, 0, 145)\", \"width\": 2}}, {\"type\": \"scatter3d\", \"x\": [0, -0.242876], \"y\": [0, 1.883844], \"z\": [0, -0.62621], \"mode\": \"lines\", \"line\": {\"color\": \"rgb(20, 0, 145)\", \"width\": 2}}, {\"type\": \"scatter3d\", \"x\": [0, -0.242876], \"y\": [0, 1.883844], \"z\": [0, -0.62621], \"mode\": \"lines\", \"line\": {\"color\": \"rgb(20, 0, 145)\", \"width\": 2}}, {\"type\": \"scatter3d\", \"x\": [0, -0.233912], \"y\": [0, 1.888026], \"z\": [0, -0.61696], \"mode\": \"lines\", \"line\": {\"color\": \"rgb(20, 0, 145)\", \"width\": 2}}, {\"type\": \"scatter3d\", \"x\": [0, -0.234684], \"y\": [0, 1.886378], \"z\": [0, -0.621694], \"mode\": \"lines\", \"line\": {\"color\": \"rgb(20, 0, 145)\", \"width\": 2}}, {\"type\": \"scatter3d\", \"x\": [0, -0.234684], \"y\": [0, 1.886378], \"z\": [0, -0.621694], \"mode\": \"lines\", \"line\": {\"color\": \"rgb(20, 0, 145)\", \"width\": 2}}, {\"type\": \"scatter3d\", \"x\": [0, -0.237642], \"y\": [0, 1.88705], \"z\": [0, -0.618522], \"mode\": \"lines\", \"line\": {\"color\": \"rgb(20, 0, 145)\", \"width\": 2}}, {\"type\": \"scatter3d\", \"x\": [0, -0.01359276], \"y\": [0, 1.89159], \"z\": [0, -0.649386], \"mode\": \"lines\", \"line\": {\"color\": \"rgb(20, 0, 145)\", \"width\": 2}}, {\"type\": \"scatter3d\", \"x\": [0, -0.01144308], \"y\": [0, 1.891418], \"z\": [0, -0.649928], \"mode\": \"lines\", \"line\": {\"color\": \"rgb(20, 0, 145)\", \"width\": 2}}, {\"type\": \"scatter3d\", \"x\": [0, -0.01144308], \"y\": [0, 1.891418], \"z\": [0, -0.649928], \"mode\": \"lines\", \"line\": {\"color\": \"rgb(20, 0, 145)\", \"width\": 2}}, {\"type\": \"scatter3d\", \"x\": [0, -0.01008678], \"y\": [0, 1.891688], \"z\": [0, -0.649164], \"mode\": \"lines\", \"line\": {\"color\": \"rgb(20, 0, 145)\", \"width\": 2}}, {\"type\": \"scatter3d\", \"x\": [0, -0.01158798], \"y\": [0, 1.893084], \"z\": [0, -0.645058], \"mode\": \"lines\", \"line\": {\"color\": \"rgb(20, 0, 145)\", \"width\": 2}}, {\"type\": \"scatter3d\", \"x\": [0, -0.0084648], \"y\": [0, 1.891022], \"z\": [0, -0.651124], \"mode\": \"lines\", \"line\": {\"color\": \"rgb(20, 0, 145)\", \"width\": 2}}, {\"type\": \"scatter3d\", \"x\": [0, -0.00836622], \"y\": [0, 1.893934], \"z\": [0, -0.642604], \"mode\": \"lines\", \"line\": {\"color\": \"rgb(20, 0, 145)\", \"width\": 2}}, {\"type\": \"scatter3d\", \"x\": [0, -0.0138453], \"y\": [0, 1.891124], \"z\": [0, -0.650738], \"mode\": \"lines\", \"line\": {\"color\": \"rgb(20, 0, 145)\", \"width\": 2}}, {\"type\": \"scatter3d\", \"x\": [0, -0.0138453], \"y\": [0, 1.891124], \"z\": [0, -0.650738], \"mode\": \"lines\", \"line\": {\"color\": \"rgb(20, 0, 145)\", \"width\": 2}}, {\"type\": \"scatter3d\", \"x\": [0, -0.00890144], \"y\": [0, 1.892824], \"z\": [0, -0.645864], \"mode\": \"lines\", \"line\": {\"color\": \"rgb(20, 0, 145)\", \"width\": 2}}, {\"type\": \"scatter3d\", \"x\": [0, -0.0089996], \"y\": [0, 1.893944], \"z\": [0, -0.642568], \"mode\": \"lines\", \"line\": {\"color\": \"rgb(20, 0, 145)\", \"width\": 2}}, {\"type\": \"scatter3d\", \"x\": [0, -0.01204646], \"y\": [0, 1.8907], \"z\": [0, -0.652002], \"mode\": \"lines\", \"line\": {\"color\": \"rgb(20, 0, 145)\", \"width\": 2}}, {\"type\": \"scatter3d\", \"x\": [0, -0.01204646], \"y\": [0, 1.8907], \"z\": [0, -0.652002], \"mode\": \"lines\", \"line\": {\"color\": \"rgb(20, 0, 145)\", \"width\": 2}}, {\"type\": \"scatter3d\", \"x\": [0, -0.00955072], \"y\": [0, 1.890366], \"z\": [0, -0.653014], \"mode\": \"lines\", \"line\": {\"color\": \"rgb(20, 0, 145)\", \"width\": 2}}, {\"type\": \"scatter3d\", \"x\": [0, -0.01735642], \"y\": [0, 1.89007], \"z\": [0, -0.653708], \"mode\": \"lines\", \"line\": {\"color\": \"rgb(20, 0, 145)\", \"width\": 2}}, {\"type\": \"scatter3d\", \"x\": [0, -0.01230984], \"y\": [0, 1.889296], \"z\": [0, -0.656056], \"mode\": \"lines\", \"line\": {\"color\": \"rgb(20, 0, 145)\", \"width\": 2}}, {\"type\": \"scatter3d\", \"x\": [0, -0.01434466], \"y\": [0, 1.888296], \"z\": [0, -0.658884], \"mode\": \"lines\", \"line\": {\"color\": \"rgb(20, 0, 145)\", \"width\": 2}}, {\"type\": \"scatter3d\", \"x\": [0, -0.01315174], \"y\": [0, 1.889812], \"z\": [0, -0.65455], \"mode\": \"lines\", \"line\": {\"color\": \"rgb(20, 0, 145)\", \"width\": 2}}, {\"type\": \"scatter3d\", \"x\": [0, -0.01315174], \"y\": [0, 1.889812], \"z\": [0, -0.65455], \"mode\": \"lines\", \"line\": {\"color\": \"rgb(20, 0, 145)\", \"width\": 2}}, {\"type\": \"scatter3d\", \"x\": [0, -0.01117448], \"y\": [0, 1.891112], \"z\": [0, -0.650824], \"mode\": \"lines\", \"line\": {\"color\": \"rgb(20, 0, 145)\", \"width\": 2}}, {\"type\": \"scatter3d\", \"x\": [0, -0.00998916], \"y\": [0, 1.889844], \"z\": [0, -0.654512], \"mode\": \"lines\", \"line\": {\"color\": \"rgb(20, 0, 145)\", \"width\": 2}}, {\"type\": \"scatter3d\", \"x\": [0, -0.01255968], \"y\": [0, 1.889282], \"z\": [0, -0.656088], \"mode\": \"lines\", \"line\": {\"color\": \"rgb(20, 0, 145)\", \"width\": 2}}, {\"type\": \"scatter3d\", \"x\": [0, -0.01255968], \"y\": [0, 1.889282], \"z\": [0, -0.656088], \"mode\": \"lines\", \"line\": {\"color\": \"rgb(20, 0, 145)\", \"width\": 2}}, {\"type\": \"scatter3d\", \"x\": [0, -0.00562716], \"y\": [0, 1.890116], \"z\": [0, -0.653782], \"mode\": \"lines\", \"line\": {\"color\": \"rgb(20, 0, 145)\", \"width\": 2}}, {\"type\": \"scatter3d\", \"x\": [0, -0.00961856], \"y\": [0, 1.8899], \"z\": [0, -0.65436], \"mode\": \"lines\", \"line\": {\"color\": \"rgb(20, 0, 145)\", \"width\": 2}}, {\"type\": \"scatter3d\", \"x\": [0, -0.0104028], \"y\": [0, 1.890166], \"z\": [0, -0.653578], \"mode\": \"lines\", \"line\": {\"color\": \"rgb(20, 0, 145)\", \"width\": 2}}, {\"type\": \"scatter3d\", \"x\": [0, -0.01097408], \"y\": [0, 1.888712], \"z\": [0, -0.657758], \"mode\": \"lines\", \"line\": {\"color\": \"rgb(20, 0, 145)\", \"width\": 2}}, {\"type\": \"scatter3d\", \"x\": [0, -0.01097408], \"y\": [0, 1.888712], \"z\": [0, -0.657758], \"mode\": \"lines\", \"line\": {\"color\": \"rgb(20, 0, 145)\", \"width\": 2}}, {\"type\": \"scatter3d\", \"x\": [0, -0.01255564], \"y\": [0, 1.888142], \"z\": [0, -0.659362], \"mode\": \"lines\", \"line\": {\"color\": \"rgb(20, 0, 145)\", \"width\": 2}}, {\"type\": \"scatter3d\", \"x\": [0, -0.01064284], \"y\": [0, 1.888134], \"z\": [0, -0.659422], \"mode\": \"lines\", \"line\": {\"color\": \"rgb(20, 0, 145)\", \"width\": 2}}, {\"type\": \"scatter3d\", \"x\": [0, -0.01299558], \"y\": [0, 1.88749], \"z\": [0, -0.661218], \"mode\": \"lines\", \"line\": {\"color\": \"rgb(20, 0, 145)\", \"width\": 2}}, {\"type\": \"scatter3d\", \"x\": [0, -0.0124644], \"y\": [0, 1.887272], \"z\": [0, -0.661854], \"mode\": \"lines\", \"line\": {\"color\": \"rgb(20, 0, 145)\", \"width\": 2}}, {\"type\": \"scatter3d\", \"x\": [0, -0.01303322], \"y\": [0, 1.888454], \"z\": [0, -0.658462], \"mode\": \"lines\", \"line\": {\"color\": \"rgb(20, 0, 145)\", \"width\": 2}}, {\"type\": \"scatter3d\", \"x\": [0, -0.01303322], \"y\": [0, 1.888454], \"z\": [0, -0.658462], \"mode\": \"lines\", \"line\": {\"color\": \"rgb(20, 0, 145)\", \"width\": 2}}, {\"type\": \"scatter3d\", \"x\": [0, -0.01445224], \"y\": [0, 1.88653], \"z\": [0, -0.663926], \"mode\": \"lines\", \"line\": {\"color\": \"rgb(20, 0, 145)\", \"width\": 2}}, {\"type\": \"scatter3d\", \"x\": [0, -0.01766026], \"y\": [0, 1.886334], \"z\": [0, -0.664402], \"mode\": \"lines\", \"line\": {\"color\": \"rgb(20, 0, 145)\", \"width\": 2}}, {\"type\": \"scatter3d\", \"x\": [0, -0.0242596], \"y\": [0, 1.88675], \"z\": [0, -0.663014], \"mode\": \"lines\", \"line\": {\"color\": \"rgb(20, 0, 145)\", \"width\": 2}}, {\"type\": \"scatter3d\", \"x\": [0, -0.0251978], \"y\": [0, 1.885556], \"z\": [0, -0.666366], \"mode\": \"lines\", \"line\": {\"color\": \"rgb(20, 0, 145)\", \"width\": 2}}, {\"type\": \"scatter3d\", \"x\": [0, -0.0238566], \"y\": [0, 1.88675], \"z\": [0, -0.663026], \"mode\": \"lines\", \"line\": {\"color\": \"rgb(20, 0, 145)\", \"width\": 2}}, {\"type\": \"scatter3d\", \"x\": [0, -0.0227464], \"y\": [0, 1.887454], \"z\": [0, -0.661062], \"mode\": \"lines\", \"line\": {\"color\": \"rgb(20, 0, 145)\", \"width\": 2}}, {\"type\": \"scatter3d\", \"x\": [0, -0.0262374], \"y\": [0, 1.88656], \"z\": [0, -0.663476], \"mode\": \"lines\", \"line\": {\"color\": \"rgb(20, 0, 145)\", \"width\": 2}}, {\"type\": \"scatter3d\", \"x\": [0, -0.0135913], \"y\": [0, 1.887226], \"z\": [0, -0.661962], \"mode\": \"lines\", \"line\": {\"color\": \"rgb(20, 0, 145)\", \"width\": 2}}, {\"type\": \"scatter3d\", \"x\": [0, -0.01502344], \"y\": [0, 1.884438], \"z\": [0, -0.669826], \"mode\": \"lines\", \"line\": {\"color\": \"rgb(20, 0, 145)\", \"width\": 2}}, {\"type\": \"scatter3d\", \"x\": [0, -0.01763126], \"y\": [0, 1.882684], \"z\": [0, -0.67468], \"mode\": \"lines\", \"line\": {\"color\": \"rgb(20, 0, 145)\", \"width\": 2}}, {\"type\": \"scatter3d\", \"x\": [0, -0.01899352], \"y\": [0, 1.88333], \"z\": [0, -0.672838], \"mode\": \"lines\", \"line\": {\"color\": \"rgb(20, 0, 145)\", \"width\": 2}}, {\"type\": \"scatter3d\", \"x\": [0, -0.01483978], \"y\": [0, 1.883576], \"z\": [0, -0.672248], \"mode\": \"lines\", \"line\": {\"color\": \"rgb(20, 0, 145)\", \"width\": 2}}, {\"type\": \"scatter3d\", \"x\": [0, -0.0253452], \"y\": [0, 1.88026], \"z\": [0, -0.68116], \"mode\": \"lines\", \"line\": {\"color\": \"rgb(20, 0, 145)\", \"width\": 2}}, {\"type\": \"scatter3d\", \"x\": [0, -0.0253452], \"y\": [0, 1.88026], \"z\": [0, -0.68116], \"mode\": \"lines\", \"line\": {\"color\": \"rgb(20, 0, 145)\", \"width\": 2}}, {\"type\": \"scatter3d\", \"x\": [0, -0.0228706], \"y\": [0, 1.87956], \"z\": [0, -0.683178], \"mode\": \"lines\", \"line\": {\"color\": \"rgb(20, 0, 145)\", \"width\": 2}}, {\"type\": \"scatter3d\", \"x\": [0, -0.0203358], \"y\": [0, 1.87862], \"z\": [0, -0.685838], \"mode\": \"lines\", \"line\": {\"color\": \"rgb(20, 0, 145)\", \"width\": 2}}, {\"type\": \"scatter3d\", \"x\": [0, -0.0256216], \"y\": [0, 1.877976], \"z\": [0, -0.687424], \"mode\": \"lines\", \"line\": {\"color\": \"rgb(20, 0, 145)\", \"width\": 2}}, {\"type\": \"scatter3d\", \"x\": [0, -0.025691], \"y\": [0, 1.877486], \"z\": [0, -0.688758], \"mode\": \"lines\", \"line\": {\"color\": \"rgb(20, 0, 145)\", \"width\": 2}}, {\"type\": \"scatter3d\", \"x\": [0, -0.025691], \"y\": [0, 1.877486], \"z\": [0, -0.688758], \"mode\": \"lines\", \"line\": {\"color\": \"rgb(20, 0, 145)\", \"width\": 2}}, {\"type\": \"scatter3d\", \"x\": [0, -0.0228546], \"y\": [0, 1.878534], \"z\": [0, -0.685996], \"mode\": \"lines\", \"line\": {\"color\": \"rgb(20, 0, 145)\", \"width\": 2}}, {\"type\": \"scatter3d\", \"x\": [0, -0.0247962], \"y\": [0, 1.877752], \"z\": [0, -0.688064], \"mode\": \"lines\", \"line\": {\"color\": \"rgb(20, 0, 145)\", \"width\": 2}}, {\"type\": \"scatter3d\", \"x\": [0, -0.0250124], \"y\": [0, 1.877824], \"z\": [0, -0.687858], \"mode\": \"lines\", \"line\": {\"color\": \"rgb(20, 0, 145)\", \"width\": 2}}, {\"type\": \"scatter3d\", \"x\": [0, -0.025733], \"y\": [0, 1.877578], \"z\": [0, -0.688504], \"mode\": \"lines\", \"line\": {\"color\": \"rgb(20, 0, 145)\", \"width\": 2}}, {\"type\": \"scatter3d\", \"x\": [0, -0.025733], \"y\": [0, 1.877578], \"z\": [0, -0.688504], \"mode\": \"lines\", \"line\": {\"color\": \"rgb(20, 0, 145)\", \"width\": 2}}, {\"type\": \"scatter3d\", \"x\": [0, -0.0272442], \"y\": [0, 1.876548], \"z\": [0, -0.691248], \"mode\": \"lines\", \"line\": {\"color\": \"rgb(20, 0, 145)\", \"width\": 2}}, {\"type\": \"scatter3d\", \"x\": [0, -0.029519], \"y\": [0, 1.875672], \"z\": [0, -0.69353], \"mode\": \"lines\", \"line\": {\"color\": \"rgb(20, 0, 145)\", \"width\": 2}}, {\"type\": \"scatter3d\", \"x\": [0, -0.0330256], \"y\": [0, 1.874552], \"z\": [0, -0.69639], \"mode\": \"lines\", \"line\": {\"color\": \"rgb(20, 0, 145)\", \"width\": 2}}, {\"type\": \"scatter3d\", \"x\": [0, -0.0330256], \"y\": [0, 1.874552], \"z\": [0, -0.69639], \"mode\": \"lines\", \"line\": {\"color\": \"rgb(20, 0, 145)\", \"width\": 2}}, {\"type\": \"scatter3d\", \"x\": [0, -0.0332258], \"y\": [0, 1.876214], \"z\": [0, -0.691892], \"mode\": \"lines\", \"line\": {\"color\": \"rgb(20, 0, 145)\", \"width\": 2}}, {\"type\": \"scatter3d\", \"x\": [0, -0.0282792], \"y\": [0, 1.875552], \"z\": [0, -0.693904], \"mode\": \"lines\", \"line\": {\"color\": \"rgb(20, 0, 145)\", \"width\": 2}}, {\"type\": \"scatter3d\", \"x\": [0, -0.027656], \"y\": [0, 1.881402], \"z\": [0, -0.677912], \"mode\": \"lines\", \"line\": {\"color\": \"rgb(20, 0, 145)\", \"width\": 2}}, {\"type\": \"scatter3d\", \"x\": [0, -0.028457], \"y\": [0, 1.88014], \"z\": [0, -0.681372], \"mode\": \"lines\", \"line\": {\"color\": \"rgb(20, 0, 145)\", \"width\": 2}}, {\"type\": \"scatter3d\", \"x\": [0, -0.0230146], \"y\": [0, 1.880792], \"z\": [0, -0.679776], \"mode\": \"lines\", \"line\": {\"color\": \"rgb(20, 0, 145)\", \"width\": 2}}, {\"type\": \"scatter3d\", \"x\": [0, -0.0230146], \"y\": [0, 1.880792], \"z\": [0, -0.679776], \"mode\": \"lines\", \"line\": {\"color\": \"rgb(20, 0, 145)\", \"width\": 2}}, {\"type\": \"scatter3d\", \"x\": [0, -0.0238006], \"y\": [0, 1.88177], \"z\": [0, -0.677032], \"mode\": \"lines\", \"line\": {\"color\": \"rgb(20, 0, 145)\", \"width\": 2}}, {\"type\": \"scatter3d\", \"x\": [0, -0.0226066], \"y\": [0, 1.880698], \"z\": [0, -0.680044], \"mode\": \"lines\", \"line\": {\"color\": \"rgb(20, 0, 145)\", \"width\": 2}}, {\"type\": \"scatter3d\", \"x\": [0, -0.0206544], \"y\": [0, 1.88062], \"z\": [0, -0.680324], \"mode\": \"lines\", \"line\": {\"color\": \"rgb(20, 0, 145)\", \"width\": 2}}, {\"type\": \"scatter3d\", \"x\": [0, -0.0206544], \"y\": [0, 1.88062], \"z\": [0, -0.680324], \"mode\": \"lines\", \"line\": {\"color\": \"rgb(20, 0, 145)\", \"width\": 2}}, {\"type\": \"scatter3d\", \"x\": [0, -0.0230328], \"y\": [0, 1.878908], \"z\": [0, -0.684964], \"mode\": \"lines\", \"line\": {\"color\": \"rgb(20, 0, 145)\", \"width\": 2}}, {\"type\": \"scatter3d\", \"x\": [0, -0.0228144], \"y\": [0, 1.876896], \"z\": [0, -0.690466], \"mode\": \"lines\", \"line\": {\"color\": \"rgb(20, 0, 145)\", \"width\": 2}}, {\"type\": \"scatter3d\", \"x\": [0, -0.0249658], \"y\": [0, 1.87822], \"z\": [0, -0.686782], \"mode\": \"lines\", \"line\": {\"color\": \"rgb(20, 0, 145)\", \"width\": 2}}, {\"type\": \"scatter3d\", \"x\": [0, -0.029402], \"y\": [0, 1.87712], \"z\": [0, -0.689604], \"mode\": \"lines\", \"line\": {\"color\": \"rgb(20, 0, 145)\", \"width\": 2}}, {\"type\": \"scatter3d\", \"x\": [0, -0.0262146], \"y\": [0, 1.880586], \"z\": [0, -0.680226], \"mode\": \"lines\", \"line\": {\"color\": \"rgb(20, 0, 145)\", \"width\": 2}}, {\"type\": \"scatter3d\", \"x\": [0, -0.0262146], \"y\": [0, 1.880586], \"z\": [0, -0.680226], \"mode\": \"lines\", \"line\": {\"color\": \"rgb(20, 0, 145)\", \"width\": 2}}, {\"type\": \"scatter3d\", \"x\": [0, -0.0283382], \"y\": [0, 1.87636], \"z\": [0, -0.691718], \"mode\": \"lines\", \"line\": {\"color\": \"rgb(20, 0, 145)\", \"width\": 2}}, {\"type\": \"scatter3d\", \"x\": [0, -0.0286582], \"y\": [0, 1.877942], \"z\": [0, -0.687392], \"mode\": \"lines\", \"line\": {\"color\": \"rgb(20, 0, 145)\", \"width\": 2}}, {\"type\": \"scatter3d\", \"x\": [0, -0.0333506], \"y\": [0, 1.876084], \"z\": [0, -0.692238], \"mode\": \"lines\", \"line\": {\"color\": \"rgb(20, 0, 145)\", \"width\": 2}}, {\"type\": \"scatter3d\", \"x\": [0, -0.0305434], \"y\": [0, 1.877336], \"z\": [0, -0.68897], \"mode\": \"lines\", \"line\": {\"color\": \"rgb(20, 0, 145)\", \"width\": 2}}, {\"type\": \"scatter3d\", \"x\": [0, -0.0305434], \"y\": [0, 1.877336], \"z\": [0, -0.68897], \"mode\": \"lines\", \"line\": {\"color\": \"rgb(20, 0, 145)\", \"width\": 2}}, {\"type\": \"scatter3d\", \"x\": [0, -0.0261594], \"y\": [0, 1.88191], \"z\": [0, -0.676558], \"mode\": \"lines\", \"line\": {\"color\": \"rgb(20, 0, 145)\", \"width\": 2}}, {\"type\": \"scatter3d\", \"x\": [0, -0.0304356], \"y\": [0, 1.87764], \"z\": [0, -0.688142], \"mode\": \"lines\", \"line\": {\"color\": \"rgb(20, 0, 145)\", \"width\": 2}}, {\"type\": \"scatter3d\", \"x\": [0, -0.0294076], \"y\": [0, 1.87633], \"z\": [0, -0.69175], \"mode\": \"lines\", \"line\": {\"color\": \"rgb(20, 0, 145)\", \"width\": 2}}, {\"type\": \"scatter3d\", \"x\": [0, -0.0294076], \"y\": [0, 1.87633], \"z\": [0, -0.69175], \"mode\": \"lines\", \"line\": {\"color\": \"rgb(20, 0, 145)\", \"width\": 2}}, {\"type\": \"scatter3d\", \"x\": [0, -0.0277582], \"y\": [0, 1.87939], \"z\": [0, -0.683462], \"mode\": \"lines\", \"line\": {\"color\": \"rgb(20, 0, 145)\", \"width\": 2}}, {\"type\": \"scatter3d\", \"x\": [0, -0.0252112], \"y\": [0, 1.882074], \"z\": [0, -0.676136], \"mode\": \"lines\", \"line\": {\"color\": \"rgb(20, 0, 145)\", \"width\": 2}}, {\"type\": \"scatter3d\", \"x\": [0, -0.0240952], \"y\": [0, 1.882932], \"z\": [0, -0.673784], \"mode\": \"lines\", \"line\": {\"color\": \"rgb(20, 0, 145)\", \"width\": 2}}, {\"type\": \"scatter3d\", \"x\": [0, -0.0263378], \"y\": [0, 1.882276], \"z\": [0, -0.675534], \"mode\": \"lines\", \"line\": {\"color\": \"rgb(20, 0, 145)\", \"width\": 2}}, {\"type\": \"scatter3d\", \"x\": [0, -0.0232486], \"y\": [0, 1.885784], \"z\": [0, -0.665792], \"mode\": \"lines\", \"line\": {\"color\": \"rgb(20, 0, 145)\", \"width\": 2}}, {\"type\": \"scatter3d\", \"x\": [0, -0.0232486], \"y\": [0, 1.885784], \"z\": [0, -0.665792], \"mode\": \"lines\", \"line\": {\"color\": \"rgb(20, 0, 145)\", \"width\": 2}}, {\"type\": \"scatter3d\", \"x\": [0, -0.0246028], \"y\": [0, 1.884774], \"z\": [0, -0.668596], \"mode\": \"lines\", \"line\": {\"color\": \"rgb(20, 0, 145)\", \"width\": 2}}, {\"type\": \"scatter3d\", \"x\": [0, -0.0212168], \"y\": [0, 1.88167], \"z\": [0, -0.677398], \"mode\": \"lines\", \"line\": {\"color\": \"rgb(20, 0, 145)\", \"width\": 2}}, {\"type\": \"scatter3d\", \"x\": [0, -0.0256154], \"y\": [0, 1.878948], \"z\": [0, -0.68476], \"mode\": \"lines\", \"line\": {\"color\": \"rgb(20, 0, 145)\", \"width\": 2}}, {\"type\": \"scatter3d\", \"x\": [0, -0.0268664], \"y\": [0, 1.879786], \"z\": [0, -0.682412], \"mode\": \"lines\", \"line\": {\"color\": \"rgb(20, 0, 145)\", \"width\": 2}}, {\"type\": \"scatter3d\", \"x\": [0, -0.0268664], \"y\": [0, 1.879786], \"z\": [0, -0.682412], \"mode\": \"lines\", \"line\": {\"color\": \"rgb(20, 0, 145)\", \"width\": 2}}, {\"type\": \"scatter3d\", \"x\": [0, -0.0276834], \"y\": [0, 1.880082], \"z\": [0, -0.68156], \"mode\": \"lines\", \"line\": {\"color\": \"rgb(20, 0, 145)\", \"width\": 2}}, {\"type\": \"scatter3d\", \"x\": [0, -0.0251716], \"y\": [0, 1.879824], \"z\": [0, -0.682368], \"mode\": \"lines\", \"line\": {\"color\": \"rgb(20, 0, 145)\", \"width\": 2}}, {\"type\": \"scatter3d\", \"x\": [0, 0.1963716], \"y\": [0, 1.879678], \"z\": [0, -0.654406], \"mode\": \"lines\", \"line\": {\"color\": \"rgb(20, 0, 145)\", \"width\": 2}}, {\"type\": \"scatter3d\", \"x\": [0, 0.1923424], \"y\": [0, 1.878452], \"z\": [0, -0.659108], \"mode\": \"lines\", \"line\": {\"color\": \"rgb(20, 0, 145)\", \"width\": 2}}, {\"type\": \"scatter3d\", \"x\": [0, 0.1923424], \"y\": [0, 1.878452], \"z\": [0, -0.659108], \"mode\": \"lines\", \"line\": {\"color\": \"rgb(20, 0, 145)\", \"width\": 2}}, {\"type\": \"scatter3d\", \"x\": [0, 0.190139], \"y\": [0, 1.88102], \"z\": [0, -0.652392], \"mode\": \"lines\", \"line\": {\"color\": \"rgb(20, 0, 145)\", \"width\": 2}}, {\"type\": \"scatter3d\", \"x\": [0, 0.1920304], \"y\": [0, 1.881468], \"z\": [0, -0.650542], \"mode\": \"lines\", \"line\": {\"color\": \"rgb(20, 0, 145)\", \"width\": 2}}, {\"type\": \"scatter3d\", \"x\": [0, 0.1857408], \"y\": [0, 1.879244], \"z\": [0, -0.658742], \"mode\": \"lines\", \"line\": {\"color\": \"rgb(20, 0, 145)\", \"width\": 2}}, {\"type\": \"scatter3d\", \"x\": [0, 0.191738], \"y\": [0, 1.881058], \"z\": [0, -0.651812], \"mode\": \"lines\", \"line\": {\"color\": \"rgb(20, 0, 145)\", \"width\": 2}}, {\"type\": \"scatter3d\", \"x\": [0, 0.1797566], \"y\": [0, 1.882612], \"z\": [0, -0.65074], \"mode\": \"lines\", \"line\": {\"color\": \"rgb(20, 0, 145)\", \"width\": 2}}, {\"type\": \"scatter3d\", \"x\": [0, 0.1797566], \"y\": [0, 1.882612], \"z\": [0, -0.65074], \"mode\": \"lines\", \"line\": {\"color\": \"rgb(20, 0, 145)\", \"width\": 2}}, {\"type\": \"scatter3d\", \"x\": [0, 0.1909882], \"y\": [0, 1.885214], \"z\": [0, -0.639918], \"mode\": \"lines\", \"line\": {\"color\": \"rgb(20, 0, 145)\", \"width\": 2}}, {\"type\": \"scatter3d\", \"x\": [0, 0.184482], \"y\": [0, 1.882596], \"z\": [0, -0.64946], \"mode\": \"lines\", \"line\": {\"color\": \"rgb(20, 0, 145)\", \"width\": 2}}, {\"type\": \"scatter3d\", \"x\": [0, 0.184482], \"y\": [0, 1.882596], \"z\": [0, -0.64946], \"mode\": \"lines\", \"line\": {\"color\": \"rgb(20, 0, 145)\", \"width\": 2}}, {\"type\": \"scatter3d\", \"x\": [0, 0.1799268], \"y\": [0, 1.883464], \"z\": [0, -0.648222], \"mode\": \"lines\", \"line\": {\"color\": \"rgb(20, 0, 145)\", \"width\": 2}}, {\"type\": \"scatter3d\", \"x\": [0, 0.188701], \"y\": [0, 1.883178], \"z\": [0, -0.646556], \"mode\": \"lines\", \"line\": {\"color\": \"rgb(20, 0, 145)\", \"width\": 2}}, {\"type\": \"scatter3d\", \"x\": [0, 0.1742866], \"y\": [0, 1.885036], \"z\": [0, -0.645184], \"mode\": \"lines\", \"line\": {\"color\": \"rgb(20, 0, 145)\", \"width\": 2}}, {\"type\": \"scatter3d\", \"x\": [0, 0.1847546], \"y\": [0, 1.884592], \"z\": [0, -0.64357], \"mode\": \"lines\", \"line\": {\"color\": \"rgb(20, 0, 145)\", \"width\": 2}}, {\"type\": \"scatter3d\", \"x\": [0, 0.1806858], \"y\": [0, 1.882164], \"z\": [0, -0.651778], \"mode\": \"lines\", \"line\": {\"color\": \"rgb(20, 0, 145)\", \"width\": 2}}, {\"type\": \"scatter3d\", \"x\": [0, 0.1806858], \"y\": [0, 1.882164], \"z\": [0, -0.651778], \"mode\": \"lines\", \"line\": {\"color\": \"rgb(20, 0, 145)\", \"width\": 2}}, {\"type\": \"scatter3d\", \"x\": [0, 0.1756114], \"y\": [0, 1.883334], \"z\": [0, -0.649782], \"mode\": \"lines\", \"line\": {\"color\": \"rgb(20, 0, 145)\", \"width\": 2}}, {\"type\": \"scatter3d\", \"x\": [0, 0.1831328], \"y\": [0, 1.880812], \"z\": [0, -0.65499], \"mode\": \"lines\", \"line\": {\"color\": \"rgb(20, 0, 145)\", \"width\": 2}}, {\"type\": \"scatter3d\", \"x\": [0, 0.1747332], \"y\": [0, 1.881662], \"z\": [0, -0.654842], \"mode\": \"lines\", \"line\": {\"color\": \"rgb(20, 0, 145)\", \"width\": 2}}, {\"type\": \"scatter3d\", \"x\": [0, 0.1747332], \"y\": [0, 1.881662], \"z\": [0, -0.654842], \"mode\": \"lines\", \"line\": {\"color\": \"rgb(20, 0, 145)\", \"width\": 2}}, {\"type\": \"scatter3d\", \"x\": [0, 0.187586], \"y\": [0, 1.885078], \"z\": [0, -0.641324], \"mode\": \"lines\", \"line\": {\"color\": \"rgb(20, 0, 145)\", \"width\": 2}}, {\"type\": \"scatter3d\", \"x\": [0, 0.1943228], \"y\": [0, 1.88347], \"z\": [0, -0.644032], \"mode\": \"lines\", \"line\": {\"color\": \"rgb(20, 0, 145)\", \"width\": 2}}, {\"type\": \"scatter3d\", \"x\": [0, 0.200712], \"y\": [0, 1.882838], \"z\": [0, -0.643924], \"mode\": \"lines\", \"line\": {\"color\": \"rgb(20, 0, 145)\", \"width\": 2}}, {\"type\": \"scatter3d\", \"x\": [0, 0.195385], \"y\": [0, 1.880614], \"z\": [0, -0.65201], \"mode\": \"lines\", \"line\": {\"color\": \"rgb(20, 0, 145)\", \"width\": 2}}, {\"type\": \"scatter3d\", \"x\": [0, 0.199628], \"y\": [0, 1.879734], \"z\": [0, -0.653262], \"mode\": \"lines\", \"line\": {\"color\": \"rgb(20, 0, 145)\", \"width\": 2}}, {\"type\": \"scatter3d\", \"x\": [0, 0.199628], \"y\": [0, 1.879734], \"z\": [0, -0.653262], \"mode\": \"lines\", \"line\": {\"color\": \"rgb(20, 0, 145)\", \"width\": 2}}, {\"type\": \"scatter3d\", \"x\": [0, 0.201838], \"y\": [0, 1.881146], \"z\": [0, -0.6485], \"mode\": \"lines\", \"line\": {\"color\": \"rgb(20, 0, 145)\", \"width\": 2}}, {\"type\": \"scatter3d\", \"x\": [0, 0.1991992], \"y\": [0, 1.878644], \"z\": [0, -0.656518], \"mode\": \"lines\", \"line\": {\"color\": \"rgb(20, 0, 145)\", \"width\": 2}}, {\"type\": \"scatter3d\", \"x\": [0, 0.1976472], \"y\": [0, 1.879014], \"z\": [0, -0.65593], \"mode\": \"lines\", \"line\": {\"color\": \"rgb(20, 0, 145)\", \"width\": 2}}, {\"type\": \"scatter3d\", \"x\": [0, 0.1955962], \"y\": [0, 1.88132], \"z\": [0, -0.649906], \"mode\": \"lines\", \"line\": {\"color\": \"rgb(20, 0, 145)\", \"width\": 2}}, {\"type\": \"scatter3d\", \"x\": [0, 0.1980534], \"y\": [0, 1.879114], \"z\": [0, -0.65552], \"mode\": \"lines\", \"line\": {\"color\": \"rgb(20, 0, 145)\", \"width\": 2}}, {\"type\": \"scatter3d\", \"x\": [0, 0.1934168], \"y\": [0, 1.879468], \"z\": [0, -0.655892], \"mode\": \"lines\", \"line\": {\"color\": \"rgb(20, 0, 145)\", \"width\": 2}}, {\"type\": \"scatter3d\", \"x\": [0, 0.1957368], \"y\": [0, 1.880958], \"z\": [0, -0.65091], \"mode\": \"lines\", \"line\": {\"color\": \"rgb(20, 0, 145)\", \"width\": 2}}, {\"type\": \"scatter3d\", \"x\": [0, 0.1957368], \"y\": [0, 1.880958], \"z\": [0, -0.65091], \"mode\": \"lines\", \"line\": {\"color\": \"rgb(20, 0, 145)\", \"width\": 2}}, {\"type\": \"scatter3d\", \"x\": [0, 0.1880838], \"y\": [0, 1.880126], \"z\": [0, -0.655556], \"mode\": \"lines\", \"line\": {\"color\": \"rgb(20, 0, 145)\", \"width\": 2}}, {\"type\": \"scatter3d\", \"x\": [0, 0.180787], \"y\": [0, 1.879874], \"z\": [0, -0.658322], \"mode\": \"lines\", \"line\": {\"color\": \"rgb(20, 0, 145)\", \"width\": 2}}, {\"type\": \"scatter3d\", \"x\": [0, 0.1728852], \"y\": [0, 1.878908], \"z\": [0, -0.663188], \"mode\": \"lines\", \"line\": {\"color\": \"rgb(20, 0, 145)\", \"width\": 2}}, {\"type\": \"scatter3d\", \"x\": [0, 0.1819476], \"y\": [0, 1.881686], \"z\": [0, -0.6528], \"mode\": \"lines\", \"line\": {\"color\": \"rgb(20, 0, 145)\", \"width\": 2}}, {\"type\": \"scatter3d\", \"x\": [0, 0.1769688], \"y\": [0, 1.878992], \"z\": [0, -0.661868], \"mode\": \"lines\", \"line\": {\"color\": \"rgb(20, 0, 145)\", \"width\": 2}}, {\"type\": \"scatter3d\", \"x\": [0, 0.1769688], \"y\": [0, 1.878992], \"z\": [0, -0.661868], \"mode\": \"lines\", \"line\": {\"color\": \"rgb(20, 0, 145)\", \"width\": 2}}, {\"type\": \"scatter3d\", \"x\": [0, 0.1809554], \"y\": [0, 1.882734], \"z\": [0, -0.650052], \"mode\": \"lines\", \"line\": {\"color\": \"rgb(20, 0, 145)\", \"width\": 2}}, {\"type\": \"scatter3d\", \"x\": [0, 0.173271], \"y\": [0, 1.882296], \"z\": [0, -0.653406], \"mode\": \"lines\", \"line\": {\"color\": \"rgb(20, 0, 145)\", \"width\": 2}}, {\"type\": \"scatter3d\", \"x\": [0, 0.1800972], \"y\": [0, 1.88272], \"z\": [0, -0.650328], \"mode\": \"lines\", \"line\": {\"color\": \"rgb(20, 0, 145)\", \"width\": 2}}, {\"type\": \"scatter3d\", \"x\": [0, 0.1800972], \"y\": [0, 1.88272], \"z\": [0, -0.650328], \"mode\": \"lines\", \"line\": {\"color\": \"rgb(20, 0, 145)\", \"width\": 2}}, {\"type\": \"scatter3d\", \"x\": [0, 0.1765818], \"y\": [0, 1.88282], \"z\": [0, -0.651004], \"mode\": \"lines\", \"line\": {\"color\": \"rgb(20, 0, 145)\", \"width\": 2}}, {\"type\": \"scatter3d\", \"x\": [0, 0.1735354], \"y\": [0, 1.881208], \"z\": [0, -0.656462], \"mode\": \"lines\", \"line\": {\"color\": \"rgb(20, 0, 145)\", \"width\": 2}}, {\"type\": \"scatter3d\", \"x\": [0, 0.1782484], \"y\": [0, 1.880126], \"z\": [0, -0.658296], \"mode\": \"lines\", \"line\": {\"color\": \"rgb(20, 0, 145)\", \"width\": 2}}, {\"type\": \"scatter3d\", \"x\": [0, 0.1696922], \"y\": [0, 1.879782], \"z\": [0, -0.661532], \"mode\": \"lines\", \"line\": {\"color\": \"rgb(20, 0, 145)\", \"width\": 2}}, {\"type\": \"scatter3d\", \"x\": [0, 0.1858136], \"y\": [0, 1.883406], \"z\": [0, -0.64673], \"mode\": \"lines\", \"line\": {\"color\": \"rgb(20, 0, 145)\", \"width\": 2}}, {\"type\": \"scatter3d\", \"x\": [0, 0.1858136], \"y\": [0, 1.883406], \"z\": [0, -0.64673], \"mode\": \"lines\", \"line\": {\"color\": \"rgb(20, 0, 145)\", \"width\": 2}}, {\"type\": \"scatter3d\", \"x\": [0, 0.1759298], \"y\": [0, 1.883128], \"z\": [0, -0.650288], \"mode\": \"lines\", \"line\": {\"color\": \"rgb(20, 0, 145)\", \"width\": 2}}, {\"type\": \"scatter3d\", \"x\": [0, 0.1775746], \"y\": [0, 1.884164], \"z\": [0, -0.646834], \"mode\": \"lines\", \"line\": {\"color\": \"rgb(20, 0, 145)\", \"width\": 2}}, {\"type\": \"scatter3d\", \"x\": [0, 0.1709468], \"y\": [0, 1.882546], \"z\": [0, -0.653298], \"mode\": \"lines\", \"line\": {\"color\": \"rgb(20, 0, 145)\", \"width\": 2}}, {\"type\": \"scatter3d\", \"x\": [0, 0.1743166], \"y\": [0, 1.880786], \"z\": [0, -0.657466], \"mode\": \"lines\", \"line\": {\"color\": \"rgb(20, 0, 145)\", \"width\": 2}}, {\"type\": \"scatter3d\", \"x\": [0, 0.1743166], \"y\": [0, 1.880786], \"z\": [0, -0.657466], \"mode\": \"lines\", \"line\": {\"color\": \"rgb(20, 0, 145)\", \"width\": 2}}, {\"type\": \"scatter3d\", \"x\": [0, 0.177672], \"y\": [0, 1.880868], \"z\": [0, -0.656326], \"mode\": \"lines\", \"line\": {\"color\": \"rgb(20, 0, 145)\", \"width\": 2}}, {\"type\": \"scatter3d\", \"x\": [0, 0.1683256], \"y\": [0, 1.880794], \"z\": [0, -0.659002], \"mode\": \"lines\", \"line\": {\"color\": \"rgb(20, 0, 145)\", \"width\": 2}}, {\"type\": \"scatter3d\", \"x\": [0, 0.1832526], \"y\": [0, 1.882104], \"z\": [0, -0.651234], \"mode\": \"lines\", \"line\": {\"color\": \"rgb(20, 0, 145)\", \"width\": 2}}, {\"type\": \"scatter3d\", \"x\": [0, 0.1745826], \"y\": [0, 1.881414], \"z\": [0, -0.65559], \"mode\": \"lines\", \"line\": {\"color\": \"rgb(20, 0, 145)\", \"width\": 2}}, {\"type\": \"scatter3d\", \"x\": [0, 0.1745826], \"y\": [0, 1.881414], \"z\": [0, -0.65559], \"mode\": \"lines\", \"line\": {\"color\": \"rgb(20, 0, 145)\", \"width\": 2}}, {\"type\": \"scatter3d\", \"x\": [0, 0.1783842], \"y\": [0, 1.882674], \"z\": [0, -0.650934], \"mode\": \"lines\", \"line\": {\"color\": \"rgb(20, 0, 145)\", \"width\": 2}}, {\"type\": \"scatter3d\", \"x\": [0, 0.1777044], \"y\": [0, 1.881292], \"z\": [0, -0.655106], \"mode\": \"lines\", \"line\": {\"color\": \"rgb(20, 0, 145)\", \"width\": 2}}, {\"type\": \"scatter3d\", \"x\": [0, 0.1725028], \"y\": [0, 1.881968], \"z\": [0, -0.65455], \"mode\": \"lines\", \"line\": {\"color\": \"rgb(20, 0, 145)\", \"width\": 2}}, {\"type\": \"scatter3d\", \"x\": [0, 0.1838968], \"y\": [0, 1.883458], \"z\": [0, -0.647122], \"mode\": \"lines\", \"line\": {\"color\": \"rgb(20, 0, 145)\", \"width\": 2}}, {\"type\": \"scatter3d\", \"x\": [0, 0.1838968], \"y\": [0, 1.883458], \"z\": [0, -0.647122], \"mode\": \"lines\", \"line\": {\"color\": \"rgb(20, 0, 145)\", \"width\": 2}}, {\"type\": \"scatter3d\", \"x\": [0, 0.1738764], \"y\": [0, 1.881126], \"z\": [0, -0.656608], \"mode\": \"lines\", \"line\": {\"color\": \"rgb(20, 0, 145)\", \"width\": 2}}, {\"type\": \"scatter3d\", \"x\": [0, 0.1769566], \"y\": [0, 1.88268], \"z\": [0, -0.651308], \"mode\": \"lines\", \"line\": {\"color\": \"rgb(20, 0, 145)\", \"width\": 2}}, {\"type\": \"scatter3d\", \"x\": [0, 0.1782786], \"y\": [0, 1.880774], \"z\": [0, -0.656434], \"mode\": \"lines\", \"line\": {\"color\": \"rgb(20, 0, 145)\", \"width\": 2}}, {\"type\": \"scatter3d\", \"x\": [0, 0.1816604], \"y\": [0, 1.884054], \"z\": [0, -0.64602], \"mode\": \"lines\", \"line\": {\"color\": \"rgb(20, 0, 145)\", \"width\": 2}}, {\"type\": \"scatter3d\", \"x\": [0, 0.1816604], \"y\": [0, 1.884054], \"z\": [0, -0.64602], \"mode\": \"lines\", \"line\": {\"color\": \"rgb(20, 0, 145)\", \"width\": 2}}, {\"type\": \"scatter3d\", \"x\": [0, 0.1840016], \"y\": [0, 1.880996], \"z\": [0, -0.654216], \"mode\": \"lines\", \"line\": {\"color\": \"rgb(20, 0, 145)\", \"width\": 2}}, {\"type\": \"scatter3d\", \"x\": [0, 0.1705586], \"y\": [0, 1.879134], \"z\": [0, -0.66315], \"mode\": \"lines\", \"line\": {\"color\": \"rgb(20, 0, 145)\", \"width\": 2}}, {\"type\": \"scatter3d\", \"x\": [0, 0.1859962], \"y\": [0, 1.879742], \"z\": [0, -0.65725], \"mode\": \"lines\", \"line\": {\"color\": \"rgb(20, 0, 145)\", \"width\": 2}}, {\"type\": \"scatter3d\", \"x\": [0, 0.1726786], \"y\": [0, 1.880018], \"z\": [0, -0.660086], \"mode\": \"lines\", \"line\": {\"color\": \"rgb(20, 0, 145)\", \"width\": 2}}, {\"type\": \"scatter3d\", \"x\": [0, 0.1726786], \"y\": [0, 1.880018], \"z\": [0, -0.660086], \"mode\": \"lines\", \"line\": {\"color\": \"rgb(20, 0, 145)\", \"width\": 2}}, {\"type\": \"scatter3d\", \"x\": [0, 0.1816886], \"y\": [0, 1.881256], \"z\": [0, -0.654112], \"mode\": \"lines\", \"line\": {\"color\": \"rgb(20, 0, 145)\", \"width\": 2}}, {\"type\": \"scatter3d\", \"x\": [0, 0.1754976], \"y\": [0, 1.881082], \"z\": [0, -0.6563], \"mode\": \"lines\", \"line\": {\"color\": \"rgb(20, 0, 145)\", \"width\": 2}}, {\"type\": \"scatter3d\", \"x\": [0, 0.1794558], \"y\": [0, 1.881922], \"z\": [0, -0.652814], \"mode\": \"lines\", \"line\": {\"color\": \"rgb(20, 0, 145)\", \"width\": 2}}, {\"type\": \"scatter3d\", \"x\": [0, 0.1817726], \"y\": [0, 1.881048], \"z\": [0, -0.654692], \"mode\": \"lines\", \"line\": {\"color\": \"rgb(20, 0, 145)\", \"width\": 2}}, {\"type\": \"scatter3d\", \"x\": [0, 0.1817726], \"y\": [0, 1.881048], \"z\": [0, -0.654692], \"mode\": \"lines\", \"line\": {\"color\": \"rgb(20, 0, 145)\", \"width\": 2}}, {\"type\": \"scatter3d\", \"x\": [0, 0.1774742], \"y\": [0, 1.881656], \"z\": [0, -0.654124], \"mode\": \"lines\", \"line\": {\"color\": \"rgb(20, 0, 145)\", \"width\": 2}}, {\"type\": \"scatter3d\", \"x\": [0, 0.1830008], \"y\": [0, 1.881072], \"z\": [0, -0.654276], \"mode\": \"lines\", \"line\": {\"color\": \"rgb(20, 0, 145)\", \"width\": 2}}, {\"type\": \"scatter3d\", \"x\": [0, 0.1814004], \"y\": [0, 1.88208], \"z\": [0, -0.651818], \"mode\": \"lines\", \"line\": {\"color\": \"rgb(20, 0, 145)\", \"width\": 2}}, {\"type\": \"scatter3d\", \"x\": [0, 0.184693], \"y\": [0, 1.883244], \"z\": [0, -0.64752], \"mode\": \"lines\", \"line\": {\"color\": \"rgb(20, 0, 145)\", \"width\": 2}}, {\"type\": \"scatter3d\", \"x\": [0, 0.184693], \"y\": [0, 1.883244], \"z\": [0, -0.64752], \"mode\": \"lines\", \"line\": {\"color\": \"rgb(20, 0, 145)\", \"width\": 2}}, {\"type\": \"scatter3d\", \"x\": [0, 0.1868988], \"y\": [0, 1.882152], \"z\": [0, -0.650058], \"mode\": \"lines\", \"line\": {\"color\": \"rgb(20, 0, 145)\", \"width\": 2}}, {\"type\": \"scatter3d\", \"x\": [0, 0.1838012], \"y\": [0, 1.882714], \"z\": [0, -0.649314], \"mode\": \"lines\", \"line\": {\"color\": \"rgb(20, 0, 145)\", \"width\": 2}}, {\"type\": \"scatter3d\", \"x\": [0, 0.1931156], \"y\": [0, 1.883246], \"z\": [0, -0.645054], \"mode\": \"lines\", \"line\": {\"color\": \"rgb(20, 0, 145)\", \"width\": 2}}, {\"type\": \"scatter3d\", \"x\": [0, 0.1821232], \"y\": [0, 1.880656], \"z\": [0, -0.655714], \"mode\": \"lines\", \"line\": {\"color\": \"rgb(20, 0, 145)\", \"width\": 2}}, {\"type\": \"scatter3d\", \"x\": [0, 0.1930616], \"y\": [0, 1.884134], \"z\": [0, -0.64247], \"mode\": \"lines\", \"line\": {\"color\": \"rgb(20, 0, 145)\", \"width\": 2}}, {\"type\": \"scatter3d\", \"x\": [0, 0.1930616], \"y\": [0, 1.884134], \"z\": [0, -0.64247], \"mode\": \"lines\", \"line\": {\"color\": \"rgb(20, 0, 145)\", \"width\": 2}}, {\"type\": \"scatter3d\", \"x\": [0, 0.1837508], \"y\": [0, 1.881326], \"z\": [0, -0.653334], \"mode\": \"lines\", \"line\": {\"color\": \"rgb(20, 0, 145)\", \"width\": 2}}, {\"type\": \"scatter3d\", \"x\": [0, 0.1810272], \"y\": [0, 1.880826], \"z\": [0, -0.65553], \"mode\": \"lines\", \"line\": {\"color\": \"rgb(20, 0, 145)\", \"width\": 2}}, {\"type\": \"scatter3d\", \"x\": [0, 0.1810272], \"y\": [0, 1.880826], \"z\": [0, -0.65553], \"mode\": \"lines\", \"line\": {\"color\": \"rgb(20, 0, 145)\", \"width\": 2}}, {\"type\": \"scatter3d\", \"x\": [0, 0.1893624], \"y\": [0, 1.882218], \"z\": [0, -0.649152], \"mode\": \"lines\", \"line\": {\"color\": \"rgb(20, 0, 145)\", \"width\": 2}}, {\"type\": \"scatter3d\", \"x\": [0, 0.1834808], \"y\": [0, 1.881626], \"z\": [0, -0.65255], \"mode\": \"lines\", \"line\": {\"color\": \"rgb(20, 0, 145)\", \"width\": 2}}, {\"type\": \"scatter3d\", \"x\": [0, 0.1876198], \"y\": [0, 1.883232], \"z\": [0, -0.64671], \"mode\": \"lines\", \"line\": {\"color\": \"rgb(20, 0, 145)\", \"width\": 2}}, {\"type\": \"scatter3d\", \"x\": [0, 0.1808108], \"y\": [0, 1.882998], \"z\": [0, -0.64933], \"mode\": \"lines\", \"line\": {\"color\": \"rgb(20, 0, 145)\", \"width\": 2}}, {\"type\": \"scatter3d\", \"x\": [0, -0.226612], \"y\": [0, 1.987118], \"z\": [0, -0.00251254], \"mode\": \"lines\", \"line\": {\"color\": \"rgb(20, 0, 145)\", \"width\": 2}}, {\"type\": \"scatter3d\", \"x\": [0, -0.226612], \"y\": [0, 1.987118], \"z\": [0, -0.00251254], \"mode\": \"lines\", \"line\": {\"color\": \"rgb(20, 0, 145)\", \"width\": 2}}, {\"type\": \"scatter3d\", \"x\": [0, -0.222148], \"y\": [0, 1.98762], \"z\": [0, -0.00387968], \"mode\": \"lines\", \"line\": {\"color\": \"rgb(20, 0, 145)\", \"width\": 2}}, {\"type\": \"scatter3d\", \"x\": [0, -0.241238], \"y\": [0, 1.985394], \"z\": [0, -0.00365654], \"mode\": \"lines\", \"line\": {\"color\": \"rgb(20, 0, 145)\", \"width\": 2}}, {\"type\": \"scatter3d\", \"x\": [0, -0.23576], \"y\": [0, 1.986054], \"z\": [0, -0.003094], \"mode\": \"lines\", \"line\": {\"color\": \"rgb(20, 0, 145)\", \"width\": 2}}, {\"type\": \"scatter3d\", \"x\": [0, -0.239658], \"y\": [0, 1.985578], \"z\": [0, -0.00675102], \"mode\": \"lines\", \"line\": {\"color\": \"rgb(20, 0, 145)\", \"width\": 2}}, {\"type\": \"scatter3d\", \"x\": [0, -0.239658], \"y\": [0, 1.985578], \"z\": [0, -0.00675102], \"mode\": \"lines\", \"line\": {\"color\": \"rgb(20, 0, 145)\", \"width\": 2}}, {\"type\": \"scatter3d\", \"x\": [0, -0.236348], \"y\": [0, 1.985978], \"z\": [0, -0.0057792], \"mode\": \"lines\", \"line\": {\"color\": \"rgb(20, 0, 145)\", \"width\": 2}}, {\"type\": \"scatter3d\", \"x\": [0, -0.239894], \"y\": [0, 1.98554], \"z\": [0, -0.00922258], \"mode\": \"lines\", \"line\": {\"color\": \"rgb(20, 0, 145)\", \"width\": 2}}, {\"type\": \"scatter3d\", \"x\": [0, -0.2337], \"y\": [0, 1.986294], \"z\": [0, -0.00410312], \"mode\": \"lines\", \"line\": {\"color\": \"rgb(20, 0, 145)\", \"width\": 2}}, {\"type\": \"scatter3d\", \"x\": [0, -0.237162], \"y\": [0, 1.985872], \"z\": [0, -0.00842036], \"mode\": \"lines\", \"line\": {\"color\": \"rgb(20, 0, 145)\", \"width\": 2}}, {\"type\": \"scatter3d\", \"x\": [0, -0.236944], \"y\": [0, 1.98591], \"z\": [0, -0.00469172], \"mode\": \"lines\", \"line\": {\"color\": \"rgb(20, 0, 145)\", \"width\": 2}}, {\"type\": \"scatter3d\", \"x\": [0, -0.236944], \"y\": [0, 1.98591], \"z\": [0, -0.00469172], \"mode\": \"lines\", \"line\": {\"color\": \"rgb(20, 0, 145)\", \"width\": 2}}, {\"type\": \"scatter3d\", \"x\": [0, -0.236234], \"y\": [0, 1.985946], \"z\": [0, -0.01459638], \"mode\": \"lines\", \"line\": {\"color\": \"rgb(20, 0, 145)\", \"width\": 2}}, {\"type\": \"scatter3d\", \"x\": [0, -0.232248], \"y\": [0, 1.986454], \"z\": [0, -0.00796142], \"mode\": \"lines\", \"line\": {\"color\": \"rgb(20, 0, 145)\", \"width\": 2}}, {\"type\": \"scatter3d\", \"x\": [0, -0.231858], \"y\": [0, 1.986484], \"z\": [0, -0.01100466], \"mode\": \"lines\", \"line\": {\"color\": \"rgb(20, 0, 145)\", \"width\": 2}}, {\"type\": \"scatter3d\", \"x\": [0, -0.231858], \"y\": [0, 1.986484], \"z\": [0, -0.01100466], \"mode\": \"lines\", \"line\": {\"color\": \"rgb(20, 0, 145)\", \"width\": 2}}, {\"type\": \"scatter3d\", \"x\": [0, -0.23951], \"y\": [0, 1.985588], \"z\": [0, -0.008758], \"mode\": \"lines\", \"line\": {\"color\": \"rgb(20, 0, 145)\", \"width\": 2}}, {\"type\": \"scatter3d\", \"x\": [0, -0.23147], \"y\": [0, 1.986528], \"z\": [0, -0.01120332], \"mode\": \"lines\", \"line\": {\"color\": \"rgb(20, 0, 145)\", \"width\": 2}}, {\"type\": \"scatter3d\", \"x\": [0, -0.23147], \"y\": [0, 1.986528], \"z\": [0, -0.01120332], \"mode\": \"lines\", \"line\": {\"color\": \"rgb(20, 0, 145)\", \"width\": 2}}, {\"type\": \"scatter3d\", \"x\": [0, -0.246336], \"y\": [0, 1.984732], \"z\": [0, -0.01270618], \"mode\": \"lines\", \"line\": {\"color\": \"rgb(20, 0, 145)\", \"width\": 2}}, {\"type\": \"scatter3d\", \"x\": [0, -0.246336], \"y\": [0, 1.984732], \"z\": [0, -0.01270618], \"mode\": \"lines\", \"line\": {\"color\": \"rgb(20, 0, 145)\", \"width\": 2}}, {\"type\": \"scatter3d\", \"x\": [0, -0.246574], \"y\": [0, 1.984724], \"z\": [0, -0.00865494], \"mode\": \"lines\", \"line\": {\"color\": \"rgb(20, 0, 145)\", \"width\": 2}}, {\"type\": \"scatter3d\", \"x\": [0, -0.250356], \"y\": [0, 1.984254], \"z\": [0, -0.00772602], \"mode\": \"lines\", \"line\": {\"color\": \"rgb(20, 0, 145)\", \"width\": 2}}, {\"type\": \"scatter3d\", \"x\": [0, -0.244588], \"y\": [0, 1.984982], \"z\": [0, -0.00498988], \"mode\": \"lines\", \"line\": {\"color\": \"rgb(20, 0, 145)\", \"width\": 2}}, {\"type\": \"scatter3d\", \"x\": [0, -0.248894], \"y\": [0, 1.984412], \"z\": [0, -0.01283776], \"mode\": \"lines\", \"line\": {\"color\": \"rgb(20, 0, 145)\", \"width\": 2}}, {\"type\": \"scatter3d\", \"x\": [0, -0.244958], \"y\": [0, 1.984932], \"z\": [0, -0.00610254], \"mode\": \"lines\", \"line\": {\"color\": \"rgb(20, 0, 145)\", \"width\": 2}}, {\"type\": \"scatter3d\", \"x\": [0, -0.244958], \"y\": [0, 1.984932], \"z\": [0, -0.00610254], \"mode\": \"lines\", \"line\": {\"color\": \"rgb(20, 0, 145)\", \"width\": 2}}, {\"type\": \"scatter3d\", \"x\": [0, -0.245622], \"y\": [0, 1.984814], \"z\": [0, -0.0136319], \"mode\": \"lines\", \"line\": {\"color\": \"rgb(20, 0, 145)\", \"width\": 2}}, {\"type\": \"scatter3d\", \"x\": [0, -0.244788], \"y\": [0, 1.984948], \"z\": [0, -0.0079885], \"mode\": \"lines\", \"line\": {\"color\": \"rgb(20, 0, 145)\", \"width\": 2}}, {\"type\": \"scatter3d\", \"x\": [0, -0.244788], \"y\": [0, 1.984948], \"z\": [0, -0.0079885], \"mode\": \"lines\", \"line\": {\"color\": \"rgb(20, 0, 145)\", \"width\": 2}}, {\"type\": \"scatter3d\", \"x\": [0, -0.241844], \"y\": [0, 1.985294], \"z\": [0, -0.01086104], \"mode\": \"lines\", \"line\": {\"color\": \"rgb(20, 0, 145)\", \"width\": 2}}, {\"type\": \"scatter3d\", \"x\": [0, -0.237158], \"y\": [0, 1.985864], \"z\": [0, -0.00983], \"mode\": \"lines\", \"line\": {\"color\": \"rgb(20, 0, 145)\", \"width\": 2}}, {\"type\": \"scatter3d\", \"x\": [0, -0.24436], \"y\": [0, 1.984934], \"z\": [0, -0.01799056], \"mode\": \"lines\", \"line\": {\"color\": \"rgb(20, 0, 145)\", \"width\": 2}}, {\"type\": \"scatter3d\", \"x\": [0, -0.235042], \"y\": [0, 1.986104], \"z\": [0, -0.01220202], \"mode\": \"lines\", \"line\": {\"color\": \"rgb(20, 0, 145)\", \"width\": 2}}, {\"type\": \"scatter3d\", \"x\": [0, -0.236846], \"y\": [0, 1.98587], \"z\": [0, -0.01502688], \"mode\": \"lines\", \"line\": {\"color\": \"rgb(20, 0, 145)\", \"width\": 2}}, {\"type\": \"scatter3d\", \"x\": [0, -0.23886], \"y\": [0, 1.985632], \"z\": [0, -0.01444234], \"mode\": \"lines\", \"line\": {\"color\": \"rgb(20, 0, 145)\", \"width\": 2}}, {\"type\": \"scatter3d\", \"x\": [0, -0.239508], \"y\": [0, 1.98558], \"z\": [0, -0.01056196], \"mode\": \"lines\", \"line\": {\"color\": \"rgb(20, 0, 145)\", \"width\": 2}}, {\"type\": \"scatter3d\", \"x\": [0, -0.243926], \"y\": [0, 1.985042], \"z\": [0, -0.01040036], \"mode\": \"lines\", \"line\": {\"color\": \"rgb(20, 0, 145)\", \"width\": 2}}, {\"type\": \"scatter3d\", \"x\": [0, -0.245176], \"y\": [0, 1.984872], \"z\": [0, -0.01319808], \"mode\": \"lines\", \"line\": {\"color\": \"rgb(20, 0, 145)\", \"width\": 2}}, {\"type\": \"scatter3d\", \"x\": [0, -0.242724], \"y\": [0, 1.98519], \"z\": [0, -0.01024284], \"mode\": \"lines\", \"line\": {\"color\": \"rgb(20, 0, 145)\", \"width\": 2}}, {\"type\": \"scatter3d\", \"x\": [0, -0.23999], \"y\": [0, 1.985528], \"z\": [0, -0.0092769], \"mode\": \"lines\", \"line\": {\"color\": \"rgb(20, 0, 145)\", \"width\": 2}}, {\"type\": \"scatter3d\", \"x\": [0, -0.235318], \"y\": [0, 1.986088], \"z\": [0, -0.00882498], \"mode\": \"lines\", \"line\": {\"color\": \"rgb(20, 0, 145)\", \"width\": 2}}, {\"type\": \"scatter3d\", \"x\": [0, -0.237246], \"y\": [0, 1.985844], \"z\": [0, -0.01169742], \"mode\": \"lines\", \"line\": {\"color\": \"rgb(20, 0, 145)\", \"width\": 2}}, {\"type\": \"scatter3d\", \"x\": [0, -0.236632], \"y\": [0, 1.98592], \"z\": [0, -0.0110984], \"mode\": \"lines\", \"line\": {\"color\": \"rgb(20, 0, 145)\", \"width\": 2}}, {\"type\": \"scatter3d\", \"x\": [0, -0.236632], \"y\": [0, 1.98592], \"z\": [0, -0.0110984], \"mode\": \"lines\", \"line\": {\"color\": \"rgb(20, 0, 145)\", \"width\": 2}}, {\"type\": \"scatter3d\", \"x\": [0, -0.235092], \"y\": [0, 1.986094], \"z\": [0, -0.01288222], \"mode\": \"lines\", \"line\": {\"color\": \"rgb(20, 0, 145)\", \"width\": 2}}, {\"type\": \"scatter3d\", \"x\": [0, -0.234406], \"y\": [0, 1.986152], \"z\": [0, -0.01605492], \"mode\": \"lines\", \"line\": {\"color\": \"rgb(20, 0, 145)\", \"width\": 2}}, {\"type\": \"scatter3d\", \"x\": [0, -0.227762], \"y\": [0, 1.986966], \"z\": [0, -0.00965296], \"mode\": \"lines\", \"line\": {\"color\": \"rgb(20, 0, 145)\", \"width\": 2}}, {\"type\": \"scatter3d\", \"x\": [0, -0.23625], \"y\": [0, 1.98594], \"z\": [0, -0.0151757], \"mode\": \"lines\", \"line\": {\"color\": \"rgb(20, 0, 145)\", \"width\": 2}}, {\"type\": \"scatter3d\", \"x\": [0, -0.23625], \"y\": [0, 1.98594], \"z\": [0, -0.0151757], \"mode\": \"lines\", \"line\": {\"color\": \"rgb(20, 0, 145)\", \"width\": 2}}, {\"type\": \"scatter3d\", \"x\": [0, -0.226498], \"y\": [0, 1.98708], \"z\": [0, -0.01452828], \"mode\": \"lines\", \"line\": {\"color\": \"rgb(20, 0, 145)\", \"width\": 2}}, {\"type\": \"scatter3d\", \"x\": [0, -0.227416], \"y\": [0, 1.986974], \"z\": [0, -0.01460536], \"mode\": \"lines\", \"line\": {\"color\": \"rgb(20, 0, 145)\", \"width\": 2}}, {\"type\": \"scatter3d\", \"x\": [0, -0.224116], \"y\": [0, 1.987362], \"z\": [0, -0.01272686], \"mode\": \"lines\", \"line\": {\"color\": \"rgb(20, 0, 145)\", \"width\": 2}}, {\"type\": \"scatter3d\", \"x\": [0, -0.227174], \"y\": [0, 1.986996], \"z\": [0, -0.01534028], \"mode\": \"lines\", \"line\": {\"color\": \"rgb(20, 0, 145)\", \"width\": 2}}, {\"type\": \"scatter3d\", \"x\": [0, -0.222582], \"y\": [0, 1.987512], \"z\": [0, -0.01589984], \"mode\": \"lines\", \"line\": {\"color\": \"rgb(20, 0, 145)\", \"width\": 2}}, {\"type\": \"scatter3d\", \"x\": [0, -0.222582], \"y\": [0, 1.987512], \"z\": [0, -0.01589984], \"mode\": \"lines\", \"line\": {\"color\": \"rgb(20, 0, 145)\", \"width\": 2}}, {\"type\": \"scatter3d\", \"x\": [0, -0.22032], \"y\": [0, 1.987818], \"z\": [0, -0.0064664], \"mode\": \"lines\", \"line\": {\"color\": \"rgb(20, 0, 145)\", \"width\": 2}}, {\"type\": \"scatter3d\", \"x\": [0, -0.222964], \"y\": [0, 1.98746], \"z\": [0, -0.01696312], \"mode\": \"lines\", \"line\": {\"color\": \"rgb(20, 0, 145)\", \"width\": 2}}, {\"type\": \"scatter3d\", \"x\": [0, -0.218056], \"y\": [0, 1.988034], \"z\": [0, -0.01307648], \"mode\": \"lines\", \"line\": {\"color\": \"rgb(20, 0, 145)\", \"width\": 2}}, {\"type\": \"scatter3d\", \"x\": [0, -0.218056], \"y\": [0, 1.988034], \"z\": [0, -0.01307648], \"mode\": \"lines\", \"line\": {\"color\": \"rgb(20, 0, 145)\", \"width\": 2}}, {\"type\": \"scatter3d\", \"x\": [0, -0.220864], \"y\": [0, 1.987736], \"z\": [0, -0.01099078], \"mode\": \"lines\", \"line\": {\"color\": \"rgb(20, 0, 145)\", \"width\": 2}}, {\"type\": \"scatter3d\", \"x\": [0, -0.21738], \"y\": [0, 1.988118], \"z\": [0, -0.01140516], \"mode\": \"lines\", \"line\": {\"color\": \"rgb(20, 0, 145)\", \"width\": 2}}, {\"type\": \"scatter3d\", \"x\": [0, -0.2193], \"y\": [0, 1.987906], \"z\": [0, -0.01186102], \"mode\": \"lines\", \"line\": {\"color\": \"rgb(20, 0, 145)\", \"width\": 2}}, {\"type\": \"scatter3d\", \"x\": [0, -0.219798], \"y\": [0, 1.987824], \"z\": [0, -0.01566092], \"mode\": \"lines\", \"line\": {\"color\": \"rgb(20, 0, 145)\", \"width\": 2}}, {\"type\": \"scatter3d\", \"x\": [0, -0.219798], \"y\": [0, 1.987824], \"z\": [0, -0.01566092], \"mode\": \"lines\", \"line\": {\"color\": \"rgb(20, 0, 145)\", \"width\": 2}}, {\"type\": \"scatter3d\", \"x\": [0, -0.223474], \"y\": [0, 1.987436], \"z\": [0, -0.01268284], \"mode\": \"lines\", \"line\": {\"color\": \"rgb(20, 0, 145)\", \"width\": 2}}, {\"type\": \"scatter3d\", \"x\": [0, -0.222238], \"y\": [0, 1.987568], \"z\": [0, -0.01362512], \"mode\": \"lines\", \"line\": {\"color\": \"rgb(20, 0, 145)\", \"width\": 2}}, {\"type\": \"scatter3d\", \"x\": [0, -0.2242], \"y\": [0, 1.987344], \"z\": [0, -0.01419772], \"mode\": \"lines\", \"line\": {\"color\": \"rgb(20, 0, 145)\", \"width\": 2}}, {\"type\": \"scatter3d\", \"x\": [0, -0.224784], \"y\": [0, 1.987272], \"z\": [0, -0.01490072], \"mode\": \"lines\", \"line\": {\"color\": \"rgb(20, 0, 145)\", \"width\": 2}}, {\"type\": \"scatter3d\", \"x\": [0, -0.224784], \"y\": [0, 1.987272], \"z\": [0, -0.01490072], \"mode\": \"lines\", \"line\": {\"color\": \"rgb(20, 0, 145)\", \"width\": 2}}, {\"type\": \"scatter3d\", \"x\": [0, -0.231992], \"y\": [0, 1.986448], \"z\": [0, -0.01435774], \"mode\": \"lines\", \"line\": {\"color\": \"rgb(20, 0, 145)\", \"width\": 2}}, {\"type\": \"scatter3d\", \"x\": [0, -0.231414], \"y\": [0, 1.986532], \"z\": [0, -0.0116761], \"mode\": \"lines\", \"line\": {\"color\": \"rgb(20, 0, 145)\", \"width\": 2}}, {\"type\": \"scatter3d\", \"x\": [0, -0.230378], \"y\": [0, 1.98665], \"z\": [0, -0.01226992], \"mode\": \"lines\", \"line\": {\"color\": \"rgb(20, 0, 145)\", \"width\": 2}}, {\"type\": \"scatter3d\", \"x\": [0, -0.23293], \"y\": [0, 1.98635], \"z\": [0, -0.01243848], \"mode\": \"lines\", \"line\": {\"color\": \"rgb(20, 0, 145)\", \"width\": 2}}, {\"type\": \"scatter3d\", \"x\": [0, -0.23293], \"y\": [0, 1.98635], \"z\": [0, -0.01243848], \"mode\": \"lines\", \"line\": {\"color\": \"rgb(20, 0, 145)\", \"width\": 2}}, {\"type\": \"scatter3d\", \"x\": [0, -0.233152], \"y\": [0, 1.986292], \"z\": [0, -0.0167821], \"mode\": \"lines\", \"line\": {\"color\": \"rgb(20, 0, 145)\", \"width\": 2}}, {\"type\": \"scatter3d\", \"x\": [0, -0.234772], \"y\": [0, 1.986128], \"z\": [0, -0.01332542], \"mode\": \"lines\", \"line\": {\"color\": \"rgb(20, 0, 145)\", \"width\": 2}}, {\"type\": \"scatter3d\", \"x\": [0, -0.24521], \"y\": [0, 1.984908], \"z\": [0, -0.003596], \"mode\": \"lines\", \"line\": {\"color\": \"rgb(20, 0, 145)\", \"width\": 2}}, {\"type\": \"scatter3d\", \"x\": [0, -0.242762], \"y\": [0, 1.98521], \"z\": [0, -0.00210834], \"mode\": \"lines\", \"line\": {\"color\": \"rgb(20, 0, 145)\", \"width\": 2}}, {\"type\": \"scatter3d\", \"x\": [0, -0.242762], \"y\": [0, 1.98521], \"z\": [0, -0.00210834], \"mode\": \"lines\", \"line\": {\"color\": \"rgb(20, 0, 145)\", \"width\": 2}}, {\"type\": \"scatter3d\", \"x\": [0, -0.244384], \"y\": [0, 1.985012], \"z\": [0, -0.001327786], \"mode\": \"lines\", \"line\": {\"color\": \"rgb(20, 0, 145)\", \"width\": 2}}, {\"type\": \"scatter3d\", \"x\": [0, -0.238632], \"y\": [0, 1.985712], \"z\": [0, 8.21536e-05], \"mode\": \"lines\", \"line\": {\"color\": \"rgb(20, 0, 145)\", \"width\": 2}}, {\"type\": \"scatter3d\", \"x\": [0, -0.24129], \"y\": [0, 1.98539], \"z\": [0, -0.00242934], \"mode\": \"lines\", \"line\": {\"color\": \"rgb(20, 0, 145)\", \"width\": 2}}, {\"type\": \"scatter3d\", \"x\": [0, -0.241288], \"y\": [0, 1.985388], \"z\": [0, -0.00341504], \"mode\": \"lines\", \"line\": {\"color\": \"rgb(20, 0, 145)\", \"width\": 2}}, {\"type\": \"scatter3d\", \"x\": [0, -0.241748], \"y\": [0, 1.98533], \"z\": [0, -0.00454994], \"mode\": \"lines\", \"line\": {\"color\": \"rgb(20, 0, 145)\", \"width\": 2}}, {\"type\": \"scatter3d\", \"x\": [0, -0.241748], \"y\": [0, 1.98533], \"z\": [0, -0.00454994], \"mode\": \"lines\", \"line\": {\"color\": \"rgb(20, 0, 145)\", \"width\": 2}}, {\"type\": \"scatter3d\", \"x\": [0, -0.241098], \"y\": [0, 1.985412], \"z\": [0, -0.00293624], \"mode\": \"lines\", \"line\": {\"color\": \"rgb(20, 0, 145)\", \"width\": 2}}, {\"type\": \"scatter3d\", \"x\": [0, -0.24125], \"y\": [0, 1.985392], \"z\": [0, -0.00430128], \"mode\": \"lines\", \"line\": {\"color\": \"rgb(20, 0, 145)\", \"width\": 2}}, {\"type\": \"scatter3d\", \"x\": [0, -0.235886], \"y\": [0, 1.986028], \"z\": [0, -0.00709226], \"mode\": \"lines\", \"line\": {\"color\": \"rgb(20, 0, 145)\", \"width\": 2}}, {\"type\": \"scatter3d\", \"x\": [0, -0.238378], \"y\": [0, 1.985712], \"z\": [0, -0.01122452], \"mode\": \"lines\", \"line\": {\"color\": \"rgb(20, 0, 145)\", \"width\": 2}}, {\"type\": \"scatter3d\", \"x\": [0, -0.238378], \"y\": [0, 1.985712], \"z\": [0, -0.01122452], \"mode\": \"lines\", \"line\": {\"color\": \"rgb(20, 0, 145)\", \"width\": 2}}, {\"type\": \"scatter3d\", \"x\": [0, -0.236116], \"y\": [0, 1.985976], \"z\": [0, -0.01227226], \"mode\": \"lines\", \"line\": {\"color\": \"rgb(20, 0, 145)\", \"width\": 2}}, {\"type\": \"scatter3d\", \"x\": [0, -0.240476], \"y\": [0, 1.985426], \"z\": [0, -0.01606386], \"mode\": \"lines\", \"line\": {\"color\": \"rgb(20, 0, 145)\", \"width\": 2}}, {\"type\": \"scatter3d\", \"x\": [0, -0.24116], \"y\": [0, 1.985358], \"z\": [0, -0.01407356], \"mode\": \"lines\", \"line\": {\"color\": \"rgb(20, 0, 145)\", \"width\": 2}}, {\"type\": \"scatter3d\", \"x\": [0, -0.24116], \"y\": [0, 1.985358], \"z\": [0, -0.01407356], \"mode\": \"lines\", \"line\": {\"color\": \"rgb(20, 0, 145)\", \"width\": 2}}, {\"type\": \"scatter3d\", \"x\": [0, -0.239636], \"y\": [0, 1.98555], \"z\": [0, -0.0130117], \"mode\": \"lines\", \"line\": {\"color\": \"rgb(20, 0, 145)\", \"width\": 2}}, {\"type\": \"scatter3d\", \"x\": [0, -0.243388], \"y\": [0, 1.985046], \"z\": [0, -0.01886128], \"mode\": \"lines\", \"line\": {\"color\": \"rgb(20, 0, 145)\", \"width\": 2}}, {\"type\": \"scatter3d\", \"x\": [0, -0.243854], \"y\": [0, 1.985008], \"z\": [0, -0.01675882], \"mode\": \"lines\", \"line\": {\"color\": \"rgb(20, 0, 145)\", \"width\": 2}}, {\"type\": \"scatter3d\", \"x\": [0, -0.239088], \"y\": [0, 1.98559], \"z\": [0, -0.01637034], \"mode\": \"lines\", \"line\": {\"color\": \"rgb(20, 0, 145)\", \"width\": 2}}, {\"type\": \"scatter3d\", \"x\": [0, 0.0454582], \"y\": [0, 1.999372], \"z\": [0, -0.0211772], \"mode\": \"lines\", \"line\": {\"color\": \"rgb(20, 0, 145)\", \"width\": 2}}, {\"type\": \"scatter3d\", \"x\": [0, 0.0454582], \"y\": [0, 1.999372], \"z\": [0, -0.0211772], \"mode\": \"lines\", \"line\": {\"color\": \"rgb(20, 0, 145)\", \"width\": 2}}, {\"type\": \"scatter3d\", \"x\": [0, 0.049713], \"y\": [0, 1.99925], \"z\": [0, -0.022927], \"mode\": \"lines\", \"line\": {\"color\": \"rgb(20, 0, 145)\", \"width\": 2}}, {\"type\": \"scatter3d\", \"x\": [0, 0.053093], \"y\": [0, 1.999168], \"z\": [0, -0.0225768], \"mode\": \"lines\", \"line\": {\"color\": \"rgb(20, 0, 145)\", \"width\": 2}}, {\"type\": \"scatter3d\", \"x\": [0, 0.0513288], \"y\": [0, 1.999226], \"z\": [0, -0.0214892], \"mode\": \"lines\", \"line\": {\"color\": \"rgb(20, 0, 145)\", \"width\": 2}}, {\"type\": \"scatter3d\", \"x\": [0, 0.0528192], \"y\": [0, 1.999198], \"z\": [0, -0.020491], \"mode\": \"lines\", \"line\": {\"color\": \"rgb(20, 0, 145)\", \"width\": 2}}, {\"type\": \"scatter3d\", \"x\": [0, 0.0528192], \"y\": [0, 1.999198], \"z\": [0, -0.020491], \"mode\": \"lines\", \"line\": {\"color\": \"rgb(20, 0, 145)\", \"width\": 2}}, {\"type\": \"scatter3d\", \"x\": [0, 0.0578858], \"y\": [0, 1.999066], \"z\": [0, -0.01964112], \"mode\": \"lines\", \"line\": {\"color\": \"rgb(20, 0, 145)\", \"width\": 2}}, {\"type\": \"scatter3d\", \"x\": [0, 0.0541838], \"y\": [0, 1.999184], \"z\": [0, -0.01802452], \"mode\": \"lines\", \"line\": {\"color\": \"rgb(20, 0, 145)\", \"width\": 2}}, {\"type\": \"scatter3d\", \"x\": [0, 0.0615182], \"y\": [0, 1.998962], \"z\": [0, -0.01921142], \"mode\": \"lines\", \"line\": {\"color\": \"rgb(20, 0, 145)\", \"width\": 2}}, {\"type\": \"scatter3d\", \"x\": [0, 0.0563656], \"y\": [0, 1.999118], \"z\": [0, -0.01874336], \"mode\": \"lines\", \"line\": {\"color\": \"rgb(20, 0, 145)\", \"width\": 2}}, {\"type\": \"scatter3d\", \"x\": [0, 0.0563656], \"y\": [0, 1.999118], \"z\": [0, -0.01874336], \"mode\": \"lines\", \"line\": {\"color\": \"rgb(20, 0, 145)\", \"width\": 2}}, {\"type\": \"scatter3d\", \"x\": [0, 0.0538776], \"y\": [0, 1.999138], \"z\": [0, -0.0234026], \"mode\": \"lines\", \"line\": {\"color\": \"rgb(20, 0, 145)\", \"width\": 2}}, {\"type\": \"scatter3d\", \"x\": [0, 0.0607654], \"y\": [0, 1.998984], \"z\": [0, -0.01920274], \"mode\": \"lines\", \"line\": {\"color\": \"rgb(20, 0, 145)\", \"width\": 2}}, {\"type\": \"scatter3d\", \"x\": [0, 0.055266], \"y\": [0, 1.999148], \"z\": [0, -0.0188173], \"mode\": \"lines\", \"line\": {\"color\": \"rgb(20, 0, 145)\", \"width\": 2}}, {\"type\": \"scatter3d\", \"x\": [0, 0.055266], \"y\": [0, 1.999148], \"z\": [0, -0.0188173], \"mode\": \"lines\", \"line\": {\"color\": \"rgb(20, 0, 145)\", \"width\": 2}}, {\"type\": \"scatter3d\", \"x\": [0, 0.0627362], \"y\": [0, 1.998934], \"z\": [0, -0.0181638], \"mode\": \"lines\", \"line\": {\"color\": \"rgb(20, 0, 145)\", \"width\": 2}}, {\"type\": \"scatter3d\", \"x\": [0, 0.0627362], \"y\": [0, 1.998934], \"z\": [0, -0.0181638], \"mode\": \"lines\", \"line\": {\"color\": \"rgb(20, 0, 145)\", \"width\": 2}}, {\"type\": \"scatter3d\", \"x\": [0, 0.0621436], \"y\": [0, 1.998954], \"z\": [0, -0.01780946], \"mode\": \"lines\", \"line\": {\"color\": \"rgb(20, 0, 145)\", \"width\": 2}}, {\"type\": \"scatter3d\", \"x\": [0, 0.0532068], \"y\": [0, 1.99922], \"z\": [0, -0.01698962], \"mode\": \"lines\", \"line\": {\"color\": \"rgb(20, 0, 145)\", \"width\": 2}}, {\"type\": \"scatter3d\", \"x\": [0, 0.059445], \"y\": [0, 1.999016], \"z\": [0, -0.0201294], \"mode\": \"lines\", \"line\": {\"color\": \"rgb(20, 0, 145)\", \"width\": 2}}, {\"type\": \"scatter3d\", \"x\": [0, 0.059445], \"y\": [0, 1.999016], \"z\": [0, -0.0201294], \"mode\": \"lines\", \"line\": {\"color\": \"rgb(20, 0, 145)\", \"width\": 2}}, {\"type\": \"scatter3d\", \"x\": [0, 0.0569762], \"y\": [0, 1.999036], \"z\": [0, -0.02473], \"mode\": \"lines\", \"line\": {\"color\": \"rgb(20, 0, 145)\", \"width\": 2}}, {\"type\": \"scatter3d\", \"x\": [0, 0.058089], \"y\": [0, 1.999022], \"z\": [0, -0.0230866], \"mode\": \"lines\", \"line\": {\"color\": \"rgb(20, 0, 145)\", \"width\": 2}}, {\"type\": \"scatter3d\", \"x\": [0, 0.0593142], \"y\": [0, 1.998978], \"z\": [0, -0.0238272], \"mode\": \"lines\", \"line\": {\"color\": \"rgb(20, 0, 145)\", \"width\": 2}}, {\"type\": \"scatter3d\", \"x\": [0, 0.0601288], \"y\": [0, 1.99898], \"z\": [0, -0.0214384], \"mode\": \"lines\", \"line\": {\"color\": \"rgb(20, 0, 145)\", \"width\": 2}}, {\"type\": \"scatter3d\", \"x\": [0, 0.0601288], \"y\": [0, 1.99898], \"z\": [0, -0.0214384], \"mode\": \"lines\", \"line\": {\"color\": \"rgb(20, 0, 145)\", \"width\": 2}}, {\"type\": \"scatter3d\", \"x\": [0, 0.061467], \"y\": [0, 1.998914], \"z\": [0, -0.0237164], \"mode\": \"lines\", \"line\": {\"color\": \"rgb(20, 0, 145)\", \"width\": 2}}, {\"type\": \"scatter3d\", \"x\": [0, 0.0545352], \"y\": [0, 1.999124], \"z\": [0, -0.0229246], \"mode\": \"lines\", \"line\": {\"color\": \"rgb(20, 0, 145)\", \"width\": 2}}, {\"type\": \"scatter3d\", \"x\": [0, 0.0565692], \"y\": [0, 1.99909], \"z\": [0, -0.0210022], \"mode\": \"lines\", \"line\": {\"color\": \"rgb(20, 0, 145)\", \"width\": 2}}, {\"type\": \"scatter3d\", \"x\": [0, 0.0527848], \"y\": [0, 1.99912], \"z\": [0, -0.0270508], \"mode\": \"lines\", \"line\": {\"color\": \"rgb(20, 0, 145)\", \"width\": 2}}, {\"type\": \"scatter3d\", \"x\": [0, 0.0527848], \"y\": [0, 1.99912], \"z\": [0, -0.0270508], \"mode\": \"lines\", \"line\": {\"color\": \"rgb(20, 0, 145)\", \"width\": 2}}, {\"type\": \"scatter3d\", \"x\": [0, 0.0644504], \"y\": [0, 1.998808], \"z\": [0, -0.0247844], \"mode\": \"lines\", \"line\": {\"color\": \"rgb(20, 0, 145)\", \"width\": 2}}, {\"type\": \"scatter3d\", \"x\": [0, 0.0587458], \"y\": [0, 1.99904], \"z\": [0, -0.01961096], \"mode\": \"lines\", \"line\": {\"color\": \"rgb(20, 0, 145)\", \"width\": 2}}, {\"type\": \"scatter3d\", \"x\": [0, 0.0673098], \"y\": [0, 1.998738], \"z\": [0, -0.0227146], \"mode\": \"lines\", \"line\": {\"color\": \"rgb(20, 0, 145)\", \"width\": 2}}, {\"type\": \"scatter3d\", \"x\": [0, 0.06236], \"y\": [0, 1.998934], \"z\": [0, -0.01924436], \"mode\": \"lines\", \"line\": {\"color\": \"rgb(20, 0, 145)\", \"width\": 2}}, {\"type\": \"scatter3d\", \"x\": [0, 0.06236], \"y\": [0, 1.998934], \"z\": [0, -0.01924436], \"mode\": \"lines\", \"line\": {\"color\": \"rgb(20, 0, 145)\", \"width\": 2}}, {\"type\": \"scatter3d\", \"x\": [0, 0.0587706], \"y\": [0, 1.999014], \"z\": [0, -0.0221804], \"mode\": \"lines\", \"line\": {\"color\": \"rgb(20, 0, 145)\", \"width\": 2}}, {\"type\": \"scatter3d\", \"x\": [0, 0.0591794], \"y\": [0, 1.999022], \"z\": [0, -0.02029], \"mode\": \"lines\", \"line\": {\"color\": \"rgb(20, 0, 145)\", \"width\": 2}}, {\"type\": \"scatter3d\", \"x\": [0, 0.0565862], \"y\": [0, 1.999102], \"z\": [0, -0.0197233], \"mode\": \"lines\", \"line\": {\"color\": \"rgb(20, 0, 145)\", \"width\": 2}}, {\"type\": \"scatter3d\", \"x\": [0, 0.0579806], \"y\": [0, 1.999012], \"z\": [0, -0.0243264], \"mode\": \"lines\", \"line\": {\"color\": \"rgb(20, 0, 145)\", \"width\": 2}}, {\"type\": \"scatter3d\", \"x\": [0, 0.0579806], \"y\": [0, 1.999012], \"z\": [0, -0.0243264], \"mode\": \"lines\", \"line\": {\"color\": \"rgb(20, 0, 145)\", \"width\": 2}}, {\"type\": \"scatter3d\", \"x\": [0, 0.060795], \"y\": [0, 1.99891], \"z\": [0, -0.025674], \"mode\": \"lines\", \"line\": {\"color\": \"rgb(20, 0, 145)\", \"width\": 2}}, {\"type\": \"scatter3d\", \"x\": [0, 0.0558574], \"y\": [0, 1.999098], \"z\": [0, -0.0221254], \"mode\": \"lines\", \"line\": {\"color\": \"rgb(20, 0, 145)\", \"width\": 2}}, {\"type\": \"scatter3d\", \"x\": [0, 0.05617], \"y\": [0, 1.999108], \"z\": [0, -0.0202804], \"mode\": \"lines\", \"line\": {\"color\": \"rgb(20, 0, 145)\", \"width\": 2}}, {\"type\": \"scatter3d\", \"x\": [0, 0.0524664], \"y\": [0, 1.999228], \"z\": [0, -0.01832438], \"mode\": \"lines\", \"line\": {\"color\": \"rgb(20, 0, 145)\", \"width\": 2}}, {\"type\": \"scatter3d\", \"x\": [0, 0.0524664], \"y\": [0, 1.999228], \"z\": [0, -0.01832438], \"mode\": \"lines\", \"line\": {\"color\": \"rgb(20, 0, 145)\", \"width\": 2}}, {\"type\": \"scatter3d\", \"x\": [0, 0.0549142], \"y\": [0, 1.999046], \"z\": [0, -0.0282624], \"mode\": \"lines\", \"line\": {\"color\": \"rgb(20, 0, 145)\", \"width\": 2}}, {\"type\": \"scatter3d\", \"x\": [0, 0.0571866], \"y\": [0, 1.999014], \"z\": [0, -0.0259552], \"mode\": \"lines\", \"line\": {\"color\": \"rgb(20, 0, 145)\", \"width\": 2}}, {\"type\": \"scatter3d\", \"x\": [0, 0.0555176], \"y\": [0, 1.99912], \"z\": [0, -0.0208192], \"mode\": \"lines\", \"line\": {\"color\": \"rgb(20, 0, 145)\", \"width\": 2}}, {\"type\": \"scatter3d\", \"x\": [0, 0.0518272], \"y\": [0, 1.999208], \"z\": [0, -0.0218956], \"mode\": \"lines\", \"line\": {\"color\": \"rgb(20, 0, 145)\", \"width\": 2}}, {\"type\": \"scatter3d\", \"x\": [0, 0.0518272], \"y\": [0, 1.999208], \"z\": [0, -0.0218956], \"mode\": \"lines\", \"line\": {\"color\": \"rgb(20, 0, 145)\", \"width\": 2}}, {\"type\": \"scatter3d\", \"x\": [0, 0.0471734], \"y\": [0, 1.999308], \"z\": [0, -0.023337], \"mode\": \"lines\", \"line\": {\"color\": \"rgb(20, 0, 145)\", \"width\": 2}}, {\"type\": \"scatter3d\", \"x\": [0, 0.050567], \"y\": [0, 1.999172], \"z\": [0, -0.0274696], \"mode\": \"lines\", \"line\": {\"color\": \"rgb(20, 0, 145)\", \"width\": 2}}, {\"type\": \"scatter3d\", \"x\": [0, 0.045084], \"y\": [0, 1.999346], \"z\": [0, -0.0242014], \"mode\": \"lines\", \"line\": {\"color\": \"rgb(20, 0, 145)\", \"width\": 2}}, {\"type\": \"scatter3d\", \"x\": [0, 0.0570194], \"y\": [0, 1.999012], \"z\": [0, -0.0264858], \"mode\": \"lines\", \"line\": {\"color\": \"rgb(20, 0, 145)\", \"width\": 2}}, {\"type\": \"scatter3d\", \"x\": [0, 0.0570194], \"y\": [0, 1.999012], \"z\": [0, -0.0264858], \"mode\": \"lines\", \"line\": {\"color\": \"rgb(20, 0, 145)\", \"width\": 2}}, {\"type\": \"scatter3d\", \"x\": [0, 0.0504158], \"y\": [0, 1.999198], \"z\": [0, -0.0257782], \"mode\": \"lines\", \"line\": {\"color\": \"rgb(20, 0, 145)\", \"width\": 2}}, {\"type\": \"scatter3d\", \"x\": [0, 0.049173], \"y\": [0, 1.999182], \"z\": [0, -0.029253], \"mode\": \"lines\", \"line\": {\"color\": \"rgb(20, 0, 145)\", \"width\": 2}}, {\"type\": \"scatter3d\", \"x\": [0, 0.0461176], \"y\": [0, 1.999356], \"z\": [0, -0.0212308], \"mode\": \"lines\", \"line\": {\"color\": \"rgb(20, 0, 145)\", \"width\": 2}}, {\"type\": \"scatter3d\", \"x\": [0, 0.0445532], \"y\": [0, 1.99939], \"z\": [0, -0.0212938], \"mode\": \"lines\", \"line\": {\"color\": \"rgb(20, 0, 145)\", \"width\": 2}}, {\"type\": \"scatter3d\", \"x\": [0, 0.0445532], \"y\": [0, 1.99939], \"z\": [0, -0.0212938], \"mode\": \"lines\", \"line\": {\"color\": \"rgb(20, 0, 145)\", \"width\": 2}}, {\"type\": \"scatter3d\", \"x\": [0, 0.0483516], \"y\": [0, 1.999262], \"z\": [0, -0.0248068], \"mode\": \"lines\", \"line\": {\"color\": \"rgb(20, 0, 145)\", \"width\": 2}}, {\"type\": \"scatter3d\", \"x\": [0, 0.0418828], \"y\": [0, 1.999428], \"z\": [0, -0.023089], \"mode\": \"lines\", \"line\": {\"color\": \"rgb(20, 0, 145)\", \"width\": 2}}, {\"type\": \"scatter3d\", \"x\": [0, 0.0485764], \"y\": [0, 1.999304], \"z\": [0, -0.0205958], \"mode\": \"lines\", \"line\": {\"color\": \"rgb(20, 0, 145)\", \"width\": 2}}, {\"type\": \"scatter3d\", \"x\": [0, 0.0485764], \"y\": [0, 1.999304], \"z\": [0, -0.0205958], \"mode\": \"lines\", \"line\": {\"color\": \"rgb(20, 0, 145)\", \"width\": 2}}, {\"type\": \"scatter3d\", \"x\": [0, 0.0475976], \"y\": [0, 1.999306], \"z\": [0, -0.0225352], \"mode\": \"lines\", \"line\": {\"color\": \"rgb(20, 0, 145)\", \"width\": 2}}, {\"type\": \"scatter3d\", \"x\": [0, 0.0510552], \"y\": [0, 1.999208], \"z\": [0, -0.0236714], \"mode\": \"lines\", \"line\": {\"color\": \"rgb(20, 0, 145)\", \"width\": 2}}, {\"type\": \"scatter3d\", \"x\": [0, 0.0499968], \"y\": [0, 1.999232], \"z\": [0, -0.0238472], \"mode\": \"lines\", \"line\": {\"color\": \"rgb(20, 0, 145)\", \"width\": 2}}, {\"type\": \"scatter3d\", \"x\": [0, 0.050424], \"y\": [0, 1.999248], \"z\": [0, -0.0216226], \"mode\": \"lines\", \"line\": {\"color\": \"rgb(20, 0, 145)\", \"width\": 2}}, {\"type\": \"scatter3d\", \"x\": [0, 0.0485158], \"y\": [0, 1.999252], \"z\": [0, -0.0252048], \"mode\": \"lines\", \"line\": {\"color\": \"rgb(20, 0, 145)\", \"width\": 2}}, {\"type\": \"scatter3d\", \"x\": [0, 0.0485158], \"y\": [0, 1.999252], \"z\": [0, -0.0252048], \"mode\": \"lines\", \"line\": {\"color\": \"rgb(20, 0, 145)\", \"width\": 2}}, {\"type\": \"scatter3d\", \"x\": [0, 0.0478454], \"y\": [0, 1.999268], \"z\": [0, -0.0252714], \"mode\": \"lines\", \"line\": {\"color\": \"rgb(20, 0, 145)\", \"width\": 2}}, {\"type\": \"scatter3d\", \"x\": [0, 0.0520658], \"y\": [0, 1.999182], \"z\": [0, -0.0236378], \"mode\": \"lines\", \"line\": {\"color\": \"rgb(20, 0, 145)\", \"width\": 2}}, {\"type\": \"scatter3d\", \"x\": [0, 0.049184], \"y\": [0, 1.999298], \"z\": [0, -0.01972822], \"mode\": \"lines\", \"line\": {\"color\": \"rgb(20, 0, 145)\", \"width\": 2}}, {\"type\": \"scatter3d\", \"x\": [0, 0.051204], \"y\": [0, 1.999184], \"z\": [0, -0.0253766], \"mode\": \"lines\", \"line\": {\"color\": \"rgb(20, 0, 145)\", \"width\": 2}}, {\"type\": \"scatter3d\", \"x\": [0, 0.051204], \"y\": [0, 1.999184], \"z\": [0, -0.0253766], \"mode\": \"lines\", \"line\": {\"color\": \"rgb(20, 0, 145)\", \"width\": 2}}, {\"type\": \"scatter3d\", \"x\": [0, 0.0472888], \"y\": [0, 1.999344], \"z\": [0, -0.01972732], \"mode\": \"lines\", \"line\": {\"color\": \"rgb(20, 0, 145)\", \"width\": 2}}, {\"type\": \"scatter3d\", \"x\": [0, 0.0581508], \"y\": [0, 1.998926], \"z\": [0, -0.0302582], \"mode\": \"lines\", \"line\": {\"color\": \"rgb(20, 0, 145)\", \"width\": 2}}, {\"type\": \"scatter3d\", \"x\": [0, 0.0539784], \"y\": [0, 1.999136], \"z\": [0, -0.023237], \"mode\": \"lines\", \"line\": {\"color\": \"rgb(20, 0, 145)\", \"width\": 2}}, {\"type\": \"scatter3d\", \"x\": [0, 0.0539784], \"y\": [0, 1.999136], \"z\": [0, -0.023237], \"mode\": \"lines\", \"line\": {\"color\": \"rgb(20, 0, 145)\", \"width\": 2}}, {\"type\": \"scatter3d\", \"x\": [0, 0.048071], \"y\": [0, 1.999302], \"z\": [0, -0.0218484], \"mode\": \"lines\", \"line\": {\"color\": \"rgb(20, 0, 145)\", \"width\": 2}}, {\"type\": \"scatter3d\", \"x\": [0, 0.057862], \"y\": [0, 1.999014], \"z\": [0, -0.0244272], \"mode\": \"lines\", \"line\": {\"color\": \"rgb(20, 0, 145)\", \"width\": 2}}, {\"type\": \"scatter3d\", \"x\": [0, 0.057231], \"y\": [0, 1.999042], \"z\": [0, -0.0235968], \"mode\": \"lines\", \"line\": {\"color\": \"rgb(20, 0, 145)\", \"width\": 2}}, {\"type\": \"scatter3d\", \"x\": [0, 0.043312], \"y\": [0, 1.999378], \"z\": [0, -0.024676], \"mode\": \"lines\", \"line\": {\"color\": \"rgb(20, 0, 145)\", \"width\": 2}}, {\"type\": \"scatter3d\", \"x\": [0, 0.0512374], \"y\": [0, 1.999244], \"z\": [0, -0.01989252], \"mode\": \"lines\", \"line\": {\"color\": \"rgb(20, 0, 145)\", \"width\": 2}}, {\"type\": \"scatter3d\", \"x\": [0, 0.0512374], \"y\": [0, 1.999244], \"z\": [0, -0.01989252], \"mode\": \"lines\", \"line\": {\"color\": \"rgb(20, 0, 145)\", \"width\": 2}}, {\"type\": \"scatter3d\", \"x\": [0, 0.048158], \"y\": [0, 1.999192], \"z\": [0, -0.0302524], \"mode\": \"lines\", \"line\": {\"color\": \"rgb(20, 0, 145)\", \"width\": 2}}, {\"type\": \"scatter3d\", \"x\": [0, 0.0529122], \"y\": [0, 1.999178], \"z\": [0, -0.022156], \"mode\": \"lines\", \"line\": {\"color\": \"rgb(20, 0, 145)\", \"width\": 2}}, {\"type\": \"scatter3d\", \"x\": [0, 0.0503674], \"y\": [0, 1.99917], \"z\": [0, -0.0280394], \"mode\": \"lines\", \"line\": {\"color\": \"rgb(20, 0, 145)\", \"width\": 2}}, {\"type\": \"scatter3d\", \"x\": [0, 0.0532014], \"y\": [0, 1.999154], \"z\": [0, -0.0234824], \"mode\": \"lines\", \"line\": {\"color\": \"rgb(20, 0, 145)\", \"width\": 2}}, {\"type\": \"scatter3d\", \"x\": [0, 0.0532014], \"y\": [0, 1.999154], \"z\": [0, -0.0234824], \"mode\": \"lines\", \"line\": {\"color\": \"rgb(20, 0, 145)\", \"width\": 2}}, {\"type\": \"scatter3d\", \"x\": [0, 0.0469586], \"y\": [0, 1.999346], \"z\": [0, -0.0201676], \"mode\": \"lines\", \"line\": {\"color\": \"rgb(20, 0, 145)\", \"width\": 2}}, {\"type\": \"scatter3d\", \"x\": [0, 0.052855], \"y\": [0, 1.999152], \"z\": [0, -0.024376], \"mode\": \"lines\", \"line\": {\"color\": \"rgb(20, 0, 145)\", \"width\": 2}}, {\"type\": \"scatter3d\", \"x\": [0, 0.0518156], \"y\": [0, 1.999198], \"z\": [0, -0.0227712], \"mode\": \"lines\", \"line\": {\"color\": \"rgb(20, 0, 145)\", \"width\": 2}}, {\"type\": \"scatter3d\", \"x\": [0, 0.0518156], \"y\": [0, 1.999198], \"z\": [0, -0.0227712], \"mode\": \"lines\", \"line\": {\"color\": \"rgb(20, 0, 145)\", \"width\": 2}}, {\"type\": \"scatter3d\", \"x\": [0, 0.0522266], \"y\": [0, 1.999174], \"z\": [0, -0.0239884], \"mode\": \"lines\", \"line\": {\"color\": \"rgb(20, 0, 145)\", \"width\": 2}}, {\"type\": \"scatter3d\", \"x\": [0, 0.0461642], \"y\": [0, 1.999274], \"z\": [0, -0.0278488], \"mode\": \"lines\", \"line\": {\"color\": \"rgb(20, 0, 145)\", \"width\": 2}}, {\"type\": \"scatter3d\", \"x\": [0, 0.0463232], \"y\": [0, 1.999316], \"z\": [0, -0.0242454], \"mode\": \"lines\", \"line\": {\"color\": \"rgb(20, 0, 145)\", \"width\": 2}}, {\"type\": \"scatter3d\", \"x\": [0, 0.0492712], \"y\": [0, 1.99921], \"z\": [0, -0.0270886], \"mode\": \"lines\", \"line\": {\"color\": \"rgb(20, 0, 145)\", \"width\": 2}}, {\"type\": \"scatter3d\", \"x\": [0, 0.27303], \"y\": [0, 1.981196], \"z\": [0, -0.01772078], \"mode\": \"lines\", \"line\": {\"color\": \"rgb(20, 0, 145)\", \"width\": 2}}, {\"type\": \"scatter3d\", \"x\": [0, 0.273086], \"y\": [0, 1.98118], \"z\": [0, -0.01865864], \"mode\": \"lines\", \"line\": {\"color\": \"rgb(20, 0, 145)\", \"width\": 2}}, {\"type\": \"scatter3d\", \"x\": [0, 0.27153], \"y\": [0, 1.981368], \"z\": [0, -0.0212036], \"mode\": \"lines\", \"line\": {\"color\": \"rgb(20, 0, 145)\", \"width\": 2}}, {\"type\": \"scatter3d\", \"x\": [0, 0.27153], \"y\": [0, 1.981368], \"z\": [0, -0.0212036], \"mode\": \"lines\", \"line\": {\"color\": \"rgb(20, 0, 145)\", \"width\": 2}}, {\"type\": \"scatter3d\", \"x\": [0, 0.268276], \"y\": [0, 1.981842], \"z\": [0, -0.01806614], \"mode\": \"lines\", \"line\": {\"color\": \"rgb(20, 0, 145)\", \"width\": 2}}, {\"type\": \"scatter3d\", \"x\": [0, 0.2661], \"y\": [0, 1.982106], \"z\": [0, -0.021153], \"mode\": \"lines\", \"line\": {\"color\": \"rgb(20, 0, 145)\", \"width\": 2}}, {\"type\": \"scatter3d\", \"x\": [0, 0.26565], \"y\": [0, 1.98215], \"z\": [0, -0.0226154], \"mode\": \"lines\", \"line\": {\"color\": \"rgb(20, 0, 145)\", \"width\": 2}}, {\"type\": \"scatter3d\", \"x\": [0, 0.266244], \"y\": [0, 1.98209], \"z\": [0, -0.0208634], \"mode\": \"lines\", \"line\": {\"color\": \"rgb(20, 0, 145)\", \"width\": 2}}, {\"type\": \"scatter3d\", \"x\": [0, 0.266244], \"y\": [0, 1.98209], \"z\": [0, -0.0208634], \"mode\": \"lines\", \"line\": {\"color\": \"rgb(20, 0, 145)\", \"width\": 2}}, {\"type\": \"scatter3d\", \"x\": [0, 0.267468], \"y\": [0, 1.981932], \"z\": [0, -0.020141], \"mode\": \"lines\", \"line\": {\"color\": \"rgb(20, 0, 145)\", \"width\": 2}}, {\"type\": \"scatter3d\", \"x\": [0, 0.264738], \"y\": [0, 1.982284], \"z\": [0, -0.021563], \"mode\": \"lines\", \"line\": {\"color\": \"rgb(20, 0, 145)\", \"width\": 2}}, {\"type\": \"scatter3d\", \"x\": [0, 0.266328], \"y\": [0, 1.982118], \"z\": [0, -0.01669042], \"mode\": \"lines\", \"line\": {\"color\": \"rgb(20, 0, 145)\", \"width\": 2}}, {\"type\": \"scatter3d\", \"x\": [0, 0.266328], \"y\": [0, 1.982118], \"z\": [0, -0.01669042], \"mode\": \"lines\", \"line\": {\"color\": \"rgb(20, 0, 145)\", \"width\": 2}}, {\"type\": \"scatter3d\", \"x\": [0, 0.2605], \"y\": [0, 1.982872], \"z\": [0, -0.0188692], \"mode\": \"lines\", \"line\": {\"color\": \"rgb(20, 0, 145)\", \"width\": 2}}, {\"type\": \"scatter3d\", \"x\": [0, 0.26285], \"y\": [0, 1.982566], \"z\": [0, -0.01840682], \"mode\": \"lines\", \"line\": {\"color\": \"rgb(20, 0, 145)\", \"width\": 2}}, {\"type\": \"scatter3d\", \"x\": [0, 0.264256], \"y\": [0, 1.982358], \"z\": [0, -0.0205808], \"mode\": \"lines\", \"line\": {\"color\": \"rgb(20, 0, 145)\", \"width\": 2}}, {\"type\": \"scatter3d\", \"x\": [0, 0.260812], \"y\": [0, 1.982836], \"z\": [0, -0.01837582], \"mode\": \"lines\", \"line\": {\"color\": \"rgb(20, 0, 145)\", \"width\": 2}}, {\"type\": \"scatter3d\", \"x\": [0, 0.264032], \"y\": [0, 1.982388], \"z\": [0, -0.0206728], \"mode\": \"lines\", \"line\": {\"color\": \"rgb(20, 0, 145)\", \"width\": 2}}, {\"type\": \"scatter3d\", \"x\": [0, 0.264032], \"y\": [0, 1.982388], \"z\": [0, -0.0206728], \"mode\": \"lines\", \"line\": {\"color\": \"rgb(20, 0, 145)\", \"width\": 2}}, {\"type\": \"scatter3d\", \"x\": [0, 0.258842], \"y\": [0, 1.983046], \"z\": [0, -0.0230954], \"mode\": \"lines\", \"line\": {\"color\": \"rgb(20, 0, 145)\", \"width\": 2}}, {\"type\": \"scatter3d\", \"x\": [0, 0.258192], \"y\": [0, 1.983152], \"z\": [0, -0.0210034], \"mode\": \"lines\", \"line\": {\"color\": \"rgb(20, 0, 145)\", \"width\": 2}}, {\"type\": \"scatter3d\", \"x\": [0, 0.263106], \"y\": [0, 1.9825], \"z\": [0, -0.0216816], \"mode\": \"lines\", \"line\": {\"color\": \"rgb(20, 0, 145)\", \"width\": 2}}, {\"type\": \"scatter3d\", \"x\": [0, 0.256318], \"y\": [0, 1.983408], \"z\": [0, -0.01986374], \"mode\": \"lines\", \"line\": {\"color\": \"rgb(20, 0, 145)\", \"width\": 2}}, {\"type\": \"scatter3d\", \"x\": [0, 0.256318], \"y\": [0, 1.983408], \"z\": [0, -0.01986374], \"mode\": \"lines\", \"line\": {\"color\": \"rgb(20, 0, 145)\", \"width\": 2}}, {\"type\": \"scatter3d\", \"x\": [0, 0.262156], \"y\": [0, 1.982646], \"z\": [0, -0.01968646], \"mode\": \"lines\", \"line\": {\"color\": \"rgb(20, 0, 145)\", \"width\": 2}}, {\"type\": \"scatter3d\", \"x\": [0, 0.261012], \"y\": [0, 1.982762], \"z\": [0, -0.02298], \"mode\": \"lines\", \"line\": {\"color\": \"rgb(20, 0, 145)\", \"width\": 2}}, {\"type\": \"scatter3d\", \"x\": [0, 0.26399], \"y\": [0, 1.98238], \"z\": [0, -0.021812], \"mode\": \"lines\", \"line\": {\"color\": \"rgb(20, 0, 145)\", \"width\": 2}}, {\"type\": \"scatter3d\", \"x\": [0, 0.267712], \"y\": [0, 1.981948], \"z\": [0, -0.01458228], \"mode\": \"lines\", \"line\": {\"color\": \"rgb(20, 0, 145)\", \"width\": 2}}, {\"type\": \"scatter3d\", \"x\": [0, 0.267712], \"y\": [0, 1.981948], \"z\": [0, -0.01458228], \"mode\": \"lines\", \"line\": {\"color\": \"rgb(20, 0, 145)\", \"width\": 2}}, {\"type\": \"scatter3d\", \"x\": [0, 0.26465], \"y\": [0, 1.982376], \"z\": [0, -0.0121645], \"mode\": \"lines\", \"line\": {\"color\": \"rgb(20, 0, 145)\", \"width\": 2}}, {\"type\": \"scatter3d\", \"x\": [0, 0.26545], \"y\": [0, 1.982244], \"z\": [0, -0.01574968], \"mode\": \"lines\", \"line\": {\"color\": \"rgb(20, 0, 145)\", \"width\": 2}}, {\"type\": \"scatter3d\", \"x\": [0, 0.262716], \"y\": [0, 1.982598], \"z\": [0, -0.01682028], \"mode\": \"lines\", \"line\": {\"color\": \"rgb(20, 0, 145)\", \"width\": 2}}, {\"type\": \"scatter3d\", \"x\": [0, 0.262716], \"y\": [0, 1.982598], \"z\": [0, -0.01682028], \"mode\": \"lines\", \"line\": {\"color\": \"rgb(20, 0, 145)\", \"width\": 2}}, {\"type\": \"scatter3d\", \"x\": [0, 0.261688], \"y\": [0, 1.982732], \"z\": [0, -0.0170388], \"mode\": \"lines\", \"line\": {\"color\": \"rgb(20, 0, 145)\", \"width\": 2}}, {\"type\": \"scatter3d\", \"x\": [0, 0.260318], \"y\": [0, 1.98289], \"z\": [0, -0.0195676], \"mode\": \"lines\", \"line\": {\"color\": \"rgb(20, 0, 145)\", \"width\": 2}}, {\"type\": \"scatter3d\", \"x\": [0, 0.26566], \"y\": [0, 1.982216], \"z\": [0, -0.01573912], \"mode\": \"lines\", \"line\": {\"color\": \"rgb(20, 0, 145)\", \"width\": 2}}, {\"type\": \"scatter3d\", \"x\": [0, 0.262692], \"y\": [0, 1.982582], \"z\": [0, -0.01898014], \"mode\": \"lines\", \"line\": {\"color\": \"rgb(20, 0, 145)\", \"width\": 2}}, {\"type\": \"scatter3d\", \"x\": [0, 0.265564], \"y\": [0, 1.982194], \"z\": [0, -0.01961072], \"mode\": \"lines\", \"line\": {\"color\": \"rgb(20, 0, 145)\", \"width\": 2}}, {\"type\": \"scatter3d\", \"x\": [0, 0.265564], \"y\": [0, 1.982194], \"z\": [0, -0.01961072], \"mode\": \"lines\", \"line\": {\"color\": \"rgb(20, 0, 145)\", \"width\": 2}}, {\"type\": \"scatter3d\", \"x\": [0, 0.263844], \"y\": [0, 1.982448], \"z\": [0, -0.01702448], \"mode\": \"lines\", \"line\": {\"color\": \"rgb(20, 0, 145)\", \"width\": 2}}, {\"type\": \"scatter3d\", \"x\": [0, 0.263636], \"y\": [0, 1.98247], \"z\": [0, -0.0176272], \"mode\": \"lines\", \"line\": {\"color\": \"rgb(20, 0, 145)\", \"width\": 2}}, {\"type\": \"scatter3d\", \"x\": [0, 0.261098], \"y\": [0, 1.982776], \"z\": [0, -0.0207284], \"mode\": \"lines\", \"line\": {\"color\": \"rgb(20, 0, 145)\", \"width\": 2}}, {\"type\": \"scatter3d\", \"x\": [0, 0.256068], \"y\": [0, 1.983464], \"z\": [0, -0.0172187], \"mode\": \"lines\", \"line\": {\"color\": \"rgb(20, 0, 145)\", \"width\": 2}}, {\"type\": \"scatter3d\", \"x\": [0, 0.256068], \"y\": [0, 1.983464], \"z\": [0, -0.0172187], \"mode\": \"lines\", \"line\": {\"color\": \"rgb(20, 0, 145)\", \"width\": 2}}, {\"type\": \"scatter3d\", \"x\": [0, 0.261498], \"y\": [0, 1.982736], \"z\": [0, -0.01930304], \"mode\": \"lines\", \"line\": {\"color\": \"rgb(20, 0, 145)\", \"width\": 2}}, {\"type\": \"scatter3d\", \"x\": [0, 0.263396], \"y\": [0, 1.98249], \"z\": [0, -0.0188417], \"mode\": \"lines\", \"line\": {\"color\": \"rgb(20, 0, 145)\", \"width\": 2}}, {\"type\": \"scatter3d\", \"x\": [0, 0.262022], \"y\": [0, 1.982708], \"z\": [0, -0.01458676], \"mode\": \"lines\", \"line\": {\"color\": \"rgb(20, 0, 145)\", \"width\": 2}}, {\"type\": \"scatter3d\", \"x\": [0, 0.260652], \"y\": [0, 1.98288], \"z\": [0, -0.01580432], \"mode\": \"lines\", \"line\": {\"color\": \"rgb(20, 0, 145)\", \"width\": 2}}, {\"type\": \"scatter3d\", \"x\": [0, 0.264918], \"y\": [0, 1.982288], \"z\": [0, -0.01876066], \"mode\": \"lines\", \"line\": {\"color\": \"rgb(20, 0, 145)\", \"width\": 2}}, {\"type\": \"scatter3d\", \"x\": [0, 0.264918], \"y\": [0, 1.982288], \"z\": [0, -0.01876066], \"mode\": \"lines\", \"line\": {\"color\": \"rgb(20, 0, 145)\", \"width\": 2}}, {\"type\": \"scatter3d\", \"x\": [0, 0.266514], \"y\": [0, 1.982082], \"z\": [0, -0.017891], \"mode\": \"lines\", \"line\": {\"color\": \"rgb(20, 0, 145)\", \"width\": 2}}, {\"type\": \"scatter3d\", \"x\": [0, 0.260242], \"y\": [0, 1.982906], \"z\": [0, -0.01881572], \"mode\": \"lines\", \"line\": {\"color\": \"rgb(20, 0, 145)\", \"width\": 2}}, {\"type\": \"scatter3d\", \"x\": [0, 0.262438], \"y\": [0, 1.982612], \"z\": [0, -0.01937122], \"mode\": \"lines\", \"line\": {\"color\": \"rgb(20, 0, 145)\", \"width\": 2}}, {\"type\": \"scatter3d\", \"x\": [0, 0.262438], \"y\": [0, 1.982612], \"z\": [0, -0.01937122], \"mode\": \"lines\", \"line\": {\"color\": \"rgb(20, 0, 145)\", \"width\": 2}}, {\"type\": \"scatter3d\", \"x\": [0, 0.263192], \"y\": [0, 1.98252], \"z\": [0, -0.01863022], \"mode\": \"lines\", \"line\": {\"color\": \"rgb(20, 0, 145)\", \"width\": 2}}, {\"type\": \"scatter3d\", \"x\": [0, 0.262952], \"y\": [0, 1.982542], \"z\": [0, -0.0195943], \"mode\": \"lines\", \"line\": {\"color\": \"rgb(20, 0, 145)\", \"width\": 2}}, {\"type\": \"scatter3d\", \"x\": [0, 0.26279], \"y\": [0, 1.98258], \"z\": [0, -0.0177201], \"mode\": \"lines\", \"line\": {\"color\": \"rgb(20, 0, 145)\", \"width\": 2}}, {\"type\": \"scatter3d\", \"x\": [0, 0.261512], \"y\": [0, 1.982732], \"z\": [0, -0.01959516], \"mode\": \"lines\", \"line\": {\"color\": \"rgb(20, 0, 145)\", \"width\": 2}}, {\"type\": \"scatter3d\", \"x\": [0, 0.261512], \"y\": [0, 1.982732], \"z\": [0, -0.01959516], \"mode\": \"lines\", \"line\": {\"color\": \"rgb(20, 0, 145)\", \"width\": 2}}, {\"type\": \"scatter3d\", \"x\": [0, 0.264832], \"y\": [0, 1.982332], \"z\": [0, -0.01507174], \"mode\": \"lines\", \"line\": {\"color\": \"rgb(20, 0, 145)\", \"width\": 2}}, {\"type\": \"scatter3d\", \"x\": [0, 0.261654], \"y\": [0, 1.982722], \"z\": [0, -0.01863216], \"mode\": \"lines\", \"line\": {\"color\": \"rgb(20, 0, 145)\", \"width\": 2}}, {\"type\": \"scatter3d\", \"x\": [0, 0.263214], \"y\": [0, 1.98249], \"z\": [0, -0.0212318], \"mode\": \"lines\", \"line\": {\"color\": \"rgb(20, 0, 145)\", \"width\": 2}}, {\"type\": \"scatter3d\", \"x\": [0, 0.263774], \"y\": [0, 1.98243], \"z\": [0, -0.01981732], \"mode\": \"lines\", \"line\": {\"color\": \"rgb(20, 0, 145)\", \"width\": 2}}, {\"type\": \"scatter3d\", \"x\": [0, 0.263774], \"y\": [0, 1.98243], \"z\": [0, -0.01981732], \"mode\": \"lines\", \"line\": {\"color\": \"rgb(20, 0, 145)\", \"width\": 2}}, {\"type\": \"scatter3d\", \"x\": [0, 0.2612], \"y\": [0, 1.98277], \"z\": [0, -0.01985502], \"mode\": \"lines\", \"line\": {\"color\": \"rgb(20, 0, 145)\", \"width\": 2}}, {\"type\": \"scatter3d\", \"x\": [0, 0.268552], \"y\": [0, 1.981816], \"z\": [0, -0.01695296], \"mode\": \"lines\", \"line\": {\"color\": \"rgb(20, 0, 145)\", \"width\": 2}}, {\"type\": \"scatter3d\", \"x\": [0, 0.264106], \"y\": [0, 1.982372], \"z\": [0, -0.0211832], \"mode\": \"lines\", \"line\": {\"color\": \"rgb(20, 0, 145)\", \"width\": 2}}, {\"type\": \"scatter3d\", \"x\": [0, 0.26439], \"y\": [0, 1.982354], \"z\": [0, -0.01931494], \"mode\": \"lines\", \"line\": {\"color\": \"rgb(20, 0, 145)\", \"width\": 2}}, {\"type\": \"scatter3d\", \"x\": [0, 0.26439], \"y\": [0, 1.982354], \"z\": [0, -0.01931494], \"mode\": \"lines\", \"line\": {\"color\": \"rgb(20, 0, 145)\", \"width\": 2}}, {\"type\": \"scatter3d\", \"x\": [0, 0.264856], \"y\": [0, 1.982276], \"z\": [0, -0.0208354], \"mode\": \"lines\", \"line\": {\"color\": \"rgb(20, 0, 145)\", \"width\": 2}}, {\"type\": \"scatter3d\", \"x\": [0, 0.26502], \"y\": [0, 1.982272], \"z\": [0, -0.01910962], \"mode\": \"lines\", \"line\": {\"color\": \"rgb(20, 0, 145)\", \"width\": 2}}, {\"type\": \"scatter3d\", \"x\": [0, 0.265822], \"y\": [0, 1.982134], \"z\": [0, -0.0220718], \"mode\": \"lines\", \"line\": {\"color\": \"rgb(20, 0, 145)\", \"width\": 2}}, {\"type\": \"scatter3d\", \"x\": [0, 0.264052], \"y\": [0, 1.982382], \"z\": [0, -0.0210046], \"mode\": \"lines\", \"line\": {\"color\": \"rgb(20, 0, 145)\", \"width\": 2}}, {\"type\": \"scatter3d\", \"x\": [0, 0.264052], \"y\": [0, 1.982382], \"z\": [0, -0.0210046], \"mode\": \"lines\", \"line\": {\"color\": \"rgb(20, 0, 145)\", \"width\": 2}}, {\"type\": \"scatter3d\", \"x\": [0, 0.265246], \"y\": [0, 1.982242], \"z\": [0, -0.01897598], \"mode\": \"lines\", \"line\": {\"color\": \"rgb(20, 0, 145)\", \"width\": 2}}, {\"type\": \"scatter3d\", \"x\": [0, 0.268508], \"y\": [0, 1.981812], \"z\": [0, -0.01811678], \"mode\": \"lines\", \"line\": {\"color\": \"rgb(20, 0, 145)\", \"width\": 2}}, {\"type\": \"scatter3d\", \"x\": [0, 0.269442], \"y\": [0, 1.98165], \"z\": [0, -0.021508], \"mode\": \"lines\", \"line\": {\"color\": \"rgb(20, 0, 145)\", \"width\": 2}}, {\"type\": \"scatter3d\", \"x\": [0, 0.264062], \"y\": [0, 1.982352], \"z\": [0, -0.0235778], \"mode\": \"lines\", \"line\": {\"color\": \"rgb(20, 0, 145)\", \"width\": 2}}, {\"type\": \"scatter3d\", \"x\": [0, 0.268982], \"y\": [0, 1.981682], \"z\": [0, -0.0242058], \"mode\": \"lines\", \"line\": {\"color\": \"rgb(20, 0, 145)\", \"width\": 2}}, {\"type\": \"scatter3d\", \"x\": [0, 0.268982], \"y\": [0, 1.981682], \"z\": [0, -0.0242058], \"mode\": \"lines\", \"line\": {\"color\": \"rgb(20, 0, 145)\", \"width\": 2}}, {\"type\": \"scatter3d\", \"x\": [0, 0.2687], \"y\": [0, 1.981744], \"z\": [0, -0.0221508], \"mode\": \"lines\", \"line\": {\"color\": \"rgb(20, 0, 145)\", \"width\": 2}}, {\"type\": \"scatter3d\", \"x\": [0, 0.263646], \"y\": [0, 1.982336], \"z\": [0, -0.0288512], \"mode\": \"lines\", \"line\": {\"color\": \"rgb(20, 0, 145)\", \"width\": 2}}, {\"type\": \"scatter3d\", \"x\": [0, 0.269422], \"y\": [0, 1.981576], \"z\": [0, -0.0277194], \"mode\": \"lines\", \"line\": {\"color\": \"rgb(20, 0, 145)\", \"width\": 2}}, {\"type\": \"scatter3d\", \"x\": [0, 0.269422], \"y\": [0, 1.981576], \"z\": [0, -0.0277194], \"mode\": \"lines\", \"line\": {\"color\": \"rgb(20, 0, 145)\", \"width\": 2}}, {\"type\": \"scatter3d\", \"x\": [0, 0.265654], \"y\": [0, 1.982062], \"z\": [0, -0.0292832], \"mode\": \"lines\", \"line\": {\"color\": \"rgb(20, 0, 145)\", \"width\": 2}}, {\"type\": \"scatter3d\", \"x\": [0, 0.269234], \"y\": [0, 1.981596], \"z\": [0, -0.0280708], \"mode\": \"lines\", \"line\": {\"color\": \"rgb(20, 0, 145)\", \"width\": 2}}, {\"type\": \"scatter3d\", \"x\": [0, 0.267408], \"y\": [0, 1.981772], \"z\": [0, -0.0327884], \"mode\": \"lines\", \"line\": {\"color\": \"rgb(20, 0, 145)\", \"width\": 2}}, {\"type\": \"scatter3d\", \"x\": [0, 0.260304], \"y\": [0, 1.98276], \"z\": [0, -0.0301434], \"mode\": \"lines\", \"line\": {\"color\": \"rgb(20, 0, 145)\", \"width\": 2}}, {\"type\": \"scatter3d\", \"x\": [0, 0.260304], \"y\": [0, 1.98276], \"z\": [0, -0.0301434], \"mode\": \"lines\", \"line\": {\"color\": \"rgb(20, 0, 145)\", \"width\": 2}}, {\"type\": \"scatter3d\", \"x\": [0, 0.264794], \"y\": [0, 1.98214], \"z\": [0, -0.0317482], \"mode\": \"lines\", \"line\": {\"color\": \"rgb(20, 0, 145)\", \"width\": 2}}, {\"type\": \"scatter3d\", \"x\": [0, 0.262426], \"y\": [0, 1.982458], \"z\": [0, -0.031498], \"mode\": \"lines\", \"line\": {\"color\": \"rgb(20, 0, 145)\", \"width\": 2}}, {\"type\": \"scatter3d\", \"x\": [0, 0.264342], \"y\": [0, 1.9822], \"z\": [0, -0.0317082], \"mode\": \"lines\", \"line\": {\"color\": \"rgb(20, 0, 145)\", \"width\": 2}}, {\"type\": \"scatter3d\", \"x\": [0, 0.263736], \"y\": [0, 1.982338], \"z\": [0, -0.0278856], \"mode\": \"lines\", \"line\": {\"color\": \"rgb(20, 0, 145)\", \"width\": 2}}, {\"type\": \"scatter3d\", \"x\": [0, 0.263736], \"y\": [0, 1.982338], \"z\": [0, -0.0278856], \"mode\": \"lines\", \"line\": {\"color\": \"rgb(20, 0, 145)\", \"width\": 2}}, {\"type\": \"scatter3d\", \"x\": [0, 0.263524], \"y\": [0, 1.982318], \"z\": [0, -0.0311148], \"mode\": \"lines\", \"line\": {\"color\": \"rgb(20, 0, 145)\", \"width\": 2}}, {\"type\": \"scatter3d\", \"x\": [0, 0.263198], \"y\": [0, 1.982376], \"z\": [0, -0.0301636], \"mode\": \"lines\", \"line\": {\"color\": \"rgb(20, 0, 145)\", \"width\": 2}}, {\"type\": \"scatter3d\", \"x\": [0, 0.25994], \"y\": [0, 1.982836], \"z\": [0, -0.028141], \"mode\": \"lines\", \"line\": {\"color\": \"rgb(20, 0, 145)\", \"width\": 2}}, {\"type\": \"scatter3d\", \"x\": [0, 0.262638], \"y\": [0, 1.98248], \"z\": [0, -0.0281208], \"mode\": \"lines\", \"line\": {\"color\": \"rgb(20, 0, 145)\", \"width\": 2}}, {\"type\": \"scatter3d\", \"x\": [0, 0.262638], \"y\": [0, 1.98248], \"z\": [0, -0.0281208], \"mode\": \"lines\", \"line\": {\"color\": \"rgb(20, 0, 145)\", \"width\": 2}}, {\"type\": \"scatter3d\", \"x\": [0, 0.254334], \"y\": [0, 1.983584], \"z\": [0, -0.0266316], \"mode\": \"lines\", \"line\": {\"color\": \"rgb(20, 0, 145)\", \"width\": 2}}, {\"type\": \"scatter3d\", \"x\": [0, -0.229914], \"y\": [0, 1.881448], \"z\": [0, 0.638198], \"mode\": \"lines\", \"line\": {\"color\": \"rgb(20, 0, 145)\", \"width\": 2}}, {\"type\": \"scatter3d\", \"x\": [0, -0.23082], \"y\": [0, 1.880344], \"z\": [0, 0.641112], \"mode\": \"lines\", \"line\": {\"color\": \"rgb(20, 0, 145)\", \"width\": 2}}, {\"type\": \"scatter3d\", \"x\": [0, -0.23082], \"y\": [0, 1.880344], \"z\": [0, 0.641112], \"mode\": \"lines\", \"line\": {\"color\": \"rgb(20, 0, 145)\", \"width\": 2}}, {\"type\": \"scatter3d\", \"x\": [0, -0.230978], \"y\": [0, 1.88089], \"z\": [0, 0.639454], \"mode\": \"lines\", \"line\": {\"color\": \"rgb(20, 0, 145)\", \"width\": 2}}, {\"type\": \"scatter3d\", \"x\": [0, -0.229276], \"y\": [0, 1.881294], \"z\": [0, 0.638876], \"mode\": \"lines\", \"line\": {\"color\": \"rgb(20, 0, 145)\", \"width\": 2}}, {\"type\": \"scatter3d\", \"x\": [0, -0.230652], \"y\": [0, 1.88075], \"z\": [0, 0.639982], \"mode\": \"lines\", \"line\": {\"color\": \"rgb(20, 0, 145)\", \"width\": 2}}, {\"type\": \"scatter3d\", \"x\": [0, -0.22939], \"y\": [0, 1.881002], \"z\": [0, 0.639694], \"mode\": \"lines\", \"line\": {\"color\": \"rgb(20, 0, 145)\", \"width\": 2}}, {\"type\": \"scatter3d\", \"x\": [0, -0.22939], \"y\": [0, 1.881002], \"z\": [0, 0.639694], \"mode\": \"lines\", \"line\": {\"color\": \"rgb(20, 0, 145)\", \"width\": 2}}, {\"type\": \"scatter3d\", \"x\": [0, -0.230326], \"y\": [0, 1.88152], \"z\": [0, 0.637832], \"mode\": \"lines\", \"line\": {\"color\": \"rgb(20, 0, 145)\", \"width\": 2}}, {\"type\": \"scatter3d\", \"x\": [0, -0.229328], \"y\": [0, 1.881428], \"z\": [0, 0.638464], \"mode\": \"lines\", \"line\": {\"color\": \"rgb(20, 0, 145)\", \"width\": 2}}, {\"type\": \"scatter3d\", \"x\": [0, -0.230988], \"y\": [0, 1.882146], \"z\": [0, 0.635744], \"mode\": \"lines\", \"line\": {\"color\": \"rgb(20, 0, 145)\", \"width\": 2}}, {\"type\": \"scatter3d\", \"x\": [0, -0.229242], \"y\": [0, 1.881532], \"z\": [0, 0.638188], \"mode\": \"lines\", \"line\": {\"color\": \"rgb(20, 0, 145)\", \"width\": 2}}, {\"type\": \"scatter3d\", \"x\": [0, -0.232248], \"y\": [0, 1.882814], \"z\": [0, 0.633302], \"mode\": \"lines\", \"line\": {\"color\": \"rgb(20, 0, 145)\", \"width\": 2}}, {\"type\": \"scatter3d\", \"x\": [0, -0.232248], \"y\": [0, 1.882814], \"z\": [0, 0.633302], \"mode\": \"lines\", \"line\": {\"color\": \"rgb(20, 0, 145)\", \"width\": 2}}, {\"type\": \"scatter3d\", \"x\": [0, -0.229744], \"y\": [0, 1.881734], \"z\": [0, 0.637412], \"mode\": \"lines\", \"line\": {\"color\": \"rgb(20, 0, 145)\", \"width\": 2}}, {\"type\": \"scatter3d\", \"x\": [0, -0.229942], \"y\": [0, 1.88161], \"z\": [0, 0.637706], \"mode\": \"lines\", \"line\": {\"color\": \"rgb(20, 0, 145)\", \"width\": 2}}, {\"type\": \"scatter3d\", \"x\": [0, -0.229588], \"y\": [0, 1.882918], \"z\": [0, 0.633966], \"mode\": \"lines\", \"line\": {\"color\": \"rgb(20, 0, 145)\", \"width\": 2}}, {\"type\": \"scatter3d\", \"x\": [0, -0.229588], \"y\": [0, 1.882918], \"z\": [0, 0.633966], \"mode\": \"lines\", \"line\": {\"color\": \"rgb(20, 0, 145)\", \"width\": 2}}, {\"type\": \"scatter3d\", \"x\": [0, -0.231436], \"y\": [0, 1.88157], \"z\": [0, 0.637282], \"mode\": \"lines\", \"line\": {\"color\": \"rgb(20, 0, 145)\", \"width\": 2}}, {\"type\": \"scatter3d\", \"x\": [0, -0.231896], \"y\": [0, 1.8812], \"z\": [0, 0.63821], \"mode\": \"lines\", \"line\": {\"color\": \"rgb(20, 0, 145)\", \"width\": 2}}, {\"type\": \"scatter3d\", \"x\": [0, -0.226802], \"y\": [0, 1.882712], \"z\": [0, 0.635576], \"mode\": \"lines\", \"line\": {\"color\": \"rgb(20, 0, 145)\", \"width\": 2}}, {\"type\": \"scatter3d\", \"x\": [0, -0.226802], \"y\": [0, 1.882712], \"z\": [0, 0.635576], \"mode\": \"lines\", \"line\": {\"color\": \"rgb(20, 0, 145)\", \"width\": 2}}, {\"type\": \"scatter3d\", \"x\": [0, -0.218382], \"y\": [0, 1.88103], \"z\": [0, 0.643456], \"mode\": \"lines\", \"line\": {\"color\": \"rgb(20, 0, 145)\", \"width\": 2}}, {\"type\": \"scatter3d\", \"x\": [0, -0.22415], \"y\": [0, 1.880988], \"z\": [0, 0.641594], \"mode\": \"lines\", \"line\": {\"color\": \"rgb(20, 0, 145)\", \"width\": 2}}, {\"type\": \"scatter3d\", \"x\": [0, -0.22627], \"y\": [0, 1.879922], \"z\": [0, 0.64397], \"mode\": \"lines\", \"line\": {\"color\": \"rgb(20, 0, 145)\", \"width\": 2}}, {\"type\": \"scatter3d\", \"x\": [0, -0.226074], \"y\": [0, 1.879884], \"z\": [0, 0.644148], \"mode\": \"lines\", \"line\": {\"color\": \"rgb(20, 0, 145)\", \"width\": 2}}, {\"type\": \"scatter3d\", \"x\": [0, -0.22352], \"y\": [0, 1.88146], \"z\": [0, 0.64043], \"mode\": \"lines\", \"line\": {\"color\": \"rgb(20, 0, 145)\", \"width\": 2}}, {\"type\": \"scatter3d\", \"x\": [0, -0.22352], \"y\": [0, 1.88146], \"z\": [0, 0.64043], \"mode\": \"lines\", \"line\": {\"color\": \"rgb(20, 0, 145)\", \"width\": 2}}, {\"type\": \"scatter3d\", \"x\": [0, -0.226008], \"y\": [0, 1.880072], \"z\": [0, 0.643622], \"mode\": \"lines\", \"line\": {\"color\": \"rgb(20, 0, 145)\", \"width\": 2}}, {\"type\": \"scatter3d\", \"x\": [0, -0.22418], \"y\": [0, 1.88004], \"z\": [0, 0.644358], \"mode\": \"lines\", \"line\": {\"color\": \"rgb(20, 0, 145)\", \"width\": 2}}, {\"type\": \"scatter3d\", \"x\": [0, -0.221908], \"y\": [0, 1.879932], \"z\": [0, 0.645452], \"mode\": \"lines\", \"line\": {\"color\": \"rgb(20, 0, 145)\", \"width\": 2}}, {\"type\": \"scatter3d\", \"x\": [0, -0.225284], \"y\": [0, 1.880032], \"z\": [0, 0.64399], \"mode\": \"lines\", \"line\": {\"color\": \"rgb(20, 0, 145)\", \"width\": 2}}, {\"type\": \"scatter3d\", \"x\": [0, -0.225284], \"y\": [0, 1.880032], \"z\": [0, 0.64399], \"mode\": \"lines\", \"line\": {\"color\": \"rgb(20, 0, 145)\", \"width\": 2}}, {\"type\": \"scatter3d\", \"x\": [0, -0.226022], \"y\": [0, 1.880558], \"z\": [0, 0.642198], \"mode\": \"lines\", \"line\": {\"color\": \"rgb(20, 0, 145)\", \"width\": 2}}, {\"type\": \"scatter3d\", \"x\": [0, -0.221574], \"y\": [0, 1.880772], \"z\": [0, 0.643116], \"mode\": \"lines\", \"line\": {\"color\": \"rgb(20, 0, 145)\", \"width\": 2}}, {\"type\": \"scatter3d\", \"x\": [0, -0.219834], \"y\": [0, 1.88168], \"z\": [0, 0.641054], \"mode\": \"lines\", \"line\": {\"color\": \"rgb(20, 0, 145)\", \"width\": 2}}, {\"type\": \"scatter3d\", \"x\": [0, -0.223588], \"y\": [0, 1.880364], \"z\": [0, 0.643614], \"mode\": \"lines\", \"line\": {\"color\": \"rgb(20, 0, 145)\", \"width\": 2}}, {\"type\": \"scatter3d\", \"x\": [0, -0.219026], \"y\": [0, 1.881298], \"z\": [0, 0.642452], \"mode\": \"lines\", \"line\": {\"color\": \"rgb(20, 0, 145)\", \"width\": 2}}, {\"type\": \"scatter3d\", \"x\": [0, -0.219026], \"y\": [0, 1.881298], \"z\": [0, 0.642452], \"mode\": \"lines\", \"line\": {\"color\": \"rgb(20, 0, 145)\", \"width\": 2}}, {\"type\": \"scatter3d\", \"x\": [0, -0.22113], \"y\": [0, 1.880988], \"z\": [0, 0.642638], \"mode\": \"lines\", \"line\": {\"color\": \"rgb(20, 0, 145)\", \"width\": 2}}, {\"type\": \"scatter3d\", \"x\": [0, -0.21786], \"y\": [0, 1.881376], \"z\": [0, 0.642618], \"mode\": \"lines\", \"line\": {\"color\": \"rgb(20, 0, 145)\", \"width\": 2}}, {\"type\": \"scatter3d\", \"x\": [0, -0.221394], \"y\": [0, 1.88275], \"z\": [0, 0.63737], \"mode\": \"lines\", \"line\": {\"color\": \"rgb(20, 0, 145)\", \"width\": 2}}, {\"type\": \"scatter3d\", \"x\": [0, -0.221394], \"y\": [0, 1.88275], \"z\": [0, 0.63737], \"mode\": \"lines\", \"line\": {\"color\": \"rgb(20, 0, 145)\", \"width\": 2}}, {\"type\": \"scatter3d\", \"x\": [0, -0.219672], \"y\": [0, 1.882184], \"z\": [0, 0.639632], \"mode\": \"lines\", \"line\": {\"color\": \"rgb(20, 0, 145)\", \"width\": 2}}, {\"type\": \"scatter3d\", \"x\": [0, -0.219842], \"y\": [0, 1.881874], \"z\": [0, 0.640484], \"mode\": \"lines\", \"line\": {\"color\": \"rgb(20, 0, 145)\", \"width\": 2}}, {\"type\": \"scatter3d\", \"x\": [0, -0.21984], \"y\": [0, 1.88069], \"z\": [0, 0.643954], \"mode\": \"lines\", \"line\": {\"color\": \"rgb(20, 0, 145)\", \"width\": 2}}, {\"type\": \"scatter3d\", \"x\": [0, -0.219916], \"y\": [0, 1.882548], \"z\": [0, 0.638474], \"mode\": \"lines\", \"line\": {\"color\": \"rgb(20, 0, 145)\", \"width\": 2}}, {\"type\": \"scatter3d\", \"x\": [0, -0.219916], \"y\": [0, 1.882548], \"z\": [0, 0.638474], \"mode\": \"lines\", \"line\": {\"color\": \"rgb(20, 0, 145)\", \"width\": 2}}, {\"type\": \"scatter3d\", \"x\": [0, -0.218276], \"y\": [0, 1.881614], \"z\": [0, 0.641782], \"mode\": \"lines\", \"line\": {\"color\": \"rgb(20, 0, 145)\", \"width\": 2}}, {\"type\": \"scatter3d\", \"x\": [0, -0.216222], \"y\": [0, 1.883488], \"z\": [0, 0.636964], \"mode\": \"lines\", \"line\": {\"color\": \"rgb(20, 0, 145)\", \"width\": 2}}, {\"type\": \"scatter3d\", \"x\": [0, -0.216352], \"y\": [0, 1.882772], \"z\": [0, 0.63903], \"mode\": \"lines\", \"line\": {\"color\": \"rgb(20, 0, 145)\", \"width\": 2}}, {\"type\": \"scatter3d\", \"x\": [0, -0.216352], \"y\": [0, 1.882772], \"z\": [0, 0.63903], \"mode\": \"lines\", \"line\": {\"color\": \"rgb(20, 0, 145)\", \"width\": 2}}, {\"type\": \"scatter3d\", \"x\": [0, -0.220456], \"y\": [0, 1.88162], \"z\": [0, 0.641022], \"mode\": \"lines\", \"line\": {\"color\": \"rgb(20, 0, 145)\", \"width\": 2}}, {\"type\": \"scatter3d\", \"x\": [0, -0.214824], \"y\": [0, 1.88168], \"z\": [0, 0.64275], \"mode\": \"lines\", \"line\": {\"color\": \"rgb(20, 0, 145)\", \"width\": 2}}, {\"type\": \"scatter3d\", \"x\": [0, -0.218394], \"y\": [0, 1.881612], \"z\": [0, 0.641748], \"mode\": \"lines\", \"line\": {\"color\": \"rgb(20, 0, 145)\", \"width\": 2}}, {\"type\": \"scatter3d\", \"x\": [0, -0.216692], \"y\": [0, 1.882466], \"z\": [0, 0.63982], \"mode\": \"lines\", \"line\": {\"color\": \"rgb(20, 0, 145)\", \"width\": 2}}, {\"type\": \"scatter3d\", \"x\": [0, -0.217538], \"y\": [0, 1.881714], \"z\": [0, 0.641736], \"mode\": \"lines\", \"line\": {\"color\": \"rgb(20, 0, 145)\", \"width\": 2}}, {\"type\": \"scatter3d\", \"x\": [0, -0.217538], \"y\": [0, 1.881714], \"z\": [0, 0.641736], \"mode\": \"lines\", \"line\": {\"color\": \"rgb(20, 0, 145)\", \"width\": 2}}, {\"type\": \"scatter3d\", \"x\": [0, -0.217386], \"y\": [0, 1.88154], \"z\": [0, 0.642304], \"mode\": \"lines\", \"line\": {\"color\": \"rgb(20, 0, 145)\", \"width\": 2}}, {\"type\": \"scatter3d\", \"x\": [0, -0.217016], \"y\": [0, 1.882654], \"z\": [0, 0.639156], \"mode\": \"lines\", \"line\": {\"color\": \"rgb(20, 0, 145)\", \"width\": 2}}, {\"type\": \"scatter3d\", \"x\": [0, -0.216984], \"y\": [0, 1.882196], \"z\": [0, 0.64051], \"mode\": \"lines\", \"line\": {\"color\": \"rgb(20, 0, 145)\", \"width\": 2}}, {\"type\": \"scatter3d\", \"x\": [0, -0.215964], \"y\": [0, 1.883006], \"z\": [0, 0.638474], \"mode\": \"lines\", \"line\": {\"color\": \"rgb(20, 0, 145)\", \"width\": 2}}, {\"type\": \"scatter3d\", \"x\": [0, -0.21648], \"y\": [0, 1.883078], \"z\": [0, 0.638088], \"mode\": \"lines\", \"line\": {\"color\": \"rgb(20, 0, 145)\", \"width\": 2}}, {\"type\": \"scatter3d\", \"x\": [0, -0.21648], \"y\": [0, 1.883078], \"z\": [0, 0.638088], \"mode\": \"lines\", \"line\": {\"color\": \"rgb(20, 0, 145)\", \"width\": 2}}, {\"type\": \"scatter3d\", \"x\": [0, -0.218392], \"y\": [0, 1.881866], \"z\": [0, 0.641006], \"mode\": \"lines\", \"line\": {\"color\": \"rgb(20, 0, 145)\", \"width\": 2}}, {\"type\": \"scatter3d\", \"x\": [0, -0.220168], \"y\": [0, 1.881878], \"z\": [0, 0.64036], \"mode\": \"lines\", \"line\": {\"color\": \"rgb(20, 0, 145)\", \"width\": 2}}, {\"type\": \"scatter3d\", \"x\": [0, -0.218378], \"y\": [0, 1.881324], \"z\": [0, 0.642598], \"mode\": \"lines\", \"line\": {\"color\": \"rgb(20, 0, 145)\", \"width\": 2}}, {\"type\": \"scatter3d\", \"x\": [0, -0.218378], \"y\": [0, 1.881324], \"z\": [0, 0.642598], \"mode\": \"lines\", \"line\": {\"color\": \"rgb(20, 0, 145)\", \"width\": 2}}, {\"type\": \"scatter3d\", \"x\": [0, -0.216534], \"y\": [0, 1.88427], \"z\": [0, 0.634542], \"mode\": \"lines\", \"line\": {\"color\": \"rgb(20, 0, 145)\", \"width\": 2}}, {\"type\": \"scatter3d\", \"x\": [0, -0.21736], \"y\": [0, 1.883794], \"z\": [0, 0.635668], \"mode\": \"lines\", \"line\": {\"color\": \"rgb(20, 0, 145)\", \"width\": 2}}, {\"type\": \"scatter3d\", \"x\": [0, -0.217734], \"y\": [0, 1.88408], \"z\": [0, 0.634692], \"mode\": \"lines\", \"line\": {\"color\": \"rgb(20, 0, 145)\", \"width\": 2}}, {\"type\": \"scatter3d\", \"x\": [0, -0.21959], \"y\": [0, 1.882846], \"z\": [0, 0.63771], \"mode\": \"lines\", \"line\": {\"color\": \"rgb(20, 0, 145)\", \"width\": 2}}, {\"type\": \"scatter3d\", \"x\": [0, -0.21959], \"y\": [0, 1.882846], \"z\": [0, 0.63771], \"mode\": \"lines\", \"line\": {\"color\": \"rgb(20, 0, 145)\", \"width\": 2}}, {\"type\": \"scatter3d\", \"x\": [0, -0.21515], \"y\": [0, 1.884448], \"z\": [0, 0.63448], \"mode\": \"lines\", \"line\": {\"color\": \"rgb(20, 0, 145)\", \"width\": 2}}, {\"type\": \"scatter3d\", \"x\": [0, -0.217206], \"y\": [0, 1.883526], \"z\": [0, 0.636516], \"mode\": \"lines\", \"line\": {\"color\": \"rgb(20, 0, 145)\", \"width\": 2}}, {\"type\": \"scatter3d\", \"x\": [0, -0.215998], \"y\": [0, 1.884742], \"z\": [0, 0.63332], \"mode\": \"lines\", \"line\": {\"color\": \"rgb(20, 0, 145)\", \"width\": 2}}, {\"type\": \"scatter3d\", \"x\": [0, -0.215998], \"y\": [0, 1.884742], \"z\": [0, 0.63332], \"mode\": \"lines\", \"line\": {\"color\": \"rgb(20, 0, 145)\", \"width\": 2}}, {\"type\": \"scatter3d\", \"x\": [0, -0.216814], \"y\": [0, 1.883794], \"z\": [0, 0.635856], \"mode\": \"lines\", \"line\": {\"color\": \"rgb(20, 0, 145)\", \"width\": 2}}, {\"type\": \"scatter3d\", \"x\": [0, -0.217768], \"y\": [0, 1.883524], \"z\": [0, 0.63633], \"mode\": \"lines\", \"line\": {\"color\": \"rgb(20, 0, 145)\", \"width\": 2}}, {\"type\": \"scatter3d\", \"x\": [0, -0.218678], \"y\": [0, 1.884286], \"z\": [0, 0.633758], \"mode\": \"lines\", \"line\": {\"color\": \"rgb(20, 0, 145)\", \"width\": 2}}, {\"type\": \"scatter3d\", \"x\": [0, -0.217832], \"y\": [0, 1.884602], \"z\": [0, 0.633108], \"mode\": \"lines\", \"line\": {\"color\": \"rgb(20, 0, 145)\", \"width\": 2}}, {\"type\": \"scatter3d\", \"x\": [0, -0.218036], \"y\": [0, 1.885208], \"z\": [0, 0.63123], \"mode\": \"lines\", \"line\": {\"color\": \"rgb(20, 0, 145)\", \"width\": 2}}, {\"type\": \"scatter3d\", \"x\": [0, -0.218036], \"y\": [0, 1.885208], \"z\": [0, 0.63123], \"mode\": \"lines\", \"line\": {\"color\": \"rgb(20, 0, 145)\", \"width\": 2}}, {\"type\": \"scatter3d\", \"x\": [0, -0.219924], \"y\": [0, 1.884152], \"z\": [0, 0.633726], \"mode\": \"lines\", \"line\": {\"color\": \"rgb(20, 0, 145)\", \"width\": 2}}, {\"type\": \"scatter3d\", \"x\": [0, -0.21689], \"y\": [0, 1.88559], \"z\": [0, 0.630482], \"mode\": \"lines\", \"line\": {\"color\": \"rgb(20, 0, 145)\", \"width\": 2}}, {\"type\": \"scatter3d\", \"x\": [0, -0.21991], \"y\": [0, 1.883844], \"z\": [0, 0.634646], \"mode\": \"lines\", \"line\": {\"color\": \"rgb(20, 0, 145)\", \"width\": 2}}, {\"type\": \"scatter3d\", \"x\": [0, -0.214834], \"y\": [0, 1.88509], \"z\": [0, 0.63268], \"mode\": \"lines\", \"line\": {\"color\": \"rgb(20, 0, 145)\", \"width\": 2}}, {\"type\": \"scatter3d\", \"x\": [0, -0.214834], \"y\": [0, 1.88509], \"z\": [0, 0.63268], \"mode\": \"lines\", \"line\": {\"color\": \"rgb(20, 0, 145)\", \"width\": 2}}, {\"type\": \"scatter3d\", \"x\": [0, -0.217168], \"y\": [0, 1.885794], \"z\": [0, 0.629778], \"mode\": \"lines\", \"line\": {\"color\": \"rgb(20, 0, 145)\", \"width\": 2}}, {\"type\": \"scatter3d\", \"x\": [0, -0.217806], \"y\": [0, 1.883208], \"z\": [0, 0.637252], \"mode\": \"lines\", \"line\": {\"color\": \"rgb(20, 0, 145)\", \"width\": 2}}, {\"type\": \"scatter3d\", \"x\": [0, -0.212196], \"y\": [0, 1.881956], \"z\": [0, 0.642816], \"mode\": \"lines\", \"line\": {\"color\": \"rgb(20, 0, 145)\", \"width\": 2}}, {\"type\": \"scatter3d\", \"x\": [0, -0.20928], \"y\": [0, 1.881364], \"z\": [0, 0.645504], \"mode\": \"lines\", \"line\": {\"color\": \"rgb(20, 0, 145)\", \"width\": 2}}, {\"type\": \"scatter3d\", \"x\": [0, -0.211008], \"y\": [0, 1.88012], \"z\": [0, 0.648558], \"mode\": \"lines\", \"line\": {\"color\": \"rgb(20, 0, 145)\", \"width\": 2}}, {\"type\": \"scatter3d\", \"x\": [0, -0.211008], \"y\": [0, 1.88012], \"z\": [0, 0.648558], \"mode\": \"lines\", \"line\": {\"color\": \"rgb(20, 0, 145)\", \"width\": 2}}, {\"type\": \"scatter3d\", \"x\": [0, -0.217658], \"y\": [0, 1.878266], \"z\": [0, 0.65172], \"mode\": \"lines\", \"line\": {\"color\": \"rgb(20, 0, 145)\", \"width\": 2}}, {\"type\": \"scatter3d\", \"x\": [0, -0.217094], \"y\": [0, 1.878102], \"z\": [0, 0.652382], \"mode\": \"lines\", \"line\": {\"color\": \"rgb(20, 0, 145)\", \"width\": 2}}, {\"type\": \"scatter3d\", \"x\": [0, -0.218618], \"y\": [0, 1.878662], \"z\": [0, 0.65026], \"mode\": \"lines\", \"line\": {\"color\": \"rgb(20, 0, 145)\", \"width\": 2}}, {\"type\": \"scatter3d\", \"x\": [0, -0.215526], \"y\": [0, 1.879118], \"z\": [0, 0.649974], \"mode\": \"lines\", \"line\": {\"color\": \"rgb(20, 0, 145)\", \"width\": 2}}, {\"type\": \"scatter3d\", \"x\": [0, -0.2093], \"y\": [0, 1.8825], \"z\": [0, 0.642172], \"mode\": \"lines\", \"line\": {\"color\": \"rgb(20, 0, 145)\", \"width\": 2}}, {\"type\": \"scatter3d\", \"x\": [0, -0.20731], \"y\": [0, 1.884356], \"z\": [0, 0.637358], \"mode\": \"lines\", \"line\": {\"color\": \"rgb(20, 0, 145)\", \"width\": 2}}, {\"type\": \"scatter3d\", \"x\": [0, -0.0275842], \"y\": [0, 1.888012], \"z\": [0, 0.659282], \"mode\": \"lines\", \"line\": {\"color\": \"rgb(20, 0, 145)\", \"width\": 2}}, {\"type\": \"scatter3d\", \"x\": [0, -0.031196], \"y\": [0, 1.888734], \"z\": [0, 0.657046], \"mode\": \"lines\", \"line\": {\"color\": \"rgb(20, 0, 145)\", \"width\": 2}}, {\"type\": \"scatter3d\", \"x\": [0, -0.027978], \"y\": [0, 1.887538], \"z\": [0, 0.660618], \"mode\": \"lines\", \"line\": {\"color\": \"rgb(20, 0, 145)\", \"width\": 2}}, {\"type\": \"scatter3d\", \"x\": [0, -0.027978], \"y\": [0, 1.887538], \"z\": [0, 0.660618], \"mode\": \"lines\", \"line\": {\"color\": \"rgb(20, 0, 145)\", \"width\": 2}}, {\"type\": \"scatter3d\", \"x\": [0, -0.0311938], \"y\": [0, 1.888736], \"z\": [0, 0.65704], \"mode\": \"lines\", \"line\": {\"color\": \"rgb(20, 0, 145)\", \"width\": 2}}, {\"type\": \"scatter3d\", \"x\": [0, -0.028224], \"y\": [0, 1.88893], \"z\": [0, 0.656618], \"mode\": \"lines\", \"line\": {\"color\": \"rgb(20, 0, 145)\", \"width\": 2}}, {\"type\": \"scatter3d\", \"x\": [0, -0.0318616], \"y\": [0, 1.889326], \"z\": [0, 0.655308], \"mode\": \"lines\", \"line\": {\"color\": \"rgb(20, 0, 145)\", \"width\": 2}}, {\"type\": \"scatter3d\", \"x\": [0, -0.0292886], \"y\": [0, 1.889892], \"z\": [0, 0.653798], \"mode\": \"lines\", \"line\": {\"color\": \"rgb(20, 0, 145)\", \"width\": 2}}, {\"type\": \"scatter3d\", \"x\": [0, -0.0292886], \"y\": [0, 1.889892], \"z\": [0, 0.653798], \"mode\": \"lines\", \"line\": {\"color\": \"rgb(20, 0, 145)\", \"width\": 2}}, {\"type\": \"scatter3d\", \"x\": [0, -0.030904], \"y\": [0, 1.889804], \"z\": [0, 0.653976], \"mode\": \"lines\", \"line\": {\"color\": \"rgb(20, 0, 145)\", \"width\": 2}}, {\"type\": \"scatter3d\", \"x\": [0, -0.029631], \"y\": [0, 1.890356], \"z\": [0, 0.65244], \"mode\": \"lines\", \"line\": {\"color\": \"rgb(20, 0, 145)\", \"width\": 2}}, {\"type\": \"scatter3d\", \"x\": [0, -0.0305558], \"y\": [0, 1.890746], \"z\": [0, 0.651268], \"mode\": \"lines\", \"line\": {\"color\": \"rgb(20, 0, 145)\", \"width\": 2}}, {\"type\": \"scatter3d\", \"x\": [0, -0.0281102], \"y\": [0, 1.891976], \"z\": [0, 0.647796], \"mode\": \"lines\", \"line\": {\"color\": \"rgb(20, 0, 145)\", \"width\": 2}}, {\"type\": \"scatter3d\", \"x\": [0, -0.0281102], \"y\": [0, 1.891976], \"z\": [0, 0.647796], \"mode\": \"lines\", \"line\": {\"color\": \"rgb(20, 0, 145)\", \"width\": 2}}, {\"type\": \"scatter3d\", \"x\": [0, -0.025504], \"y\": [0, 1.892884], \"z\": [0, 0.645244], \"mode\": \"lines\", \"line\": {\"color\": \"rgb(20, 0, 145)\", \"width\": 2}}, {\"type\": \"scatter3d\", \"x\": [0, -0.0279886], \"y\": [0, 1.892656], \"z\": [0, 0.645812], \"mode\": \"lines\", \"line\": {\"color\": \"rgb(20, 0, 145)\", \"width\": 2}}, {\"type\": \"scatter3d\", \"x\": [0, -0.0284958], \"y\": [0, 1.8931], \"z\": [0, 0.644482], \"mode\": \"lines\", \"line\": {\"color\": \"rgb(20, 0, 145)\", \"width\": 2}}, {\"type\": \"scatter3d\", \"x\": [0, -0.0284958], \"y\": [0, 1.8931], \"z\": [0, 0.644482], \"mode\": \"lines\", \"line\": {\"color\": \"rgb(20, 0, 145)\", \"width\": 2}}, {\"type\": \"scatter3d\", \"x\": [0, -0.0303686], \"y\": [0, 1.894192], \"z\": [0, 0.64118], \"mode\": \"lines\", \"line\": {\"color\": \"rgb(20, 0, 145)\", \"width\": 2}}, {\"type\": \"scatter3d\", \"x\": [0, -0.0259756], \"y\": [0, 1.893606], \"z\": [0, 0.643104], \"mode\": \"lines\", \"line\": {\"color\": \"rgb(20, 0, 145)\", \"width\": 2}}, {\"type\": \"scatter3d\", \"x\": [0, -0.0317866], \"y\": [0, 1.893784], \"z\": [0, 0.642318], \"mode\": \"lines\", \"line\": {\"color\": \"rgb(20, 0, 145)\", \"width\": 2}}, {\"type\": \"scatter3d\", \"x\": [0, -0.0285552], \"y\": [0, 1.893628], \"z\": [0, 0.64293], \"mode\": \"lines\", \"line\": {\"color\": \"rgb(20, 0, 145)\", \"width\": 2}}, {\"type\": \"scatter3d\", \"x\": [0, -0.0320712], \"y\": [0, 1.891488], \"z\": [0, 0.649034], \"mode\": \"lines\", \"line\": {\"color\": \"rgb(20, 0, 145)\", \"width\": 2}}, {\"type\": \"scatter3d\", \"x\": [0, -0.0320712], \"y\": [0, 1.891488], \"z\": [0, 0.649034], \"mode\": \"lines\", \"line\": {\"color\": \"rgb(20, 0, 145)\", \"width\": 2}}, {\"type\": \"scatter3d\", \"x\": [0, -0.0295862], \"y\": [0, 1.891656], \"z\": [0, 0.648662], \"mode\": \"lines\", \"line\": {\"color\": \"rgb(20, 0, 145)\", \"width\": 2}}, {\"type\": \"scatter3d\", \"x\": [0, -0.0306554], \"y\": [0, 1.892606], \"z\": [0, 0.645832], \"mode\": \"lines\", \"line\": {\"color\": \"rgb(20, 0, 145)\", \"width\": 2}}, {\"type\": \"scatter3d\", \"x\": [0, -0.0296678], \"y\": [0, 1.891344], \"z\": [0, 0.649564], \"mode\": \"lines\", \"line\": {\"color\": \"rgb(20, 0, 145)\", \"width\": 2}}, {\"type\": \"scatter3d\", \"x\": [0, -0.0278684], \"y\": [0, 1.89287], \"z\": [0, 0.645186], \"mode\": \"lines\", \"line\": {\"color\": \"rgb(20, 0, 145)\", \"width\": 2}}, {\"type\": \"scatter3d\", \"x\": [0, -0.0278684], \"y\": [0, 1.89287], \"z\": [0, 0.645186], \"mode\": \"lines\", \"line\": {\"color\": \"rgb(20, 0, 145)\", \"width\": 2}}, {\"type\": \"scatter3d\", \"x\": [0, -0.0302714], \"y\": [0, 1.891658], \"z\": [0, 0.648626], \"mode\": \"lines\", \"line\": {\"color\": \"rgb(20, 0, 145)\", \"width\": 2}}, {\"type\": \"scatter3d\", \"x\": [0, -0.03099], \"y\": [0, 1.890948], \"z\": [0, 0.650658], \"mode\": \"lines\", \"line\": {\"color\": \"rgb(20, 0, 145)\", \"width\": 2}}, {\"type\": \"scatter3d\", \"x\": [0, -0.032236], \"y\": [0, 1.891698], \"z\": [0, 0.648414], \"mode\": \"lines\", \"line\": {\"color\": \"rgb(20, 0, 145)\", \"width\": 2}}, {\"type\": \"scatter3d\", \"x\": [0, -0.032236], \"y\": [0, 1.891698], \"z\": [0, 0.648414], \"mode\": \"lines\", \"line\": {\"color\": \"rgb(20, 0, 145)\", \"width\": 2}}, {\"type\": \"scatter3d\", \"x\": [0, -0.0292842], \"y\": [0, 1.891266], \"z\": [0, 0.649812], \"mode\": \"lines\", \"line\": {\"color\": \"rgb(20, 0, 145)\", \"width\": 2}}, {\"type\": \"scatter3d\", \"x\": [0, -0.029078], \"y\": [0, 1.892976], \"z\": [0, 0.644824], \"mode\": \"lines\", \"line\": {\"color\": \"rgb(20, 0, 145)\", \"width\": 2}}, {\"type\": \"scatter3d\", \"x\": [0, -0.02892], \"y\": [0, 1.891446], \"z\": [0, 0.649306], \"mode\": \"lines\", \"line\": {\"color\": \"rgb(20, 0, 145)\", \"width\": 2}}, {\"type\": \"scatter3d\", \"x\": [0, -0.0302572], \"y\": [0, 1.891788], \"z\": [0, 0.648248], \"mode\": \"lines\", \"line\": {\"color\": \"rgb(20, 0, 145)\", \"width\": 2}}, {\"type\": \"scatter3d\", \"x\": [0, -0.0285502], \"y\": [0, 1.89205], \"z\": [0, 0.64756], \"mode\": \"lines\", \"line\": {\"color\": \"rgb(20, 0, 145)\", \"width\": 2}}, {\"type\": \"scatter3d\", \"x\": [0, -0.0285502], \"y\": [0, 1.89205], \"z\": [0, 0.64756], \"mode\": \"lines\", \"line\": {\"color\": \"rgb(20, 0, 145)\", \"width\": 2}}, {\"type\": \"scatter3d\", \"x\": [0, -0.0310472], \"y\": [0, 1.892114], \"z\": [0, 0.647258], \"mode\": \"lines\", \"line\": {\"color\": \"rgb(20, 0, 145)\", \"width\": 2}}, {\"type\": \"scatter3d\", \"x\": [0, -0.0273702], \"y\": [0, 1.89491], \"z\": [0, 0.63919], \"mode\": \"lines\", \"line\": {\"color\": \"rgb(20, 0, 145)\", \"width\": 2}}, {\"type\": \"scatter3d\", \"x\": [0, -0.023204], \"y\": [0, 1.900584], \"z\": [0, 0.622288], \"mode\": \"lines\", \"line\": {\"color\": \"rgb(20, 0, 145)\", \"width\": 2}}, {\"type\": \"scatter3d\", \"x\": [0, 0.001197766], \"y\": [0, 1.90769], \"z\": [0, 0.600598], \"mode\": \"lines\", \"line\": {\"color\": \"rgb(20, 0, 145)\", \"width\": 2}}, {\"type\": \"scatter3d\", \"x\": [0, 0.001197766], \"y\": [0, 1.90769], \"z\": [0, 0.600598], \"mode\": \"lines\", \"line\": {\"color\": \"rgb(20, 0, 145)\", \"width\": 2}}, {\"type\": \"scatter3d\", \"x\": [0, 0.0246534], \"y\": [0, 1.904016], \"z\": [0, 0.611652], \"mode\": \"lines\", \"line\": {\"color\": \"rgb(20, 0, 145)\", \"width\": 2}}, {\"type\": \"scatter3d\", \"x\": [0, 0.0344024], \"y\": [0, 1.896512], \"z\": [0, 0.634082], \"mode\": \"lines\", \"line\": {\"color\": \"rgb(20, 0, 145)\", \"width\": 2}}, {\"type\": \"scatter3d\", \"x\": [0, 0.0387388], \"y\": [0, 1.894384], \"z\": [0, 0.64016], \"mode\": \"lines\", \"line\": {\"color\": \"rgb(20, 0, 145)\", \"width\": 2}}, {\"type\": \"scatter3d\", \"x\": [0, 0.0268282], \"y\": [0, 1.887326], \"z\": [0, 0.661274], \"mode\": \"lines\", \"line\": {\"color\": \"rgb(20, 0, 145)\", \"width\": 2}}, {\"type\": \"scatter3d\", \"x\": [0, 0.0268282], \"y\": [0, 1.887326], \"z\": [0, 0.661274], \"mode\": \"lines\", \"line\": {\"color\": \"rgb(20, 0, 145)\", \"width\": 2}}, {\"type\": \"scatter3d\", \"x\": [0, 0.01626382], \"y\": [0, 1.890352], \"z\": [0, 0.65292], \"mode\": \"lines\", \"line\": {\"color\": \"rgb(20, 0, 145)\", \"width\": 2}}, {\"type\": \"scatter3d\", \"x\": [0, 0.00811786], \"y\": [0, 1.89085], \"z\": [0, 0.65163], \"mode\": \"lines\", \"line\": {\"color\": \"rgb(20, 0, 145)\", \"width\": 2}}, {\"type\": \"scatter3d\", \"x\": [0, 0.000507692], \"y\": [0, 1.89243], \"z\": [0, 0.647074], \"mode\": \"lines\", \"line\": {\"color\": \"rgb(20, 0, 145)\", \"width\": 2}}, {\"type\": \"scatter3d\", \"x\": [0, -0.0026875], \"y\": [0, 1.894498], \"z\": [0, 0.64099], \"mode\": \"lines\", \"line\": {\"color\": \"rgb(20, 0, 145)\", \"width\": 2}}, {\"type\": \"scatter3d\", \"x\": [0, -0.0026875], \"y\": [0, 1.894498], \"z\": [0, 0.64099], \"mode\": \"lines\", \"line\": {\"color\": \"rgb(20, 0, 145)\", \"width\": 2}}, {\"type\": \"scatter3d\", \"x\": [0, 0.00240614], \"y\": [0, 1.894944], \"z\": [0, 0.639676], \"mode\": \"lines\", \"line\": {\"color\": \"rgb(20, 0, 145)\", \"width\": 2}}, {\"type\": \"scatter3d\", \"x\": [0, -0.000938938], \"y\": [0, 1.894284], \"z\": [0, 0.641626], \"mode\": \"lines\", \"line\": {\"color\": \"rgb(20, 0, 145)\", \"width\": 2}}, {\"type\": \"scatter3d\", \"x\": [0, 0.00232406], \"y\": [0, 1.895632], \"z\": [0, 0.637634], \"mode\": \"lines\", \"line\": {\"color\": \"rgb(20, 0, 145)\", \"width\": 2}}, {\"type\": \"scatter3d\", \"x\": [0, -0.0023555], \"y\": [0, 1.896892], \"z\": [0, 0.633876], \"mode\": \"lines\", \"line\": {\"color\": \"rgb(20, 0, 145)\", \"width\": 2}}, {\"type\": \"scatter3d\", \"x\": [0, -0.00026757], \"y\": [0, 1.89521], \"z\": [0, 0.63889], \"mode\": \"lines\", \"line\": {\"color\": \"rgb(20, 0, 145)\", \"width\": 2}}, {\"type\": \"scatter3d\", \"x\": [0, -0.00026757], \"y\": [0, 1.89521], \"z\": [0, 0.63889], \"mode\": \"lines\", \"line\": {\"color\": \"rgb(20, 0, 145)\", \"width\": 2}}, {\"type\": \"scatter3d\", \"x\": [0, 0.0001136336], \"y\": [0, 1.895842], \"z\": [0, 0.637014], \"mode\": \"lines\", \"line\": {\"color\": \"rgb(20, 0, 145)\", \"width\": 2}}, {\"type\": \"scatter3d\", \"x\": [0, -0.00280624], \"y\": [0, 1.89596], \"z\": [0, 0.636652], \"mode\": \"lines\", \"line\": {\"color\": \"rgb(20, 0, 145)\", \"width\": 2}}, {\"type\": \"scatter3d\", \"x\": [0, -0.00280624], \"y\": [0, 1.89596], \"z\": [0, 0.636652], \"mode\": \"lines\", \"line\": {\"color\": \"rgb(20, 0, 145)\", \"width\": 2}}, {\"type\": \"scatter3d\", \"x\": [0, -0.001753024], \"y\": [0, 1.893772], \"z\": [0, 0.643136], \"mode\": \"lines\", \"line\": {\"color\": \"rgb(20, 0, 145)\", \"width\": 2}}, {\"type\": \"scatter3d\", \"x\": [0, -0.001332424], \"y\": [0, 1.893246], \"z\": [0, 0.644684], \"mode\": \"lines\", \"line\": {\"color\": \"rgb(20, 0, 145)\", \"width\": 2}}, {\"type\": \"scatter3d\", \"x\": [0, -0.00388438], \"y\": [0, 1.892356], \"z\": [0, 0.647284], \"mode\": \"lines\", \"line\": {\"color\": \"rgb(20, 0, 145)\", \"width\": 2}}, {\"type\": \"scatter3d\", \"x\": [0, -0.00244086], \"y\": [0, 1.891568], \"z\": [0, 0.649588], \"mode\": \"lines\", \"line\": {\"color\": \"rgb(20, 0, 145)\", \"width\": 2}}, {\"type\": \"scatter3d\", \"x\": [0, -0.00313818], \"y\": [0, 1.891354], \"z\": [0, 0.65021], \"mode\": \"lines\", \"line\": {\"color\": \"rgb(20, 0, 145)\", \"width\": 2}}, {\"type\": \"scatter3d\", \"x\": [0, -0.00313818], \"y\": [0, 1.891354], \"z\": [0, 0.65021], \"mode\": \"lines\", \"line\": {\"color\": \"rgb(20, 0, 145)\", \"width\": 2}}, {\"type\": \"scatter3d\", \"x\": [0, -0.00223098], \"y\": [0, 1.890686], \"z\": [0, 0.652152], \"mode\": \"lines\", \"line\": {\"color\": \"rgb(20, 0, 145)\", \"width\": 2}}, {\"type\": \"scatter3d\", \"x\": [0, -0.000333238], \"y\": [0, 1.891384], \"z\": [0, 0.65013], \"mode\": \"lines\", \"line\": {\"color\": \"rgb(20, 0, 145)\", \"width\": 2}}, {\"type\": \"scatter3d\", \"x\": [0, -0.001461194], \"y\": [0, 1.891384], \"z\": [0, 0.650126], \"mode\": \"lines\", \"line\": {\"color\": \"rgb(20, 0, 145)\", \"width\": 2}}, {\"type\": \"scatter3d\", \"x\": [0, -0.0029896], \"y\": [0, 1.89117], \"z\": [0, 0.650744], \"mode\": \"lines\", \"line\": {\"color\": \"rgb(20, 0, 145)\", \"width\": 2}}, {\"type\": \"scatter3d\", \"x\": [0, -0.00499368], \"y\": [0, 1.889288], \"z\": [0, 0.656178], \"mode\": \"lines\", \"line\": {\"color\": \"rgb(20, 0, 145)\", \"width\": 2}}, {\"type\": \"scatter3d\", \"x\": [0, -0.00499368], \"y\": [0, 1.889288], \"z\": [0, 0.656178], \"mode\": \"lines\", \"line\": {\"color\": \"rgb(20, 0, 145)\", \"width\": 2}}, {\"type\": \"scatter3d\", \"x\": [0, -0.00339532], \"y\": [0, 1.89115], \"z\": [0, 0.6508], \"mode\": \"lines\", \"line\": {\"color\": \"rgb(20, 0, 145)\", \"width\": 2}}, {\"type\": \"scatter3d\", \"x\": [0, -0.00321652], \"y\": [0, 1.890562], \"z\": [0, 0.652508], \"mode\": \"lines\", \"line\": {\"color\": \"rgb(20, 0, 145)\", \"width\": 2}}, {\"type\": \"scatter3d\", \"x\": [0, -0.00447062], \"y\": [0, 1.890046], \"z\": [0, 0.653994], \"mode\": \"lines\", \"line\": {\"color\": \"rgb(20, 0, 145)\", \"width\": 2}}, {\"type\": \"scatter3d\", \"x\": [0, -0.00447062], \"y\": [0, 1.890046], \"z\": [0, 0.653994], \"mode\": \"lines\", \"line\": {\"color\": \"rgb(20, 0, 145)\", \"width\": 2}}, {\"type\": \"scatter3d\", \"x\": [0, -0.00812364], \"y\": [0, 1.889748], \"z\": [0, 0.654816], \"mode\": \"lines\", \"line\": {\"color\": \"rgb(20, 0, 145)\", \"width\": 2}}, {\"type\": \"scatter3d\", \"x\": [0, -0.00691842], \"y\": [0, 1.890668], \"z\": [0, 0.65217], \"mode\": \"lines\", \"line\": {\"color\": \"rgb(20, 0, 145)\", \"width\": 2}}, {\"type\": \"scatter3d\", \"x\": [0, -0.00591838], \"y\": [0, 1.889242], \"z\": [0, 0.656302], \"mode\": \"lines\", \"line\": {\"color\": \"rgb(20, 0, 145)\", \"width\": 2}}, {\"type\": \"scatter3d\", \"x\": [0, -0.0067534], \"y\": [0, 1.890004], \"z\": [0, 0.654096], \"mode\": \"lines\", \"line\": {\"color\": \"rgb(20, 0, 145)\", \"width\": 2}}, {\"type\": \"scatter3d\", \"x\": [0, -0.0067534], \"y\": [0, 1.890004], \"z\": [0, 0.654096], \"mode\": \"lines\", \"line\": {\"color\": \"rgb(20, 0, 145)\", \"width\": 2}}, {\"type\": \"scatter3d\", \"x\": [0, -0.00927956], \"y\": [0, 1.89142], \"z\": [0, 0.649954], \"mode\": \"lines\", \"line\": {\"color\": \"rgb(20, 0, 145)\", \"width\": 2}}, {\"type\": \"scatter3d\", \"x\": [0, -0.00722574], \"y\": [0, 1.890574], \"z\": [0, 0.652442], \"mode\": \"lines\", \"line\": {\"color\": \"rgb(20, 0, 145)\", \"width\": 2}}, {\"type\": \"scatter3d\", \"x\": [0, -0.010015], \"y\": [0, 1.890328], \"z\": [0, 0.653118], \"mode\": \"lines\", \"line\": {\"color\": \"rgb(20, 0, 145)\", \"width\": 2}}, {\"type\": \"scatter3d\", \"x\": [0, -0.0094743], \"y\": [0, 1.891216], \"z\": [0, 0.650544], \"mode\": \"lines\", \"line\": {\"color\": \"rgb(20, 0, 145)\", \"width\": 2}}, {\"type\": \"scatter3d\", \"x\": [0, -0.0094743], \"y\": [0, 1.891216], \"z\": [0, 0.650544], \"mode\": \"lines\", \"line\": {\"color\": \"rgb(20, 0, 145)\", \"width\": 2}}, {\"type\": \"scatter3d\", \"x\": [0, -0.00737596], \"y\": [0, 1.891662], \"z\": [0, 0.64928], \"mode\": \"lines\", \"line\": {\"color\": \"rgb(20, 0, 145)\", \"width\": 2}}, {\"type\": \"scatter3d\", \"x\": [0, -0.00965694], \"y\": [0, 1.892544], \"z\": [0, 0.64667], \"mode\": \"lines\", \"line\": {\"color\": \"rgb(20, 0, 145)\", \"width\": 2}}, {\"type\": \"scatter3d\", \"x\": [0, -0.01071622], \"y\": [0, 1.89171], \"z\": [0, 0.64909], \"mode\": \"lines\", \"line\": {\"color\": \"rgb(20, 0, 145)\", \"width\": 2}}, {\"type\": \"scatter3d\", \"x\": [0, -0.01044702], \"y\": [0, 1.892778], \"z\": [0, 0.645976], \"mode\": \"lines\", \"line\": {\"color\": \"rgb(20, 0, 145)\", \"width\": 2}}, {\"type\": \"scatter3d\", \"x\": [0, -0.01044702], \"y\": [0, 1.892778], \"z\": [0, 0.645976], \"mode\": \"lines\", \"line\": {\"color\": \"rgb(20, 0, 145)\", \"width\": 2}}, {\"type\": \"scatter3d\", \"x\": [0, -0.00843292], \"y\": [0, 1.891318], \"z\": [0, 0.650264], \"mode\": \"lines\", \"line\": {\"color\": \"rgb(20, 0, 145)\", \"width\": 2}}, {\"type\": \"scatter3d\", \"x\": [0, -0.00918532], \"y\": [0, 1.892824], \"z\": [0, 0.645858], \"mode\": \"lines\", \"line\": {\"color\": \"rgb(20, 0, 145)\", \"width\": 2}}, {\"type\": \"scatter3d\", \"x\": [0, -0.00769004], \"y\": [0, 1.892066], \"z\": [0, 0.648092], \"mode\": \"lines\", \"line\": {\"color\": \"rgb(20, 0, 145)\", \"width\": 2}}, {\"type\": \"scatter3d\", \"x\": [0, -0.01487422], \"y\": [0, 1.891576], \"z\": [0, 0.649402], \"mode\": \"lines\", \"line\": {\"color\": \"rgb(20, 0, 145)\", \"width\": 2}}, {\"type\": \"scatter3d\", \"x\": [0, -0.0115748], \"y\": [0, 1.893428], \"z\": [0, 0.644046], \"mode\": \"lines\", \"line\": {\"color\": \"rgb(20, 0, 145)\", \"width\": 2}}, {\"type\": \"scatter3d\", \"x\": [0, -0.0115748], \"y\": [0, 1.893428], \"z\": [0, 0.644046], \"mode\": \"lines\", \"line\": {\"color\": \"rgb(20, 0, 145)\", \"width\": 2}}, {\"type\": \"scatter3d\", \"x\": [0, 0.275772], \"y\": [0, 1.886714], \"z\": [0, 0.603542], \"mode\": \"lines\", \"line\": {\"color\": \"rgb(20, 0, 145)\", \"width\": 2}}, {\"type\": \"scatter3d\", \"x\": [0, 0.276378], \"y\": [0, 1.886842], \"z\": [0, 0.602862], \"mode\": \"lines\", \"line\": {\"color\": \"rgb(20, 0, 145)\", \"width\": 2}}, {\"type\": \"scatter3d\", \"x\": [0, 0.276374], \"y\": [0, 1.886382], \"z\": [0, 0.604302], \"mode\": \"lines\", \"line\": {\"color\": \"rgb(20, 0, 145)\", \"width\": 2}}, {\"type\": \"scatter3d\", \"x\": [0, 0.276166], \"y\": [0, 1.887598], \"z\": [0, 0.60059], \"mode\": \"lines\", \"line\": {\"color\": \"rgb(20, 0, 145)\", \"width\": 2}}, {\"type\": \"scatter3d\", \"x\": [0, 0.276166], \"y\": [0, 1.887598], \"z\": [0, 0.60059], \"mode\": \"lines\", \"line\": {\"color\": \"rgb(20, 0, 145)\", \"width\": 2}}, {\"type\": \"scatter3d\", \"x\": [0, 0.272318], \"y\": [0, 1.886936], \"z\": [0, 0.60441], \"mode\": \"lines\", \"line\": {\"color\": \"rgb(20, 0, 145)\", \"width\": 2}}, {\"type\": \"scatter3d\", \"x\": [0, 0.27537], \"y\": [0, 1.885608], \"z\": [0, 0.607168], \"mode\": \"lines\", \"line\": {\"color\": \"rgb(20, 0, 145)\", \"width\": 2}}, {\"type\": \"scatter3d\", \"x\": [0, 0.276134], \"y\": [0, 1.887072], \"z\": [0, 0.602252], \"mode\": \"lines\", \"line\": {\"color\": \"rgb(20, 0, 145)\", \"width\": 2}}, {\"type\": \"scatter3d\", \"x\": [0, 0.27357], \"y\": [0, 1.88727], \"z\": [0, 0.602802], \"mode\": \"lines\", \"line\": {\"color\": \"rgb(20, 0, 145)\", \"width\": 2}}, {\"type\": \"scatter3d\", \"x\": [0, 0.27357], \"y\": [0, 1.88727], \"z\": [0, 0.602802], \"mode\": \"lines\", \"line\": {\"color\": \"rgb(20, 0, 145)\", \"width\": 2}}, {\"type\": \"scatter3d\", \"x\": [0, 0.27633], \"y\": [0, 1.887256], \"z\": [0, 0.60159], \"mode\": \"lines\", \"line\": {\"color\": \"rgb(20, 0, 145)\", \"width\": 2}}, {\"type\": \"scatter3d\", \"x\": [0, 0.271294], \"y\": [0, 1.886632], \"z\": [0, 0.605822], \"mode\": \"lines\", \"line\": {\"color\": \"rgb(20, 0, 145)\", \"width\": 2}}, {\"type\": \"scatter3d\", \"x\": [0, 0.273028], \"y\": [0, 1.887774], \"z\": [0, 0.601472], \"mode\": \"lines\", \"line\": {\"color\": \"rgb(20, 0, 145)\", \"width\": 2}}, {\"type\": \"scatter3d\", \"x\": [0, 0.273028], \"y\": [0, 1.887774], \"z\": [0, 0.601472], \"mode\": \"lines\", \"line\": {\"color\": \"rgb(20, 0, 145)\", \"width\": 2}}, {\"type\": \"scatter3d\", \"x\": [0, 0.27528], \"y\": [0, 1.886902], \"z\": [0, 0.603178], \"mode\": \"lines\", \"line\": {\"color\": \"rgb(20, 0, 145)\", \"width\": 2}}, {\"type\": \"scatter3d\", \"x\": [0, 0.274612], \"y\": [0, 1.887222], \"z\": [0, 0.602476], \"mode\": \"lines\", \"line\": {\"color\": \"rgb(20, 0, 145)\", \"width\": 2}}, {\"type\": \"scatter3d\", \"x\": [0, 0.273838], \"y\": [0, 1.887424], \"z\": [0, 0.602202], \"mode\": \"lines\", \"line\": {\"color\": \"rgb(20, 0, 145)\", \"width\": 2}}, {\"type\": \"scatter3d\", \"x\": [0, 0.27306], \"y\": [0, 1.887606], \"z\": [0, 0.60198], \"mode\": \"lines\", \"line\": {\"color\": \"rgb(20, 0, 145)\", \"width\": 2}}, {\"type\": \"scatter3d\", \"x\": [0, 0.273786], \"y\": [0, 1.887744], \"z\": [0, 0.601216], \"mode\": \"lines\", \"line\": {\"color\": \"rgb(20, 0, 145)\", \"width\": 2}}, {\"type\": \"scatter3d\", \"x\": [0, 0.273786], \"y\": [0, 1.887744], \"z\": [0, 0.601216], \"mode\": \"lines\", \"line\": {\"color\": \"rgb(20, 0, 145)\", \"width\": 2}}, {\"type\": \"scatter3d\", \"x\": [0, 0.271696], \"y\": [0, 1.888946], \"z\": [0, 0.598386], \"mode\": \"lines\", \"line\": {\"color\": \"rgb(20, 0, 145)\", \"width\": 2}}, {\"type\": \"scatter3d\", \"x\": [0, 0.274898], \"y\": [0, 1.887502], \"z\": [0, 0.601474], \"mode\": \"lines\", \"line\": {\"color\": \"rgb(20, 0, 145)\", \"width\": 2}}, {\"type\": \"scatter3d\", \"x\": [0, 0.271998], \"y\": [0, 1.888094], \"z\": [0, 0.600932], \"mode\": \"lines\", \"line\": {\"color\": \"rgb(20, 0, 145)\", \"width\": 2}}, {\"type\": \"scatter3d\", \"x\": [0, 0.271998], \"y\": [0, 1.888094], \"z\": [0, 0.600932], \"mode\": \"lines\", \"line\": {\"color\": \"rgb(20, 0, 145)\", \"width\": 2}}, {\"type\": \"scatter3d\", \"x\": [0, 0.27365], \"y\": [0, 1.888156], \"z\": [0, 0.599982], \"mode\": \"lines\", \"line\": {\"color\": \"rgb(20, 0, 145)\", \"width\": 2}}, {\"type\": \"scatter3d\", \"x\": [0, 0.276008], \"y\": [0, 1.88809], \"z\": [0, 0.59911], \"mode\": \"lines\", \"line\": {\"color\": \"rgb(20, 0, 145)\", \"width\": 2}}, {\"type\": \"scatter3d\", \"x\": [0, 0.273884], \"y\": [0, 1.888224], \"z\": [0, 0.599668], \"mode\": \"lines\", \"line\": {\"color\": \"rgb(20, 0, 145)\", \"width\": 2}}, {\"type\": \"scatter3d\", \"x\": [0, 0.268864], \"y\": [0, 1.889626], \"z\": [0, 0.597516], \"mode\": \"lines\", \"line\": {\"color\": \"rgb(20, 0, 145)\", \"width\": 2}}, {\"type\": \"scatter3d\", \"x\": [0, 0.271752], \"y\": [0, 1.888782], \"z\": [0, 0.598876], \"mode\": \"lines\", \"line\": {\"color\": \"rgb(20, 0, 145)\", \"width\": 2}}, {\"type\": \"scatter3d\", \"x\": [0, 0.271752], \"y\": [0, 1.888782], \"z\": [0, 0.598876], \"mode\": \"lines\", \"line\": {\"color\": \"rgb(20, 0, 145)\", \"width\": 2}}, {\"type\": \"scatter3d\", \"x\": [0, 0.27013], \"y\": [0, 1.889274], \"z\": [0, 0.598058], \"mode\": \"lines\", \"line\": {\"color\": \"rgb(20, 0, 145)\", \"width\": 2}}, {\"type\": \"scatter3d\", \"x\": [0, 0.26979], \"y\": [0, 1.88977], \"z\": [0, 0.596642], \"mode\": \"lines\", \"line\": {\"color\": \"rgb(20, 0, 145)\", \"width\": 2}}, {\"type\": \"scatter3d\", \"x\": [0, 0.265828], \"y\": [0, 1.890104], \"z\": [0, 0.59736], \"mode\": \"lines\", \"line\": {\"color\": \"rgb(20, 0, 145)\", \"width\": 2}}, {\"type\": \"scatter3d\", \"x\": [0, 0.269144], \"y\": [0, 1.890274], \"z\": [0, 0.595336], \"mode\": \"lines\", \"line\": {\"color\": \"rgb(20, 0, 145)\", \"width\": 2}}, {\"type\": \"scatter3d\", \"x\": [0, 0.269144], \"y\": [0, 1.890274], \"z\": [0, 0.595336], \"mode\": \"lines\", \"line\": {\"color\": \"rgb(20, 0, 145)\", \"width\": 2}}, {\"type\": \"scatter3d\", \"x\": [0, 0.266572], \"y\": [0, 1.89031], \"z\": [0, 0.596378], \"mode\": \"lines\", \"line\": {\"color\": \"rgb(20, 0, 145)\", \"width\": 2}}, {\"type\": \"scatter3d\", \"x\": [0, 0.265642], \"y\": [0, 1.891054], \"z\": [0, 0.594432], \"mode\": \"lines\", \"line\": {\"color\": \"rgb(20, 0, 145)\", \"width\": 2}}, {\"type\": \"scatter3d\", \"x\": [0, 0.266866], \"y\": [0, 1.890758], \"z\": [0, 0.594824], \"mode\": \"lines\", \"line\": {\"color\": \"rgb(20, 0, 145)\", \"width\": 2}}, {\"type\": \"scatter3d\", \"x\": [0, 0.269438], \"y\": [0, 1.89033], \"z\": [0, 0.595026], \"mode\": \"lines\", \"line\": {\"color\": \"rgb(20, 0, 145)\", \"width\": 2}}, {\"type\": \"scatter3d\", \"x\": [0, 0.269438], \"y\": [0, 1.89033], \"z\": [0, 0.595026], \"mode\": \"lines\", \"line\": {\"color\": \"rgb(20, 0, 145)\", \"width\": 2}}, {\"type\": \"scatter3d\", \"x\": [0, 0.268076], \"y\": [0, 1.889086], \"z\": [0, 0.599578], \"mode\": \"lines\", \"line\": {\"color\": \"rgb(20, 0, 145)\", \"width\": 2}}, {\"type\": \"scatter3d\", \"x\": [0, 0.266102], \"y\": [0, 1.888952], \"z\": [0, 0.600878], \"mode\": \"lines\", \"line\": {\"color\": \"rgb(20, 0, 145)\", \"width\": 2}}, {\"type\": \"scatter3d\", \"x\": [0, 0.266018], \"y\": [0, 1.890248], \"z\": [0, 0.596824], \"mode\": \"lines\", \"line\": {\"color\": \"rgb(20, 0, 145)\", \"width\": 2}}, {\"type\": \"scatter3d\", \"x\": [0, 0.26133], \"y\": [0, 1.889824], \"z\": [0, 0.600228], \"mode\": \"lines\", \"line\": {\"color\": \"rgb(20, 0, 145)\", \"width\": 2}}, {\"type\": \"scatter3d\", \"x\": [0, 0.26133], \"y\": [0, 1.889824], \"z\": [0, 0.600228], \"mode\": \"lines\", \"line\": {\"color\": \"rgb(20, 0, 145)\", \"width\": 2}}, {\"type\": \"scatter3d\", \"x\": [0, 0.26444], \"y\": [0, 1.890584], \"z\": [0, 0.59646], \"mode\": \"lines\", \"line\": {\"color\": \"rgb(20, 0, 145)\", \"width\": 2}}, {\"type\": \"scatter3d\", \"x\": [0, 0.25762], \"y\": [0, 1.891038], \"z\": [0, 0.598002], \"mode\": \"lines\", \"line\": {\"color\": \"rgb(20, 0, 145)\", \"width\": 2}}, {\"type\": \"scatter3d\", \"x\": [0, 0.263304], \"y\": [0, 1.891702], \"z\": [0, 0.593408], \"mode\": \"lines\", \"line\": {\"color\": \"rgb(20, 0, 145)\", \"width\": 2}}, {\"type\": \"scatter3d\", \"x\": [0, 0.257662], \"y\": [0, 1.89154], \"z\": [0, 0.596394], \"mode\": \"lines\", \"line\": {\"color\": \"rgb(20, 0, 145)\", \"width\": 2}}, {\"type\": \"scatter3d\", \"x\": [0, 0.257662], \"y\": [0, 1.89154], \"z\": [0, 0.596394], \"mode\": \"lines\", \"line\": {\"color\": \"rgb(20, 0, 145)\", \"width\": 2}}, {\"type\": \"scatter3d\", \"x\": [0, 0.252914], \"y\": [0, 1.891086], \"z\": [0, 0.599858], \"mode\": \"lines\", \"line\": {\"color\": \"rgb(20, 0, 145)\", \"width\": 2}}, {\"type\": \"scatter3d\", \"x\": [0, 0.25932], \"y\": [0, 1.891124], \"z\": [0, 0.596994], \"mode\": \"lines\", \"line\": {\"color\": \"rgb(20, 0, 145)\", \"width\": 2}}, {\"type\": \"scatter3d\", \"x\": [0, 0.25829], \"y\": [0, 1.890338], \"z\": [0, 0.599926], \"mode\": \"lines\", \"line\": {\"color\": \"rgb(20, 0, 145)\", \"width\": 2}}, {\"type\": \"scatter3d\", \"x\": [0, 0.261856], \"y\": [0, 1.891316], \"z\": [0, 0.595278], \"mode\": \"lines\", \"line\": {\"color\": \"rgb(20, 0, 145)\", \"width\": 2}}, {\"type\": \"scatter3d\", \"x\": [0, 0.261856], \"y\": [0, 1.891316], \"z\": [0, 0.595278], \"mode\": \"lines\", \"line\": {\"color\": \"rgb(20, 0, 145)\", \"width\": 2}}, {\"type\": \"scatter3d\", \"x\": [0, 0.253342], \"y\": [0, 1.890874], \"z\": [0, 0.600342], \"mode\": \"lines\", \"line\": {\"color\": \"rgb(20, 0, 145)\", \"width\": 2}}, {\"type\": \"scatter3d\", \"x\": [0, 0.259448], \"y\": [0, 1.892088], \"z\": [0, 0.59388], \"mode\": \"lines\", \"line\": {\"color\": \"rgb(20, 0, 145)\", \"width\": 2}}, {\"type\": \"scatter3d\", \"x\": [0, 0.256432], \"y\": [0, 1.891122], \"z\": [0, 0.59825], \"mode\": \"lines\", \"line\": {\"color\": \"rgb(20, 0, 145)\", \"width\": 2}}, {\"type\": \"scatter3d\", \"x\": [0, 0.259112], \"y\": [0, 1.891848], \"z\": [0, 0.59479], \"mode\": \"lines\", \"line\": {\"color\": \"rgb(20, 0, 145)\", \"width\": 2}}, {\"type\": \"scatter3d\", \"x\": [0, 0.259112], \"y\": [0, 1.891848], \"z\": [0, 0.59479], \"mode\": \"lines\", \"line\": {\"color\": \"rgb(20, 0, 145)\", \"width\": 2}}, {\"type\": \"scatter3d\", \"x\": [0, 0.260448], \"y\": [0, 1.891594], \"z\": [0, 0.595012], \"mode\": \"lines\", \"line\": {\"color\": \"rgb(20, 0, 145)\", \"width\": 2}}, {\"type\": \"scatter3d\", \"x\": [0, 0.258944], \"y\": [0, 1.890478], \"z\": [0, 0.5992], \"mode\": \"lines\", \"line\": {\"color\": \"rgb(20, 0, 145)\", \"width\": 2}}, {\"type\": \"scatter3d\", \"x\": [0, 0.259556], \"y\": [0, 1.890548], \"z\": [0, 0.598718], \"mode\": \"lines\", \"line\": {\"color\": \"rgb(20, 0, 145)\", \"width\": 2}}, {\"type\": \"scatter3d\", \"x\": [0, 0.258494], \"y\": [0, 1.890722], \"z\": [0, 0.598622], \"mode\": \"lines\", \"line\": {\"color\": \"rgb(20, 0, 145)\", \"width\": 2}}, {\"type\": \"scatter3d\", \"x\": [0, 0.258494], \"y\": [0, 1.890722], \"z\": [0, 0.598622], \"mode\": \"lines\", \"line\": {\"color\": \"rgb(20, 0, 145)\", \"width\": 2}}, {\"type\": \"scatter3d\", \"x\": [0, 0.262066], \"y\": [0, 1.89134], \"z\": [0, 0.59511], \"mode\": \"lines\", \"line\": {\"color\": \"rgb(20, 0, 145)\", \"width\": 2}}, {\"type\": \"scatter3d\", \"x\": [0, 0.25975], \"y\": [0, 1.892004], \"z\": [0, 0.594014], \"mode\": \"lines\", \"line\": {\"color\": \"rgb(20, 0, 145)\", \"width\": 2}}, {\"type\": \"scatter3d\", \"x\": [0, 0.26142], \"y\": [0, 1.890902], \"z\": [0, 0.596782], \"mode\": \"lines\", \"line\": {\"color\": \"rgb(20, 0, 145)\", \"width\": 2}}, {\"type\": \"scatter3d\", \"x\": [0, 0.25713], \"y\": [0, 1.891996], \"z\": [0, 0.595176], \"mode\": \"lines\", \"line\": {\"color\": \"rgb(20, 0, 145)\", \"width\": 2}}, {\"type\": \"scatter3d\", \"x\": [0, 0.25713], \"y\": [0, 1.891996], \"z\": [0, 0.595176], \"mode\": \"lines\", \"line\": {\"color\": \"rgb(20, 0, 145)\", \"width\": 2}}, {\"type\": \"scatter3d\", \"x\": [0, 0.25409], \"y\": [0, 1.89286], \"z\": [0, 0.593732], \"mode\": \"lines\", \"line\": {\"color\": \"rgb(20, 0, 145)\", \"width\": 2}}, {\"type\": \"scatter3d\", \"x\": [0, 0.255862], \"y\": [0, 1.894144], \"z\": [0, 0.58886], \"mode\": \"lines\", \"line\": {\"color\": \"rgb(20, 0, 145)\", \"width\": 2}}, {\"type\": \"scatter3d\", \"x\": [0, 0.255684], \"y\": [0, 1.892954], \"z\": [0, 0.592746], \"mode\": \"lines\", \"line\": {\"color\": \"rgb(20, 0, 145)\", \"width\": 2}}, {\"type\": \"scatter3d\", \"x\": [0, 0.252768], \"y\": [0, 1.893336], \"z\": [0, 0.592778], \"mode\": \"lines\", \"line\": {\"color\": \"rgb(20, 0, 145)\", \"width\": 2}}, {\"type\": \"scatter3d\", \"x\": [0, 0.252768], \"y\": [0, 1.893336], \"z\": [0, 0.592778], \"mode\": \"lines\", \"line\": {\"color\": \"rgb(20, 0, 145)\", \"width\": 2}}, {\"type\": \"scatter3d\", \"x\": [0, 0.25652], \"y\": [0, 1.893192], \"z\": [0, 0.591624], \"mode\": \"lines\", \"line\": {\"color\": \"rgb(20, 0, 145)\", \"width\": 2}}, {\"type\": \"scatter3d\", \"x\": [0, 0.259008], \"y\": [0, 1.892444], \"z\": [0, 0.592936], \"mode\": \"lines\", \"line\": {\"color\": \"rgb(20, 0, 145)\", \"width\": 2}}, {\"type\": \"scatter3d\", \"x\": [0, 0.262102], \"y\": [0, 1.892466], \"z\": [0, 0.591504], \"mode\": \"lines\", \"line\": {\"color\": \"rgb(20, 0, 145)\", \"width\": 2}}, {\"type\": \"scatter3d\", \"x\": [0, 0.262862], \"y\": [0, 1.89324], \"z\": [0, 0.588682], \"mode\": \"lines\", \"line\": {\"color\": \"rgb(20, 0, 145)\", \"width\": 2}}, {\"type\": \"scatter3d\", \"x\": [0, 0.262862], \"y\": [0, 1.89324], \"z\": [0, 0.588682], \"mode\": \"lines\", \"line\": {\"color\": \"rgb(20, 0, 145)\", \"width\": 2}}, {\"type\": \"scatter3d\", \"x\": [0, 0.26107], \"y\": [0, 1.893142], \"z\": [0, 0.589792], \"mode\": \"lines\", \"line\": {\"color\": \"rgb(20, 0, 145)\", \"width\": 2}}, {\"type\": \"scatter3d\", \"x\": [0, 0.265006], \"y\": [0, 1.891914], \"z\": [0, 0.591976], \"mode\": \"lines\", \"line\": {\"color\": \"rgb(20, 0, 145)\", \"width\": 2}}, {\"type\": \"scatter3d\", \"x\": [0, 0.266006], \"y\": [0, 1.89299], \"z\": [0, 0.588072], \"mode\": \"lines\", \"line\": {\"color\": \"rgb(20, 0, 145)\", \"width\": 2}}, {\"type\": \"scatter3d\", \"x\": [0, 0.262988], \"y\": [0, 1.893528], \"z\": [0, 0.587698], \"mode\": \"lines\", \"line\": {\"color\": \"rgb(20, 0, 145)\", \"width\": 2}}, {\"type\": \"scatter3d\", \"x\": [0, 0.262988], \"y\": [0, 1.893528], \"z\": [0, 0.587698], \"mode\": \"lines\", \"line\": {\"color\": \"rgb(20, 0, 145)\", \"width\": 2}}, {\"type\": \"scatter3d\", \"x\": [0, 0.260396], \"y\": [0, 1.892916], \"z\": [0, 0.590816], \"mode\": \"lines\", \"line\": {\"color\": \"rgb(20, 0, 145)\", \"width\": 2}}, {\"type\": \"scatter3d\", \"x\": [0, 0.260738], \"y\": [0, 1.893898], \"z\": [0, 0.587506], \"mode\": \"lines\", \"line\": {\"color\": \"rgb(20, 0, 145)\", \"width\": 2}}, {\"type\": \"scatter3d\", \"x\": [0, 0.256556], \"y\": [0, 1.89562], \"z\": [0, 0.583786], \"mode\": \"lines\", \"line\": {\"color\": \"rgb(20, 0, 145)\", \"width\": 2}}, {\"type\": \"scatter3d\", \"x\": [0, 0.256096], \"y\": [0, 1.895174], \"z\": [0, 0.58543], \"mode\": \"lines\", \"line\": {\"color\": \"rgb(20, 0, 145)\", \"width\": 2}}, {\"type\": \"scatter3d\", \"x\": [0, 0.256096], \"y\": [0, 1.895174], \"z\": [0, 0.58543], \"mode\": \"lines\", \"line\": {\"color\": \"rgb(20, 0, 145)\", \"width\": 2}}, {\"type\": \"scatter3d\", \"x\": [0, 0.261714], \"y\": [0, 1.894534], \"z\": [0, 0.58502], \"mode\": \"lines\", \"line\": {\"color\": \"rgb(20, 0, 145)\", \"width\": 2}}, {\"type\": \"scatter3d\", \"x\": [0, 0.258154], \"y\": [0, 1.894522], \"z\": [0, 0.58664], \"mode\": \"lines\", \"line\": {\"color\": \"rgb(20, 0, 145)\", \"width\": 2}}, {\"type\": \"scatter3d\", \"x\": [0, 0.260638], \"y\": [0, 1.89359], \"z\": [0, 0.588548], \"mode\": \"lines\", \"line\": {\"color\": \"rgb(20, 0, 145)\", \"width\": 2}}, {\"type\": \"scatter3d\", \"x\": [0, 0.25825], \"y\": [0, 1.894206], \"z\": [0, 0.587614], \"mode\": \"lines\", \"line\": {\"color\": \"rgb(20, 0, 145)\", \"width\": 2}}, {\"type\": \"scatter3d\", \"x\": [0, 0.25825], \"y\": [0, 1.894206], \"z\": [0, 0.587614], \"mode\": \"lines\", \"line\": {\"color\": \"rgb(20, 0, 145)\", \"width\": 2}}, {\"type\": \"scatter3d\", \"x\": [0, 0.260422], \"y\": [0, 1.894644], \"z\": [0, 0.585238], \"mode\": \"lines\", \"line\": {\"color\": \"rgb(20, 0, 145)\", \"width\": 2}}, {\"type\": \"scatter3d\", \"x\": [0, 0.258388], \"y\": [0, 1.895576], \"z\": [0, 0.583118], \"mode\": \"lines\", \"line\": {\"color\": \"rgb(20, 0, 145)\", \"width\": 2}}, {\"type\": \"scatter3d\", \"x\": [0, 0.254664], \"y\": [0, 1.895832], \"z\": [0, 0.583926], \"mode\": \"lines\", \"line\": {\"color\": \"rgb(20, 0, 145)\", \"width\": 2}}, {\"type\": \"scatter3d\", \"x\": [0, 0.260202], \"y\": [0, 1.895384], \"z\": [0, 0.582938], \"mode\": \"lines\", \"line\": {\"color\": \"rgb(20, 0, 145)\", \"width\": 2}}, {\"type\": \"scatter3d\", \"x\": [0, 0.260202], \"y\": [0, 1.895384], \"z\": [0, 0.582938], \"mode\": \"lines\", \"line\": {\"color\": \"rgb(20, 0, 145)\", \"width\": 2}}, {\"type\": \"scatter3d\", \"x\": [0], \"y\": [0], \"z\": [0], \"mode\": \"markers\", \"marker\": {\"color\": \"#48186a\", \"size\": 10}}, {\"type\": \"scatter3d\", \"x\": [-0.20000000298023224, 0.0, 0.20000000298023224, -0.20000000298023224, 0.0, 0.20000000298023224, -0.20000000298023224, 0.0, 0.20000000298023224], \"y\": [1.5, 1.5, 1.5, 1.5, 1.5, 1.5, 1.5, 1.5, 1.5], \"z\": [-0.5, -0.5, -0.5, 0.0, 0.0, 0.0, 0.5, 0.5, 0.5], \"mode\": \"markers\", \"marker\": {\"color\": \"rgb(0,144,144)\", \"size\": 5}}], {\"title\": \"Calibration - EIH Space\", \"width\": 800, \"height\": 800, \"showlegend\": false, \"scene\": {\"aspectmode\": \"manual\", \"xaxis\": {\"range\": [-1, 1], \"title\": \"x Axis\"}, \"yaxis\": {\"range\": [-1, 3], \"title\": \"y Axis\"}, \"zaxis\": {\"range\": [-2, 2], \"title\": \"z Axis\"}, \"aspectratio\": {\"x\": 1, \"y\": 1, \"z\": 1}}, \"margin\": {\"t\": 100}, \"hovermode\": \"closest\"}, {\"showLink\": true, \"linkText\": \"Export to plot.ly\"})});</script>"
      ]
     },
     "metadata": {},
     "output_type": "display_data"
    }
   ],
   "source": [
    "width = 800\n",
    "height = 800\n",
    "xRange = [-1,1]\n",
    "yRange = [-1,3]\n",
    "zRange = [-2,2]\n",
    "\n",
    "calibPt_pt = np.array(calibPt_pt)\n",
    "calibTrace = go.Scatter3d(x=calibPt_pt[:,0],\n",
    "                           y=calibPt_pt[:,2],\n",
    "                           z=calibPt_pt[:,1],\n",
    "                           mode='markers',\n",
    "                           marker={'color': 'rgb(0,144,144)', 'size': 5},\n",
    "                          )\n",
    "\n",
    "headTrace = go.Scatter3d(x=[0],y=[0],z=[0],\n",
    "                       mode='markers',\n",
    "                       marker={'color': '#48186a', 'size': 10})\n",
    "\n",
    "allTraces.append(headTrace)\n",
    "allTraces.append(calibTrace)\n",
    "\n",
    "layout = go.Layout(title=\"Calibration - EIH Space\", \n",
    "                width=width,\n",
    "                height=height,\n",
    "                showlegend=False,\n",
    "                scene=go.Scene(aspectmode='manual',\n",
    "                               xaxis=dict(range=xRange, title='x Axis'),\n",
    "                               yaxis=dict(range=yRange, title='y Axis'),\n",
    "                               zaxis=dict(range=zRange, title='z Axis'),\n",
    "                               aspectratio=dict(x=1, y=1, z=1),\n",
    "                           ),\n",
    "                margin=go.Margin(t=100),\n",
    "                hovermode='closest',\n",
    "\n",
    "                )\n",
    "\n",
    "\n",
    "fig=go.Figure(data=list(allTraces),layout=layout)\n",
    "\n",
    "iplot(fig)"
   ]
  },
  {
   "cell_type": "markdown",
   "metadata": {},
   "source": [
    "Here, we used an assymetric calibration grid.  That is because this calibration was used in a task in which we found that the head kept a moving stimulus (a ball in flight) centered along the azimuth, but eye movemnts were used to track across changes in elevation."
   ]
  },
  {
   "cell_type": "markdown",
   "metadata": {},
   "source": [
    "### Lets get measures of angular difference between gaze an the targets \n",
    "$\\theta = \\arccos( \\hat{eih} • \\hat{cal})$\n",
    "\n",
    "where eih is the normalized eye in head vector, and cal is the normalized direction from the eye to the calibration point"
   ]
  },
  {
   "cell_type": "code",
   "execution_count": 18,
   "metadata": {},
   "outputs": [],
   "source": [
    "def calculateGazeError(row):\n",
    "\n",
    "    eyeToPointDir_xyz = row['calibrationPos_XYZ'] / np.linalg.norm(row['calibrationPos_XYZ'])\n",
    "    eihDir_xyz = row['cycEyeInHead_XYZ'] / np.linalg.norm(row['cycEyeInHead_XYZ'])\n",
    "    \n",
    "    if(sum(eihDir_xyz)==0):\n",
    "        return (np.nan,np.nan,np.nan,np.nan,np.nan)\n",
    "\n",
    "    # calculate angular difference along any direction\n",
    "    calErr2D = np.rad2deg( np.arccos( np.vdot(eihDir_xyz,eyeToPointDir_xyz)) )\n",
    "    \n",
    "    # use trig to calculate component of error along azimuth and elevation\n",
    "    \n",
    "    # Azimuth\n",
    "    # tan(alpha) = op/aj = atan(horiz/depth) = atan(x component/z component) \n",
    "    eihAzimuthDeg = np.rad2deg(np.arctan(eihDir_xyz[0]/eihDir_xyz[2]))\n",
    "    calibAzimuthDeg = np.rad2deg(np.arctan(eyeToPointDir_xyz[0]/eyeToPointDir_xyz[2]))\n",
    "    diffAzimuthDeg = eihAzimuthDeg - calibAzimuthDeg\n",
    "    \n",
    "    # Elevation\n",
    "    # tan(alpha) = op/aj = atan(height/depth) = atan(y component/z component) \n",
    "    eihElevationDeg = np.rad2deg(np.arctan(eihDir_xyz[1]/eihDir_xyz[2]))\n",
    "    calibElevationDeg = np.rad2deg(np.arctan(eyeToPointDir_xyz[1]/eyeToPointDir_xyz[2]))\n",
    "    diffElevationDeg = eihElevationDeg - calibElevationDeg\n",
    "    \n",
    "    return (calErr2D,eihAzimuthDeg,eihElevationDeg,calibAzimuthDeg,calibElevationDeg)"
   ]
  },
  {
   "cell_type": "markdown",
   "metadata": {},
   "source": [
    " It will return an error, \"invalid value encountered in true_divide\" for certain rows.  Can't avoid that!"
   ]
  },
  {
   "cell_type": "code",
   "execution_count": 13,
   "metadata": {},
   "outputs": [
    {
     "name": "stderr",
     "output_type": "stream",
     "text": [
      "/Users/gjdiaz/anaconda/envs/py36/lib/python3.6/site-packages/ipykernel_launcher.py:4: RuntimeWarning:\n",
      "\n",
      "invalid value encountered in true_divide\n",
      "\n"
     ]
    }
   ],
   "source": [
    "out = dataFrame.apply( lambda row: calculateGazeError(row),axis=1)\n",
    "(calErr2D,eihAzimuthDeg,eihElevationDeg,calibAzimuthDeg,calibElevationDeg) = zip(*out)"
   ]
  },
  {
   "cell_type": "markdown",
   "metadata": {},
   "source": [
    "### Assign values to columns of the dataframe"
   ]
  },
  {
   "cell_type": "code",
   "execution_count": 14,
   "metadata": {},
   "outputs": [],
   "source": [
    "dataFrame['eihAzimuthDeg'] = eihAzimuthDeg\n",
    "dataFrame['eihElevationDeg'] = eihElevationDeg\n",
    "\n",
    "dataFrame['calibAzimuthDeg'] = calibAzimuthDeg\n",
    "dataFrame['calibElevationDeg'] = calibElevationDeg\n",
    "\n",
    "dataFrame['calErr2D'] = calErr2D"
   ]
  },
  {
   "cell_type": "markdown",
   "metadata": {},
   "source": [
    "Now, lets take the mean and standard deviation using the \"aggregate function\""
   ]
  },
  {
   "cell_type": "code",
   "execution_count": 15,
   "metadata": {},
   "outputs": [],
   "source": [
    "gbTrial = dataFrame.groupby('trialNumber')\n",
    "calibStatsDF = gbTrial.aggregate([np.mean,np.std])"
   ]
  },
  {
   "cell_type": "markdown",
   "metadata": {},
   "source": [
    "Lets have a look at the first grid of points"
   ]
  },
  {
   "cell_type": "markdown",
   "metadata": {},
   "source": [
    "### Beautiful!  Lets plot it"
   ]
  },
  {
   "cell_type": "code",
   "execution_count": 16,
   "metadata": {},
   "outputs": [
    {
     "data": {
      "application/vnd.plotly.v1+json": {
       "data": [
        {
         "marker": {
          "color": "rgb(0,0,0)",
          "size": 10
         },
         "mode": "markers+text",
         "text": [
          "0.31 &deg;",
          "1.33 &deg;",
          "2.07 &deg;",
          "0.90 &deg;",
          "1.67 &deg;",
          "0.62 &deg;",
          "0.94 &deg;",
          "0.74 &deg;",
          "1.05 &deg;"
         ],
         "textfont": {
          "color": "rgba(0,0,0,0.5)",
          "family": "Trebuchet MS",
          "size": 15
         },
         "textposition": "top",
         "type": "scatter",
         "x": [
          -7.594643480439535,
          0,
          7.594643480439535,
          -7.594643480439535,
          0,
          7.594643480439535,
          -7.594643480439535,
          0,
          7.594643480439535
         ],
         "y": [
          -18.43494882292202,
          -18.43494882292202,
          -18.43494882292202,
          0,
          0,
          0,
          18.43494882292202,
          18.43494882292202,
          18.43494882292202
         ]
        },
        {
         "marker": {
          "color": "rgb(0,200,200)",
          "size": 10
         },
         "mode": "markers",
         "type": "scatter",
         "x": [
          -7.787954883624805,
          -0.6223651315943315,
          5.5639123953352305,
          -6.756717359681359,
          1.5340141315218445,
          7.5872083774269505,
          -6.696276226373394,
          -0.3944765761370981,
          7.969637482529411
         ],
         "y": [
          -18.3236989945832,
          -19.622218307830657,
          -19.122860900737695,
          -0.2997056640464426,
          -0.6481029672230402,
          -0.6122557390505532,
          18.765510503939048,
          18.871345425318466,
          17.487044823471862
         ]
        }
       ],
       "layout": {
        "height": 800,
        "hovermode": "closest",
        "margin": {
         "t": 100
        },
        "scene": {
         "aspectmode": "manual",
         "aspectratio": {
          "x": 1,
          "y": 1
         }
        },
        "showlegend": false,
        "title": "Calibration - Head Centered Angular space",
        "width": 800,
        "xaxis": {
         "range": [
          -22,
          22
         ],
         "title": "degrees azimuth"
        },
        "yaxis": {
         "range": [
          -22,
          22
         ],
         "title": "degrees elevation"
        }
       }
      },
      "text/html": [
       "<div id=\"685b5978-7966-4c01-baec-efa032441f81\" style=\"height: 800px; width: 800px;\" class=\"plotly-graph-div\"></div><script type=\"text/javascript\">require([\"plotly\"], function(Plotly) { window.PLOTLYENV=window.PLOTLYENV || {};window.PLOTLYENV.BASE_URL=\"https://plot.ly\";Plotly.newPlot(\"685b5978-7966-4c01-baec-efa032441f81\", [{\"type\": \"scatter\", \"x\": [-7.594643480439535, 0.0, 7.594643480439535, -7.594643480439535, 0.0, 7.594643480439535, -7.594643480439535, 0.0, 7.594643480439535], \"y\": [-18.43494882292202, -18.43494882292202, -18.43494882292202, 0.0, 0.0, 0.0, 18.43494882292202, 18.43494882292202, 18.43494882292202], \"mode\": \"markers+text\", \"marker\": {\"color\": \"rgb(0,0,0)\", \"size\": 10}, \"text\": [\"0.31 &deg;\", \"1.33 &deg;\", \"2.07 &deg;\", \"0.90 &deg;\", \"1.67 &deg;\", \"0.62 &deg;\", \"0.94 &deg;\", \"0.74 &deg;\", \"1.05 &deg;\"], \"textposition\": \"top\", \"textfont\": {\"family\": \"Trebuchet MS\", \"size\": 15, \"color\": \"rgba(0,0,0,0.5)\"}}, {\"type\": \"scatter\", \"x\": [-7.787954883624805, -0.6223651315943315, 5.5639123953352305, -6.756717359681359, 1.5340141315218445, 7.5872083774269505, -6.696276226373394, -0.3944765761370981, 7.969637482529411], \"y\": [-18.3236989945832, -19.622218307830657, -19.122860900737695, -0.2997056640464426, -0.6481029672230402, -0.6122557390505532, 18.765510503939048, 18.871345425318466, 17.487044823471862], \"mode\": \"markers\", \"marker\": {\"color\": \"rgb(0,200,200)\", \"size\": 10}}], {\"title\": \"Calibration - Head Centered Angular space\", \"width\": 800, \"height\": 800, \"showlegend\": false, \"xaxis\": {\"range\": [-22, 22], \"title\": \"degrees azimuth\"}, \"yaxis\": {\"range\": [-22, 22], \"title\": \"degrees elevation\"}, \"scene\": {\"aspectmode\": \"manual\", \"aspectratio\": {\"x\": 1, \"y\": 1}}, \"margin\": {\"t\": 100}, \"hovermode\": \"closest\"}, {\"showLink\": true, \"linkText\": \"Export to plot.ly\"})});</script>"
      ],
      "text/vnd.plotly.v1+html": [
       "<div id=\"685b5978-7966-4c01-baec-efa032441f81\" style=\"height: 800px; width: 800px;\" class=\"plotly-graph-div\"></div><script type=\"text/javascript\">require([\"plotly\"], function(Plotly) { window.PLOTLYENV=window.PLOTLYENV || {};window.PLOTLYENV.BASE_URL=\"https://plot.ly\";Plotly.newPlot(\"685b5978-7966-4c01-baec-efa032441f81\", [{\"type\": \"scatter\", \"x\": [-7.594643480439535, 0.0, 7.594643480439535, -7.594643480439535, 0.0, 7.594643480439535, -7.594643480439535, 0.0, 7.594643480439535], \"y\": [-18.43494882292202, -18.43494882292202, -18.43494882292202, 0.0, 0.0, 0.0, 18.43494882292202, 18.43494882292202, 18.43494882292202], \"mode\": \"markers+text\", \"marker\": {\"color\": \"rgb(0,0,0)\", \"size\": 10}, \"text\": [\"0.31 &deg;\", \"1.33 &deg;\", \"2.07 &deg;\", \"0.90 &deg;\", \"1.67 &deg;\", \"0.62 &deg;\", \"0.94 &deg;\", \"0.74 &deg;\", \"1.05 &deg;\"], \"textposition\": \"top\", \"textfont\": {\"family\": \"Trebuchet MS\", \"size\": 15, \"color\": \"rgba(0,0,0,0.5)\"}}, {\"type\": \"scatter\", \"x\": [-7.787954883624805, -0.6223651315943315, 5.5639123953352305, -6.756717359681359, 1.5340141315218445, 7.5872083774269505, -6.696276226373394, -0.3944765761370981, 7.969637482529411], \"y\": [-18.3236989945832, -19.622218307830657, -19.122860900737695, -0.2997056640464426, -0.6481029672230402, -0.6122557390505532, 18.765510503939048, 18.871345425318466, 17.487044823471862], \"mode\": \"markers\", \"marker\": {\"color\": \"rgb(0,200,200)\", \"size\": 10}}], {\"title\": \"Calibration - Head Centered Angular space\", \"width\": 800, \"height\": 800, \"showlegend\": false, \"xaxis\": {\"range\": [-22, 22], \"title\": \"degrees azimuth\"}, \"yaxis\": {\"range\": [-22, 22], \"title\": \"degrees elevation\"}, \"scene\": {\"aspectmode\": \"manual\", \"aspectratio\": {\"x\": 1, \"y\": 1}}, \"margin\": {\"t\": 100}, \"hovermode\": \"closest\"}, {\"showLink\": true, \"linkText\": \"Export to plot.ly\"})});</script>"
      ]
     },
     "metadata": {},
     "output_type": "display_data"
    }
   ],
   "source": [
    "width = 800\n",
    "height = 800\n",
    "\n",
    "pts = range(0,9)\n",
    "# pts = range(9,18)\n",
    "# pts = range(18,26)\n",
    "\n",
    "labels = calibStatsDF[('calErr2D','mean')].iloc[pts].values\n",
    "labels = ['%1.2f &deg;'%(l) for l in labels]\n",
    "\n",
    "# The calibration points to show\n",
    "\n",
    "\n",
    "calibPoints = go.Scatter(x=calibStatsDF[('calibAzimuthDeg','mean')].iloc[pts],\n",
    "                         y=calibStatsDF[('calibElevationDeg','mean')].iloc[pts],\n",
    "                         mode='markers+text',\n",
    "                         marker={'color': 'rgb(0,0,0)', 'size': 10},\n",
    "                         text = labels,\n",
    "                         textposition='top',\n",
    "                         textfont=dict(\n",
    "                             family='Trebuchet MS',\n",
    "                             size=15,\n",
    "                             color=('rgba(0,0,0,0.5)')),\n",
    "                        )\n",
    "\n",
    "\n",
    "\n",
    "eihPoints = go.Scatter(x=calibStatsDF[('eihAzimuthDeg','mean')].iloc[pts],\n",
    "                       y=calibStatsDF[('eihElevationDeg','mean')].iloc[pts],\n",
    "                       mode='markers',\n",
    "                       marker={'color': 'rgb(0,200,200)', 'size': 10},) \n",
    "\n",
    "\n",
    "layout = go.Layout(title='Calibration - Head Centered Angular space',\n",
    "                   width=width,\n",
    "                   height=height,\n",
    "                   showlegend=False,\n",
    "                   xaxis=dict(range=[-22,22], title='degrees azimuth'),\n",
    "                   yaxis=dict(range=[-22,22], title='degrees elevation'),\n",
    "                   scene=go.Scene(aspectmode='manual',\n",
    "                                  aspectratio=dict(x=1, y=1),\n",
    "                                 ),\n",
    "                   margin=go.Margin(t=100),\n",
    "                   hovermode='closest')\n",
    "\n",
    "data = [calibPoints,eihPoints]\n",
    "fig=go.Figure(data=data,layout=layout)\n",
    "\n",
    "iplot(fig)"
   ]
  },
  {
   "cell_type": "markdown",
   "metadata": {},
   "source": [
    "It is typical to report mean subject accuracy in the central field, as well as in the periphery.  \n",
    "\n",
    "***Do not rely upon manufacturer reports.***"
   ]
  },
  {
   "cell_type": "code",
   "execution_count": null,
   "metadata": {},
   "outputs": [],
   "source": []
  }
 ],
 "metadata": {
  "kernelspec": {
   "display_name": "Python 3",
   "language": "python",
   "name": "python3"
  },
  "language_info": {
   "codemirror_mode": {
    "name": "ipython",
    "version": 3
   },
   "file_extension": ".py",
   "mimetype": "text/x-python",
   "name": "python",
   "nbconvert_exporter": "python",
   "pygments_lexer": "ipython3",
   "version": "3.6.3"
  }
 },
 "nbformat": 4,
 "nbformat_minor": 2
}
