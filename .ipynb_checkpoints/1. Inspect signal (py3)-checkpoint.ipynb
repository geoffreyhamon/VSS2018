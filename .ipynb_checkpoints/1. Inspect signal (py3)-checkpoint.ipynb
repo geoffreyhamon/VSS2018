{
 "cells": [
  {
   "cell_type": "markdown",
   "metadata": {},
   "source": [
    "In this notebook, we will inspect the raw eye tracking data."
   ]
  },
  {
   "cell_type": "markdown",
   "metadata": {},
   "source": [
    "### Import modules."
   ]
  },
  {
   "cell_type": "code",
   "execution_count": 2,
   "metadata": {},
   "outputs": [],
   "source": [
    "from __future__ import division, print_function\n",
    "\n",
    "import numpy as np\n",
    "import pandas as pd\n",
    "\n",
    "from plotly.offline import download_plotlyjs, init_notebook_mode, plot, iplot\n",
    "import plotly.graph_objs as go\n",
    "import os\n",
    "np.set_printoptions(precision=2)"
   ]
  },
  {
   "cell_type": "code",
   "execution_count": 3,
   "metadata": {},
   "outputs": [
    {
     "data": {
      "text/html": [
       "<script>requirejs.config({paths: { 'plotly': ['https://cdn.plot.ly/plotly-latest.min']},});if(!window.Plotly) {{require(['plotly'],function(plotly) {window.Plotly=plotly;});}}</script>"
      ],
      "text/vnd.plotly.v1+html": [
       "<script>requirejs.config({paths: { 'plotly': ['https://cdn.plot.ly/plotly-latest.min']},});if(!window.Plotly) {{require(['plotly'],function(plotly) {window.Plotly=plotly;});}}</script>"
      ]
     },
     "metadata": {},
     "output_type": "display_data"
    }
   ],
   "source": [
    "init_notebook_mode(connected=True)"
   ]
  },
  {
   "cell_type": "markdown",
   "metadata": {},
   "source": [
    "### Import the data into a \"Pandas\" dataFrame.\n",
    "Pandas is a Python module for handling large data structres like this.  "
   ]
  },
  {
   "cell_type": "code",
   "execution_count": 4,
   "metadata": {},
   "outputs": [],
   "source": [
    "dataFrame = pd.read_pickle('data/catchingExperiment.pickle')"
   ]
  },
  {
   "cell_type": "markdown",
   "metadata": {},
   "source": [
    "A \"dataframe is just a large spreadsheet.  Lets have a look! at the first ten rows of data."
   ]
  },
  {
   "cell_type": "code",
   "execution_count": 5,
   "metadata": {
    "scrolled": false
   },
   "outputs": [
    {
     "data": {
      "text/html": [
       "<div>\n",
       "<style scoped>\n",
       "    .dataframe tbody tr th:only-of-type {\n",
       "        vertical-align: middle;\n",
       "    }\n",
       "\n",
       "    .dataframe tbody tr th {\n",
       "        vertical-align: top;\n",
       "    }\n",
       "\n",
       "    .dataframe thead th {\n",
       "        text-align: right;\n",
       "    }\n",
       "</style>\n",
       "<table border=\"1\" class=\"dataframe\">\n",
       "  <thead>\n",
       "    <tr style=\"text-align: right;\">\n",
       "      <th></th>\n",
       "      <th>viewPos_XYZ</th>\n",
       "      <th>viewMat_4x4</th>\n",
       "      <th>trialNumber</th>\n",
       "      <th>blockNumber</th>\n",
       "      <th>IOD</th>\n",
       "      <th>IPD</th>\n",
       "      <th>ballPos_XYZ</th>\n",
       "      <th>cycEyeInHead_XYZ</th>\n",
       "      <th>leftEyeInHead_XYZ</th>\n",
       "      <th>rightEyeInHead_XYZ</th>\n",
       "      <th>leftEyePos_XYZ</th>\n",
       "      <th>rightEyePos_XYZ</th>\n",
       "      <th>calibrationPos_XYZ</th>\n",
       "      <th>calibrationCounter</th>\n",
       "      <th>eyeTimeStamp</th>\n",
       "      <th>frameTime</th>\n",
       "      <th>eventFlag</th>\n",
       "    </tr>\n",
       "  </thead>\n",
       "  <tbody>\n",
       "    <tr>\n",
       "      <th>0</th>\n",
       "      <td>[-0.934190034866333, 1.7170029878616333, 0.013...</td>\n",
       "      <td>[0.9546175003051758, -0.07044010609388351, 0.2...</td>\n",
       "      <td>0</td>\n",
       "      <td>1</td>\n",
       "      <td>66.1670</td>\n",
       "      <td>68.3561</td>\n",
       "      <td>[-10.06557559967041, 2.288684844970703, 19.852...</td>\n",
       "      <td>[0.106541, -0.0841558, 0.990741]</td>\n",
       "      <td>[0.10674, -0.0942797, 0.989806]</td>\n",
       "      <td>[0.105342, -0.0742518, 0.991656]</td>\n",
       "      <td>[-0.963268518447876, 1.719175934791565, 0.0043...</td>\n",
       "      <td>[-0.9059789180755615, 1.7149580717086792, 0.02...</td>\n",
       "      <td>[nan, nan, nan]</td>\n",
       "      <td>0</td>\n",
       "      <td>1148925058806</td>\n",
       "      <td>1138.140219</td>\n",
       "      <td>trialStart</td>\n",
       "    </tr>\n",
       "    <tr>\n",
       "      <th>1</th>\n",
       "      <td>[-0.9346237182617188, 1.717067003250122, 0.013...</td>\n",
       "      <td>[0.9548274278640747, -0.07029882818460464, 0.2...</td>\n",
       "      <td>0</td>\n",
       "      <td>1</td>\n",
       "      <td>66.1767</td>\n",
       "      <td>68.3902</td>\n",
       "      <td>[-9.990588188171387, 2.396324634552002, 19.704...</td>\n",
       "      <td>[0.108543, -0.0847423, 0.990473]</td>\n",
       "      <td>[0.108123, -0.095236, 0.989563]</td>\n",
       "      <td>[0.106453, -0.0737588, 0.991575]</td>\n",
       "      <td>[-0.9637047648429871, 1.7192111015319824, 0.00...</td>\n",
       "      <td>[-0.9063999056816101, 1.7149991989135742, 0.02...</td>\n",
       "      <td>[nan, nan, nan]</td>\n",
       "      <td>0</td>\n",
       "      <td>1148941709737</td>\n",
       "      <td>1138.153518</td>\n",
       "      <td>False</td>\n",
       "    </tr>\n",
       "    <tr>\n",
       "      <th>2</th>\n",
       "      <td>[-0.9350523352622986, 1.7171051502227783, 0.01...</td>\n",
       "      <td>[0.955081582069397, -0.07019742578268051, 0.28...</td>\n",
       "      <td>0</td>\n",
       "      <td>1</td>\n",
       "      <td>66.1864</td>\n",
       "      <td>68.3655</td>\n",
       "      <td>[-9.915495872497559, 2.5023884773254395, 19.55...</td>\n",
       "      <td>[0.108597, -0.0838759, 0.990541]</td>\n",
       "      <td>[0.108216, -0.0946137, 0.989614]</td>\n",
       "      <td>[0.107664, -0.0737493, 0.991446]</td>\n",
       "      <td>[-0.9640359282493591, 1.719656229019165, 0.003...</td>\n",
       "      <td>[-0.9067193865776062, 1.7154572010040283, 0.02...</td>\n",
       "      <td>[nan, nan, nan]</td>\n",
       "      <td>0</td>\n",
       "      <td>1148958341640</td>\n",
       "      <td>1138.166837</td>\n",
       "      <td>False</td>\n",
       "    </tr>\n",
       "    <tr>\n",
       "      <th>3</th>\n",
       "      <td>[-0.9353776574134827, 1.7175567150115967, 0.01...</td>\n",
       "      <td>[0.9552750587463379, -0.06998319923877716, 0.2...</td>\n",
       "      <td>0</td>\n",
       "      <td>1</td>\n",
       "      <td>66.1961</td>\n",
       "      <td>68.3820</td>\n",
       "      <td>[-9.840394020080566, 2.606722593307495, 19.408...</td>\n",
       "      <td>[0.109861, -0.085092, 0.990298]</td>\n",
       "      <td>[0.109068, -0.095444, 0.98944]</td>\n",
       "      <td>[0.108726, -0.0738168, 0.991326]</td>\n",
       "      <td>[-0.9645141363143921, 1.7197754383087158, 0.00...</td>\n",
       "      <td>[-0.9071849584579468, 1.7155771255493164, 0.02...</td>\n",
       "      <td>[nan, nan, nan]</td>\n",
       "      <td>0</td>\n",
       "      <td>1148974966517</td>\n",
       "      <td>1138.180158</td>\n",
       "      <td>False</td>\n",
       "    </tr>\n",
       "    <tr>\n",
       "      <th>4</th>\n",
       "      <td>[-0.9358495473861694, 1.7176762819290161, 0.01...</td>\n",
       "      <td>[0.9554869532585144, -0.06997345387935638, 0.2...</td>\n",
       "      <td>0</td>\n",
       "      <td>1</td>\n",
       "      <td>66.2054</td>\n",
       "      <td>68.3839</td>\n",
       "      <td>[-9.765292167663574, 2.709317684173584, 19.260...</td>\n",
       "      <td>[0.111487, -0.0828437, 0.990307]</td>\n",
       "      <td>[0.110451, -0.0944375, 0.989383]</td>\n",
       "      <td>[0.109926, -0.0730256, 0.991252]</td>\n",
       "      <td>[-0.9647519588470459, 1.7199081182479858, 0.00...</td>\n",
       "      <td>[-0.9074139595031738, 1.7157078981399536, 0.02...</td>\n",
       "      <td>[nan, nan, nan]</td>\n",
       "      <td>0</td>\n",
       "      <td>1148991598712</td>\n",
       "      <td>1138.193478</td>\n",
       "      <td>False</td>\n",
       "    </tr>\n",
       "    <tr>\n",
       "      <th>5</th>\n",
       "      <td>[-0.9360829591751099, 1.7178080081939697, 0.01...</td>\n",
       "      <td>[0.9556338787078857, -0.07000351697206497, 0.2...</td>\n",
       "      <td>0</td>\n",
       "      <td>1</td>\n",
       "      <td>66.2054</td>\n",
       "      <td>68.3839</td>\n",
       "      <td>[-9.68955135345459, 2.8110218048095703, 19.111...</td>\n",
       "      <td>[0.111487, -0.0828437, 0.990307]</td>\n",
       "      <td>[0.110451, -0.0944375, 0.989383]</td>\n",
       "      <td>[0.109926, -0.0730256, 0.991252]</td>\n",
       "      <td>[-0.9654151797294617, 1.7196903228759766, 0.00...</td>\n",
       "      <td>[-0.9080643057823181, 1.71549391746521, 0.0204...</td>\n",
       "      <td>[nan, nan, nan]</td>\n",
       "      <td>0</td>\n",
       "      <td>1148991598712</td>\n",
       "      <td>1138.206911</td>\n",
       "      <td>False</td>\n",
       "    </tr>\n",
       "    <tr>\n",
       "      <th>6</th>\n",
       "      <td>[-0.9367397427558899, 1.7175921201705933, 0.01...</td>\n",
       "      <td>[0.9558469653129578, -0.06993988901376724, 0.2...</td>\n",
       "      <td>0</td>\n",
       "      <td>1</td>\n",
       "      <td>66.2138</td>\n",
       "      <td>68.3844</td>\n",
       "      <td>[-9.61330509185791, 2.91162371635437, 18.96112...</td>\n",
       "      <td>[0.111074, -0.0837537, 0.990277]</td>\n",
       "      <td>[0.111223, -0.0947522, 0.989267]</td>\n",
       "      <td>[0.110032, -0.0727201, 0.991263]</td>\n",
       "      <td>[-0.9657073616981506, 1.719746708869934, 0.003...</td>\n",
       "      <td>[-0.9083467125892639, 1.7155588865280151, 0.02...</td>\n",
       "      <td>[nan, nan, nan]</td>\n",
       "      <td>0</td>\n",
       "      <td>1149008274526</td>\n",
       "      <td>1138.220435</td>\n",
       "      <td>False</td>\n",
       "    </tr>\n",
       "    <tr>\n",
       "      <th>7</th>\n",
       "      <td>[-0.9370270371437073, 1.7176527976989746, 0.01...</td>\n",
       "      <td>[0.9560110569000244, -0.06979642808437347, 0.2...</td>\n",
       "      <td>0</td>\n",
       "      <td>1</td>\n",
       "      <td>66.2217</td>\n",
       "      <td>68.3808</td>\n",
       "      <td>[-9.53980541229248, 3.006899833679199, 18.8162...</td>\n",
       "      <td>[0.111997, -0.0830733, 0.99023]</td>\n",
       "      <td>[0.111911, -0.0945597, 0.989208]</td>\n",
       "      <td>[0.110706, -0.0722371, 0.991224]</td>\n",
       "      <td>[-0.9659820199012756, 1.7198220491409302, 0.00...</td>\n",
       "      <td>[-0.9086108803749084, 1.7156413793563843, 0.02...</td>\n",
       "      <td>[nan, nan, nan]</td>\n",
       "      <td>0</td>\n",
       "      <td>1149024864567</td>\n",
       "      <td>1138.233470</td>\n",
       "      <td>False</td>\n",
       "    </tr>\n",
       "    <tr>\n",
       "      <th>8</th>\n",
       "      <td>[-0.937296450138092, 1.7177317142486572, 0.011...</td>\n",
       "      <td>[0.9561846852302551, -0.0696786642074585, 0.28...</td>\n",
       "      <td>0</td>\n",
       "      <td>1</td>\n",
       "      <td>66.2286</td>\n",
       "      <td>68.3712</td>\n",
       "      <td>[-9.46442699432373, 3.1028876304626465, 18.667...</td>\n",
       "      <td>[0.110899, -0.0830085, 0.990359]</td>\n",
       "      <td>[0.111596, -0.0943597, 0.989263]</td>\n",
       "      <td>[0.110604, -0.0720349, 0.99125]</td>\n",
       "      <td>[-0.9661696553230286, 1.7201815843582153, 0.00...</td>\n",
       "      <td>[-0.9087870717048645, 1.7160090208053589, 0.01...</td>\n",
       "      <td>[nan, nan, nan]</td>\n",
       "      <td>0</td>\n",
       "      <td>1149041506131</td>\n",
       "      <td>1138.246840</td>\n",
       "      <td>False</td>\n",
       "    </tr>\n",
       "    <tr>\n",
       "      <th>9</th>\n",
       "      <td>[-0.9374783635139465, 1.718095302581787, 0.011...</td>\n",
       "      <td>[0.9563762545585632, -0.06954096257686615, 0.2...</td>\n",
       "      <td>0</td>\n",
       "      <td>1</td>\n",
       "      <td>66.2348</td>\n",
       "      <td>68.3849</td>\n",
       "      <td>[-9.389382362365723, 3.196711301803589, 18.519...</td>\n",
       "      <td>[0.112868, -0.0824805, 0.990181]</td>\n",
       "      <td>[0.112943, -0.0941339, 0.989131]</td>\n",
       "      <td>[0.111016, -0.0715309, 0.991241]</td>\n",
       "      <td>[-0.9664074778556824, 1.7201850414276123, 0.00...</td>\n",
       "      <td>[-0.9090141654014587, 1.7160162925720215, 0.01...</td>\n",
       "      <td>[nan, nan, nan]</td>\n",
       "      <td>0</td>\n",
       "      <td>1149058149158</td>\n",
       "      <td>1138.260150</td>\n",
       "      <td>False</td>\n",
       "    </tr>\n",
       "  </tbody>\n",
       "</table>\n",
       "</div>"
      ],
      "text/plain": [
       "                                         viewPos_XYZ  \\\n",
       "0  [-0.934190034866333, 1.7170029878616333, 0.013...   \n",
       "1  [-0.9346237182617188, 1.717067003250122, 0.013...   \n",
       "2  [-0.9350523352622986, 1.7171051502227783, 0.01...   \n",
       "3  [-0.9353776574134827, 1.7175567150115967, 0.01...   \n",
       "4  [-0.9358495473861694, 1.7176762819290161, 0.01...   \n",
       "5  [-0.9360829591751099, 1.7178080081939697, 0.01...   \n",
       "6  [-0.9367397427558899, 1.7175921201705933, 0.01...   \n",
       "7  [-0.9370270371437073, 1.7176527976989746, 0.01...   \n",
       "8  [-0.937296450138092, 1.7177317142486572, 0.011...   \n",
       "9  [-0.9374783635139465, 1.718095302581787, 0.011...   \n",
       "\n",
       "                                         viewMat_4x4  trialNumber  \\\n",
       "0  [0.9546175003051758, -0.07044010609388351, 0.2...            0   \n",
       "1  [0.9548274278640747, -0.07029882818460464, 0.2...            0   \n",
       "2  [0.955081582069397, -0.07019742578268051, 0.28...            0   \n",
       "3  [0.9552750587463379, -0.06998319923877716, 0.2...            0   \n",
       "4  [0.9554869532585144, -0.06997345387935638, 0.2...            0   \n",
       "5  [0.9556338787078857, -0.07000351697206497, 0.2...            0   \n",
       "6  [0.9558469653129578, -0.06993988901376724, 0.2...            0   \n",
       "7  [0.9560110569000244, -0.06979642808437347, 0.2...            0   \n",
       "8  [0.9561846852302551, -0.0696786642074585, 0.28...            0   \n",
       "9  [0.9563762545585632, -0.06954096257686615, 0.2...            0   \n",
       "\n",
       "   blockNumber      IOD      IPD  \\\n",
       "0            1  66.1670  68.3561   \n",
       "1            1  66.1767  68.3902   \n",
       "2            1  66.1864  68.3655   \n",
       "3            1  66.1961  68.3820   \n",
       "4            1  66.2054  68.3839   \n",
       "5            1  66.2054  68.3839   \n",
       "6            1  66.2138  68.3844   \n",
       "7            1  66.2217  68.3808   \n",
       "8            1  66.2286  68.3712   \n",
       "9            1  66.2348  68.3849   \n",
       "\n",
       "                                         ballPos_XYZ  \\\n",
       "0  [-10.06557559967041, 2.288684844970703, 19.852...   \n",
       "1  [-9.990588188171387, 2.396324634552002, 19.704...   \n",
       "2  [-9.915495872497559, 2.5023884773254395, 19.55...   \n",
       "3  [-9.840394020080566, 2.606722593307495, 19.408...   \n",
       "4  [-9.765292167663574, 2.709317684173584, 19.260...   \n",
       "5  [-9.68955135345459, 2.8110218048095703, 19.111...   \n",
       "6  [-9.61330509185791, 2.91162371635437, 18.96112...   \n",
       "7  [-9.53980541229248, 3.006899833679199, 18.8162...   \n",
       "8  [-9.46442699432373, 3.1028876304626465, 18.667...   \n",
       "9  [-9.389382362365723, 3.196711301803589, 18.519...   \n",
       "\n",
       "                   cycEyeInHead_XYZ                 leftEyeInHead_XYZ  \\\n",
       "0  [0.106541, -0.0841558, 0.990741]   [0.10674, -0.0942797, 0.989806]   \n",
       "1  [0.108543, -0.0847423, 0.990473]   [0.108123, -0.095236, 0.989563]   \n",
       "2  [0.108597, -0.0838759, 0.990541]  [0.108216, -0.0946137, 0.989614]   \n",
       "3   [0.109861, -0.085092, 0.990298]    [0.109068, -0.095444, 0.98944]   \n",
       "4  [0.111487, -0.0828437, 0.990307]  [0.110451, -0.0944375, 0.989383]   \n",
       "5  [0.111487, -0.0828437, 0.990307]  [0.110451, -0.0944375, 0.989383]   \n",
       "6  [0.111074, -0.0837537, 0.990277]  [0.111223, -0.0947522, 0.989267]   \n",
       "7   [0.111997, -0.0830733, 0.99023]  [0.111911, -0.0945597, 0.989208]   \n",
       "8  [0.110899, -0.0830085, 0.990359]  [0.111596, -0.0943597, 0.989263]   \n",
       "9  [0.112868, -0.0824805, 0.990181]  [0.112943, -0.0941339, 0.989131]   \n",
       "\n",
       "                 rightEyeInHead_XYZ  \\\n",
       "0  [0.105342, -0.0742518, 0.991656]   \n",
       "1  [0.106453, -0.0737588, 0.991575]   \n",
       "2  [0.107664, -0.0737493, 0.991446]   \n",
       "3  [0.108726, -0.0738168, 0.991326]   \n",
       "4  [0.109926, -0.0730256, 0.991252]   \n",
       "5  [0.109926, -0.0730256, 0.991252]   \n",
       "6  [0.110032, -0.0727201, 0.991263]   \n",
       "7  [0.110706, -0.0722371, 0.991224]   \n",
       "8   [0.110604, -0.0720349, 0.99125]   \n",
       "9  [0.111016, -0.0715309, 0.991241]   \n",
       "\n",
       "                                      leftEyePos_XYZ  \\\n",
       "0  [-0.963268518447876, 1.719175934791565, 0.0043...   \n",
       "1  [-0.9637047648429871, 1.7192111015319824, 0.00...   \n",
       "2  [-0.9640359282493591, 1.719656229019165, 0.003...   \n",
       "3  [-0.9645141363143921, 1.7197754383087158, 0.00...   \n",
       "4  [-0.9647519588470459, 1.7199081182479858, 0.00...   \n",
       "5  [-0.9654151797294617, 1.7196903228759766, 0.00...   \n",
       "6  [-0.9657073616981506, 1.719746708869934, 0.003...   \n",
       "7  [-0.9659820199012756, 1.7198220491409302, 0.00...   \n",
       "8  [-0.9661696553230286, 1.7201815843582153, 0.00...   \n",
       "9  [-0.9664074778556824, 1.7201850414276123, 0.00...   \n",
       "\n",
       "                                     rightEyePos_XYZ calibrationPos_XYZ  \\\n",
       "0  [-0.9059789180755615, 1.7149580717086792, 0.02...    [nan, nan, nan]   \n",
       "1  [-0.9063999056816101, 1.7149991989135742, 0.02...    [nan, nan, nan]   \n",
       "2  [-0.9067193865776062, 1.7154572010040283, 0.02...    [nan, nan, nan]   \n",
       "3  [-0.9071849584579468, 1.7155771255493164, 0.02...    [nan, nan, nan]   \n",
       "4  [-0.9074139595031738, 1.7157078981399536, 0.02...    [nan, nan, nan]   \n",
       "5  [-0.9080643057823181, 1.71549391746521, 0.0204...    [nan, nan, nan]   \n",
       "6  [-0.9083467125892639, 1.7155588865280151, 0.02...    [nan, nan, nan]   \n",
       "7  [-0.9086108803749084, 1.7156413793563843, 0.02...    [nan, nan, nan]   \n",
       "8  [-0.9087870717048645, 1.7160090208053589, 0.01...    [nan, nan, nan]   \n",
       "9  [-0.9090141654014587, 1.7160162925720215, 0.01...    [nan, nan, nan]   \n",
       "\n",
       "   calibrationCounter   eyeTimeStamp    frameTime   eventFlag  \n",
       "0                   0  1148925058806  1138.140219  trialStart  \n",
       "1                   0  1148941709737  1138.153518       False  \n",
       "2                   0  1148958341640  1138.166837       False  \n",
       "3                   0  1148974966517  1138.180158       False  \n",
       "4                   0  1148991598712  1138.193478       False  \n",
       "5                   0  1148991598712  1138.206911       False  \n",
       "6                   0  1149008274526  1138.220435       False  \n",
       "7                   0  1149024864567  1138.233470       False  \n",
       "8                   0  1149041506131  1138.246840       False  \n",
       "9                   0  1149058149158  1138.260150       False  "
      ]
     },
     "execution_count": 5,
     "metadata": {},
     "output_type": "execute_result"
    }
   ],
   "source": [
    "dataFrame[0:10]"
   ]
  },
  {
   "cell_type": "markdown",
   "metadata": {},
   "source": [
    "Ah, data.  Beautiful data.  Here are the column names."
   ]
  },
  {
   "cell_type": "code",
   "execution_count": null,
   "metadata": {
    "scrolled": false
   },
   "outputs": [],
   "source": [
    "list(dataFrame.columns)"
   ]
  },
  {
   "cell_type": "markdown",
   "metadata": {},
   "source": [
    "### First, consider the data conventions, and make sure they agree."
   ]
  },
  {
   "cell_type": "markdown",
   "metadata": {},
   "source": [
    "The majority of data about positions/orientations was exported from Vizard, and follows Vizard conventions.  The SMI data is untouched, straight from the tracker.  We plan to plot using the \"Plotly\" module.  So, here are the relevant coordinate systems.\n",
    "<img src=\"graphics/coordSys.png\",width=600>"
   ]
  },
  {
   "cell_type": "markdown",
   "metadata": {},
   "source": [
    "Notice that the the X axis is flipped between Vizard and SMI.  We will have to account for that.\n",
    "\n",
    "Lets have a look at some of our cyclopean eye gaze data.  These numbers represent a unit vector extending from the cyclopean eye into the 3D world.  Here's how you access the variable."
   ]
  },
  {
   "cell_type": "code",
   "execution_count": null,
   "metadata": {},
   "outputs": [],
   "source": [
    "dataFrame['cycEyeInHead_XYZ'][0:10]"
   ]
  },
  {
   "cell_type": "markdown",
   "metadata": {},
   "source": [
    "According to our figures above, we need to flip the X axis of the SMI data to match the Vizard coordinate system.  We can actually do this for all the cyclopean gaze data in one line of code by applying an anonymous function to each row of the dataframe.  \n",
    "\n",
    "The anonymous function below iterates over the rows of the dataframe, and the row's values are stored in the variable that I chose to call \"row.\" "
   ]
  },
  {
   "cell_type": "code",
   "execution_count": null,
   "metadata": {},
   "outputs": [],
   "source": [
    "dataFrame['cycEyeInHead_XYZ'] = dataFrame['cycEyeInHead_XYZ'].apply(lambda row: [-row[0],row[1],row[2]])"
   ]
  },
  {
   "cell_type": "markdown",
   "metadata": {},
   "source": [
    "Lets have another look and see if that worked.  Was the X axis flipped?"
   ]
  },
  {
   "cell_type": "code",
   "execution_count": null,
   "metadata": {},
   "outputs": [],
   "source": [
    "dataFrame['cycEyeInHead_XYZ'][0:10]"
   ]
  },
  {
   "cell_type": "markdown",
   "metadata": {},
   "source": [
    "### That's great, but... \n",
    "it's hard to visualize unit vectors without 3D figures, and we're not ready for that yet.  How about we use spherical coordinates, instead?\n",
    "\n",
    "<img src=\"graphics/math_sphcart.png\",width=300>"
   ]
  },
  {
   "cell_type": "markdown",
   "metadata": {},
   "source": [
    "The equations are fairly straightforward, if you remember your trig, and know your coordinate systems:\n",
    "\n",
    "azimuth = $\\arctan (opposite / adjacent)$.  \n",
    "\n",
    "<img src=\"graphics/coordSys.png\",width=600>\n",
    "We're in vizard coordinates, so opposite is the X component, and adjacent is the Z component.  \n",
    "\n",
    "azimuth = $\\arctan (X/Z) * (180/\\pi)$.  \n",
    "Similarly,\n",
    "\n",
    "elevation = $\\arctan (Y/Z) * (180/\\pi)$.\n",
    "\n",
    "Here, we use an inline or \"lambda\" function to calculate the spherical coordinates on the fly and store them in new columns of our dataframe. "
   ]
  },
  {
   "cell_type": "code",
   "execution_count": null,
   "metadata": {},
   "outputs": [],
   "source": [
    "dataFrame['eih_az'] = dataFrame.apply(lambda row: np.rad2deg(np.arctan(np.divide(row['cycEyeInHead_XYZ'][0],\n",
    "                                                 row['cycEyeInHead_XYZ'][2]))), axis=1 )\n",
    "\n",
    "dataFrame['eih_el'] = dataFrame.apply(lambda row: np.rad2deg(np.arctan(np.divide(row['cycEyeInHead_XYZ'][1],\n",
    "                                                 row['cycEyeInHead_XYZ'][2]))), axis=1 )"
   ]
  },
  {
   "cell_type": "markdown",
   "metadata": {},
   "source": [
    "Great!  Now all of our data is in the Vizard coordinate system.  That makes things much easier to deal with, going forward."
   ]
  },
  {
   "cell_type": "markdown",
   "metadata": {},
   "source": [
    "# Plot raw data\n"
   ]
  },
  {
   "cell_type": "markdown",
   "metadata": {},
   "source": [
    "Lets plot our azimuth and elevation...but for a portion of the dataset.  Like most experiments, this one was organized into trials.  \n",
    "Lets plot data for a single trial.\n",
    "First, we can tell Pandas that we want to group our rows by the variable 'trialNumber'"
   ]
  },
  {
   "cell_type": "code",
   "execution_count": null,
   "metadata": {},
   "outputs": [],
   "source": [
    "gbTrial = dataFrame.groupby('trialNumber')"
   ]
  },
  {
   "cell_type": "markdown",
   "metadata": {},
   "source": [
    "The variable \"gbTrial\" is not a dataframe, but a series of pointers to each \"group,\" where a group is a collection of rows  with the same trial number.  If you want to have a look, uncomment the next line of code.  It returns a lot of text, so I'm leaving it commented to begin with."
   ]
  },
  {
   "cell_type": "code",
   "execution_count": null,
   "metadata": {
    "scrolled": false
   },
   "outputs": [],
   "source": [
    "list(gbTrial.groups.keys())"
   ]
  },
  {
   "cell_type": "markdown",
   "metadata": {},
   "source": [
    "Lets get a single trial of data and have a look at it."
   ]
  },
  {
   "cell_type": "code",
   "execution_count": null,
   "metadata": {},
   "outputs": [],
   "source": [
    "trialData = dataFrame.groupby('trialNumber').get_group(5)\n",
    "trialData"
   ]
  },
  {
   "cell_type": "code",
   "execution_count": null,
   "metadata": {},
   "outputs": [],
   "source": [
    "list(trialData.columns)"
   ]
  },
  {
   "cell_type": "markdown",
   "metadata": {},
   "source": [
    "### Now, lets plot azimuth and elevation for our single trial of data."
   ]
  },
  {
   "cell_type": "code",
   "execution_count": null,
   "metadata": {},
   "outputs": [],
   "source": [
    "yLim=[-50,50]\n",
    "width=800\n",
    "height=600\n",
    "inline=True\n",
    "\n",
    "import plotly.plotly as py\n",
    "import plotly.graph_objs as go\n",
    "\n",
    "import pandas as pd\n",
    "\n",
    "colors_idx = ['rgb(0,204,204)','rgb(128,128,128)','rgb(204,0,0)','rgb(102,0,204)']\n",
    "\n",
    "time_fr = np.array(trialData['frameTime'] - trialData['frameTime'].iloc[0])\n",
    "\n",
    "traces = []\n",
    "\n",
    "eih_el = go.Scatter(\n",
    "    x=time_fr,\n",
    "    y=dataFrame['eih_el'],\n",
    "    name = 'EIH elevation',\n",
    "    line = dict(color = colors_idx[0],width=3),\n",
    "    opacity = 0.8)\n",
    "\n",
    "traces.append(eih_el)\n",
    "\n",
    "eih_az = go.Scatter(\n",
    "    x=time_fr,\n",
    "    y=dataFrame['eih_az'],\n",
    "    name = 'EIH azimuth',\n",
    "    line = dict(color = colors_idx[1],width=3),\n",
    "    opacity = 0.8)\n",
    "\n",
    "traces.append(eih_az)\n",
    "\n",
    "\n",
    "################################################################\n",
    "\n",
    "layout = dict(\n",
    "    dragmode= 'pan',\n",
    "    title='Time Series with Rangeslider',\n",
    "    width=width,\n",
    "    height=height,\n",
    "    yaxis=dict(range=yLim, title='angular position (degrees)'),\n",
    "    xaxis=dict(\n",
    "        rangeslider=dict(),\n",
    "        type='time',\n",
    "        range=[0,1.0]\n",
    "    )\n",
    ")\n",
    "\n",
    "fig = dict(data=traces, layout=layout)\n",
    "iplot(fig)"
   ]
  },
  {
   "cell_type": "markdown",
   "metadata": {},
   "source": [
    "### In many cases, there are dropouts in the data.  What's going on, here?  Before we move on, maybe we should assess our track quality!  Soon enough..."
   ]
  }
 ],
 "metadata": {
  "kernelspec": {
   "display_name": "Python 3",
   "language": "python",
   "name": "python3"
  },
  "language_info": {
   "codemirror_mode": {
    "name": "ipython",
    "version": 3
   },
   "file_extension": ".py",
   "mimetype": "text/x-python",
   "name": "python",
   "nbconvert_exporter": "python",
   "pygments_lexer": "ipython3",
   "version": "3.6.3"
  }
 },
 "nbformat": 4,
 "nbformat_minor": 2
}
